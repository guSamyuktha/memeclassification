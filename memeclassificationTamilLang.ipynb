{
  "nbformat": 4,
  "nbformat_minor": 0,
  "metadata": {
    "colab": {
      "name": "memeclassificationTamilLang.ipynb",
      "provenance": [],
      "collapsed_sections": [],
      "authorship_tag": "ABX9TyOZ0GbcXmRs4yHwftOq1zZJ",
      "include_colab_link": true
    },
    "kernelspec": {
      "display_name": "Python 3",
      "name": "python3"
    },
    "language_info": {
      "name": "python"
    },
    "widgets": {
      "application/vnd.jupyter.widget-state+json": {
        "0fdbb87c765846c7b62b129200470f77": {
          "model_module": "@jupyter-widgets/controls",
          "model_name": "HBoxModel",
          "state": {
            "_dom_classes": [],
            "_model_module": "@jupyter-widgets/controls",
            "_model_module_version": "1.5.0",
            "_model_name": "HBoxModel",
            "_view_count": null,
            "_view_module": "@jupyter-widgets/controls",
            "_view_module_version": "1.5.0",
            "_view_name": "HBoxView",
            "box_style": "",
            "children": [
              "IPY_MODEL_8363b1cbbb7141c0adc6d2c8de4318d6",
              "IPY_MODEL_6befb0cfbf2c410491f40a7414010954"
            ],
            "layout": "IPY_MODEL_b513ede41a944ad8993b80df97071fb5"
          },
          "model_module_version": "1.5.0"
        },
        "8363b1cbbb7141c0adc6d2c8de4318d6": {
          "model_module": "@jupyter-widgets/controls",
          "model_name": "FloatProgressModel",
          "state": {
            "_dom_classes": [],
            "_model_module": "@jupyter-widgets/controls",
            "_model_module_version": "1.5.0",
            "_model_name": "FloatProgressModel",
            "_view_count": null,
            "_view_module": "@jupyter-widgets/controls",
            "_view_module_version": "1.5.0",
            "_view_name": "ProgressView",
            "bar_style": "success",
            "description": "Batches: 100%",
            "description_tooltip": null,
            "layout": "IPY_MODEL_fd6ee2a036c546f1b4504c75cd50caf9",
            "max": 72,
            "min": 0,
            "orientation": "horizontal",
            "style": "IPY_MODEL_ec5de56b9ee242ef83d1282b0d90d547",
            "value": 72
          },
          "model_module_version": "1.5.0"
        },
        "6befb0cfbf2c410491f40a7414010954": {
          "model_module": "@jupyter-widgets/controls",
          "model_name": "HTMLModel",
          "state": {
            "_dom_classes": [],
            "_model_module": "@jupyter-widgets/controls",
            "_model_module_version": "1.5.0",
            "_model_name": "HTMLModel",
            "_view_count": null,
            "_view_module": "@jupyter-widgets/controls",
            "_view_module_version": "1.5.0",
            "_view_name": "HTMLView",
            "description": "",
            "description_tooltip": null,
            "layout": "IPY_MODEL_502c447f335c4e94951169ab6bccb291",
            "placeholder": "​",
            "style": "IPY_MODEL_030cdbe3a7ea436ca5df272a5d22842f",
            "value": " 72/72 [18:58&lt;00:00, 15.81s/it]"
          },
          "model_module_version": "1.5.0"
        },
        "b513ede41a944ad8993b80df97071fb5": {
          "model_module": "@jupyter-widgets/base",
          "model_name": "LayoutModel",
          "state": {
            "_model_module": "@jupyter-widgets/base",
            "_model_module_version": "1.2.0",
            "_model_name": "LayoutModel",
            "_view_count": null,
            "_view_module": "@jupyter-widgets/base",
            "_view_module_version": "1.2.0",
            "_view_name": "LayoutView",
            "align_content": null,
            "align_items": null,
            "align_self": null,
            "border": null,
            "bottom": null,
            "display": null,
            "flex": null,
            "flex_flow": null,
            "grid_area": null,
            "grid_auto_columns": null,
            "grid_auto_flow": null,
            "grid_auto_rows": null,
            "grid_column": null,
            "grid_gap": null,
            "grid_row": null,
            "grid_template_areas": null,
            "grid_template_columns": null,
            "grid_template_rows": null,
            "height": null,
            "justify_content": null,
            "justify_items": null,
            "left": null,
            "margin": null,
            "max_height": null,
            "max_width": null,
            "min_height": null,
            "min_width": null,
            "object_fit": null,
            "object_position": null,
            "order": null,
            "overflow": null,
            "overflow_x": null,
            "overflow_y": null,
            "padding": null,
            "right": null,
            "top": null,
            "visibility": null,
            "width": null
          },
          "model_module_version": "1.2.0"
        },
        "fd6ee2a036c546f1b4504c75cd50caf9": {
          "model_module": "@jupyter-widgets/base",
          "model_name": "LayoutModel",
          "state": {
            "_model_module": "@jupyter-widgets/base",
            "_model_module_version": "1.2.0",
            "_model_name": "LayoutModel",
            "_view_count": null,
            "_view_module": "@jupyter-widgets/base",
            "_view_module_version": "1.2.0",
            "_view_name": "LayoutView",
            "align_content": null,
            "align_items": null,
            "align_self": null,
            "border": null,
            "bottom": null,
            "display": null,
            "flex": null,
            "flex_flow": null,
            "grid_area": null,
            "grid_auto_columns": null,
            "grid_auto_flow": null,
            "grid_auto_rows": null,
            "grid_column": null,
            "grid_gap": null,
            "grid_row": null,
            "grid_template_areas": null,
            "grid_template_columns": null,
            "grid_template_rows": null,
            "height": null,
            "justify_content": null,
            "justify_items": null,
            "left": null,
            "margin": null,
            "max_height": null,
            "max_width": null,
            "min_height": null,
            "min_width": null,
            "object_fit": null,
            "object_position": null,
            "order": null,
            "overflow": null,
            "overflow_x": null,
            "overflow_y": null,
            "padding": null,
            "right": null,
            "top": null,
            "visibility": null,
            "width": null
          },
          "model_module_version": "1.2.0"
        },
        "ec5de56b9ee242ef83d1282b0d90d547": {
          "model_module": "@jupyter-widgets/controls",
          "model_name": "ProgressStyleModel",
          "state": {
            "_model_module": "@jupyter-widgets/controls",
            "_model_module_version": "1.5.0",
            "_model_name": "ProgressStyleModel",
            "_view_count": null,
            "_view_module": "@jupyter-widgets/base",
            "_view_module_version": "1.2.0",
            "_view_name": "StyleView",
            "bar_color": null,
            "description_width": "initial"
          },
          "model_module_version": "1.5.0"
        },
        "502c447f335c4e94951169ab6bccb291": {
          "model_module": "@jupyter-widgets/base",
          "model_name": "LayoutModel",
          "state": {
            "_model_module": "@jupyter-widgets/base",
            "_model_module_version": "1.2.0",
            "_model_name": "LayoutModel",
            "_view_count": null,
            "_view_module": "@jupyter-widgets/base",
            "_view_module_version": "1.2.0",
            "_view_name": "LayoutView",
            "align_content": null,
            "align_items": null,
            "align_self": null,
            "border": null,
            "bottom": null,
            "display": null,
            "flex": null,
            "flex_flow": null,
            "grid_area": null,
            "grid_auto_columns": null,
            "grid_auto_flow": null,
            "grid_auto_rows": null,
            "grid_column": null,
            "grid_gap": null,
            "grid_row": null,
            "grid_template_areas": null,
            "grid_template_columns": null,
            "grid_template_rows": null,
            "height": null,
            "justify_content": null,
            "justify_items": null,
            "left": null,
            "margin": null,
            "max_height": null,
            "max_width": null,
            "min_height": null,
            "min_width": null,
            "object_fit": null,
            "object_position": null,
            "order": null,
            "overflow": null,
            "overflow_x": null,
            "overflow_y": null,
            "padding": null,
            "right": null,
            "top": null,
            "visibility": null,
            "width": null
          },
          "model_module_version": "1.2.0"
        },
        "030cdbe3a7ea436ca5df272a5d22842f": {
          "model_module": "@jupyter-widgets/controls",
          "model_name": "DescriptionStyleModel",
          "state": {
            "_model_module": "@jupyter-widgets/controls",
            "_model_module_version": "1.5.0",
            "_model_name": "DescriptionStyleModel",
            "_view_count": null,
            "_view_module": "@jupyter-widgets/base",
            "_view_module_version": "1.2.0",
            "_view_name": "StyleView",
            "description_width": ""
          },
          "model_module_version": "1.5.0"
        },
        "b970a27540504ed0bc084850c8b17df7": {
          "model_module": "@jupyter-widgets/controls",
          "model_name": "HBoxModel",
          "state": {
            "_dom_classes": [],
            "_model_module": "@jupyter-widgets/controls",
            "_model_module_version": "1.5.0",
            "_model_name": "HBoxModel",
            "_view_count": null,
            "_view_module": "@jupyter-widgets/controls",
            "_view_module_version": "1.5.0",
            "_view_name": "HBoxView",
            "box_style": "",
            "children": [
              "IPY_MODEL_d1de023d5cec4aa9a9ad647af9b7e02b",
              "IPY_MODEL_a836df3c49cf4c998025dc26009b8cd8"
            ],
            "layout": "IPY_MODEL_e641b4c35ca240f9949a1378f06d2444"
          },
          "model_module_version": "1.5.0"
        },
        "d1de023d5cec4aa9a9ad647af9b7e02b": {
          "model_module": "@jupyter-widgets/controls",
          "model_name": "FloatProgressModel",
          "state": {
            "_dom_classes": [],
            "_model_module": "@jupyter-widgets/controls",
            "_model_module_version": "1.5.0",
            "_model_name": "FloatProgressModel",
            "_view_count": null,
            "_view_module": "@jupyter-widgets/controls",
            "_view_module_version": "1.5.0",
            "_view_name": "ProgressView",
            "bar_style": "success",
            "description": "Downloading: 100%",
            "description_tooltip": null,
            "layout": "IPY_MODEL_4cee143a65dc4c9ebbefe7eac982a4c3",
            "max": 690,
            "min": 0,
            "orientation": "horizontal",
            "style": "IPY_MODEL_c3969a2e7ef340ce9a8e2519c7257c0a",
            "value": 690
          },
          "model_module_version": "1.5.0"
        },
        "a836df3c49cf4c998025dc26009b8cd8": {
          "model_module": "@jupyter-widgets/controls",
          "model_name": "HTMLModel",
          "state": {
            "_dom_classes": [],
            "_model_module": "@jupyter-widgets/controls",
            "_model_module_version": "1.5.0",
            "_model_name": "HTMLModel",
            "_view_count": null,
            "_view_module": "@jupyter-widgets/controls",
            "_view_module_version": "1.5.0",
            "_view_name": "HTMLView",
            "description": "",
            "description_tooltip": null,
            "layout": "IPY_MODEL_6ec52a6499194320bdd40cce44a41fb6",
            "placeholder": "​",
            "style": "IPY_MODEL_50d3202291c6413b8e3ddd1d582d1bfd",
            "value": " 690/690 [00:07&lt;00:00, 88.1B/s]"
          },
          "model_module_version": "1.5.0"
        },
        "e641b4c35ca240f9949a1378f06d2444": {
          "model_module": "@jupyter-widgets/base",
          "model_name": "LayoutModel",
          "state": {
            "_model_module": "@jupyter-widgets/base",
            "_model_module_version": "1.2.0",
            "_model_name": "LayoutModel",
            "_view_count": null,
            "_view_module": "@jupyter-widgets/base",
            "_view_module_version": "1.2.0",
            "_view_name": "LayoutView",
            "align_content": null,
            "align_items": null,
            "align_self": null,
            "border": null,
            "bottom": null,
            "display": null,
            "flex": null,
            "flex_flow": null,
            "grid_area": null,
            "grid_auto_columns": null,
            "grid_auto_flow": null,
            "grid_auto_rows": null,
            "grid_column": null,
            "grid_gap": null,
            "grid_row": null,
            "grid_template_areas": null,
            "grid_template_columns": null,
            "grid_template_rows": null,
            "height": null,
            "justify_content": null,
            "justify_items": null,
            "left": null,
            "margin": null,
            "max_height": null,
            "max_width": null,
            "min_height": null,
            "min_width": null,
            "object_fit": null,
            "object_position": null,
            "order": null,
            "overflow": null,
            "overflow_x": null,
            "overflow_y": null,
            "padding": null,
            "right": null,
            "top": null,
            "visibility": null,
            "width": null
          },
          "model_module_version": "1.2.0"
        },
        "4cee143a65dc4c9ebbefe7eac982a4c3": {
          "model_module": "@jupyter-widgets/base",
          "model_name": "LayoutModel",
          "state": {
            "_model_module": "@jupyter-widgets/base",
            "_model_module_version": "1.2.0",
            "_model_name": "LayoutModel",
            "_view_count": null,
            "_view_module": "@jupyter-widgets/base",
            "_view_module_version": "1.2.0",
            "_view_name": "LayoutView",
            "align_content": null,
            "align_items": null,
            "align_self": null,
            "border": null,
            "bottom": null,
            "display": null,
            "flex": null,
            "flex_flow": null,
            "grid_area": null,
            "grid_auto_columns": null,
            "grid_auto_flow": null,
            "grid_auto_rows": null,
            "grid_column": null,
            "grid_gap": null,
            "grid_row": null,
            "grid_template_areas": null,
            "grid_template_columns": null,
            "grid_template_rows": null,
            "height": null,
            "justify_content": null,
            "justify_items": null,
            "left": null,
            "margin": null,
            "max_height": null,
            "max_width": null,
            "min_height": null,
            "min_width": null,
            "object_fit": null,
            "object_position": null,
            "order": null,
            "overflow": null,
            "overflow_x": null,
            "overflow_y": null,
            "padding": null,
            "right": null,
            "top": null,
            "visibility": null,
            "width": null
          },
          "model_module_version": "1.2.0"
        },
        "c3969a2e7ef340ce9a8e2519c7257c0a": {
          "model_module": "@jupyter-widgets/controls",
          "model_name": "ProgressStyleModel",
          "state": {
            "_model_module": "@jupyter-widgets/controls",
            "_model_module_version": "1.5.0",
            "_model_name": "ProgressStyleModel",
            "_view_count": null,
            "_view_module": "@jupyter-widgets/base",
            "_view_module_version": "1.2.0",
            "_view_name": "StyleView",
            "bar_color": null,
            "description_width": "initial"
          },
          "model_module_version": "1.5.0"
        },
        "6ec52a6499194320bdd40cce44a41fb6": {
          "model_module": "@jupyter-widgets/base",
          "model_name": "LayoutModel",
          "state": {
            "_model_module": "@jupyter-widgets/base",
            "_model_module_version": "1.2.0",
            "_model_name": "LayoutModel",
            "_view_count": null,
            "_view_module": "@jupyter-widgets/base",
            "_view_module_version": "1.2.0",
            "_view_name": "LayoutView",
            "align_content": null,
            "align_items": null,
            "align_self": null,
            "border": null,
            "bottom": null,
            "display": null,
            "flex": null,
            "flex_flow": null,
            "grid_area": null,
            "grid_auto_columns": null,
            "grid_auto_flow": null,
            "grid_auto_rows": null,
            "grid_column": null,
            "grid_gap": null,
            "grid_row": null,
            "grid_template_areas": null,
            "grid_template_columns": null,
            "grid_template_rows": null,
            "height": null,
            "justify_content": null,
            "justify_items": null,
            "left": null,
            "margin": null,
            "max_height": null,
            "max_width": null,
            "min_height": null,
            "min_width": null,
            "object_fit": null,
            "object_position": null,
            "order": null,
            "overflow": null,
            "overflow_x": null,
            "overflow_y": null,
            "padding": null,
            "right": null,
            "top": null,
            "visibility": null,
            "width": null
          },
          "model_module_version": "1.2.0"
        },
        "50d3202291c6413b8e3ddd1d582d1bfd": {
          "model_module": "@jupyter-widgets/controls",
          "model_name": "DescriptionStyleModel",
          "state": {
            "_model_module": "@jupyter-widgets/controls",
            "_model_module_version": "1.5.0",
            "_model_name": "DescriptionStyleModel",
            "_view_count": null,
            "_view_module": "@jupyter-widgets/base",
            "_view_module_version": "1.2.0",
            "_view_name": "StyleView",
            "description_width": ""
          },
          "model_module_version": "1.5.0"
        },
        "4d265497191048e3898241f58b2d7ccd": {
          "model_module": "@jupyter-widgets/controls",
          "model_name": "HBoxModel",
          "state": {
            "_dom_classes": [],
            "_model_module": "@jupyter-widgets/controls",
            "_model_module_version": "1.5.0",
            "_model_name": "HBoxModel",
            "_view_count": null,
            "_view_module": "@jupyter-widgets/controls",
            "_view_module_version": "1.5.0",
            "_view_name": "HBoxView",
            "box_style": "",
            "children": [
              "IPY_MODEL_8ada481b223d4747a24ccb55ea11366b",
              "IPY_MODEL_f4a0f2e7d69b4b47b9bce67e4ff0b9a4"
            ],
            "layout": "IPY_MODEL_15fbca8f4d5a4faf978d4f019076e880"
          },
          "model_module_version": "1.5.0"
        },
        "8ada481b223d4747a24ccb55ea11366b": {
          "model_module": "@jupyter-widgets/controls",
          "model_name": "FloatProgressModel",
          "state": {
            "_dom_classes": [],
            "_model_module": "@jupyter-widgets/controls",
            "_model_module_version": "1.5.0",
            "_model_name": "FloatProgressModel",
            "_view_count": null,
            "_view_module": "@jupyter-widgets/controls",
            "_view_module_version": "1.5.0",
            "_view_name": "ProgressView",
            "bar_style": "success",
            "description": "Downloading: 100%",
            "description_tooltip": null,
            "layout": "IPY_MODEL_263fa635e21c43ecb7dd9927a8e45f43",
            "max": 2830,
            "min": 0,
            "orientation": "horizontal",
            "style": "IPY_MODEL_abc06cc4d2c44a6d91730f4f529f7d8e",
            "value": 2830
          },
          "model_module_version": "1.5.0"
        },
        "f4a0f2e7d69b4b47b9bce67e4ff0b9a4": {
          "model_module": "@jupyter-widgets/controls",
          "model_name": "HTMLModel",
          "state": {
            "_dom_classes": [],
            "_model_module": "@jupyter-widgets/controls",
            "_model_module_version": "1.5.0",
            "_model_name": "HTMLModel",
            "_view_count": null,
            "_view_module": "@jupyter-widgets/controls",
            "_view_module_version": "1.5.0",
            "_view_name": "HTMLView",
            "description": "",
            "description_tooltip": null,
            "layout": "IPY_MODEL_b2147c820cef4098bc58ba9465c7072e",
            "placeholder": "​",
            "style": "IPY_MODEL_046ec30c498a4e918322749bb20f3816",
            "value": " 2.83k/2.83k [00:02&lt;00:00, 948B/s]"
          },
          "model_module_version": "1.5.0"
        },
        "15fbca8f4d5a4faf978d4f019076e880": {
          "model_module": "@jupyter-widgets/base",
          "model_name": "LayoutModel",
          "state": {
            "_model_module": "@jupyter-widgets/base",
            "_model_module_version": "1.2.0",
            "_model_name": "LayoutModel",
            "_view_count": null,
            "_view_module": "@jupyter-widgets/base",
            "_view_module_version": "1.2.0",
            "_view_name": "LayoutView",
            "align_content": null,
            "align_items": null,
            "align_self": null,
            "border": null,
            "bottom": null,
            "display": null,
            "flex": null,
            "flex_flow": null,
            "grid_area": null,
            "grid_auto_columns": null,
            "grid_auto_flow": null,
            "grid_auto_rows": null,
            "grid_column": null,
            "grid_gap": null,
            "grid_row": null,
            "grid_template_areas": null,
            "grid_template_columns": null,
            "grid_template_rows": null,
            "height": null,
            "justify_content": null,
            "justify_items": null,
            "left": null,
            "margin": null,
            "max_height": null,
            "max_width": null,
            "min_height": null,
            "min_width": null,
            "object_fit": null,
            "object_position": null,
            "order": null,
            "overflow": null,
            "overflow_x": null,
            "overflow_y": null,
            "padding": null,
            "right": null,
            "top": null,
            "visibility": null,
            "width": null
          },
          "model_module_version": "1.2.0"
        },
        "263fa635e21c43ecb7dd9927a8e45f43": {
          "model_module": "@jupyter-widgets/base",
          "model_name": "LayoutModel",
          "state": {
            "_model_module": "@jupyter-widgets/base",
            "_model_module_version": "1.2.0",
            "_model_name": "LayoutModel",
            "_view_count": null,
            "_view_module": "@jupyter-widgets/base",
            "_view_module_version": "1.2.0",
            "_view_name": "LayoutView",
            "align_content": null,
            "align_items": null,
            "align_self": null,
            "border": null,
            "bottom": null,
            "display": null,
            "flex": null,
            "flex_flow": null,
            "grid_area": null,
            "grid_auto_columns": null,
            "grid_auto_flow": null,
            "grid_auto_rows": null,
            "grid_column": null,
            "grid_gap": null,
            "grid_row": null,
            "grid_template_areas": null,
            "grid_template_columns": null,
            "grid_template_rows": null,
            "height": null,
            "justify_content": null,
            "justify_items": null,
            "left": null,
            "margin": null,
            "max_height": null,
            "max_width": null,
            "min_height": null,
            "min_width": null,
            "object_fit": null,
            "object_position": null,
            "order": null,
            "overflow": null,
            "overflow_x": null,
            "overflow_y": null,
            "padding": null,
            "right": null,
            "top": null,
            "visibility": null,
            "width": null
          },
          "model_module_version": "1.2.0"
        },
        "abc06cc4d2c44a6d91730f4f529f7d8e": {
          "model_module": "@jupyter-widgets/controls",
          "model_name": "ProgressStyleModel",
          "state": {
            "_model_module": "@jupyter-widgets/controls",
            "_model_module_version": "1.5.0",
            "_model_name": "ProgressStyleModel",
            "_view_count": null,
            "_view_module": "@jupyter-widgets/base",
            "_view_module_version": "1.2.0",
            "_view_name": "StyleView",
            "bar_color": null,
            "description_width": "initial"
          },
          "model_module_version": "1.5.0"
        },
        "b2147c820cef4098bc58ba9465c7072e": {
          "model_module": "@jupyter-widgets/base",
          "model_name": "LayoutModel",
          "state": {
            "_model_module": "@jupyter-widgets/base",
            "_model_module_version": "1.2.0",
            "_model_name": "LayoutModel",
            "_view_count": null,
            "_view_module": "@jupyter-widgets/base",
            "_view_module_version": "1.2.0",
            "_view_name": "LayoutView",
            "align_content": null,
            "align_items": null,
            "align_self": null,
            "border": null,
            "bottom": null,
            "display": null,
            "flex": null,
            "flex_flow": null,
            "grid_area": null,
            "grid_auto_columns": null,
            "grid_auto_flow": null,
            "grid_auto_rows": null,
            "grid_column": null,
            "grid_gap": null,
            "grid_row": null,
            "grid_template_areas": null,
            "grid_template_columns": null,
            "grid_template_rows": null,
            "height": null,
            "justify_content": null,
            "justify_items": null,
            "left": null,
            "margin": null,
            "max_height": null,
            "max_width": null,
            "min_height": null,
            "min_width": null,
            "object_fit": null,
            "object_position": null,
            "order": null,
            "overflow": null,
            "overflow_x": null,
            "overflow_y": null,
            "padding": null,
            "right": null,
            "top": null,
            "visibility": null,
            "width": null
          },
          "model_module_version": "1.2.0"
        },
        "046ec30c498a4e918322749bb20f3816": {
          "model_module": "@jupyter-widgets/controls",
          "model_name": "DescriptionStyleModel",
          "state": {
            "_model_module": "@jupyter-widgets/controls",
            "_model_module_version": "1.5.0",
            "_model_name": "DescriptionStyleModel",
            "_view_count": null,
            "_view_module": "@jupyter-widgets/base",
            "_view_module_version": "1.2.0",
            "_view_name": "StyleView",
            "description_width": ""
          },
          "model_module_version": "1.5.0"
        },
        "c2a54593722248f0b61697fbc0320108": {
          "model_module": "@jupyter-widgets/controls",
          "model_name": "HBoxModel",
          "state": {
            "_dom_classes": [],
            "_model_module": "@jupyter-widgets/controls",
            "_model_module_version": "1.5.0",
            "_model_name": "HBoxModel",
            "_view_count": null,
            "_view_module": "@jupyter-widgets/controls",
            "_view_module_version": "1.5.0",
            "_view_name": "HBoxView",
            "box_style": "",
            "children": [
              "IPY_MODEL_de89e912bbce4987a9c84e9f4de98889",
              "IPY_MODEL_bb57d8e957cc4d52a1721ad42376c4bc"
            ],
            "layout": "IPY_MODEL_ba8d5c628a0d45d882c25c855b5418df"
          },
          "model_module_version": "1.5.0"
        },
        "de89e912bbce4987a9c84e9f4de98889": {
          "model_module": "@jupyter-widgets/controls",
          "model_name": "FloatProgressModel",
          "state": {
            "_dom_classes": [],
            "_model_module": "@jupyter-widgets/controls",
            "_model_module_version": "1.5.0",
            "_model_name": "FloatProgressModel",
            "_view_count": null,
            "_view_module": "@jupyter-widgets/controls",
            "_view_module_version": "1.5.0",
            "_view_name": "ProgressView",
            "bar_style": "success",
            "description": "Downloading: 100%",
            "description_tooltip": null,
            "layout": "IPY_MODEL_cbfe55a42c3e46f4a7edaed1bb571d6e",
            "max": 610,
            "min": 0,
            "orientation": "horizontal",
            "style": "IPY_MODEL_ccc9204129264155b3bd4b88f08a6fe5",
            "value": 610
          },
          "model_module_version": "1.5.0"
        },
        "bb57d8e957cc4d52a1721ad42376c4bc": {
          "model_module": "@jupyter-widgets/controls",
          "model_name": "HTMLModel",
          "state": {
            "_dom_classes": [],
            "_model_module": "@jupyter-widgets/controls",
            "_model_module_version": "1.5.0",
            "_model_name": "HTMLModel",
            "_view_count": null,
            "_view_module": "@jupyter-widgets/controls",
            "_view_module_version": "1.5.0",
            "_view_name": "HTMLView",
            "description": "",
            "description_tooltip": null,
            "layout": "IPY_MODEL_b811636d13cb44ef8a34a6a5fafdfb5f",
            "placeholder": "​",
            "style": "IPY_MODEL_bd99213428bd4aa8a086177566ed9660",
            "value": " 610/610 [00:01&lt;00:00, 407B/s]"
          },
          "model_module_version": "1.5.0"
        },
        "ba8d5c628a0d45d882c25c855b5418df": {
          "model_module": "@jupyter-widgets/base",
          "model_name": "LayoutModel",
          "state": {
            "_model_module": "@jupyter-widgets/base",
            "_model_module_version": "1.2.0",
            "_model_name": "LayoutModel",
            "_view_count": null,
            "_view_module": "@jupyter-widgets/base",
            "_view_module_version": "1.2.0",
            "_view_name": "LayoutView",
            "align_content": null,
            "align_items": null,
            "align_self": null,
            "border": null,
            "bottom": null,
            "display": null,
            "flex": null,
            "flex_flow": null,
            "grid_area": null,
            "grid_auto_columns": null,
            "grid_auto_flow": null,
            "grid_auto_rows": null,
            "grid_column": null,
            "grid_gap": null,
            "grid_row": null,
            "grid_template_areas": null,
            "grid_template_columns": null,
            "grid_template_rows": null,
            "height": null,
            "justify_content": null,
            "justify_items": null,
            "left": null,
            "margin": null,
            "max_height": null,
            "max_width": null,
            "min_height": null,
            "min_width": null,
            "object_fit": null,
            "object_position": null,
            "order": null,
            "overflow": null,
            "overflow_x": null,
            "overflow_y": null,
            "padding": null,
            "right": null,
            "top": null,
            "visibility": null,
            "width": null
          },
          "model_module_version": "1.2.0"
        },
        "cbfe55a42c3e46f4a7edaed1bb571d6e": {
          "model_module": "@jupyter-widgets/base",
          "model_name": "LayoutModel",
          "state": {
            "_model_module": "@jupyter-widgets/base",
            "_model_module_version": "1.2.0",
            "_model_name": "LayoutModel",
            "_view_count": null,
            "_view_module": "@jupyter-widgets/base",
            "_view_module_version": "1.2.0",
            "_view_name": "LayoutView",
            "align_content": null,
            "align_items": null,
            "align_self": null,
            "border": null,
            "bottom": null,
            "display": null,
            "flex": null,
            "flex_flow": null,
            "grid_area": null,
            "grid_auto_columns": null,
            "grid_auto_flow": null,
            "grid_auto_rows": null,
            "grid_column": null,
            "grid_gap": null,
            "grid_row": null,
            "grid_template_areas": null,
            "grid_template_columns": null,
            "grid_template_rows": null,
            "height": null,
            "justify_content": null,
            "justify_items": null,
            "left": null,
            "margin": null,
            "max_height": null,
            "max_width": null,
            "min_height": null,
            "min_width": null,
            "object_fit": null,
            "object_position": null,
            "order": null,
            "overflow": null,
            "overflow_x": null,
            "overflow_y": null,
            "padding": null,
            "right": null,
            "top": null,
            "visibility": null,
            "width": null
          },
          "model_module_version": "1.2.0"
        },
        "ccc9204129264155b3bd4b88f08a6fe5": {
          "model_module": "@jupyter-widgets/controls",
          "model_name": "ProgressStyleModel",
          "state": {
            "_model_module": "@jupyter-widgets/controls",
            "_model_module_version": "1.5.0",
            "_model_name": "ProgressStyleModel",
            "_view_count": null,
            "_view_module": "@jupyter-widgets/base",
            "_view_module_version": "1.2.0",
            "_view_name": "StyleView",
            "bar_color": null,
            "description_width": "initial"
          },
          "model_module_version": "1.5.0"
        },
        "b811636d13cb44ef8a34a6a5fafdfb5f": {
          "model_module": "@jupyter-widgets/base",
          "model_name": "LayoutModel",
          "state": {
            "_model_module": "@jupyter-widgets/base",
            "_model_module_version": "1.2.0",
            "_model_name": "LayoutModel",
            "_view_count": null,
            "_view_module": "@jupyter-widgets/base",
            "_view_module_version": "1.2.0",
            "_view_name": "LayoutView",
            "align_content": null,
            "align_items": null,
            "align_self": null,
            "border": null,
            "bottom": null,
            "display": null,
            "flex": null,
            "flex_flow": null,
            "grid_area": null,
            "grid_auto_columns": null,
            "grid_auto_flow": null,
            "grid_auto_rows": null,
            "grid_column": null,
            "grid_gap": null,
            "grid_row": null,
            "grid_template_areas": null,
            "grid_template_columns": null,
            "grid_template_rows": null,
            "height": null,
            "justify_content": null,
            "justify_items": null,
            "left": null,
            "margin": null,
            "max_height": null,
            "max_width": null,
            "min_height": null,
            "min_width": null,
            "object_fit": null,
            "object_position": null,
            "order": null,
            "overflow": null,
            "overflow_x": null,
            "overflow_y": null,
            "padding": null,
            "right": null,
            "top": null,
            "visibility": null,
            "width": null
          },
          "model_module_version": "1.2.0"
        },
        "bd99213428bd4aa8a086177566ed9660": {
          "model_module": "@jupyter-widgets/controls",
          "model_name": "DescriptionStyleModel",
          "state": {
            "_model_module": "@jupyter-widgets/controls",
            "_model_module_version": "1.5.0",
            "_model_name": "DescriptionStyleModel",
            "_view_count": null,
            "_view_module": "@jupyter-widgets/base",
            "_view_module_version": "1.2.0",
            "_view_name": "StyleView",
            "description_width": ""
          },
          "model_module_version": "1.5.0"
        },
        "0a83be5fe0d1417b890a9af8c9b8b9b4": {
          "model_module": "@jupyter-widgets/controls",
          "model_name": "HBoxModel",
          "state": {
            "_dom_classes": [],
            "_model_module": "@jupyter-widgets/controls",
            "_model_module_version": "1.5.0",
            "_model_name": "HBoxModel",
            "_view_count": null,
            "_view_module": "@jupyter-widgets/controls",
            "_view_module_version": "1.5.0",
            "_view_name": "HBoxView",
            "box_style": "",
            "children": [
              "IPY_MODEL_bdb229f85d0342da9fa892a88cd4f8ae",
              "IPY_MODEL_890132c207d2418097401d147d2a459f"
            ],
            "layout": "IPY_MODEL_d288b8b9500b45218307cfaff7833f03"
          },
          "model_module_version": "1.5.0"
        },
        "bdb229f85d0342da9fa892a88cd4f8ae": {
          "model_module": "@jupyter-widgets/controls",
          "model_name": "FloatProgressModel",
          "state": {
            "_dom_classes": [],
            "_model_module": "@jupyter-widgets/controls",
            "_model_module_version": "1.5.0",
            "_model_name": "FloatProgressModel",
            "_view_count": null,
            "_view_module": "@jupyter-widgets/controls",
            "_view_module_version": "1.5.0",
            "_view_name": "ProgressView",
            "bar_style": "success",
            "description": "Downloading: 100%",
            "description_tooltip": null,
            "layout": "IPY_MODEL_920d69e93ffb4a95a54e5996c76bd292",
            "max": 122,
            "min": 0,
            "orientation": "horizontal",
            "style": "IPY_MODEL_8eed13c28fd546eb890480bb81349f26",
            "value": 122
          },
          "model_module_version": "1.5.0"
        },
        "890132c207d2418097401d147d2a459f": {
          "model_module": "@jupyter-widgets/controls",
          "model_name": "HTMLModel",
          "state": {
            "_dom_classes": [],
            "_model_module": "@jupyter-widgets/controls",
            "_model_module_version": "1.5.0",
            "_model_name": "HTMLModel",
            "_view_count": null,
            "_view_module": "@jupyter-widgets/controls",
            "_view_module_version": "1.5.0",
            "_view_name": "HTMLView",
            "description": "",
            "description_tooltip": null,
            "layout": "IPY_MODEL_432829d1f01c46c9a2523e6630ad33a6",
            "placeholder": "​",
            "style": "IPY_MODEL_feda4eb2aa8c40bda2fc34904ee7f554",
            "value": " 122/122 [00:03&lt;00:00, 39.0B/s]"
          },
          "model_module_version": "1.5.0"
        },
        "d288b8b9500b45218307cfaff7833f03": {
          "model_module": "@jupyter-widgets/base",
          "model_name": "LayoutModel",
          "state": {
            "_model_module": "@jupyter-widgets/base",
            "_model_module_version": "1.2.0",
            "_model_name": "LayoutModel",
            "_view_count": null,
            "_view_module": "@jupyter-widgets/base",
            "_view_module_version": "1.2.0",
            "_view_name": "LayoutView",
            "align_content": null,
            "align_items": null,
            "align_self": null,
            "border": null,
            "bottom": null,
            "display": null,
            "flex": null,
            "flex_flow": null,
            "grid_area": null,
            "grid_auto_columns": null,
            "grid_auto_flow": null,
            "grid_auto_rows": null,
            "grid_column": null,
            "grid_gap": null,
            "grid_row": null,
            "grid_template_areas": null,
            "grid_template_columns": null,
            "grid_template_rows": null,
            "height": null,
            "justify_content": null,
            "justify_items": null,
            "left": null,
            "margin": null,
            "max_height": null,
            "max_width": null,
            "min_height": null,
            "min_width": null,
            "object_fit": null,
            "object_position": null,
            "order": null,
            "overflow": null,
            "overflow_x": null,
            "overflow_y": null,
            "padding": null,
            "right": null,
            "top": null,
            "visibility": null,
            "width": null
          },
          "model_module_version": "1.2.0"
        },
        "920d69e93ffb4a95a54e5996c76bd292": {
          "model_module": "@jupyter-widgets/base",
          "model_name": "LayoutModel",
          "state": {
            "_model_module": "@jupyter-widgets/base",
            "_model_module_version": "1.2.0",
            "_model_name": "LayoutModel",
            "_view_count": null,
            "_view_module": "@jupyter-widgets/base",
            "_view_module_version": "1.2.0",
            "_view_name": "LayoutView",
            "align_content": null,
            "align_items": null,
            "align_self": null,
            "border": null,
            "bottom": null,
            "display": null,
            "flex": null,
            "flex_flow": null,
            "grid_area": null,
            "grid_auto_columns": null,
            "grid_auto_flow": null,
            "grid_auto_rows": null,
            "grid_column": null,
            "grid_gap": null,
            "grid_row": null,
            "grid_template_areas": null,
            "grid_template_columns": null,
            "grid_template_rows": null,
            "height": null,
            "justify_content": null,
            "justify_items": null,
            "left": null,
            "margin": null,
            "max_height": null,
            "max_width": null,
            "min_height": null,
            "min_width": null,
            "object_fit": null,
            "object_position": null,
            "order": null,
            "overflow": null,
            "overflow_x": null,
            "overflow_y": null,
            "padding": null,
            "right": null,
            "top": null,
            "visibility": null,
            "width": null
          },
          "model_module_version": "1.2.0"
        },
        "8eed13c28fd546eb890480bb81349f26": {
          "model_module": "@jupyter-widgets/controls",
          "model_name": "ProgressStyleModel",
          "state": {
            "_model_module": "@jupyter-widgets/controls",
            "_model_module_version": "1.5.0",
            "_model_name": "ProgressStyleModel",
            "_view_count": null,
            "_view_module": "@jupyter-widgets/base",
            "_view_module_version": "1.2.0",
            "_view_name": "StyleView",
            "bar_color": null,
            "description_width": "initial"
          },
          "model_module_version": "1.5.0"
        },
        "432829d1f01c46c9a2523e6630ad33a6": {
          "model_module": "@jupyter-widgets/base",
          "model_name": "LayoutModel",
          "state": {
            "_model_module": "@jupyter-widgets/base",
            "_model_module_version": "1.2.0",
            "_model_name": "LayoutModel",
            "_view_count": null,
            "_view_module": "@jupyter-widgets/base",
            "_view_module_version": "1.2.0",
            "_view_name": "LayoutView",
            "align_content": null,
            "align_items": null,
            "align_self": null,
            "border": null,
            "bottom": null,
            "display": null,
            "flex": null,
            "flex_flow": null,
            "grid_area": null,
            "grid_auto_columns": null,
            "grid_auto_flow": null,
            "grid_auto_rows": null,
            "grid_column": null,
            "grid_gap": null,
            "grid_row": null,
            "grid_template_areas": null,
            "grid_template_columns": null,
            "grid_template_rows": null,
            "height": null,
            "justify_content": null,
            "justify_items": null,
            "left": null,
            "margin": null,
            "max_height": null,
            "max_width": null,
            "min_height": null,
            "min_width": null,
            "object_fit": null,
            "object_position": null,
            "order": null,
            "overflow": null,
            "overflow_x": null,
            "overflow_y": null,
            "padding": null,
            "right": null,
            "top": null,
            "visibility": null,
            "width": null
          },
          "model_module_version": "1.2.0"
        },
        "feda4eb2aa8c40bda2fc34904ee7f554": {
          "model_module": "@jupyter-widgets/controls",
          "model_name": "DescriptionStyleModel",
          "state": {
            "_model_module": "@jupyter-widgets/controls",
            "_model_module_version": "1.5.0",
            "_model_name": "DescriptionStyleModel",
            "_view_count": null,
            "_view_module": "@jupyter-widgets/base",
            "_view_module_version": "1.2.0",
            "_view_name": "StyleView",
            "description_width": ""
          },
          "model_module_version": "1.5.0"
        },
        "3dfb66c0da444e979d5e8eb5c4e16263": {
          "model_module": "@jupyter-widgets/controls",
          "model_name": "HBoxModel",
          "state": {
            "_dom_classes": [],
            "_model_module": "@jupyter-widgets/controls",
            "_model_module_version": "1.5.0",
            "_model_name": "HBoxModel",
            "_view_count": null,
            "_view_module": "@jupyter-widgets/controls",
            "_view_module_version": "1.5.0",
            "_view_name": "HBoxView",
            "box_style": "",
            "children": [
              "IPY_MODEL_242f788577994708aad7c85c32d6ab47",
              "IPY_MODEL_e776f3fde33e43a988b24e447536268e"
            ],
            "layout": "IPY_MODEL_bc67c329f0a743c0bd972f355b90cd2c"
          },
          "model_module_version": "1.5.0"
        },
        "242f788577994708aad7c85c32d6ab47": {
          "model_module": "@jupyter-widgets/controls",
          "model_name": "FloatProgressModel",
          "state": {
            "_dom_classes": [],
            "_model_module": "@jupyter-widgets/controls",
            "_model_module_version": "1.5.0",
            "_model_name": "FloatProgressModel",
            "_view_count": null,
            "_view_module": "@jupyter-widgets/controls",
            "_view_module_version": "1.5.0",
            "_view_name": "ProgressView",
            "bar_style": "success",
            "description": "Downloading: 100%",
            "description_tooltip": null,
            "layout": "IPY_MODEL_8f3210f3653f4ee59d3ade0eed7ce3e3",
            "max": 341,
            "min": 0,
            "orientation": "horizontal",
            "style": "IPY_MODEL_c642ed8c9c9e4b8c9c48d78aa09ff137",
            "value": 341
          },
          "model_module_version": "1.5.0"
        },
        "e776f3fde33e43a988b24e447536268e": {
          "model_module": "@jupyter-widgets/controls",
          "model_name": "HTMLModel",
          "state": {
            "_dom_classes": [],
            "_model_module": "@jupyter-widgets/controls",
            "_model_module_version": "1.5.0",
            "_model_name": "HTMLModel",
            "_view_count": null,
            "_view_module": "@jupyter-widgets/controls",
            "_view_module_version": "1.5.0",
            "_view_name": "HTMLView",
            "description": "",
            "description_tooltip": null,
            "layout": "IPY_MODEL_dffd66e2dc5f44d0ac58f5fa6d42d8b3",
            "placeholder": "​",
            "style": "IPY_MODEL_febcf9a6d1564a508be1a79b4c719349",
            "value": " 341/341 [00:01&lt;00:00, 208B/s]"
          },
          "model_module_version": "1.5.0"
        },
        "bc67c329f0a743c0bd972f355b90cd2c": {
          "model_module": "@jupyter-widgets/base",
          "model_name": "LayoutModel",
          "state": {
            "_model_module": "@jupyter-widgets/base",
            "_model_module_version": "1.2.0",
            "_model_name": "LayoutModel",
            "_view_count": null,
            "_view_module": "@jupyter-widgets/base",
            "_view_module_version": "1.2.0",
            "_view_name": "LayoutView",
            "align_content": null,
            "align_items": null,
            "align_self": null,
            "border": null,
            "bottom": null,
            "display": null,
            "flex": null,
            "flex_flow": null,
            "grid_area": null,
            "grid_auto_columns": null,
            "grid_auto_flow": null,
            "grid_auto_rows": null,
            "grid_column": null,
            "grid_gap": null,
            "grid_row": null,
            "grid_template_areas": null,
            "grid_template_columns": null,
            "grid_template_rows": null,
            "height": null,
            "justify_content": null,
            "justify_items": null,
            "left": null,
            "margin": null,
            "max_height": null,
            "max_width": null,
            "min_height": null,
            "min_width": null,
            "object_fit": null,
            "object_position": null,
            "order": null,
            "overflow": null,
            "overflow_x": null,
            "overflow_y": null,
            "padding": null,
            "right": null,
            "top": null,
            "visibility": null,
            "width": null
          },
          "model_module_version": "1.2.0"
        },
        "8f3210f3653f4ee59d3ade0eed7ce3e3": {
          "model_module": "@jupyter-widgets/base",
          "model_name": "LayoutModel",
          "state": {
            "_model_module": "@jupyter-widgets/base",
            "_model_module_version": "1.2.0",
            "_model_name": "LayoutModel",
            "_view_count": null,
            "_view_module": "@jupyter-widgets/base",
            "_view_module_version": "1.2.0",
            "_view_name": "LayoutView",
            "align_content": null,
            "align_items": null,
            "align_self": null,
            "border": null,
            "bottom": null,
            "display": null,
            "flex": null,
            "flex_flow": null,
            "grid_area": null,
            "grid_auto_columns": null,
            "grid_auto_flow": null,
            "grid_auto_rows": null,
            "grid_column": null,
            "grid_gap": null,
            "grid_row": null,
            "grid_template_areas": null,
            "grid_template_columns": null,
            "grid_template_rows": null,
            "height": null,
            "justify_content": null,
            "justify_items": null,
            "left": null,
            "margin": null,
            "max_height": null,
            "max_width": null,
            "min_height": null,
            "min_width": null,
            "object_fit": null,
            "object_position": null,
            "order": null,
            "overflow": null,
            "overflow_x": null,
            "overflow_y": null,
            "padding": null,
            "right": null,
            "top": null,
            "visibility": null,
            "width": null
          },
          "model_module_version": "1.2.0"
        },
        "c642ed8c9c9e4b8c9c48d78aa09ff137": {
          "model_module": "@jupyter-widgets/controls",
          "model_name": "ProgressStyleModel",
          "state": {
            "_model_module": "@jupyter-widgets/controls",
            "_model_module_version": "1.5.0",
            "_model_name": "ProgressStyleModel",
            "_view_count": null,
            "_view_module": "@jupyter-widgets/base",
            "_view_module_version": "1.2.0",
            "_view_name": "StyleView",
            "bar_color": null,
            "description_width": "initial"
          },
          "model_module_version": "1.5.0"
        },
        "dffd66e2dc5f44d0ac58f5fa6d42d8b3": {
          "model_module": "@jupyter-widgets/base",
          "model_name": "LayoutModel",
          "state": {
            "_model_module": "@jupyter-widgets/base",
            "_model_module_version": "1.2.0",
            "_model_name": "LayoutModel",
            "_view_count": null,
            "_view_module": "@jupyter-widgets/base",
            "_view_module_version": "1.2.0",
            "_view_name": "LayoutView",
            "align_content": null,
            "align_items": null,
            "align_self": null,
            "border": null,
            "bottom": null,
            "display": null,
            "flex": null,
            "flex_flow": null,
            "grid_area": null,
            "grid_auto_columns": null,
            "grid_auto_flow": null,
            "grid_auto_rows": null,
            "grid_column": null,
            "grid_gap": null,
            "grid_row": null,
            "grid_template_areas": null,
            "grid_template_columns": null,
            "grid_template_rows": null,
            "height": null,
            "justify_content": null,
            "justify_items": null,
            "left": null,
            "margin": null,
            "max_height": null,
            "max_width": null,
            "min_height": null,
            "min_width": null,
            "object_fit": null,
            "object_position": null,
            "order": null,
            "overflow": null,
            "overflow_x": null,
            "overflow_y": null,
            "padding": null,
            "right": null,
            "top": null,
            "visibility": null,
            "width": null
          },
          "model_module_version": "1.2.0"
        },
        "febcf9a6d1564a508be1a79b4c719349": {
          "model_module": "@jupyter-widgets/controls",
          "model_name": "DescriptionStyleModel",
          "state": {
            "_model_module": "@jupyter-widgets/controls",
            "_model_module_version": "1.5.0",
            "_model_name": "DescriptionStyleModel",
            "_view_count": null,
            "_view_module": "@jupyter-widgets/base",
            "_view_module_version": "1.2.0",
            "_view_name": "StyleView",
            "description_width": ""
          },
          "model_module_version": "1.5.0"
        },
        "4d3acc2ad3814c469481ff854e1878f6": {
          "model_module": "@jupyter-widgets/controls",
          "model_name": "HBoxModel",
          "state": {
            "_dom_classes": [],
            "_model_module": "@jupyter-widgets/controls",
            "_model_module_version": "1.5.0",
            "_model_name": "HBoxModel",
            "_view_count": null,
            "_view_module": "@jupyter-widgets/controls",
            "_view_module_version": "1.5.0",
            "_view_name": "HBoxView",
            "box_style": "",
            "children": [
              "IPY_MODEL_bbed6cf6918c4b8aad0f654a958a73f6",
              "IPY_MODEL_4fdcd89ccdb94a028866b2ab3c78338d"
            ],
            "layout": "IPY_MODEL_788686781bea487d8668b5e8ef8a9bf8"
          },
          "model_module_version": "1.5.0"
        },
        "bbed6cf6918c4b8aad0f654a958a73f6": {
          "model_module": "@jupyter-widgets/controls",
          "model_name": "FloatProgressModel",
          "state": {
            "_dom_classes": [],
            "_model_module": "@jupyter-widgets/controls",
            "_model_module_version": "1.5.0",
            "_model_name": "FloatProgressModel",
            "_view_count": null,
            "_view_module": "@jupyter-widgets/controls",
            "_view_module_version": "1.5.0",
            "_view_name": "ProgressView",
            "bar_style": "success",
            "description": "Downloading: 100%",
            "description_tooltip": null,
            "layout": "IPY_MODEL_5be29219ac9343f099e48235b24eff46",
            "max": 538971577,
            "min": 0,
            "orientation": "horizontal",
            "style": "IPY_MODEL_4e54e97e72f146af9fcd414760b28950",
            "value": 538971577
          },
          "model_module_version": "1.5.0"
        },
        "4fdcd89ccdb94a028866b2ab3c78338d": {
          "model_module": "@jupyter-widgets/controls",
          "model_name": "HTMLModel",
          "state": {
            "_dom_classes": [],
            "_model_module": "@jupyter-widgets/controls",
            "_model_module_version": "1.5.0",
            "_model_name": "HTMLModel",
            "_view_count": null,
            "_view_module": "@jupyter-widgets/controls",
            "_view_module_version": "1.5.0",
            "_view_name": "HTMLView",
            "description": "",
            "description_tooltip": null,
            "layout": "IPY_MODEL_38ab5dcaa6d748e19052ac2560303979",
            "placeholder": "​",
            "style": "IPY_MODEL_e1e5187e8b4c4002a250ea5d275521a7",
            "value": " 539M/539M [1:24:39&lt;00:00, 106kB/s]"
          },
          "model_module_version": "1.5.0"
        },
        "788686781bea487d8668b5e8ef8a9bf8": {
          "model_module": "@jupyter-widgets/base",
          "model_name": "LayoutModel",
          "state": {
            "_model_module": "@jupyter-widgets/base",
            "_model_module_version": "1.2.0",
            "_model_name": "LayoutModel",
            "_view_count": null,
            "_view_module": "@jupyter-widgets/base",
            "_view_module_version": "1.2.0",
            "_view_name": "LayoutView",
            "align_content": null,
            "align_items": null,
            "align_self": null,
            "border": null,
            "bottom": null,
            "display": null,
            "flex": null,
            "flex_flow": null,
            "grid_area": null,
            "grid_auto_columns": null,
            "grid_auto_flow": null,
            "grid_auto_rows": null,
            "grid_column": null,
            "grid_gap": null,
            "grid_row": null,
            "grid_template_areas": null,
            "grid_template_columns": null,
            "grid_template_rows": null,
            "height": null,
            "justify_content": null,
            "justify_items": null,
            "left": null,
            "margin": null,
            "max_height": null,
            "max_width": null,
            "min_height": null,
            "min_width": null,
            "object_fit": null,
            "object_position": null,
            "order": null,
            "overflow": null,
            "overflow_x": null,
            "overflow_y": null,
            "padding": null,
            "right": null,
            "top": null,
            "visibility": null,
            "width": null
          },
          "model_module_version": "1.2.0"
        },
        "5be29219ac9343f099e48235b24eff46": {
          "model_module": "@jupyter-widgets/base",
          "model_name": "LayoutModel",
          "state": {
            "_model_module": "@jupyter-widgets/base",
            "_model_module_version": "1.2.0",
            "_model_name": "LayoutModel",
            "_view_count": null,
            "_view_module": "@jupyter-widgets/base",
            "_view_module_version": "1.2.0",
            "_view_name": "LayoutView",
            "align_content": null,
            "align_items": null,
            "align_self": null,
            "border": null,
            "bottom": null,
            "display": null,
            "flex": null,
            "flex_flow": null,
            "grid_area": null,
            "grid_auto_columns": null,
            "grid_auto_flow": null,
            "grid_auto_rows": null,
            "grid_column": null,
            "grid_gap": null,
            "grid_row": null,
            "grid_template_areas": null,
            "grid_template_columns": null,
            "grid_template_rows": null,
            "height": null,
            "justify_content": null,
            "justify_items": null,
            "left": null,
            "margin": null,
            "max_height": null,
            "max_width": null,
            "min_height": null,
            "min_width": null,
            "object_fit": null,
            "object_position": null,
            "order": null,
            "overflow": null,
            "overflow_x": null,
            "overflow_y": null,
            "padding": null,
            "right": null,
            "top": null,
            "visibility": null,
            "width": null
          },
          "model_module_version": "1.2.0"
        },
        "4e54e97e72f146af9fcd414760b28950": {
          "model_module": "@jupyter-widgets/controls",
          "model_name": "ProgressStyleModel",
          "state": {
            "_model_module": "@jupyter-widgets/controls",
            "_model_module_version": "1.5.0",
            "_model_name": "ProgressStyleModel",
            "_view_count": null,
            "_view_module": "@jupyter-widgets/base",
            "_view_module_version": "1.2.0",
            "_view_name": "StyleView",
            "bar_color": null,
            "description_width": "initial"
          },
          "model_module_version": "1.5.0"
        },
        "38ab5dcaa6d748e19052ac2560303979": {
          "model_module": "@jupyter-widgets/base",
          "model_name": "LayoutModel",
          "state": {
            "_model_module": "@jupyter-widgets/base",
            "_model_module_version": "1.2.0",
            "_model_name": "LayoutModel",
            "_view_count": null,
            "_view_module": "@jupyter-widgets/base",
            "_view_module_version": "1.2.0",
            "_view_name": "LayoutView",
            "align_content": null,
            "align_items": null,
            "align_self": null,
            "border": null,
            "bottom": null,
            "display": null,
            "flex": null,
            "flex_flow": null,
            "grid_area": null,
            "grid_auto_columns": null,
            "grid_auto_flow": null,
            "grid_auto_rows": null,
            "grid_column": null,
            "grid_gap": null,
            "grid_row": null,
            "grid_template_areas": null,
            "grid_template_columns": null,
            "grid_template_rows": null,
            "height": null,
            "justify_content": null,
            "justify_items": null,
            "left": null,
            "margin": null,
            "max_height": null,
            "max_width": null,
            "min_height": null,
            "min_width": null,
            "object_fit": null,
            "object_position": null,
            "order": null,
            "overflow": null,
            "overflow_x": null,
            "overflow_y": null,
            "padding": null,
            "right": null,
            "top": null,
            "visibility": null,
            "width": null
          },
          "model_module_version": "1.2.0"
        },
        "e1e5187e8b4c4002a250ea5d275521a7": {
          "model_module": "@jupyter-widgets/controls",
          "model_name": "DescriptionStyleModel",
          "state": {
            "_model_module": "@jupyter-widgets/controls",
            "_model_module_version": "1.5.0",
            "_model_name": "DescriptionStyleModel",
            "_view_count": null,
            "_view_module": "@jupyter-widgets/base",
            "_view_module_version": "1.2.0",
            "_view_name": "StyleView",
            "description_width": ""
          },
          "model_module_version": "1.5.0"
        },
        "8d10e579084c468bb852261d4401fc8f": {
          "model_module": "@jupyter-widgets/controls",
          "model_name": "HBoxModel",
          "state": {
            "_dom_classes": [],
            "_model_module": "@jupyter-widgets/controls",
            "_model_module_version": "1.5.0",
            "_model_name": "HBoxModel",
            "_view_count": null,
            "_view_module": "@jupyter-widgets/controls",
            "_view_module_version": "1.5.0",
            "_view_name": "HBoxView",
            "box_style": "",
            "children": [
              "IPY_MODEL_681c036c77fa4fb8b1e1839250bf9542",
              "IPY_MODEL_b3b1c2b64f044111bf67e2992ffff795"
            ],
            "layout": "IPY_MODEL_e2b8bb24cf1f4b6a99e8eeb4be683a59"
          },
          "model_module_version": "1.5.0"
        },
        "681c036c77fa4fb8b1e1839250bf9542": {
          "model_module": "@jupyter-widgets/controls",
          "model_name": "FloatProgressModel",
          "state": {
            "_dom_classes": [],
            "_model_module": "@jupyter-widgets/controls",
            "_model_module_version": "1.5.0",
            "_model_name": "FloatProgressModel",
            "_view_count": null,
            "_view_module": "@jupyter-widgets/controls",
            "_view_module_version": "1.5.0",
            "_view_name": "ProgressView",
            "bar_style": "success",
            "description": "Downloading: 100%",
            "description_tooltip": null,
            "layout": "IPY_MODEL_42c86daa6b474871a6c6c80053c5f756",
            "max": 53,
            "min": 0,
            "orientation": "horizontal",
            "style": "IPY_MODEL_4fc14082abd54d2e8dba67a822521878",
            "value": 53
          },
          "model_module_version": "1.5.0"
        },
        "b3b1c2b64f044111bf67e2992ffff795": {
          "model_module": "@jupyter-widgets/controls",
          "model_name": "HTMLModel",
          "state": {
            "_dom_classes": [],
            "_model_module": "@jupyter-widgets/controls",
            "_model_module_version": "1.5.0",
            "_model_name": "HTMLModel",
            "_view_count": null,
            "_view_module": "@jupyter-widgets/controls",
            "_view_module_version": "1.5.0",
            "_view_name": "HTMLView",
            "description": "",
            "description_tooltip": null,
            "layout": "IPY_MODEL_eafc4befbac44c71918638d27b053ad9",
            "placeholder": "​",
            "style": "IPY_MODEL_581b6ee9cc5e4968badba8c075e7d6d6",
            "value": " 53.0/53.0 [00:03&lt;00:00, 17.5B/s]"
          },
          "model_module_version": "1.5.0"
        },
        "e2b8bb24cf1f4b6a99e8eeb4be683a59": {
          "model_module": "@jupyter-widgets/base",
          "model_name": "LayoutModel",
          "state": {
            "_model_module": "@jupyter-widgets/base",
            "_model_module_version": "1.2.0",
            "_model_name": "LayoutModel",
            "_view_count": null,
            "_view_module": "@jupyter-widgets/base",
            "_view_module_version": "1.2.0",
            "_view_name": "LayoutView",
            "align_content": null,
            "align_items": null,
            "align_self": null,
            "border": null,
            "bottom": null,
            "display": null,
            "flex": null,
            "flex_flow": null,
            "grid_area": null,
            "grid_auto_columns": null,
            "grid_auto_flow": null,
            "grid_auto_rows": null,
            "grid_column": null,
            "grid_gap": null,
            "grid_row": null,
            "grid_template_areas": null,
            "grid_template_columns": null,
            "grid_template_rows": null,
            "height": null,
            "justify_content": null,
            "justify_items": null,
            "left": null,
            "margin": null,
            "max_height": null,
            "max_width": null,
            "min_height": null,
            "min_width": null,
            "object_fit": null,
            "object_position": null,
            "order": null,
            "overflow": null,
            "overflow_x": null,
            "overflow_y": null,
            "padding": null,
            "right": null,
            "top": null,
            "visibility": null,
            "width": null
          },
          "model_module_version": "1.2.0"
        },
        "42c86daa6b474871a6c6c80053c5f756": {
          "model_module": "@jupyter-widgets/base",
          "model_name": "LayoutModel",
          "state": {
            "_model_module": "@jupyter-widgets/base",
            "_model_module_version": "1.2.0",
            "_model_name": "LayoutModel",
            "_view_count": null,
            "_view_module": "@jupyter-widgets/base",
            "_view_module_version": "1.2.0",
            "_view_name": "LayoutView",
            "align_content": null,
            "align_items": null,
            "align_self": null,
            "border": null,
            "bottom": null,
            "display": null,
            "flex": null,
            "flex_flow": null,
            "grid_area": null,
            "grid_auto_columns": null,
            "grid_auto_flow": null,
            "grid_auto_rows": null,
            "grid_column": null,
            "grid_gap": null,
            "grid_row": null,
            "grid_template_areas": null,
            "grid_template_columns": null,
            "grid_template_rows": null,
            "height": null,
            "justify_content": null,
            "justify_items": null,
            "left": null,
            "margin": null,
            "max_height": null,
            "max_width": null,
            "min_height": null,
            "min_width": null,
            "object_fit": null,
            "object_position": null,
            "order": null,
            "overflow": null,
            "overflow_x": null,
            "overflow_y": null,
            "padding": null,
            "right": null,
            "top": null,
            "visibility": null,
            "width": null
          },
          "model_module_version": "1.2.0"
        },
        "4fc14082abd54d2e8dba67a822521878": {
          "model_module": "@jupyter-widgets/controls",
          "model_name": "ProgressStyleModel",
          "state": {
            "_model_module": "@jupyter-widgets/controls",
            "_model_module_version": "1.5.0",
            "_model_name": "ProgressStyleModel",
            "_view_count": null,
            "_view_module": "@jupyter-widgets/base",
            "_view_module_version": "1.2.0",
            "_view_name": "StyleView",
            "bar_color": null,
            "description_width": "initial"
          },
          "model_module_version": "1.5.0"
        },
        "eafc4befbac44c71918638d27b053ad9": {
          "model_module": "@jupyter-widgets/base",
          "model_name": "LayoutModel",
          "state": {
            "_model_module": "@jupyter-widgets/base",
            "_model_module_version": "1.2.0",
            "_model_name": "LayoutModel",
            "_view_count": null,
            "_view_module": "@jupyter-widgets/base",
            "_view_module_version": "1.2.0",
            "_view_name": "LayoutView",
            "align_content": null,
            "align_items": null,
            "align_self": null,
            "border": null,
            "bottom": null,
            "display": null,
            "flex": null,
            "flex_flow": null,
            "grid_area": null,
            "grid_auto_columns": null,
            "grid_auto_flow": null,
            "grid_auto_rows": null,
            "grid_column": null,
            "grid_gap": null,
            "grid_row": null,
            "grid_template_areas": null,
            "grid_template_columns": null,
            "grid_template_rows": null,
            "height": null,
            "justify_content": null,
            "justify_items": null,
            "left": null,
            "margin": null,
            "max_height": null,
            "max_width": null,
            "min_height": null,
            "min_width": null,
            "object_fit": null,
            "object_position": null,
            "order": null,
            "overflow": null,
            "overflow_x": null,
            "overflow_y": null,
            "padding": null,
            "right": null,
            "top": null,
            "visibility": null,
            "width": null
          },
          "model_module_version": "1.2.0"
        },
        "581b6ee9cc5e4968badba8c075e7d6d6": {
          "model_module": "@jupyter-widgets/controls",
          "model_name": "DescriptionStyleModel",
          "state": {
            "_model_module": "@jupyter-widgets/controls",
            "_model_module_version": "1.5.0",
            "_model_name": "DescriptionStyleModel",
            "_view_count": null,
            "_view_module": "@jupyter-widgets/base",
            "_view_module_version": "1.2.0",
            "_view_name": "StyleView",
            "description_width": ""
          },
          "model_module_version": "1.5.0"
        },
        "3e984abefa574eaba27a207689ff179a": {
          "model_module": "@jupyter-widgets/controls",
          "model_name": "HBoxModel",
          "state": {
            "_dom_classes": [],
            "_model_module": "@jupyter-widgets/controls",
            "_model_module_version": "1.5.0",
            "_model_name": "HBoxModel",
            "_view_count": null,
            "_view_module": "@jupyter-widgets/controls",
            "_view_module_version": "1.5.0",
            "_view_name": "HBoxView",
            "box_style": "",
            "children": [
              "IPY_MODEL_10d2b44a36ae461dba1381fb16a0c142",
              "IPY_MODEL_473c6fa5d34e4bc2980fa1be8b3ece7c"
            ],
            "layout": "IPY_MODEL_da8e6c32d9fc4ab9ba4ac46c82537727"
          },
          "model_module_version": "1.5.0"
        },
        "10d2b44a36ae461dba1381fb16a0c142": {
          "model_module": "@jupyter-widgets/controls",
          "model_name": "FloatProgressModel",
          "state": {
            "_dom_classes": [],
            "_model_module": "@jupyter-widgets/controls",
            "_model_module_version": "1.5.0",
            "_model_name": "FloatProgressModel",
            "_view_count": null,
            "_view_module": "@jupyter-widgets/controls",
            "_view_module_version": "1.5.0",
            "_view_name": "ProgressView",
            "bar_style": "success",
            "description": "Downloading: 100%",
            "description_tooltip": null,
            "layout": "IPY_MODEL_df8d7a43bc244bf7ab6995fc71ff40f3",
            "max": 112,
            "min": 0,
            "orientation": "horizontal",
            "style": "IPY_MODEL_d87a9ca7e1494d9ba3c3a37011562d8d",
            "value": 112
          },
          "model_module_version": "1.5.0"
        },
        "473c6fa5d34e4bc2980fa1be8b3ece7c": {
          "model_module": "@jupyter-widgets/controls",
          "model_name": "HTMLModel",
          "state": {
            "_dom_classes": [],
            "_model_module": "@jupyter-widgets/controls",
            "_model_module_version": "1.5.0",
            "_model_name": "HTMLModel",
            "_view_count": null,
            "_view_module": "@jupyter-widgets/controls",
            "_view_module_version": "1.5.0",
            "_view_name": "HTMLView",
            "description": "",
            "description_tooltip": null,
            "layout": "IPY_MODEL_dee1a11e91144b0c998d834436214e3c",
            "placeholder": "​",
            "style": "IPY_MODEL_4d89798970fd49a0ab1685cd85468e2a",
            "value": " 112/112 [00:01&lt;00:00, 73.4B/s]"
          },
          "model_module_version": "1.5.0"
        },
        "da8e6c32d9fc4ab9ba4ac46c82537727": {
          "model_module": "@jupyter-widgets/base",
          "model_name": "LayoutModel",
          "state": {
            "_model_module": "@jupyter-widgets/base",
            "_model_module_version": "1.2.0",
            "_model_name": "LayoutModel",
            "_view_count": null,
            "_view_module": "@jupyter-widgets/base",
            "_view_module_version": "1.2.0",
            "_view_name": "LayoutView",
            "align_content": null,
            "align_items": null,
            "align_self": null,
            "border": null,
            "bottom": null,
            "display": null,
            "flex": null,
            "flex_flow": null,
            "grid_area": null,
            "grid_auto_columns": null,
            "grid_auto_flow": null,
            "grid_auto_rows": null,
            "grid_column": null,
            "grid_gap": null,
            "grid_row": null,
            "grid_template_areas": null,
            "grid_template_columns": null,
            "grid_template_rows": null,
            "height": null,
            "justify_content": null,
            "justify_items": null,
            "left": null,
            "margin": null,
            "max_height": null,
            "max_width": null,
            "min_height": null,
            "min_width": null,
            "object_fit": null,
            "object_position": null,
            "order": null,
            "overflow": null,
            "overflow_x": null,
            "overflow_y": null,
            "padding": null,
            "right": null,
            "top": null,
            "visibility": null,
            "width": null
          },
          "model_module_version": "1.2.0"
        },
        "df8d7a43bc244bf7ab6995fc71ff40f3": {
          "model_module": "@jupyter-widgets/base",
          "model_name": "LayoutModel",
          "state": {
            "_model_module": "@jupyter-widgets/base",
            "_model_module_version": "1.2.0",
            "_model_name": "LayoutModel",
            "_view_count": null,
            "_view_module": "@jupyter-widgets/base",
            "_view_module_version": "1.2.0",
            "_view_name": "LayoutView",
            "align_content": null,
            "align_items": null,
            "align_self": null,
            "border": null,
            "bottom": null,
            "display": null,
            "flex": null,
            "flex_flow": null,
            "grid_area": null,
            "grid_auto_columns": null,
            "grid_auto_flow": null,
            "grid_auto_rows": null,
            "grid_column": null,
            "grid_gap": null,
            "grid_row": null,
            "grid_template_areas": null,
            "grid_template_columns": null,
            "grid_template_rows": null,
            "height": null,
            "justify_content": null,
            "justify_items": null,
            "left": null,
            "margin": null,
            "max_height": null,
            "max_width": null,
            "min_height": null,
            "min_width": null,
            "object_fit": null,
            "object_position": null,
            "order": null,
            "overflow": null,
            "overflow_x": null,
            "overflow_y": null,
            "padding": null,
            "right": null,
            "top": null,
            "visibility": null,
            "width": null
          },
          "model_module_version": "1.2.0"
        },
        "d87a9ca7e1494d9ba3c3a37011562d8d": {
          "model_module": "@jupyter-widgets/controls",
          "model_name": "ProgressStyleModel",
          "state": {
            "_model_module": "@jupyter-widgets/controls",
            "_model_module_version": "1.5.0",
            "_model_name": "ProgressStyleModel",
            "_view_count": null,
            "_view_module": "@jupyter-widgets/base",
            "_view_module_version": "1.2.0",
            "_view_name": "StyleView",
            "bar_color": null,
            "description_width": "initial"
          },
          "model_module_version": "1.5.0"
        },
        "dee1a11e91144b0c998d834436214e3c": {
          "model_module": "@jupyter-widgets/base",
          "model_name": "LayoutModel",
          "state": {
            "_model_module": "@jupyter-widgets/base",
            "_model_module_version": "1.2.0",
            "_model_name": "LayoutModel",
            "_view_count": null,
            "_view_module": "@jupyter-widgets/base",
            "_view_module_version": "1.2.0",
            "_view_name": "LayoutView",
            "align_content": null,
            "align_items": null,
            "align_self": null,
            "border": null,
            "bottom": null,
            "display": null,
            "flex": null,
            "flex_flow": null,
            "grid_area": null,
            "grid_auto_columns": null,
            "grid_auto_flow": null,
            "grid_auto_rows": null,
            "grid_column": null,
            "grid_gap": null,
            "grid_row": null,
            "grid_template_areas": null,
            "grid_template_columns": null,
            "grid_template_rows": null,
            "height": null,
            "justify_content": null,
            "justify_items": null,
            "left": null,
            "margin": null,
            "max_height": null,
            "max_width": null,
            "min_height": null,
            "min_width": null,
            "object_fit": null,
            "object_position": null,
            "order": null,
            "overflow": null,
            "overflow_x": null,
            "overflow_y": null,
            "padding": null,
            "right": null,
            "top": null,
            "visibility": null,
            "width": null
          },
          "model_module_version": "1.2.0"
        },
        "4d89798970fd49a0ab1685cd85468e2a": {
          "model_module": "@jupyter-widgets/controls",
          "model_name": "DescriptionStyleModel",
          "state": {
            "_model_module": "@jupyter-widgets/controls",
            "_model_module_version": "1.5.0",
            "_model_name": "DescriptionStyleModel",
            "_view_count": null,
            "_view_module": "@jupyter-widgets/base",
            "_view_module_version": "1.2.0",
            "_view_name": "StyleView",
            "description_width": ""
          },
          "model_module_version": "1.5.0"
        },
        "a75e68a8320341cd80c3ebe27b7403d9": {
          "model_module": "@jupyter-widgets/controls",
          "model_name": "HBoxModel",
          "state": {
            "_dom_classes": [],
            "_model_module": "@jupyter-widgets/controls",
            "_model_module_version": "1.5.0",
            "_model_name": "HBoxModel",
            "_view_count": null,
            "_view_module": "@jupyter-widgets/controls",
            "_view_module_version": "1.5.0",
            "_view_name": "HBoxView",
            "box_style": "",
            "children": [
              "IPY_MODEL_3aeedc7f3f49487390983959d542973d",
              "IPY_MODEL_44dfc7a041044d0380d33eb2cc9507da"
            ],
            "layout": "IPY_MODEL_cd5b295e15924fe8b444e4cb10952ad3"
          },
          "model_module_version": "1.5.0"
        },
        "3aeedc7f3f49487390983959d542973d": {
          "model_module": "@jupyter-widgets/controls",
          "model_name": "FloatProgressModel",
          "state": {
            "_dom_classes": [],
            "_model_module": "@jupyter-widgets/controls",
            "_model_module_version": "1.5.0",
            "_model_name": "FloatProgressModel",
            "_view_count": null,
            "_view_module": "@jupyter-widgets/controls",
            "_view_module_version": "1.5.0",
            "_view_name": "ProgressView",
            "bar_style": "success",
            "description": "Downloading: 100%",
            "description_tooltip": null,
            "layout": "IPY_MODEL_39480546a5b34908913c04ce306ab238",
            "max": 1961847,
            "min": 0,
            "orientation": "horizontal",
            "style": "IPY_MODEL_c93c9e10ab4544cfaa17afacc12bf53d",
            "value": 1961847
          },
          "model_module_version": "1.5.0"
        },
        "44dfc7a041044d0380d33eb2cc9507da": {
          "model_module": "@jupyter-widgets/controls",
          "model_name": "HTMLModel",
          "state": {
            "_dom_classes": [],
            "_model_module": "@jupyter-widgets/controls",
            "_model_module_version": "1.5.0",
            "_model_name": "HTMLModel",
            "_view_count": null,
            "_view_module": "@jupyter-widgets/controls",
            "_view_module_version": "1.5.0",
            "_view_name": "HTMLView",
            "description": "",
            "description_tooltip": null,
            "layout": "IPY_MODEL_6e3830fffe58464ebd18295b6eb8d12a",
            "placeholder": "​",
            "style": "IPY_MODEL_e431bafdfb984e1cb7a946364eecf5a7",
            "value": " 1.96M/1.96M [05:40&lt;00:00, 5.76kB/s]"
          },
          "model_module_version": "1.5.0"
        },
        "cd5b295e15924fe8b444e4cb10952ad3": {
          "model_module": "@jupyter-widgets/base",
          "model_name": "LayoutModel",
          "state": {
            "_model_module": "@jupyter-widgets/base",
            "_model_module_version": "1.2.0",
            "_model_name": "LayoutModel",
            "_view_count": null,
            "_view_module": "@jupyter-widgets/base",
            "_view_module_version": "1.2.0",
            "_view_name": "LayoutView",
            "align_content": null,
            "align_items": null,
            "align_self": null,
            "border": null,
            "bottom": null,
            "display": null,
            "flex": null,
            "flex_flow": null,
            "grid_area": null,
            "grid_auto_columns": null,
            "grid_auto_flow": null,
            "grid_auto_rows": null,
            "grid_column": null,
            "grid_gap": null,
            "grid_row": null,
            "grid_template_areas": null,
            "grid_template_columns": null,
            "grid_template_rows": null,
            "height": null,
            "justify_content": null,
            "justify_items": null,
            "left": null,
            "margin": null,
            "max_height": null,
            "max_width": null,
            "min_height": null,
            "min_width": null,
            "object_fit": null,
            "object_position": null,
            "order": null,
            "overflow": null,
            "overflow_x": null,
            "overflow_y": null,
            "padding": null,
            "right": null,
            "top": null,
            "visibility": null,
            "width": null
          },
          "model_module_version": "1.2.0"
        },
        "39480546a5b34908913c04ce306ab238": {
          "model_module": "@jupyter-widgets/base",
          "model_name": "LayoutModel",
          "state": {
            "_model_module": "@jupyter-widgets/base",
            "_model_module_version": "1.2.0",
            "_model_name": "LayoutModel",
            "_view_count": null,
            "_view_module": "@jupyter-widgets/base",
            "_view_module_version": "1.2.0",
            "_view_name": "LayoutView",
            "align_content": null,
            "align_items": null,
            "align_self": null,
            "border": null,
            "bottom": null,
            "display": null,
            "flex": null,
            "flex_flow": null,
            "grid_area": null,
            "grid_auto_columns": null,
            "grid_auto_flow": null,
            "grid_auto_rows": null,
            "grid_column": null,
            "grid_gap": null,
            "grid_row": null,
            "grid_template_areas": null,
            "grid_template_columns": null,
            "grid_template_rows": null,
            "height": null,
            "justify_content": null,
            "justify_items": null,
            "left": null,
            "margin": null,
            "max_height": null,
            "max_width": null,
            "min_height": null,
            "min_width": null,
            "object_fit": null,
            "object_position": null,
            "order": null,
            "overflow": null,
            "overflow_x": null,
            "overflow_y": null,
            "padding": null,
            "right": null,
            "top": null,
            "visibility": null,
            "width": null
          },
          "model_module_version": "1.2.0"
        },
        "c93c9e10ab4544cfaa17afacc12bf53d": {
          "model_module": "@jupyter-widgets/controls",
          "model_name": "ProgressStyleModel",
          "state": {
            "_model_module": "@jupyter-widgets/controls",
            "_model_module_version": "1.5.0",
            "_model_name": "ProgressStyleModel",
            "_view_count": null,
            "_view_module": "@jupyter-widgets/base",
            "_view_module_version": "1.2.0",
            "_view_name": "StyleView",
            "bar_color": null,
            "description_width": "initial"
          },
          "model_module_version": "1.5.0"
        },
        "6e3830fffe58464ebd18295b6eb8d12a": {
          "model_module": "@jupyter-widgets/base",
          "model_name": "LayoutModel",
          "state": {
            "_model_module": "@jupyter-widgets/base",
            "_model_module_version": "1.2.0",
            "_model_name": "LayoutModel",
            "_view_count": null,
            "_view_module": "@jupyter-widgets/base",
            "_view_module_version": "1.2.0",
            "_view_name": "LayoutView",
            "align_content": null,
            "align_items": null,
            "align_self": null,
            "border": null,
            "bottom": null,
            "display": null,
            "flex": null,
            "flex_flow": null,
            "grid_area": null,
            "grid_auto_columns": null,
            "grid_auto_flow": null,
            "grid_auto_rows": null,
            "grid_column": null,
            "grid_gap": null,
            "grid_row": null,
            "grid_template_areas": null,
            "grid_template_columns": null,
            "grid_template_rows": null,
            "height": null,
            "justify_content": null,
            "justify_items": null,
            "left": null,
            "margin": null,
            "max_height": null,
            "max_width": null,
            "min_height": null,
            "min_width": null,
            "object_fit": null,
            "object_position": null,
            "order": null,
            "overflow": null,
            "overflow_x": null,
            "overflow_y": null,
            "padding": null,
            "right": null,
            "top": null,
            "visibility": null,
            "width": null
          },
          "model_module_version": "1.2.0"
        },
        "e431bafdfb984e1cb7a946364eecf5a7": {
          "model_module": "@jupyter-widgets/controls",
          "model_name": "DescriptionStyleModel",
          "state": {
            "_model_module": "@jupyter-widgets/controls",
            "_model_module_version": "1.5.0",
            "_model_name": "DescriptionStyleModel",
            "_view_count": null,
            "_view_module": "@jupyter-widgets/base",
            "_view_module_version": "1.2.0",
            "_view_name": "StyleView",
            "description_width": ""
          },
          "model_module_version": "1.5.0"
        },
        "0ac0fecbb5714249ac7c22f3f80c22d7": {
          "model_module": "@jupyter-widgets/controls",
          "model_name": "HBoxModel",
          "state": {
            "_dom_classes": [],
            "_model_module": "@jupyter-widgets/controls",
            "_model_module_version": "1.5.0",
            "_model_name": "HBoxModel",
            "_view_count": null,
            "_view_module": "@jupyter-widgets/controls",
            "_view_module_version": "1.5.0",
            "_view_name": "HBoxView",
            "box_style": "",
            "children": [
              "IPY_MODEL_176799dac8e3453090df73bf727cca2b",
              "IPY_MODEL_40a492b033404e3e9ee38ff2ad5f8e12"
            ],
            "layout": "IPY_MODEL_3a80c907ec2448958d505b55b6b776e3"
          },
          "model_module_version": "1.5.0"
        },
        "176799dac8e3453090df73bf727cca2b": {
          "model_module": "@jupyter-widgets/controls",
          "model_name": "FloatProgressModel",
          "state": {
            "_dom_classes": [],
            "_model_module": "@jupyter-widgets/controls",
            "_model_module_version": "1.5.0",
            "_model_name": "FloatProgressModel",
            "_view_count": null,
            "_view_module": "@jupyter-widgets/controls",
            "_view_module_version": "1.5.0",
            "_view_name": "ProgressView",
            "bar_style": "success",
            "description": "Downloading: 100%",
            "description_tooltip": null,
            "layout": "IPY_MODEL_399d1437134744628b1c8dde2b28fcae",
            "max": 531,
            "min": 0,
            "orientation": "horizontal",
            "style": "IPY_MODEL_5719738bd952479a9682480243bced4c",
            "value": 531
          },
          "model_module_version": "1.5.0"
        },
        "40a492b033404e3e9ee38ff2ad5f8e12": {
          "model_module": "@jupyter-widgets/controls",
          "model_name": "HTMLModel",
          "state": {
            "_dom_classes": [],
            "_model_module": "@jupyter-widgets/controls",
            "_model_module_version": "1.5.0",
            "_model_name": "HTMLModel",
            "_view_count": null,
            "_view_module": "@jupyter-widgets/controls",
            "_view_module_version": "1.5.0",
            "_view_name": "HTMLView",
            "description": "",
            "description_tooltip": null,
            "layout": "IPY_MODEL_bcc2df22ff3d497fb7c936a87d43b688",
            "placeholder": "​",
            "style": "IPY_MODEL_c85040a2e21a476e9dfb3de9f135336b",
            "value": " 531/531 [00:03&lt;00:00, 144B/s]"
          },
          "model_module_version": "1.5.0"
        },
        "3a80c907ec2448958d505b55b6b776e3": {
          "model_module": "@jupyter-widgets/base",
          "model_name": "LayoutModel",
          "state": {
            "_model_module": "@jupyter-widgets/base",
            "_model_module_version": "1.2.0",
            "_model_name": "LayoutModel",
            "_view_count": null,
            "_view_module": "@jupyter-widgets/base",
            "_view_module_version": "1.2.0",
            "_view_name": "LayoutView",
            "align_content": null,
            "align_items": null,
            "align_self": null,
            "border": null,
            "bottom": null,
            "display": null,
            "flex": null,
            "flex_flow": null,
            "grid_area": null,
            "grid_auto_columns": null,
            "grid_auto_flow": null,
            "grid_auto_rows": null,
            "grid_column": null,
            "grid_gap": null,
            "grid_row": null,
            "grid_template_areas": null,
            "grid_template_columns": null,
            "grid_template_rows": null,
            "height": null,
            "justify_content": null,
            "justify_items": null,
            "left": null,
            "margin": null,
            "max_height": null,
            "max_width": null,
            "min_height": null,
            "min_width": null,
            "object_fit": null,
            "object_position": null,
            "order": null,
            "overflow": null,
            "overflow_x": null,
            "overflow_y": null,
            "padding": null,
            "right": null,
            "top": null,
            "visibility": null,
            "width": null
          },
          "model_module_version": "1.2.0"
        },
        "399d1437134744628b1c8dde2b28fcae": {
          "model_module": "@jupyter-widgets/base",
          "model_name": "LayoutModel",
          "state": {
            "_model_module": "@jupyter-widgets/base",
            "_model_module_version": "1.2.0",
            "_model_name": "LayoutModel",
            "_view_count": null,
            "_view_module": "@jupyter-widgets/base",
            "_view_module_version": "1.2.0",
            "_view_name": "LayoutView",
            "align_content": null,
            "align_items": null,
            "align_self": null,
            "border": null,
            "bottom": null,
            "display": null,
            "flex": null,
            "flex_flow": null,
            "grid_area": null,
            "grid_auto_columns": null,
            "grid_auto_flow": null,
            "grid_auto_rows": null,
            "grid_column": null,
            "grid_gap": null,
            "grid_row": null,
            "grid_template_areas": null,
            "grid_template_columns": null,
            "grid_template_rows": null,
            "height": null,
            "justify_content": null,
            "justify_items": null,
            "left": null,
            "margin": null,
            "max_height": null,
            "max_width": null,
            "min_height": null,
            "min_width": null,
            "object_fit": null,
            "object_position": null,
            "order": null,
            "overflow": null,
            "overflow_x": null,
            "overflow_y": null,
            "padding": null,
            "right": null,
            "top": null,
            "visibility": null,
            "width": null
          },
          "model_module_version": "1.2.0"
        },
        "5719738bd952479a9682480243bced4c": {
          "model_module": "@jupyter-widgets/controls",
          "model_name": "ProgressStyleModel",
          "state": {
            "_model_module": "@jupyter-widgets/controls",
            "_model_module_version": "1.5.0",
            "_model_name": "ProgressStyleModel",
            "_view_count": null,
            "_view_module": "@jupyter-widgets/base",
            "_view_module_version": "1.2.0",
            "_view_name": "StyleView",
            "bar_color": null,
            "description_width": "initial"
          },
          "model_module_version": "1.5.0"
        },
        "bcc2df22ff3d497fb7c936a87d43b688": {
          "model_module": "@jupyter-widgets/base",
          "model_name": "LayoutModel",
          "state": {
            "_model_module": "@jupyter-widgets/base",
            "_model_module_version": "1.2.0",
            "_model_name": "LayoutModel",
            "_view_count": null,
            "_view_module": "@jupyter-widgets/base",
            "_view_module_version": "1.2.0",
            "_view_name": "LayoutView",
            "align_content": null,
            "align_items": null,
            "align_self": null,
            "border": null,
            "bottom": null,
            "display": null,
            "flex": null,
            "flex_flow": null,
            "grid_area": null,
            "grid_auto_columns": null,
            "grid_auto_flow": null,
            "grid_auto_rows": null,
            "grid_column": null,
            "grid_gap": null,
            "grid_row": null,
            "grid_template_areas": null,
            "grid_template_columns": null,
            "grid_template_rows": null,
            "height": null,
            "justify_content": null,
            "justify_items": null,
            "left": null,
            "margin": null,
            "max_height": null,
            "max_width": null,
            "min_height": null,
            "min_width": null,
            "object_fit": null,
            "object_position": null,
            "order": null,
            "overflow": null,
            "overflow_x": null,
            "overflow_y": null,
            "padding": null,
            "right": null,
            "top": null,
            "visibility": null,
            "width": null
          },
          "model_module_version": "1.2.0"
        },
        "c85040a2e21a476e9dfb3de9f135336b": {
          "model_module": "@jupyter-widgets/controls",
          "model_name": "DescriptionStyleModel",
          "state": {
            "_model_module": "@jupyter-widgets/controls",
            "_model_module_version": "1.5.0",
            "_model_name": "DescriptionStyleModel",
            "_view_count": null,
            "_view_module": "@jupyter-widgets/base",
            "_view_module_version": "1.2.0",
            "_view_name": "StyleView",
            "description_width": ""
          },
          "model_module_version": "1.5.0"
        },
        "1450f023ddaf4223a2eea6bf614f0216": {
          "model_module": "@jupyter-widgets/controls",
          "model_name": "HBoxModel",
          "state": {
            "_dom_classes": [],
            "_model_module": "@jupyter-widgets/controls",
            "_model_module_version": "1.5.0",
            "_model_name": "HBoxModel",
            "_view_count": null,
            "_view_module": "@jupyter-widgets/controls",
            "_view_module_version": "1.5.0",
            "_view_name": "HBoxView",
            "box_style": "",
            "children": [
              "IPY_MODEL_7a2031509cbc460e81a54415283bd3ec",
              "IPY_MODEL_577cbaeff6f64ce79383354dd03ba177"
            ],
            "layout": "IPY_MODEL_891a90e0dbd849e1a5313326666eb27a"
          },
          "model_module_version": "1.5.0"
        },
        "7a2031509cbc460e81a54415283bd3ec": {
          "model_module": "@jupyter-widgets/controls",
          "model_name": "FloatProgressModel",
          "state": {
            "_dom_classes": [],
            "_model_module": "@jupyter-widgets/controls",
            "_model_module_version": "1.5.0",
            "_model_name": "FloatProgressModel",
            "_view_count": null,
            "_view_module": "@jupyter-widgets/controls",
            "_view_module_version": "1.5.0",
            "_view_name": "ProgressView",
            "bar_style": "success",
            "description": "Downloading: 100%",
            "description_tooltip": null,
            "layout": "IPY_MODEL_e2936f01e1024bd2847921581ea89280",
            "max": 995526,
            "min": 0,
            "orientation": "horizontal",
            "style": "IPY_MODEL_b2a09488323c4fca99de67da8f3e7874",
            "value": 995526
          },
          "model_module_version": "1.5.0"
        },
        "577cbaeff6f64ce79383354dd03ba177": {
          "model_module": "@jupyter-widgets/controls",
          "model_name": "HTMLModel",
          "state": {
            "_dom_classes": [],
            "_model_module": "@jupyter-widgets/controls",
            "_model_module_version": "1.5.0",
            "_model_name": "HTMLModel",
            "_view_count": null,
            "_view_module": "@jupyter-widgets/controls",
            "_view_module_version": "1.5.0",
            "_view_name": "HTMLView",
            "description": "",
            "description_tooltip": null,
            "layout": "IPY_MODEL_3d6ab55495b3437c8b9cb72e76efbad3",
            "placeholder": "​",
            "style": "IPY_MODEL_8999aeac28d14bea96b296582711b7aa",
            "value": " 996k/996k [00:02&lt;00:00, 460kB/s]"
          },
          "model_module_version": "1.5.0"
        },
        "891a90e0dbd849e1a5313326666eb27a": {
          "model_module": "@jupyter-widgets/base",
          "model_name": "LayoutModel",
          "state": {
            "_model_module": "@jupyter-widgets/base",
            "_model_module_version": "1.2.0",
            "_model_name": "LayoutModel",
            "_view_count": null,
            "_view_module": "@jupyter-widgets/base",
            "_view_module_version": "1.2.0",
            "_view_name": "LayoutView",
            "align_content": null,
            "align_items": null,
            "align_self": null,
            "border": null,
            "bottom": null,
            "display": null,
            "flex": null,
            "flex_flow": null,
            "grid_area": null,
            "grid_auto_columns": null,
            "grid_auto_flow": null,
            "grid_auto_rows": null,
            "grid_column": null,
            "grid_gap": null,
            "grid_row": null,
            "grid_template_areas": null,
            "grid_template_columns": null,
            "grid_template_rows": null,
            "height": null,
            "justify_content": null,
            "justify_items": null,
            "left": null,
            "margin": null,
            "max_height": null,
            "max_width": null,
            "min_height": null,
            "min_width": null,
            "object_fit": null,
            "object_position": null,
            "order": null,
            "overflow": null,
            "overflow_x": null,
            "overflow_y": null,
            "padding": null,
            "right": null,
            "top": null,
            "visibility": null,
            "width": null
          },
          "model_module_version": "1.2.0"
        },
        "e2936f01e1024bd2847921581ea89280": {
          "model_module": "@jupyter-widgets/base",
          "model_name": "LayoutModel",
          "state": {
            "_model_module": "@jupyter-widgets/base",
            "_model_module_version": "1.2.0",
            "_model_name": "LayoutModel",
            "_view_count": null,
            "_view_module": "@jupyter-widgets/base",
            "_view_module_version": "1.2.0",
            "_view_name": "LayoutView",
            "align_content": null,
            "align_items": null,
            "align_self": null,
            "border": null,
            "bottom": null,
            "display": null,
            "flex": null,
            "flex_flow": null,
            "grid_area": null,
            "grid_auto_columns": null,
            "grid_auto_flow": null,
            "grid_auto_rows": null,
            "grid_column": null,
            "grid_gap": null,
            "grid_row": null,
            "grid_template_areas": null,
            "grid_template_columns": null,
            "grid_template_rows": null,
            "height": null,
            "justify_content": null,
            "justify_items": null,
            "left": null,
            "margin": null,
            "max_height": null,
            "max_width": null,
            "min_height": null,
            "min_width": null,
            "object_fit": null,
            "object_position": null,
            "order": null,
            "overflow": null,
            "overflow_x": null,
            "overflow_y": null,
            "padding": null,
            "right": null,
            "top": null,
            "visibility": null,
            "width": null
          },
          "model_module_version": "1.2.0"
        },
        "b2a09488323c4fca99de67da8f3e7874": {
          "model_module": "@jupyter-widgets/controls",
          "model_name": "ProgressStyleModel",
          "state": {
            "_model_module": "@jupyter-widgets/controls",
            "_model_module_version": "1.5.0",
            "_model_name": "ProgressStyleModel",
            "_view_count": null,
            "_view_module": "@jupyter-widgets/base",
            "_view_module_version": "1.2.0",
            "_view_name": "StyleView",
            "bar_color": null,
            "description_width": "initial"
          },
          "model_module_version": "1.5.0"
        },
        "3d6ab55495b3437c8b9cb72e76efbad3": {
          "model_module": "@jupyter-widgets/base",
          "model_name": "LayoutModel",
          "state": {
            "_model_module": "@jupyter-widgets/base",
            "_model_module_version": "1.2.0",
            "_model_name": "LayoutModel",
            "_view_count": null,
            "_view_module": "@jupyter-widgets/base",
            "_view_module_version": "1.2.0",
            "_view_name": "LayoutView",
            "align_content": null,
            "align_items": null,
            "align_self": null,
            "border": null,
            "bottom": null,
            "display": null,
            "flex": null,
            "flex_flow": null,
            "grid_area": null,
            "grid_auto_columns": null,
            "grid_auto_flow": null,
            "grid_auto_rows": null,
            "grid_column": null,
            "grid_gap": null,
            "grid_row": null,
            "grid_template_areas": null,
            "grid_template_columns": null,
            "grid_template_rows": null,
            "height": null,
            "justify_content": null,
            "justify_items": null,
            "left": null,
            "margin": null,
            "max_height": null,
            "max_width": null,
            "min_height": null,
            "min_width": null,
            "object_fit": null,
            "object_position": null,
            "order": null,
            "overflow": null,
            "overflow_x": null,
            "overflow_y": null,
            "padding": null,
            "right": null,
            "top": null,
            "visibility": null,
            "width": null
          },
          "model_module_version": "1.2.0"
        },
        "8999aeac28d14bea96b296582711b7aa": {
          "model_module": "@jupyter-widgets/controls",
          "model_name": "DescriptionStyleModel",
          "state": {
            "_model_module": "@jupyter-widgets/controls",
            "_model_module_version": "1.5.0",
            "_model_name": "DescriptionStyleModel",
            "_view_count": null,
            "_view_module": "@jupyter-widgets/base",
            "_view_module_version": "1.2.0",
            "_view_name": "StyleView",
            "description_width": ""
          },
          "model_module_version": "1.5.0"
        },
        "faca2a1af8df4608af4df842a1ae51d9": {
          "model_module": "@jupyter-widgets/controls",
          "model_name": "HBoxModel",
          "state": {
            "_dom_classes": [],
            "_model_module": "@jupyter-widgets/controls",
            "_model_module_version": "1.5.0",
            "_model_name": "HBoxModel",
            "_view_count": null,
            "_view_module": "@jupyter-widgets/controls",
            "_view_module_version": "1.5.0",
            "_view_name": "HBoxView",
            "box_style": "",
            "children": [
              "IPY_MODEL_a8b57967dd0b4670b12e9559c91b2290",
              "IPY_MODEL_37f47e9e84524104a629acad7731fab3"
            ],
            "layout": "IPY_MODEL_c7d75ffcd052482fbc5691885ea0eea6"
          },
          "model_module_version": "1.5.0"
        },
        "a8b57967dd0b4670b12e9559c91b2290": {
          "model_module": "@jupyter-widgets/controls",
          "model_name": "FloatProgressModel",
          "state": {
            "_dom_classes": [],
            "_model_module": "@jupyter-widgets/controls",
            "_model_module_version": "1.5.0",
            "_model_name": "FloatProgressModel",
            "_view_count": null,
            "_view_module": "@jupyter-widgets/controls",
            "_view_module_version": "1.5.0",
            "_view_name": "ProgressView",
            "bar_style": "success",
            "description": "Downloading: 100%",
            "description_tooltip": null,
            "layout": "IPY_MODEL_3d5b5d44f13c4d49b2edefc244f00ed4",
            "max": 190,
            "min": 0,
            "orientation": "horizontal",
            "style": "IPY_MODEL_0948bd9f145243e5be7f540fdfc832a8",
            "value": 190
          },
          "model_module_version": "1.5.0"
        },
        "37f47e9e84524104a629acad7731fab3": {
          "model_module": "@jupyter-widgets/controls",
          "model_name": "HTMLModel",
          "state": {
            "_dom_classes": [],
            "_model_module": "@jupyter-widgets/controls",
            "_model_module_version": "1.5.0",
            "_model_name": "HTMLModel",
            "_view_count": null,
            "_view_module": "@jupyter-widgets/controls",
            "_view_module_version": "1.5.0",
            "_view_name": "HTMLView",
            "description": "",
            "description_tooltip": null,
            "layout": "IPY_MODEL_c1fd4a94193c4ca5b4c1a5659a27b9fa",
            "placeholder": "​",
            "style": "IPY_MODEL_3d2ca1dde36542ccbb745461f8d28c69",
            "value": " 190/190 [05:34&lt;00:00, 1.76s/B]"
          },
          "model_module_version": "1.5.0"
        },
        "c7d75ffcd052482fbc5691885ea0eea6": {
          "model_module": "@jupyter-widgets/base",
          "model_name": "LayoutModel",
          "state": {
            "_model_module": "@jupyter-widgets/base",
            "_model_module_version": "1.2.0",
            "_model_name": "LayoutModel",
            "_view_count": null,
            "_view_module": "@jupyter-widgets/base",
            "_view_module_version": "1.2.0",
            "_view_name": "LayoutView",
            "align_content": null,
            "align_items": null,
            "align_self": null,
            "border": null,
            "bottom": null,
            "display": null,
            "flex": null,
            "flex_flow": null,
            "grid_area": null,
            "grid_auto_columns": null,
            "grid_auto_flow": null,
            "grid_auto_rows": null,
            "grid_column": null,
            "grid_gap": null,
            "grid_row": null,
            "grid_template_areas": null,
            "grid_template_columns": null,
            "grid_template_rows": null,
            "height": null,
            "justify_content": null,
            "justify_items": null,
            "left": null,
            "margin": null,
            "max_height": null,
            "max_width": null,
            "min_height": null,
            "min_width": null,
            "object_fit": null,
            "object_position": null,
            "order": null,
            "overflow": null,
            "overflow_x": null,
            "overflow_y": null,
            "padding": null,
            "right": null,
            "top": null,
            "visibility": null,
            "width": null
          },
          "model_module_version": "1.2.0"
        },
        "3d5b5d44f13c4d49b2edefc244f00ed4": {
          "model_module": "@jupyter-widgets/base",
          "model_name": "LayoutModel",
          "state": {
            "_model_module": "@jupyter-widgets/base",
            "_model_module_version": "1.2.0",
            "_model_name": "LayoutModel",
            "_view_count": null,
            "_view_module": "@jupyter-widgets/base",
            "_view_module_version": "1.2.0",
            "_view_name": "LayoutView",
            "align_content": null,
            "align_items": null,
            "align_self": null,
            "border": null,
            "bottom": null,
            "display": null,
            "flex": null,
            "flex_flow": null,
            "grid_area": null,
            "grid_auto_columns": null,
            "grid_auto_flow": null,
            "grid_auto_rows": null,
            "grid_column": null,
            "grid_gap": null,
            "grid_row": null,
            "grid_template_areas": null,
            "grid_template_columns": null,
            "grid_template_rows": null,
            "height": null,
            "justify_content": null,
            "justify_items": null,
            "left": null,
            "margin": null,
            "max_height": null,
            "max_width": null,
            "min_height": null,
            "min_width": null,
            "object_fit": null,
            "object_position": null,
            "order": null,
            "overflow": null,
            "overflow_x": null,
            "overflow_y": null,
            "padding": null,
            "right": null,
            "top": null,
            "visibility": null,
            "width": null
          },
          "model_module_version": "1.2.0"
        },
        "0948bd9f145243e5be7f540fdfc832a8": {
          "model_module": "@jupyter-widgets/controls",
          "model_name": "ProgressStyleModel",
          "state": {
            "_model_module": "@jupyter-widgets/controls",
            "_model_module_version": "1.5.0",
            "_model_name": "ProgressStyleModel",
            "_view_count": null,
            "_view_module": "@jupyter-widgets/base",
            "_view_module_version": "1.2.0",
            "_view_name": "StyleView",
            "bar_color": null,
            "description_width": "initial"
          },
          "model_module_version": "1.5.0"
        },
        "c1fd4a94193c4ca5b4c1a5659a27b9fa": {
          "model_module": "@jupyter-widgets/base",
          "model_name": "LayoutModel",
          "state": {
            "_model_module": "@jupyter-widgets/base",
            "_model_module_version": "1.2.0",
            "_model_name": "LayoutModel",
            "_view_count": null,
            "_view_module": "@jupyter-widgets/base",
            "_view_module_version": "1.2.0",
            "_view_name": "LayoutView",
            "align_content": null,
            "align_items": null,
            "align_self": null,
            "border": null,
            "bottom": null,
            "display": null,
            "flex": null,
            "flex_flow": null,
            "grid_area": null,
            "grid_auto_columns": null,
            "grid_auto_flow": null,
            "grid_auto_rows": null,
            "grid_column": null,
            "grid_gap": null,
            "grid_row": null,
            "grid_template_areas": null,
            "grid_template_columns": null,
            "grid_template_rows": null,
            "height": null,
            "justify_content": null,
            "justify_items": null,
            "left": null,
            "margin": null,
            "max_height": null,
            "max_width": null,
            "min_height": null,
            "min_width": null,
            "object_fit": null,
            "object_position": null,
            "order": null,
            "overflow": null,
            "overflow_x": null,
            "overflow_y": null,
            "padding": null,
            "right": null,
            "top": null,
            "visibility": null,
            "width": null
          },
          "model_module_version": "1.2.0"
        },
        "3d2ca1dde36542ccbb745461f8d28c69": {
          "model_module": "@jupyter-widgets/controls",
          "model_name": "DescriptionStyleModel",
          "state": {
            "_model_module": "@jupyter-widgets/controls",
            "_model_module_version": "1.5.0",
            "_model_name": "DescriptionStyleModel",
            "_view_count": null,
            "_view_module": "@jupyter-widgets/base",
            "_view_module_version": "1.2.0",
            "_view_name": "StyleView",
            "description_width": ""
          },
          "model_module_version": "1.5.0"
        },
        "c0961b2994b24068ac5bb835c94bcb08": {
          "model_module": "@jupyter-widgets/controls",
          "model_name": "HBoxModel",
          "state": {
            "_dom_classes": [],
            "_model_module": "@jupyter-widgets/controls",
            "_model_module_version": "1.5.0",
            "_model_name": "HBoxModel",
            "_view_count": null,
            "_view_module": "@jupyter-widgets/controls",
            "_view_module_version": "1.5.0",
            "_view_name": "HBoxView",
            "box_style": "",
            "children": [
              "IPY_MODEL_a087913f7ae6417a96893c9c6831b933",
              "IPY_MODEL_116d94d0d0234f4882cb6554f7f01da0"
            ],
            "layout": "IPY_MODEL_18ec202698ac4bdeb5171e0d623d86e2"
          },
          "model_module_version": "1.5.0"
        },
        "a087913f7ae6417a96893c9c6831b933": {
          "model_module": "@jupyter-widgets/controls",
          "model_name": "FloatProgressModel",
          "state": {
            "_dom_classes": [],
            "_model_module": "@jupyter-widgets/controls",
            "_model_module_version": "1.5.0",
            "_model_name": "FloatProgressModel",
            "_view_count": null,
            "_view_module": "@jupyter-widgets/controls",
            "_view_module_version": "1.5.0",
            "_view_name": "ProgressView",
            "bar_style": "success",
            "description": "Downloading: 100%",
            "description_tooltip": null,
            "layout": "IPY_MODEL_5c4cdfbcc86741f08405691a85eb1ebe",
            "max": 114,
            "min": 0,
            "orientation": "horizontal",
            "style": "IPY_MODEL_fa021d075b3644a89f8ac01496d122a2",
            "value": 114
          },
          "model_module_version": "1.5.0"
        },
        "116d94d0d0234f4882cb6554f7f01da0": {
          "model_module": "@jupyter-widgets/controls",
          "model_name": "HTMLModel",
          "state": {
            "_dom_classes": [],
            "_model_module": "@jupyter-widgets/controls",
            "_model_module_version": "1.5.0",
            "_model_name": "HTMLModel",
            "_view_count": null,
            "_view_module": "@jupyter-widgets/controls",
            "_view_module_version": "1.5.0",
            "_view_name": "HTMLView",
            "description": "",
            "description_tooltip": null,
            "layout": "IPY_MODEL_c1dce0e2aa3247e9ab3c1ba54f7c45a0",
            "placeholder": "​",
            "style": "IPY_MODEL_afd64cc97e41460aa9b31dc04d209418",
            "value": " 114/114 [00:02&lt;00:00, 49.4B/s]"
          },
          "model_module_version": "1.5.0"
        },
        "18ec202698ac4bdeb5171e0d623d86e2": {
          "model_module": "@jupyter-widgets/base",
          "model_name": "LayoutModel",
          "state": {
            "_model_module": "@jupyter-widgets/base",
            "_model_module_version": "1.2.0",
            "_model_name": "LayoutModel",
            "_view_count": null,
            "_view_module": "@jupyter-widgets/base",
            "_view_module_version": "1.2.0",
            "_view_name": "LayoutView",
            "align_content": null,
            "align_items": null,
            "align_self": null,
            "border": null,
            "bottom": null,
            "display": null,
            "flex": null,
            "flex_flow": null,
            "grid_area": null,
            "grid_auto_columns": null,
            "grid_auto_flow": null,
            "grid_auto_rows": null,
            "grid_column": null,
            "grid_gap": null,
            "grid_row": null,
            "grid_template_areas": null,
            "grid_template_columns": null,
            "grid_template_rows": null,
            "height": null,
            "justify_content": null,
            "justify_items": null,
            "left": null,
            "margin": null,
            "max_height": null,
            "max_width": null,
            "min_height": null,
            "min_width": null,
            "object_fit": null,
            "object_position": null,
            "order": null,
            "overflow": null,
            "overflow_x": null,
            "overflow_y": null,
            "padding": null,
            "right": null,
            "top": null,
            "visibility": null,
            "width": null
          },
          "model_module_version": "1.2.0"
        },
        "5c4cdfbcc86741f08405691a85eb1ebe": {
          "model_module": "@jupyter-widgets/base",
          "model_name": "LayoutModel",
          "state": {
            "_model_module": "@jupyter-widgets/base",
            "_model_module_version": "1.2.0",
            "_model_name": "LayoutModel",
            "_view_count": null,
            "_view_module": "@jupyter-widgets/base",
            "_view_module_version": "1.2.0",
            "_view_name": "LayoutView",
            "align_content": null,
            "align_items": null,
            "align_self": null,
            "border": null,
            "bottom": null,
            "display": null,
            "flex": null,
            "flex_flow": null,
            "grid_area": null,
            "grid_auto_columns": null,
            "grid_auto_flow": null,
            "grid_auto_rows": null,
            "grid_column": null,
            "grid_gap": null,
            "grid_row": null,
            "grid_template_areas": null,
            "grid_template_columns": null,
            "grid_template_rows": null,
            "height": null,
            "justify_content": null,
            "justify_items": null,
            "left": null,
            "margin": null,
            "max_height": null,
            "max_width": null,
            "min_height": null,
            "min_width": null,
            "object_fit": null,
            "object_position": null,
            "order": null,
            "overflow": null,
            "overflow_x": null,
            "overflow_y": null,
            "padding": null,
            "right": null,
            "top": null,
            "visibility": null,
            "width": null
          },
          "model_module_version": "1.2.0"
        },
        "fa021d075b3644a89f8ac01496d122a2": {
          "model_module": "@jupyter-widgets/controls",
          "model_name": "ProgressStyleModel",
          "state": {
            "_model_module": "@jupyter-widgets/controls",
            "_model_module_version": "1.5.0",
            "_model_name": "ProgressStyleModel",
            "_view_count": null,
            "_view_module": "@jupyter-widgets/base",
            "_view_module_version": "1.2.0",
            "_view_name": "StyleView",
            "bar_color": null,
            "description_width": "initial"
          },
          "model_module_version": "1.5.0"
        },
        "c1dce0e2aa3247e9ab3c1ba54f7c45a0": {
          "model_module": "@jupyter-widgets/base",
          "model_name": "LayoutModel",
          "state": {
            "_model_module": "@jupyter-widgets/base",
            "_model_module_version": "1.2.0",
            "_model_name": "LayoutModel",
            "_view_count": null,
            "_view_module": "@jupyter-widgets/base",
            "_view_module_version": "1.2.0",
            "_view_name": "LayoutView",
            "align_content": null,
            "align_items": null,
            "align_self": null,
            "border": null,
            "bottom": null,
            "display": null,
            "flex": null,
            "flex_flow": null,
            "grid_area": null,
            "grid_auto_columns": null,
            "grid_auto_flow": null,
            "grid_auto_rows": null,
            "grid_column": null,
            "grid_gap": null,
            "grid_row": null,
            "grid_template_areas": null,
            "grid_template_columns": null,
            "grid_template_rows": null,
            "height": null,
            "justify_content": null,
            "justify_items": null,
            "left": null,
            "margin": null,
            "max_height": null,
            "max_width": null,
            "min_height": null,
            "min_width": null,
            "object_fit": null,
            "object_position": null,
            "order": null,
            "overflow": null,
            "overflow_x": null,
            "overflow_y": null,
            "padding": null,
            "right": null,
            "top": null,
            "visibility": null,
            "width": null
          },
          "model_module_version": "1.2.0"
        },
        "afd64cc97e41460aa9b31dc04d209418": {
          "model_module": "@jupyter-widgets/controls",
          "model_name": "DescriptionStyleModel",
          "state": {
            "_model_module": "@jupyter-widgets/controls",
            "_model_module_version": "1.5.0",
            "_model_name": "DescriptionStyleModel",
            "_view_count": null,
            "_view_module": "@jupyter-widgets/base",
            "_view_module_version": "1.2.0",
            "_view_name": "StyleView",
            "description_width": ""
          },
          "model_module_version": "1.5.0"
        },
        "7867168cdec2437fbd7f25ee24694244": {
          "model_module": "@jupyter-widgets/controls",
          "model_name": "HBoxModel",
          "state": {
            "_dom_classes": [],
            "_model_module": "@jupyter-widgets/controls",
            "_model_module_version": "1.5.0",
            "_model_name": "HBoxModel",
            "_view_count": null,
            "_view_module": "@jupyter-widgets/controls",
            "_view_module_version": "1.5.0",
            "_view_name": "HBoxView",
            "box_style": "",
            "children": [
              "IPY_MODEL_16e37601e66c41798840b2687b66bcb2",
              "IPY_MODEL_ea60e0a816c74439ad87c2b79b5ddca9"
            ],
            "layout": "IPY_MODEL_148c7b1e2f684c4086a5e79b76aa21de"
          },
          "model_module_version": "1.5.0"
        },
        "16e37601e66c41798840b2687b66bcb2": {
          "model_module": "@jupyter-widgets/controls",
          "model_name": "FloatProgressModel",
          "state": {
            "_dom_classes": [],
            "_model_module": "@jupyter-widgets/controls",
            "_model_module_version": "1.5.0",
            "_model_name": "FloatProgressModel",
            "_view_count": null,
            "_view_module": "@jupyter-widgets/controls",
            "_view_module_version": "1.5.0",
            "_view_name": "ProgressView",
            "bar_style": "success",
            "description": "Downloading: 100%",
            "description_tooltip": null,
            "layout": "IPY_MODEL_e501b095f6904a20b7a753e48e664b96",
            "max": 1575975,
            "min": 0,
            "orientation": "horizontal",
            "style": "IPY_MODEL_dc7b4e59f87d4cd293e069ab4ac4c90f",
            "value": 1575975
          },
          "model_module_version": "1.5.0"
        },
        "ea60e0a816c74439ad87c2b79b5ddca9": {
          "model_module": "@jupyter-widgets/controls",
          "model_name": "HTMLModel",
          "state": {
            "_dom_classes": [],
            "_model_module": "@jupyter-widgets/controls",
            "_model_module_version": "1.5.0",
            "_model_name": "HTMLModel",
            "_view_count": null,
            "_view_module": "@jupyter-widgets/controls",
            "_view_module_version": "1.5.0",
            "_view_name": "HTMLView",
            "description": "",
            "description_tooltip": null,
            "layout": "IPY_MODEL_6a441c97c53f49b08b0fbbe56d91988f",
            "placeholder": "​",
            "style": "IPY_MODEL_f3ef4653bc7f4c15a8f253f2f063f4c0",
            "value": " 1.58M/1.58M [00:01&lt;00:00, 1.39MB/s]"
          },
          "model_module_version": "1.5.0"
        },
        "148c7b1e2f684c4086a5e79b76aa21de": {
          "model_module": "@jupyter-widgets/base",
          "model_name": "LayoutModel",
          "state": {
            "_model_module": "@jupyter-widgets/base",
            "_model_module_version": "1.2.0",
            "_model_name": "LayoutModel",
            "_view_count": null,
            "_view_module": "@jupyter-widgets/base",
            "_view_module_version": "1.2.0",
            "_view_name": "LayoutView",
            "align_content": null,
            "align_items": null,
            "align_self": null,
            "border": null,
            "bottom": null,
            "display": null,
            "flex": null,
            "flex_flow": null,
            "grid_area": null,
            "grid_auto_columns": null,
            "grid_auto_flow": null,
            "grid_auto_rows": null,
            "grid_column": null,
            "grid_gap": null,
            "grid_row": null,
            "grid_template_areas": null,
            "grid_template_columns": null,
            "grid_template_rows": null,
            "height": null,
            "justify_content": null,
            "justify_items": null,
            "left": null,
            "margin": null,
            "max_height": null,
            "max_width": null,
            "min_height": null,
            "min_width": null,
            "object_fit": null,
            "object_position": null,
            "order": null,
            "overflow": null,
            "overflow_x": null,
            "overflow_y": null,
            "padding": null,
            "right": null,
            "top": null,
            "visibility": null,
            "width": null
          },
          "model_module_version": "1.2.0"
        },
        "e501b095f6904a20b7a753e48e664b96": {
          "model_module": "@jupyter-widgets/base",
          "model_name": "LayoutModel",
          "state": {
            "_model_module": "@jupyter-widgets/base",
            "_model_module_version": "1.2.0",
            "_model_name": "LayoutModel",
            "_view_count": null,
            "_view_module": "@jupyter-widgets/base",
            "_view_module_version": "1.2.0",
            "_view_name": "LayoutView",
            "align_content": null,
            "align_items": null,
            "align_self": null,
            "border": null,
            "bottom": null,
            "display": null,
            "flex": null,
            "flex_flow": null,
            "grid_area": null,
            "grid_auto_columns": null,
            "grid_auto_flow": null,
            "grid_auto_rows": null,
            "grid_column": null,
            "grid_gap": null,
            "grid_row": null,
            "grid_template_areas": null,
            "grid_template_columns": null,
            "grid_template_rows": null,
            "height": null,
            "justify_content": null,
            "justify_items": null,
            "left": null,
            "margin": null,
            "max_height": null,
            "max_width": null,
            "min_height": null,
            "min_width": null,
            "object_fit": null,
            "object_position": null,
            "order": null,
            "overflow": null,
            "overflow_x": null,
            "overflow_y": null,
            "padding": null,
            "right": null,
            "top": null,
            "visibility": null,
            "width": null
          },
          "model_module_version": "1.2.0"
        },
        "dc7b4e59f87d4cd293e069ab4ac4c90f": {
          "model_module": "@jupyter-widgets/controls",
          "model_name": "ProgressStyleModel",
          "state": {
            "_model_module": "@jupyter-widgets/controls",
            "_model_module_version": "1.5.0",
            "_model_name": "ProgressStyleModel",
            "_view_count": null,
            "_view_module": "@jupyter-widgets/base",
            "_view_module_version": "1.2.0",
            "_view_name": "StyleView",
            "bar_color": null,
            "description_width": "initial"
          },
          "model_module_version": "1.5.0"
        },
        "6a441c97c53f49b08b0fbbe56d91988f": {
          "model_module": "@jupyter-widgets/base",
          "model_name": "LayoutModel",
          "state": {
            "_model_module": "@jupyter-widgets/base",
            "_model_module_version": "1.2.0",
            "_model_name": "LayoutModel",
            "_view_count": null,
            "_view_module": "@jupyter-widgets/base",
            "_view_module_version": "1.2.0",
            "_view_name": "LayoutView",
            "align_content": null,
            "align_items": null,
            "align_self": null,
            "border": null,
            "bottom": null,
            "display": null,
            "flex": null,
            "flex_flow": null,
            "grid_area": null,
            "grid_auto_columns": null,
            "grid_auto_flow": null,
            "grid_auto_rows": null,
            "grid_column": null,
            "grid_gap": null,
            "grid_row": null,
            "grid_template_areas": null,
            "grid_template_columns": null,
            "grid_template_rows": null,
            "height": null,
            "justify_content": null,
            "justify_items": null,
            "left": null,
            "margin": null,
            "max_height": null,
            "max_width": null,
            "min_height": null,
            "min_width": null,
            "object_fit": null,
            "object_position": null,
            "order": null,
            "overflow": null,
            "overflow_x": null,
            "overflow_y": null,
            "padding": null,
            "right": null,
            "top": null,
            "visibility": null,
            "width": null
          },
          "model_module_version": "1.2.0"
        },
        "f3ef4653bc7f4c15a8f253f2f063f4c0": {
          "model_module": "@jupyter-widgets/controls",
          "model_name": "DescriptionStyleModel",
          "state": {
            "_model_module": "@jupyter-widgets/controls",
            "_model_module_version": "1.5.0",
            "_model_name": "DescriptionStyleModel",
            "_view_count": null,
            "_view_module": "@jupyter-widgets/base",
            "_view_module_version": "1.2.0",
            "_view_name": "StyleView",
            "description_width": ""
          },
          "model_module_version": "1.5.0"
        },
        "3107eff34f7c47faaa063abd2be7ea5b": {
          "model_module": "@jupyter-widgets/controls",
          "model_name": "HBoxModel",
          "state": {
            "_dom_classes": [],
            "_model_module": "@jupyter-widgets/controls",
            "_model_module_version": "1.5.0",
            "_model_name": "HBoxModel",
            "_view_count": null,
            "_view_module": "@jupyter-widgets/controls",
            "_view_module_version": "1.5.0",
            "_view_name": "HBoxView",
            "box_style": "",
            "children": [
              "IPY_MODEL_6dff51b903b14bd8a340c6d5cb734579",
              "IPY_MODEL_e098b31b335144f79fd9b4458fa2e05a"
            ],
            "layout": "IPY_MODEL_650aaf803d634f41bcd71cf787a8d6f1"
          },
          "model_module_version": "1.5.0"
        },
        "6dff51b903b14bd8a340c6d5cb734579": {
          "model_module": "@jupyter-widgets/controls",
          "model_name": "FloatProgressModel",
          "state": {
            "_dom_classes": [],
            "_model_module": "@jupyter-widgets/controls",
            "_model_module_version": "1.5.0",
            "_model_name": "FloatProgressModel",
            "_view_count": null,
            "_view_module": "@jupyter-widgets/controls",
            "_view_module_version": "1.5.0",
            "_view_name": "ProgressView",
            "bar_style": "success",
            "description": "Batches: 100%",
            "description_tooltip": null,
            "layout": "IPY_MODEL_9b3b4fdef1c44eb8ad04d942b0d2c9d9",
            "max": 72,
            "min": 0,
            "orientation": "horizontal",
            "style": "IPY_MODEL_7d6e257d56a54c399cc512e58d308a9b",
            "value": 72
          },
          "model_module_version": "1.5.0"
        },
        "e098b31b335144f79fd9b4458fa2e05a": {
          "model_module": "@jupyter-widgets/controls",
          "model_name": "HTMLModel",
          "state": {
            "_dom_classes": [],
            "_model_module": "@jupyter-widgets/controls",
            "_model_module_version": "1.5.0",
            "_model_name": "HTMLModel",
            "_view_count": null,
            "_view_module": "@jupyter-widgets/controls",
            "_view_module_version": "1.5.0",
            "_view_name": "HTMLView",
            "description": "",
            "description_tooltip": null,
            "layout": "IPY_MODEL_945a46d1562545a1a0ac8ed8d57b8aef",
            "placeholder": "​",
            "style": "IPY_MODEL_f5b3a40f4efa4738a86c2ce04fe119cf",
            "value": " 72/72 [05:29&lt;00:00,  4.58s/it]"
          },
          "model_module_version": "1.5.0"
        },
        "650aaf803d634f41bcd71cf787a8d6f1": {
          "model_module": "@jupyter-widgets/base",
          "model_name": "LayoutModel",
          "state": {
            "_model_module": "@jupyter-widgets/base",
            "_model_module_version": "1.2.0",
            "_model_name": "LayoutModel",
            "_view_count": null,
            "_view_module": "@jupyter-widgets/base",
            "_view_module_version": "1.2.0",
            "_view_name": "LayoutView",
            "align_content": null,
            "align_items": null,
            "align_self": null,
            "border": null,
            "bottom": null,
            "display": null,
            "flex": null,
            "flex_flow": null,
            "grid_area": null,
            "grid_auto_columns": null,
            "grid_auto_flow": null,
            "grid_auto_rows": null,
            "grid_column": null,
            "grid_gap": null,
            "grid_row": null,
            "grid_template_areas": null,
            "grid_template_columns": null,
            "grid_template_rows": null,
            "height": null,
            "justify_content": null,
            "justify_items": null,
            "left": null,
            "margin": null,
            "max_height": null,
            "max_width": null,
            "min_height": null,
            "min_width": null,
            "object_fit": null,
            "object_position": null,
            "order": null,
            "overflow": null,
            "overflow_x": null,
            "overflow_y": null,
            "padding": null,
            "right": null,
            "top": null,
            "visibility": null,
            "width": null
          },
          "model_module_version": "1.2.0"
        },
        "9b3b4fdef1c44eb8ad04d942b0d2c9d9": {
          "model_module": "@jupyter-widgets/base",
          "model_name": "LayoutModel",
          "state": {
            "_model_module": "@jupyter-widgets/base",
            "_model_module_version": "1.2.0",
            "_model_name": "LayoutModel",
            "_view_count": null,
            "_view_module": "@jupyter-widgets/base",
            "_view_module_version": "1.2.0",
            "_view_name": "LayoutView",
            "align_content": null,
            "align_items": null,
            "align_self": null,
            "border": null,
            "bottom": null,
            "display": null,
            "flex": null,
            "flex_flow": null,
            "grid_area": null,
            "grid_auto_columns": null,
            "grid_auto_flow": null,
            "grid_auto_rows": null,
            "grid_column": null,
            "grid_gap": null,
            "grid_row": null,
            "grid_template_areas": null,
            "grid_template_columns": null,
            "grid_template_rows": null,
            "height": null,
            "justify_content": null,
            "justify_items": null,
            "left": null,
            "margin": null,
            "max_height": null,
            "max_width": null,
            "min_height": null,
            "min_width": null,
            "object_fit": null,
            "object_position": null,
            "order": null,
            "overflow": null,
            "overflow_x": null,
            "overflow_y": null,
            "padding": null,
            "right": null,
            "top": null,
            "visibility": null,
            "width": null
          },
          "model_module_version": "1.2.0"
        },
        "7d6e257d56a54c399cc512e58d308a9b": {
          "model_module": "@jupyter-widgets/controls",
          "model_name": "ProgressStyleModel",
          "state": {
            "_model_module": "@jupyter-widgets/controls",
            "_model_module_version": "1.5.0",
            "_model_name": "ProgressStyleModel",
            "_view_count": null,
            "_view_module": "@jupyter-widgets/base",
            "_view_module_version": "1.2.0",
            "_view_name": "StyleView",
            "bar_color": null,
            "description_width": "initial"
          },
          "model_module_version": "1.5.0"
        },
        "945a46d1562545a1a0ac8ed8d57b8aef": {
          "model_module": "@jupyter-widgets/base",
          "model_name": "LayoutModel",
          "state": {
            "_model_module": "@jupyter-widgets/base",
            "_model_module_version": "1.2.0",
            "_model_name": "LayoutModel",
            "_view_count": null,
            "_view_module": "@jupyter-widgets/base",
            "_view_module_version": "1.2.0",
            "_view_name": "LayoutView",
            "align_content": null,
            "align_items": null,
            "align_self": null,
            "border": null,
            "bottom": null,
            "display": null,
            "flex": null,
            "flex_flow": null,
            "grid_area": null,
            "grid_auto_columns": null,
            "grid_auto_flow": null,
            "grid_auto_rows": null,
            "grid_column": null,
            "grid_gap": null,
            "grid_row": null,
            "grid_template_areas": null,
            "grid_template_columns": null,
            "grid_template_rows": null,
            "height": null,
            "justify_content": null,
            "justify_items": null,
            "left": null,
            "margin": null,
            "max_height": null,
            "max_width": null,
            "min_height": null,
            "min_width": null,
            "object_fit": null,
            "object_position": null,
            "order": null,
            "overflow": null,
            "overflow_x": null,
            "overflow_y": null,
            "padding": null,
            "right": null,
            "top": null,
            "visibility": null,
            "width": null
          },
          "model_module_version": "1.2.0"
        },
        "f5b3a40f4efa4738a86c2ce04fe119cf": {
          "model_module": "@jupyter-widgets/controls",
          "model_name": "DescriptionStyleModel",
          "state": {
            "_model_module": "@jupyter-widgets/controls",
            "_model_module_version": "1.5.0",
            "_model_name": "DescriptionStyleModel",
            "_view_count": null,
            "_view_module": "@jupyter-widgets/base",
            "_view_module_version": "1.2.0",
            "_view_name": "StyleView",
            "description_width": ""
          },
          "model_module_version": "1.5.0"
        },
        "ece03dd5224045e6bb8616ddeb6b5c3a": {
          "model_module": "@jupyter-widgets/controls",
          "model_name": "HBoxModel",
          "state": {
            "_dom_classes": [],
            "_model_module": "@jupyter-widgets/controls",
            "_model_module_version": "1.5.0",
            "_model_name": "HBoxModel",
            "_view_count": null,
            "_view_module": "@jupyter-widgets/controls",
            "_view_module_version": "1.5.0",
            "_view_name": "HBoxView",
            "box_style": "",
            "children": [
              "IPY_MODEL_1d71e4fbb49a4ee4bb9ef69f7546d112",
              "IPY_MODEL_3bcb0a7054bf43d69f40a40cdec5e1c1"
            ],
            "layout": "IPY_MODEL_2fb7ef5673674316b5e16e8d1e5b3d65"
          },
          "model_module_version": "1.5.0"
        },
        "1d71e4fbb49a4ee4bb9ef69f7546d112": {
          "model_module": "@jupyter-widgets/controls",
          "model_name": "FloatProgressModel",
          "state": {
            "_dom_classes": [],
            "_model_module": "@jupyter-widgets/controls",
            "_model_module_version": "1.5.0",
            "_model_name": "FloatProgressModel",
            "_view_count": null,
            "_view_module": "@jupyter-widgets/controls",
            "_view_module_version": "1.5.0",
            "_view_name": "ProgressView",
            "bar_style": "success",
            "description": "Downloading: 100%",
            "description_tooltip": null,
            "layout": "IPY_MODEL_b0d167d0d0ba4a3ca76c8166ad7d4db2",
            "max": 345,
            "min": 0,
            "orientation": "horizontal",
            "style": "IPY_MODEL_387077f8b581493c9ead080757a146bf",
            "value": 345
          },
          "model_module_version": "1.5.0"
        },
        "3bcb0a7054bf43d69f40a40cdec5e1c1": {
          "model_module": "@jupyter-widgets/controls",
          "model_name": "HTMLModel",
          "state": {
            "_dom_classes": [],
            "_model_module": "@jupyter-widgets/controls",
            "_model_module_version": "1.5.0",
            "_model_name": "HTMLModel",
            "_view_count": null,
            "_view_module": "@jupyter-widgets/controls",
            "_view_module_version": "1.5.0",
            "_view_name": "HTMLView",
            "description": "",
            "description_tooltip": null,
            "layout": "IPY_MODEL_390b8facbce547d58507ecdf76c46575",
            "placeholder": "​",
            "style": "IPY_MODEL_754bf20c83204b2c83a092d2f509f442",
            "value": " 345/345 [00:01&lt;00:00, 228B/s]"
          },
          "model_module_version": "1.5.0"
        },
        "2fb7ef5673674316b5e16e8d1e5b3d65": {
          "model_module": "@jupyter-widgets/base",
          "model_name": "LayoutModel",
          "state": {
            "_model_module": "@jupyter-widgets/base",
            "_model_module_version": "1.2.0",
            "_model_name": "LayoutModel",
            "_view_count": null,
            "_view_module": "@jupyter-widgets/base",
            "_view_module_version": "1.2.0",
            "_view_name": "LayoutView",
            "align_content": null,
            "align_items": null,
            "align_self": null,
            "border": null,
            "bottom": null,
            "display": null,
            "flex": null,
            "flex_flow": null,
            "grid_area": null,
            "grid_auto_columns": null,
            "grid_auto_flow": null,
            "grid_auto_rows": null,
            "grid_column": null,
            "grid_gap": null,
            "grid_row": null,
            "grid_template_areas": null,
            "grid_template_columns": null,
            "grid_template_rows": null,
            "height": null,
            "justify_content": null,
            "justify_items": null,
            "left": null,
            "margin": null,
            "max_height": null,
            "max_width": null,
            "min_height": null,
            "min_width": null,
            "object_fit": null,
            "object_position": null,
            "order": null,
            "overflow": null,
            "overflow_x": null,
            "overflow_y": null,
            "padding": null,
            "right": null,
            "top": null,
            "visibility": null,
            "width": null
          },
          "model_module_version": "1.2.0"
        },
        "b0d167d0d0ba4a3ca76c8166ad7d4db2": {
          "model_module": "@jupyter-widgets/base",
          "model_name": "LayoutModel",
          "state": {
            "_model_module": "@jupyter-widgets/base",
            "_model_module_version": "1.2.0",
            "_model_name": "LayoutModel",
            "_view_count": null,
            "_view_module": "@jupyter-widgets/base",
            "_view_module_version": "1.2.0",
            "_view_name": "LayoutView",
            "align_content": null,
            "align_items": null,
            "align_self": null,
            "border": null,
            "bottom": null,
            "display": null,
            "flex": null,
            "flex_flow": null,
            "grid_area": null,
            "grid_auto_columns": null,
            "grid_auto_flow": null,
            "grid_auto_rows": null,
            "grid_column": null,
            "grid_gap": null,
            "grid_row": null,
            "grid_template_areas": null,
            "grid_template_columns": null,
            "grid_template_rows": null,
            "height": null,
            "justify_content": null,
            "justify_items": null,
            "left": null,
            "margin": null,
            "max_height": null,
            "max_width": null,
            "min_height": null,
            "min_width": null,
            "object_fit": null,
            "object_position": null,
            "order": null,
            "overflow": null,
            "overflow_x": null,
            "overflow_y": null,
            "padding": null,
            "right": null,
            "top": null,
            "visibility": null,
            "width": null
          },
          "model_module_version": "1.2.0"
        },
        "387077f8b581493c9ead080757a146bf": {
          "model_module": "@jupyter-widgets/controls",
          "model_name": "ProgressStyleModel",
          "state": {
            "_model_module": "@jupyter-widgets/controls",
            "_model_module_version": "1.5.0",
            "_model_name": "ProgressStyleModel",
            "_view_count": null,
            "_view_module": "@jupyter-widgets/base",
            "_view_module_version": "1.2.0",
            "_view_name": "StyleView",
            "bar_color": null,
            "description_width": "initial"
          },
          "model_module_version": "1.5.0"
        },
        "390b8facbce547d58507ecdf76c46575": {
          "model_module": "@jupyter-widgets/base",
          "model_name": "LayoutModel",
          "state": {
            "_model_module": "@jupyter-widgets/base",
            "_model_module_version": "1.2.0",
            "_model_name": "LayoutModel",
            "_view_count": null,
            "_view_module": "@jupyter-widgets/base",
            "_view_module_version": "1.2.0",
            "_view_name": "LayoutView",
            "align_content": null,
            "align_items": null,
            "align_self": null,
            "border": null,
            "bottom": null,
            "display": null,
            "flex": null,
            "flex_flow": null,
            "grid_area": null,
            "grid_auto_columns": null,
            "grid_auto_flow": null,
            "grid_auto_rows": null,
            "grid_column": null,
            "grid_gap": null,
            "grid_row": null,
            "grid_template_areas": null,
            "grid_template_columns": null,
            "grid_template_rows": null,
            "height": null,
            "justify_content": null,
            "justify_items": null,
            "left": null,
            "margin": null,
            "max_height": null,
            "max_width": null,
            "min_height": null,
            "min_width": null,
            "object_fit": null,
            "object_position": null,
            "order": null,
            "overflow": null,
            "overflow_x": null,
            "overflow_y": null,
            "padding": null,
            "right": null,
            "top": null,
            "visibility": null,
            "width": null
          },
          "model_module_version": "1.2.0"
        },
        "754bf20c83204b2c83a092d2f509f442": {
          "model_module": "@jupyter-widgets/controls",
          "model_name": "DescriptionStyleModel",
          "state": {
            "_model_module": "@jupyter-widgets/controls",
            "_model_module_version": "1.5.0",
            "_model_name": "DescriptionStyleModel",
            "_view_count": null,
            "_view_module": "@jupyter-widgets/base",
            "_view_module_version": "1.2.0",
            "_view_name": "StyleView",
            "description_width": ""
          },
          "model_module_version": "1.5.0"
        },
        "b72276b85ec74d1c993d918ca532f87a": {
          "model_module": "@jupyter-widgets/controls",
          "model_name": "HBoxModel",
          "state": {
            "_dom_classes": [],
            "_model_module": "@jupyter-widgets/controls",
            "_model_module_version": "1.5.0",
            "_model_name": "HBoxModel",
            "_view_count": null,
            "_view_module": "@jupyter-widgets/controls",
            "_view_module_version": "1.5.0",
            "_view_name": "HBoxView",
            "box_style": "",
            "children": [
              "IPY_MODEL_4d25985c11684d84ae3c9ed1b1d76875",
              "IPY_MODEL_43be2a2cf4e341d69130ea92cd16fb9b"
            ],
            "layout": "IPY_MODEL_144d9f6c6da44388b395d42aaeab9c75"
          },
          "model_module_version": "1.5.0"
        },
        "4d25985c11684d84ae3c9ed1b1d76875": {
          "model_module": "@jupyter-widgets/controls",
          "model_name": "FloatProgressModel",
          "state": {
            "_dom_classes": [],
            "_model_module": "@jupyter-widgets/controls",
            "_model_module_version": "1.5.0",
            "_model_name": "FloatProgressModel",
            "_view_count": null,
            "_view_module": "@jupyter-widgets/controls",
            "_view_module_version": "1.5.0",
            "_view_name": "ProgressView",
            "bar_style": "success",
            "description": "Downloading: 100%",
            "description_tooltip": null,
            "layout": "IPY_MODEL_cc2c4b7e8eb54eaf93a34bc9aa556049",
            "max": 3724,
            "min": 0,
            "orientation": "horizontal",
            "style": "IPY_MODEL_4b7c93bf8d144d2c9b2064c24d84d812",
            "value": 3724
          },
          "model_module_version": "1.5.0"
        },
        "43be2a2cf4e341d69130ea92cd16fb9b": {
          "model_module": "@jupyter-widgets/controls",
          "model_name": "HTMLModel",
          "state": {
            "_dom_classes": [],
            "_model_module": "@jupyter-widgets/controls",
            "_model_module_version": "1.5.0",
            "_model_name": "HTMLModel",
            "_view_count": null,
            "_view_module": "@jupyter-widgets/controls",
            "_view_module_version": "1.5.0",
            "_view_name": "HTMLView",
            "description": "",
            "description_tooltip": null,
            "layout": "IPY_MODEL_8dad3cfb28c249da9094c62a87b92332",
            "placeholder": "​",
            "style": "IPY_MODEL_632f7e28f3214e8fb73571fab536e17d",
            "value": " 3.72k/3.72k [00:47&lt;00:00, 78.8B/s]"
          },
          "model_module_version": "1.5.0"
        },
        "144d9f6c6da44388b395d42aaeab9c75": {
          "model_module": "@jupyter-widgets/base",
          "model_name": "LayoutModel",
          "state": {
            "_model_module": "@jupyter-widgets/base",
            "_model_module_version": "1.2.0",
            "_model_name": "LayoutModel",
            "_view_count": null,
            "_view_module": "@jupyter-widgets/base",
            "_view_module_version": "1.2.0",
            "_view_name": "LayoutView",
            "align_content": null,
            "align_items": null,
            "align_self": null,
            "border": null,
            "bottom": null,
            "display": null,
            "flex": null,
            "flex_flow": null,
            "grid_area": null,
            "grid_auto_columns": null,
            "grid_auto_flow": null,
            "grid_auto_rows": null,
            "grid_column": null,
            "grid_gap": null,
            "grid_row": null,
            "grid_template_areas": null,
            "grid_template_columns": null,
            "grid_template_rows": null,
            "height": null,
            "justify_content": null,
            "justify_items": null,
            "left": null,
            "margin": null,
            "max_height": null,
            "max_width": null,
            "min_height": null,
            "min_width": null,
            "object_fit": null,
            "object_position": null,
            "order": null,
            "overflow": null,
            "overflow_x": null,
            "overflow_y": null,
            "padding": null,
            "right": null,
            "top": null,
            "visibility": null,
            "width": null
          },
          "model_module_version": "1.2.0"
        },
        "cc2c4b7e8eb54eaf93a34bc9aa556049": {
          "model_module": "@jupyter-widgets/base",
          "model_name": "LayoutModel",
          "state": {
            "_model_module": "@jupyter-widgets/base",
            "_model_module_version": "1.2.0",
            "_model_name": "LayoutModel",
            "_view_count": null,
            "_view_module": "@jupyter-widgets/base",
            "_view_module_version": "1.2.0",
            "_view_name": "LayoutView",
            "align_content": null,
            "align_items": null,
            "align_self": null,
            "border": null,
            "bottom": null,
            "display": null,
            "flex": null,
            "flex_flow": null,
            "grid_area": null,
            "grid_auto_columns": null,
            "grid_auto_flow": null,
            "grid_auto_rows": null,
            "grid_column": null,
            "grid_gap": null,
            "grid_row": null,
            "grid_template_areas": null,
            "grid_template_columns": null,
            "grid_template_rows": null,
            "height": null,
            "justify_content": null,
            "justify_items": null,
            "left": null,
            "margin": null,
            "max_height": null,
            "max_width": null,
            "min_height": null,
            "min_width": null,
            "object_fit": null,
            "object_position": null,
            "order": null,
            "overflow": null,
            "overflow_x": null,
            "overflow_y": null,
            "padding": null,
            "right": null,
            "top": null,
            "visibility": null,
            "width": null
          },
          "model_module_version": "1.2.0"
        },
        "4b7c93bf8d144d2c9b2064c24d84d812": {
          "model_module": "@jupyter-widgets/controls",
          "model_name": "ProgressStyleModel",
          "state": {
            "_model_module": "@jupyter-widgets/controls",
            "_model_module_version": "1.5.0",
            "_model_name": "ProgressStyleModel",
            "_view_count": null,
            "_view_module": "@jupyter-widgets/base",
            "_view_module_version": "1.2.0",
            "_view_name": "StyleView",
            "bar_color": null,
            "description_width": "initial"
          },
          "model_module_version": "1.5.0"
        },
        "8dad3cfb28c249da9094c62a87b92332": {
          "model_module": "@jupyter-widgets/base",
          "model_name": "LayoutModel",
          "state": {
            "_model_module": "@jupyter-widgets/base",
            "_model_module_version": "1.2.0",
            "_model_name": "LayoutModel",
            "_view_count": null,
            "_view_module": "@jupyter-widgets/base",
            "_view_module_version": "1.2.0",
            "_view_name": "LayoutView",
            "align_content": null,
            "align_items": null,
            "align_self": null,
            "border": null,
            "bottom": null,
            "display": null,
            "flex": null,
            "flex_flow": null,
            "grid_area": null,
            "grid_auto_columns": null,
            "grid_auto_flow": null,
            "grid_auto_rows": null,
            "grid_column": null,
            "grid_gap": null,
            "grid_row": null,
            "grid_template_areas": null,
            "grid_template_columns": null,
            "grid_template_rows": null,
            "height": null,
            "justify_content": null,
            "justify_items": null,
            "left": null,
            "margin": null,
            "max_height": null,
            "max_width": null,
            "min_height": null,
            "min_width": null,
            "object_fit": null,
            "object_position": null,
            "order": null,
            "overflow": null,
            "overflow_x": null,
            "overflow_y": null,
            "padding": null,
            "right": null,
            "top": null,
            "visibility": null,
            "width": null
          },
          "model_module_version": "1.2.0"
        },
        "632f7e28f3214e8fb73571fab536e17d": {
          "model_module": "@jupyter-widgets/controls",
          "model_name": "DescriptionStyleModel",
          "state": {
            "_model_module": "@jupyter-widgets/controls",
            "_model_module_version": "1.5.0",
            "_model_name": "DescriptionStyleModel",
            "_view_count": null,
            "_view_module": "@jupyter-widgets/base",
            "_view_module_version": "1.2.0",
            "_view_name": "StyleView",
            "description_width": ""
          },
          "model_module_version": "1.5.0"
        },
        "db89fcb67e92448189d0e1da3ce6b12f": {
          "model_module": "@jupyter-widgets/controls",
          "model_name": "HBoxModel",
          "state": {
            "_dom_classes": [],
            "_model_module": "@jupyter-widgets/controls",
            "_model_module_version": "1.5.0",
            "_model_name": "HBoxModel",
            "_view_count": null,
            "_view_module": "@jupyter-widgets/controls",
            "_view_module_version": "1.5.0",
            "_view_name": "HBoxView",
            "box_style": "",
            "children": [
              "IPY_MODEL_2a30c5fe977649f8985e1779c350bb32",
              "IPY_MODEL_5c5f07e6240a4cb6a9a2a5370abae8aa"
            ],
            "layout": "IPY_MODEL_bf5e4024341e4948af63845340f4e47f"
          },
          "model_module_version": "1.5.0"
        },
        "2a30c5fe977649f8985e1779c350bb32": {
          "model_module": "@jupyter-widgets/controls",
          "model_name": "FloatProgressModel",
          "state": {
            "_dom_classes": [],
            "_model_module": "@jupyter-widgets/controls",
            "_model_module_version": "1.5.0",
            "_model_name": "FloatProgressModel",
            "_view_count": null,
            "_view_module": "@jupyter-widgets/controls",
            "_view_module_version": "1.5.0",
            "_view_name": "ProgressView",
            "bar_style": "success",
            "description": "Downloading: 100%",
            "description_tooltip": null,
            "layout": "IPY_MODEL_83922b84e340467288e9b6aac889a345",
            "max": 718,
            "min": 0,
            "orientation": "horizontal",
            "style": "IPY_MODEL_7cec98c8b86245f7b2b54d9dc9b27a0a",
            "value": 718
          },
          "model_module_version": "1.5.0"
        },
        "5c5f07e6240a4cb6a9a2a5370abae8aa": {
          "model_module": "@jupyter-widgets/controls",
          "model_name": "HTMLModel",
          "state": {
            "_dom_classes": [],
            "_model_module": "@jupyter-widgets/controls",
            "_model_module_version": "1.5.0",
            "_model_name": "HTMLModel",
            "_view_count": null,
            "_view_module": "@jupyter-widgets/controls",
            "_view_module_version": "1.5.0",
            "_view_name": "HTMLView",
            "description": "",
            "description_tooltip": null,
            "layout": "IPY_MODEL_ca9918a8b308412ca0c77c6393dda5c1",
            "placeholder": "​",
            "style": "IPY_MODEL_feda76251ed94a01b0aee84f496e4b53",
            "value": " 718/718 [00:04&lt;00:00, 164B/s]"
          },
          "model_module_version": "1.5.0"
        },
        "bf5e4024341e4948af63845340f4e47f": {
          "model_module": "@jupyter-widgets/base",
          "model_name": "LayoutModel",
          "state": {
            "_model_module": "@jupyter-widgets/base",
            "_model_module_version": "1.2.0",
            "_model_name": "LayoutModel",
            "_view_count": null,
            "_view_module": "@jupyter-widgets/base",
            "_view_module_version": "1.2.0",
            "_view_name": "LayoutView",
            "align_content": null,
            "align_items": null,
            "align_self": null,
            "border": null,
            "bottom": null,
            "display": null,
            "flex": null,
            "flex_flow": null,
            "grid_area": null,
            "grid_auto_columns": null,
            "grid_auto_flow": null,
            "grid_auto_rows": null,
            "grid_column": null,
            "grid_gap": null,
            "grid_row": null,
            "grid_template_areas": null,
            "grid_template_columns": null,
            "grid_template_rows": null,
            "height": null,
            "justify_content": null,
            "justify_items": null,
            "left": null,
            "margin": null,
            "max_height": null,
            "max_width": null,
            "min_height": null,
            "min_width": null,
            "object_fit": null,
            "object_position": null,
            "order": null,
            "overflow": null,
            "overflow_x": null,
            "overflow_y": null,
            "padding": null,
            "right": null,
            "top": null,
            "visibility": null,
            "width": null
          },
          "model_module_version": "1.2.0"
        },
        "83922b84e340467288e9b6aac889a345": {
          "model_module": "@jupyter-widgets/base",
          "model_name": "LayoutModel",
          "state": {
            "_model_module": "@jupyter-widgets/base",
            "_model_module_version": "1.2.0",
            "_model_name": "LayoutModel",
            "_view_count": null,
            "_view_module": "@jupyter-widgets/base",
            "_view_module_version": "1.2.0",
            "_view_name": "LayoutView",
            "align_content": null,
            "align_items": null,
            "align_self": null,
            "border": null,
            "bottom": null,
            "display": null,
            "flex": null,
            "flex_flow": null,
            "grid_area": null,
            "grid_auto_columns": null,
            "grid_auto_flow": null,
            "grid_auto_rows": null,
            "grid_column": null,
            "grid_gap": null,
            "grid_row": null,
            "grid_template_areas": null,
            "grid_template_columns": null,
            "grid_template_rows": null,
            "height": null,
            "justify_content": null,
            "justify_items": null,
            "left": null,
            "margin": null,
            "max_height": null,
            "max_width": null,
            "min_height": null,
            "min_width": null,
            "object_fit": null,
            "object_position": null,
            "order": null,
            "overflow": null,
            "overflow_x": null,
            "overflow_y": null,
            "padding": null,
            "right": null,
            "top": null,
            "visibility": null,
            "width": null
          },
          "model_module_version": "1.2.0"
        },
        "7cec98c8b86245f7b2b54d9dc9b27a0a": {
          "model_module": "@jupyter-widgets/controls",
          "model_name": "ProgressStyleModel",
          "state": {
            "_model_module": "@jupyter-widgets/controls",
            "_model_module_version": "1.5.0",
            "_model_name": "ProgressStyleModel",
            "_view_count": null,
            "_view_module": "@jupyter-widgets/base",
            "_view_module_version": "1.2.0",
            "_view_name": "StyleView",
            "bar_color": null,
            "description_width": "initial"
          },
          "model_module_version": "1.5.0"
        },
        "ca9918a8b308412ca0c77c6393dda5c1": {
          "model_module": "@jupyter-widgets/base",
          "model_name": "LayoutModel",
          "state": {
            "_model_module": "@jupyter-widgets/base",
            "_model_module_version": "1.2.0",
            "_model_name": "LayoutModel",
            "_view_count": null,
            "_view_module": "@jupyter-widgets/base",
            "_view_module_version": "1.2.0",
            "_view_name": "LayoutView",
            "align_content": null,
            "align_items": null,
            "align_self": null,
            "border": null,
            "bottom": null,
            "display": null,
            "flex": null,
            "flex_flow": null,
            "grid_area": null,
            "grid_auto_columns": null,
            "grid_auto_flow": null,
            "grid_auto_rows": null,
            "grid_column": null,
            "grid_gap": null,
            "grid_row": null,
            "grid_template_areas": null,
            "grid_template_columns": null,
            "grid_template_rows": null,
            "height": null,
            "justify_content": null,
            "justify_items": null,
            "left": null,
            "margin": null,
            "max_height": null,
            "max_width": null,
            "min_height": null,
            "min_width": null,
            "object_fit": null,
            "object_position": null,
            "order": null,
            "overflow": null,
            "overflow_x": null,
            "overflow_y": null,
            "padding": null,
            "right": null,
            "top": null,
            "visibility": null,
            "width": null
          },
          "model_module_version": "1.2.0"
        },
        "feda76251ed94a01b0aee84f496e4b53": {
          "model_module": "@jupyter-widgets/controls",
          "model_name": "DescriptionStyleModel",
          "state": {
            "_model_module": "@jupyter-widgets/controls",
            "_model_module_version": "1.5.0",
            "_model_name": "DescriptionStyleModel",
            "_view_count": null,
            "_view_module": "@jupyter-widgets/base",
            "_view_module_version": "1.2.0",
            "_view_name": "StyleView",
            "description_width": ""
          },
          "model_module_version": "1.5.0"
        },
        "cef39afc8f774ed486b705e9adc1dd4c": {
          "model_module": "@jupyter-widgets/controls",
          "model_name": "HBoxModel",
          "state": {
            "_dom_classes": [],
            "_model_module": "@jupyter-widgets/controls",
            "_model_module_version": "1.5.0",
            "_model_name": "HBoxModel",
            "_view_count": null,
            "_view_module": "@jupyter-widgets/controls",
            "_view_module_version": "1.5.0",
            "_view_name": "HBoxView",
            "box_style": "",
            "children": [
              "IPY_MODEL_7a3e009fea6d4c1098e7a4b2f4be589a",
              "IPY_MODEL_1fe41f335c1c4930b60e541361d3ec34"
            ],
            "layout": "IPY_MODEL_c1bea326eab640a48694a53750e63909"
          },
          "model_module_version": "1.5.0"
        },
        "7a3e009fea6d4c1098e7a4b2f4be589a": {
          "model_module": "@jupyter-widgets/controls",
          "model_name": "FloatProgressModel",
          "state": {
            "_dom_classes": [],
            "_model_module": "@jupyter-widgets/controls",
            "_model_module_version": "1.5.0",
            "_model_name": "FloatProgressModel",
            "_view_count": null,
            "_view_module": "@jupyter-widgets/controls",
            "_view_module_version": "1.5.0",
            "_view_name": "ProgressView",
            "bar_style": "success",
            "description": "Downloading: 100%",
            "description_tooltip": null,
            "layout": "IPY_MODEL_b726bf155a2f4e769396f14a680bc813",
            "max": 122,
            "min": 0,
            "orientation": "horizontal",
            "style": "IPY_MODEL_8d0dd6e0c0b343598d34aa9aa407069e",
            "value": 122
          },
          "model_module_version": "1.5.0"
        },
        "1fe41f335c1c4930b60e541361d3ec34": {
          "model_module": "@jupyter-widgets/controls",
          "model_name": "HTMLModel",
          "state": {
            "_dom_classes": [],
            "_model_module": "@jupyter-widgets/controls",
            "_model_module_version": "1.5.0",
            "_model_name": "HTMLModel",
            "_view_count": null,
            "_view_module": "@jupyter-widgets/controls",
            "_view_module_version": "1.5.0",
            "_view_name": "HTMLView",
            "description": "",
            "description_tooltip": null,
            "layout": "IPY_MODEL_ddf7c1177eb349e7a5eb9eaa35d798cc",
            "placeholder": "​",
            "style": "IPY_MODEL_4d2ce5ffc7184a1e84c5e065ad19a5e6",
            "value": " 122/122 [00:02&lt;00:00, 42.3B/s]"
          },
          "model_module_version": "1.5.0"
        },
        "c1bea326eab640a48694a53750e63909": {
          "model_module": "@jupyter-widgets/base",
          "model_name": "LayoutModel",
          "state": {
            "_model_module": "@jupyter-widgets/base",
            "_model_module_version": "1.2.0",
            "_model_name": "LayoutModel",
            "_view_count": null,
            "_view_module": "@jupyter-widgets/base",
            "_view_module_version": "1.2.0",
            "_view_name": "LayoutView",
            "align_content": null,
            "align_items": null,
            "align_self": null,
            "border": null,
            "bottom": null,
            "display": null,
            "flex": null,
            "flex_flow": null,
            "grid_area": null,
            "grid_auto_columns": null,
            "grid_auto_flow": null,
            "grid_auto_rows": null,
            "grid_column": null,
            "grid_gap": null,
            "grid_row": null,
            "grid_template_areas": null,
            "grid_template_columns": null,
            "grid_template_rows": null,
            "height": null,
            "justify_content": null,
            "justify_items": null,
            "left": null,
            "margin": null,
            "max_height": null,
            "max_width": null,
            "min_height": null,
            "min_width": null,
            "object_fit": null,
            "object_position": null,
            "order": null,
            "overflow": null,
            "overflow_x": null,
            "overflow_y": null,
            "padding": null,
            "right": null,
            "top": null,
            "visibility": null,
            "width": null
          },
          "model_module_version": "1.2.0"
        },
        "b726bf155a2f4e769396f14a680bc813": {
          "model_module": "@jupyter-widgets/base",
          "model_name": "LayoutModel",
          "state": {
            "_model_module": "@jupyter-widgets/base",
            "_model_module_version": "1.2.0",
            "_model_name": "LayoutModel",
            "_view_count": null,
            "_view_module": "@jupyter-widgets/base",
            "_view_module_version": "1.2.0",
            "_view_name": "LayoutView",
            "align_content": null,
            "align_items": null,
            "align_self": null,
            "border": null,
            "bottom": null,
            "display": null,
            "flex": null,
            "flex_flow": null,
            "grid_area": null,
            "grid_auto_columns": null,
            "grid_auto_flow": null,
            "grid_auto_rows": null,
            "grid_column": null,
            "grid_gap": null,
            "grid_row": null,
            "grid_template_areas": null,
            "grid_template_columns": null,
            "grid_template_rows": null,
            "height": null,
            "justify_content": null,
            "justify_items": null,
            "left": null,
            "margin": null,
            "max_height": null,
            "max_width": null,
            "min_height": null,
            "min_width": null,
            "object_fit": null,
            "object_position": null,
            "order": null,
            "overflow": null,
            "overflow_x": null,
            "overflow_y": null,
            "padding": null,
            "right": null,
            "top": null,
            "visibility": null,
            "width": null
          },
          "model_module_version": "1.2.0"
        },
        "8d0dd6e0c0b343598d34aa9aa407069e": {
          "model_module": "@jupyter-widgets/controls",
          "model_name": "ProgressStyleModel",
          "state": {
            "_model_module": "@jupyter-widgets/controls",
            "_model_module_version": "1.5.0",
            "_model_name": "ProgressStyleModel",
            "_view_count": null,
            "_view_module": "@jupyter-widgets/base",
            "_view_module_version": "1.2.0",
            "_view_name": "StyleView",
            "bar_color": null,
            "description_width": "initial"
          },
          "model_module_version": "1.5.0"
        },
        "ddf7c1177eb349e7a5eb9eaa35d798cc": {
          "model_module": "@jupyter-widgets/base",
          "model_name": "LayoutModel",
          "state": {
            "_model_module": "@jupyter-widgets/base",
            "_model_module_version": "1.2.0",
            "_model_name": "LayoutModel",
            "_view_count": null,
            "_view_module": "@jupyter-widgets/base",
            "_view_module_version": "1.2.0",
            "_view_name": "LayoutView",
            "align_content": null,
            "align_items": null,
            "align_self": null,
            "border": null,
            "bottom": null,
            "display": null,
            "flex": null,
            "flex_flow": null,
            "grid_area": null,
            "grid_auto_columns": null,
            "grid_auto_flow": null,
            "grid_auto_rows": null,
            "grid_column": null,
            "grid_gap": null,
            "grid_row": null,
            "grid_template_areas": null,
            "grid_template_columns": null,
            "grid_template_rows": null,
            "height": null,
            "justify_content": null,
            "justify_items": null,
            "left": null,
            "margin": null,
            "max_height": null,
            "max_width": null,
            "min_height": null,
            "min_width": null,
            "object_fit": null,
            "object_position": null,
            "order": null,
            "overflow": null,
            "overflow_x": null,
            "overflow_y": null,
            "padding": null,
            "right": null,
            "top": null,
            "visibility": null,
            "width": null
          },
          "model_module_version": "1.2.0"
        },
        "4d2ce5ffc7184a1e84c5e065ad19a5e6": {
          "model_module": "@jupyter-widgets/controls",
          "model_name": "DescriptionStyleModel",
          "state": {
            "_model_module": "@jupyter-widgets/controls",
            "_model_module_version": "1.5.0",
            "_model_name": "DescriptionStyleModel",
            "_view_count": null,
            "_view_module": "@jupyter-widgets/base",
            "_view_module_version": "1.2.0",
            "_view_name": "StyleView",
            "description_width": ""
          },
          "model_module_version": "1.5.0"
        },
        "9937bb8db1f54c138bdcf99957b9b1c5": {
          "model_module": "@jupyter-widgets/controls",
          "model_name": "HBoxModel",
          "state": {
            "_dom_classes": [],
            "_model_module": "@jupyter-widgets/controls",
            "_model_module_version": "1.5.0",
            "_model_name": "HBoxModel",
            "_view_count": null,
            "_view_module": "@jupyter-widgets/controls",
            "_view_module_version": "1.5.0",
            "_view_name": "HBoxView",
            "box_style": "",
            "children": [
              "IPY_MODEL_a56daee541a943039261babd774f07b4",
              "IPY_MODEL_4f614fd1ed4c432ab648465460b6e39a"
            ],
            "layout": "IPY_MODEL_60aab5cd6608426da5759e6b5ac94a0d"
          },
          "model_module_version": "1.5.0"
        },
        "a56daee541a943039261babd774f07b4": {
          "model_module": "@jupyter-widgets/controls",
          "model_name": "FloatProgressModel",
          "state": {
            "_dom_classes": [],
            "_model_module": "@jupyter-widgets/controls",
            "_model_module_version": "1.5.0",
            "_model_name": "FloatProgressModel",
            "_view_count": null,
            "_view_module": "@jupyter-widgets/controls",
            "_view_module_version": "1.5.0",
            "_view_name": "ProgressView",
            "bar_style": "success",
            "description": "Downloading: 100%",
            "description_tooltip": null,
            "layout": "IPY_MODEL_0a63bde1b41748b6ad107a32d91c37c1",
            "max": 229,
            "min": 0,
            "orientation": "horizontal",
            "style": "IPY_MODEL_e89bedffbe8b41288b9f90a71bbcc7ab",
            "value": 229
          },
          "model_module_version": "1.5.0"
        },
        "4f614fd1ed4c432ab648465460b6e39a": {
          "model_module": "@jupyter-widgets/controls",
          "model_name": "HTMLModel",
          "state": {
            "_dom_classes": [],
            "_model_module": "@jupyter-widgets/controls",
            "_model_module_version": "1.5.0",
            "_model_name": "HTMLModel",
            "_view_count": null,
            "_view_module": "@jupyter-widgets/controls",
            "_view_module_version": "1.5.0",
            "_view_name": "HTMLView",
            "description": "",
            "description_tooltip": null,
            "layout": "IPY_MODEL_24b26a0e89944ec2a4b58fdec8db84ce",
            "placeholder": "​",
            "style": "IPY_MODEL_93236b06bb3c405da22187113c1284bd",
            "value": " 229/229 [00:01&lt;00:00, 205B/s]"
          },
          "model_module_version": "1.5.0"
        },
        "60aab5cd6608426da5759e6b5ac94a0d": {
          "model_module": "@jupyter-widgets/base",
          "model_name": "LayoutModel",
          "state": {
            "_model_module": "@jupyter-widgets/base",
            "_model_module_version": "1.2.0",
            "_model_name": "LayoutModel",
            "_view_count": null,
            "_view_module": "@jupyter-widgets/base",
            "_view_module_version": "1.2.0",
            "_view_name": "LayoutView",
            "align_content": null,
            "align_items": null,
            "align_self": null,
            "border": null,
            "bottom": null,
            "display": null,
            "flex": null,
            "flex_flow": null,
            "grid_area": null,
            "grid_auto_columns": null,
            "grid_auto_flow": null,
            "grid_auto_rows": null,
            "grid_column": null,
            "grid_gap": null,
            "grid_row": null,
            "grid_template_areas": null,
            "grid_template_columns": null,
            "grid_template_rows": null,
            "height": null,
            "justify_content": null,
            "justify_items": null,
            "left": null,
            "margin": null,
            "max_height": null,
            "max_width": null,
            "min_height": null,
            "min_width": null,
            "object_fit": null,
            "object_position": null,
            "order": null,
            "overflow": null,
            "overflow_x": null,
            "overflow_y": null,
            "padding": null,
            "right": null,
            "top": null,
            "visibility": null,
            "width": null
          },
          "model_module_version": "1.2.0"
        },
        "0a63bde1b41748b6ad107a32d91c37c1": {
          "model_module": "@jupyter-widgets/base",
          "model_name": "LayoutModel",
          "state": {
            "_model_module": "@jupyter-widgets/base",
            "_model_module_version": "1.2.0",
            "_model_name": "LayoutModel",
            "_view_count": null,
            "_view_module": "@jupyter-widgets/base",
            "_view_module_version": "1.2.0",
            "_view_name": "LayoutView",
            "align_content": null,
            "align_items": null,
            "align_self": null,
            "border": null,
            "bottom": null,
            "display": null,
            "flex": null,
            "flex_flow": null,
            "grid_area": null,
            "grid_auto_columns": null,
            "grid_auto_flow": null,
            "grid_auto_rows": null,
            "grid_column": null,
            "grid_gap": null,
            "grid_row": null,
            "grid_template_areas": null,
            "grid_template_columns": null,
            "grid_template_rows": null,
            "height": null,
            "justify_content": null,
            "justify_items": null,
            "left": null,
            "margin": null,
            "max_height": null,
            "max_width": null,
            "min_height": null,
            "min_width": null,
            "object_fit": null,
            "object_position": null,
            "order": null,
            "overflow": null,
            "overflow_x": null,
            "overflow_y": null,
            "padding": null,
            "right": null,
            "top": null,
            "visibility": null,
            "width": null
          },
          "model_module_version": "1.2.0"
        },
        "e89bedffbe8b41288b9f90a71bbcc7ab": {
          "model_module": "@jupyter-widgets/controls",
          "model_name": "ProgressStyleModel",
          "state": {
            "_model_module": "@jupyter-widgets/controls",
            "_model_module_version": "1.5.0",
            "_model_name": "ProgressStyleModel",
            "_view_count": null,
            "_view_module": "@jupyter-widgets/base",
            "_view_module_version": "1.2.0",
            "_view_name": "StyleView",
            "bar_color": null,
            "description_width": "initial"
          },
          "model_module_version": "1.5.0"
        },
        "24b26a0e89944ec2a4b58fdec8db84ce": {
          "model_module": "@jupyter-widgets/base",
          "model_name": "LayoutModel",
          "state": {
            "_model_module": "@jupyter-widgets/base",
            "_model_module_version": "1.2.0",
            "_model_name": "LayoutModel",
            "_view_count": null,
            "_view_module": "@jupyter-widgets/base",
            "_view_module_version": "1.2.0",
            "_view_name": "LayoutView",
            "align_content": null,
            "align_items": null,
            "align_self": null,
            "border": null,
            "bottom": null,
            "display": null,
            "flex": null,
            "flex_flow": null,
            "grid_area": null,
            "grid_auto_columns": null,
            "grid_auto_flow": null,
            "grid_auto_rows": null,
            "grid_column": null,
            "grid_gap": null,
            "grid_row": null,
            "grid_template_areas": null,
            "grid_template_columns": null,
            "grid_template_rows": null,
            "height": null,
            "justify_content": null,
            "justify_items": null,
            "left": null,
            "margin": null,
            "max_height": null,
            "max_width": null,
            "min_height": null,
            "min_width": null,
            "object_fit": null,
            "object_position": null,
            "order": null,
            "overflow": null,
            "overflow_x": null,
            "overflow_y": null,
            "padding": null,
            "right": null,
            "top": null,
            "visibility": null,
            "width": null
          },
          "model_module_version": "1.2.0"
        },
        "93236b06bb3c405da22187113c1284bd": {
          "model_module": "@jupyter-widgets/controls",
          "model_name": "DescriptionStyleModel",
          "state": {
            "_model_module": "@jupyter-widgets/controls",
            "_model_module_version": "1.5.0",
            "_model_name": "DescriptionStyleModel",
            "_view_count": null,
            "_view_module": "@jupyter-widgets/base",
            "_view_module_version": "1.2.0",
            "_view_name": "StyleView",
            "description_width": ""
          },
          "model_module_version": "1.5.0"
        },
        "fc658a1201634600aaa0a2b5f9c2d05a": {
          "model_module": "@jupyter-widgets/controls",
          "model_name": "HBoxModel",
          "state": {
            "_dom_classes": [],
            "_model_module": "@jupyter-widgets/controls",
            "_model_module_version": "1.5.0",
            "_model_name": "HBoxModel",
            "_view_count": null,
            "_view_module": "@jupyter-widgets/controls",
            "_view_module_version": "1.5.0",
            "_view_name": "HBoxView",
            "box_style": "",
            "children": [
              "IPY_MODEL_8000a9e1157c45cea7cc4b0d2c47e18a",
              "IPY_MODEL_1a8f04be232c497ba860a7d6a4e6f816"
            ],
            "layout": "IPY_MODEL_9a6b6cbbb189463a9c1c9674fd092567"
          },
          "model_module_version": "1.5.0"
        },
        "8000a9e1157c45cea7cc4b0d2c47e18a": {
          "model_module": "@jupyter-widgets/controls",
          "model_name": "FloatProgressModel",
          "state": {
            "_dom_classes": [],
            "_model_module": "@jupyter-widgets/controls",
            "_model_module_version": "1.5.0",
            "_model_name": "FloatProgressModel",
            "_view_count": null,
            "_view_module": "@jupyter-widgets/controls",
            "_view_module_version": "1.5.0",
            "_view_name": "ProgressView",
            "bar_style": "success",
            "description": "Downloading: 100%",
            "description_tooltip": null,
            "layout": "IPY_MODEL_e9ef7f0bde9e4932bd2aaaef78ec2dda",
            "max": 1112253233,
            "min": 0,
            "orientation": "horizontal",
            "style": "IPY_MODEL_ea138ffd1e754eb0a8bb02c8ae3d95e0",
            "value": 1112253233
          },
          "model_module_version": "1.5.0"
        },
        "1a8f04be232c497ba860a7d6a4e6f816": {
          "model_module": "@jupyter-widgets/controls",
          "model_name": "HTMLModel",
          "state": {
            "_dom_classes": [],
            "_model_module": "@jupyter-widgets/controls",
            "_model_module_version": "1.5.0",
            "_model_name": "HTMLModel",
            "_view_count": null,
            "_view_module": "@jupyter-widgets/controls",
            "_view_module_version": "1.5.0",
            "_view_name": "HTMLView",
            "description": "",
            "description_tooltip": null,
            "layout": "IPY_MODEL_06ecd49e391b4ad5aaa59ee8de2d5673",
            "placeholder": "​",
            "style": "IPY_MODEL_c5eba2aa3d364f17868028471658fbbf",
            "value": " 1.11G/1.11G [00:41&lt;00:00, 26.9MB/s]"
          },
          "model_module_version": "1.5.0"
        },
        "9a6b6cbbb189463a9c1c9674fd092567": {
          "model_module": "@jupyter-widgets/base",
          "model_name": "LayoutModel",
          "state": {
            "_model_module": "@jupyter-widgets/base",
            "_model_module_version": "1.2.0",
            "_model_name": "LayoutModel",
            "_view_count": null,
            "_view_module": "@jupyter-widgets/base",
            "_view_module_version": "1.2.0",
            "_view_name": "LayoutView",
            "align_content": null,
            "align_items": null,
            "align_self": null,
            "border": null,
            "bottom": null,
            "display": null,
            "flex": null,
            "flex_flow": null,
            "grid_area": null,
            "grid_auto_columns": null,
            "grid_auto_flow": null,
            "grid_auto_rows": null,
            "grid_column": null,
            "grid_gap": null,
            "grid_row": null,
            "grid_template_areas": null,
            "grid_template_columns": null,
            "grid_template_rows": null,
            "height": null,
            "justify_content": null,
            "justify_items": null,
            "left": null,
            "margin": null,
            "max_height": null,
            "max_width": null,
            "min_height": null,
            "min_width": null,
            "object_fit": null,
            "object_position": null,
            "order": null,
            "overflow": null,
            "overflow_x": null,
            "overflow_y": null,
            "padding": null,
            "right": null,
            "top": null,
            "visibility": null,
            "width": null
          },
          "model_module_version": "1.2.0"
        },
        "e9ef7f0bde9e4932bd2aaaef78ec2dda": {
          "model_module": "@jupyter-widgets/base",
          "model_name": "LayoutModel",
          "state": {
            "_model_module": "@jupyter-widgets/base",
            "_model_module_version": "1.2.0",
            "_model_name": "LayoutModel",
            "_view_count": null,
            "_view_module": "@jupyter-widgets/base",
            "_view_module_version": "1.2.0",
            "_view_name": "LayoutView",
            "align_content": null,
            "align_items": null,
            "align_self": null,
            "border": null,
            "bottom": null,
            "display": null,
            "flex": null,
            "flex_flow": null,
            "grid_area": null,
            "grid_auto_columns": null,
            "grid_auto_flow": null,
            "grid_auto_rows": null,
            "grid_column": null,
            "grid_gap": null,
            "grid_row": null,
            "grid_template_areas": null,
            "grid_template_columns": null,
            "grid_template_rows": null,
            "height": null,
            "justify_content": null,
            "justify_items": null,
            "left": null,
            "margin": null,
            "max_height": null,
            "max_width": null,
            "min_height": null,
            "min_width": null,
            "object_fit": null,
            "object_position": null,
            "order": null,
            "overflow": null,
            "overflow_x": null,
            "overflow_y": null,
            "padding": null,
            "right": null,
            "top": null,
            "visibility": null,
            "width": null
          },
          "model_module_version": "1.2.0"
        },
        "ea138ffd1e754eb0a8bb02c8ae3d95e0": {
          "model_module": "@jupyter-widgets/controls",
          "model_name": "ProgressStyleModel",
          "state": {
            "_model_module": "@jupyter-widgets/controls",
            "_model_module_version": "1.5.0",
            "_model_name": "ProgressStyleModel",
            "_view_count": null,
            "_view_module": "@jupyter-widgets/base",
            "_view_module_version": "1.2.0",
            "_view_name": "StyleView",
            "bar_color": null,
            "description_width": "initial"
          },
          "model_module_version": "1.5.0"
        },
        "06ecd49e391b4ad5aaa59ee8de2d5673": {
          "model_module": "@jupyter-widgets/base",
          "model_name": "LayoutModel",
          "state": {
            "_model_module": "@jupyter-widgets/base",
            "_model_module_version": "1.2.0",
            "_model_name": "LayoutModel",
            "_view_count": null,
            "_view_module": "@jupyter-widgets/base",
            "_view_module_version": "1.2.0",
            "_view_name": "LayoutView",
            "align_content": null,
            "align_items": null,
            "align_self": null,
            "border": null,
            "bottom": null,
            "display": null,
            "flex": null,
            "flex_flow": null,
            "grid_area": null,
            "grid_auto_columns": null,
            "grid_auto_flow": null,
            "grid_auto_rows": null,
            "grid_column": null,
            "grid_gap": null,
            "grid_row": null,
            "grid_template_areas": null,
            "grid_template_columns": null,
            "grid_template_rows": null,
            "height": null,
            "justify_content": null,
            "justify_items": null,
            "left": null,
            "margin": null,
            "max_height": null,
            "max_width": null,
            "min_height": null,
            "min_width": null,
            "object_fit": null,
            "object_position": null,
            "order": null,
            "overflow": null,
            "overflow_x": null,
            "overflow_y": null,
            "padding": null,
            "right": null,
            "top": null,
            "visibility": null,
            "width": null
          },
          "model_module_version": "1.2.0"
        },
        "c5eba2aa3d364f17868028471658fbbf": {
          "model_module": "@jupyter-widgets/controls",
          "model_name": "DescriptionStyleModel",
          "state": {
            "_model_module": "@jupyter-widgets/controls",
            "_model_module_version": "1.5.0",
            "_model_name": "DescriptionStyleModel",
            "_view_count": null,
            "_view_module": "@jupyter-widgets/base",
            "_view_module_version": "1.2.0",
            "_view_name": "StyleView",
            "description_width": ""
          },
          "model_module_version": "1.5.0"
        },
        "966fdff91ea84ce691e08c17bd5d02c1": {
          "model_module": "@jupyter-widgets/controls",
          "model_name": "HBoxModel",
          "state": {
            "_dom_classes": [],
            "_model_module": "@jupyter-widgets/controls",
            "_model_module_version": "1.5.0",
            "_model_name": "HBoxModel",
            "_view_count": null,
            "_view_module": "@jupyter-widgets/controls",
            "_view_module_version": "1.5.0",
            "_view_name": "HBoxView",
            "box_style": "",
            "children": [
              "IPY_MODEL_ad9dec866a3d4670afaf5c62175f2298",
              "IPY_MODEL_54a72a7fa1ba4d3f85308f59ec885709"
            ],
            "layout": "IPY_MODEL_f8e3a86212804139807528c36f3d1a61"
          },
          "model_module_version": "1.5.0"
        },
        "ad9dec866a3d4670afaf5c62175f2298": {
          "model_module": "@jupyter-widgets/controls",
          "model_name": "FloatProgressModel",
          "state": {
            "_dom_classes": [],
            "_model_module": "@jupyter-widgets/controls",
            "_model_module_version": "1.5.0",
            "_model_name": "FloatProgressModel",
            "_view_count": null,
            "_view_module": "@jupyter-widgets/controls",
            "_view_module_version": "1.5.0",
            "_view_name": "ProgressView",
            "bar_style": "success",
            "description": "Downloading: 100%",
            "description_tooltip": null,
            "layout": "IPY_MODEL_3889c4e4a267472d8c52752089f29b81",
            "max": 53,
            "min": 0,
            "orientation": "horizontal",
            "style": "IPY_MODEL_54d9575a246148d2a2adb14c7bbd676e",
            "value": 53
          },
          "model_module_version": "1.5.0"
        },
        "54a72a7fa1ba4d3f85308f59ec885709": {
          "model_module": "@jupyter-widgets/controls",
          "model_name": "HTMLModel",
          "state": {
            "_dom_classes": [],
            "_model_module": "@jupyter-widgets/controls",
            "_model_module_version": "1.5.0",
            "_model_name": "HTMLModel",
            "_view_count": null,
            "_view_module": "@jupyter-widgets/controls",
            "_view_module_version": "1.5.0",
            "_view_name": "HTMLView",
            "description": "",
            "description_tooltip": null,
            "layout": "IPY_MODEL_a52d0da391bf4aa291dd07498f7c1f9a",
            "placeholder": "​",
            "style": "IPY_MODEL_ee2d61fb5b88460ea4faf1e1e74cfd9b",
            "value": " 53.0/53.0 [00:04&lt;00:00, 13.1B/s]"
          },
          "model_module_version": "1.5.0"
        },
        "f8e3a86212804139807528c36f3d1a61": {
          "model_module": "@jupyter-widgets/base",
          "model_name": "LayoutModel",
          "state": {
            "_model_module": "@jupyter-widgets/base",
            "_model_module_version": "1.2.0",
            "_model_name": "LayoutModel",
            "_view_count": null,
            "_view_module": "@jupyter-widgets/base",
            "_view_module_version": "1.2.0",
            "_view_name": "LayoutView",
            "align_content": null,
            "align_items": null,
            "align_self": null,
            "border": null,
            "bottom": null,
            "display": null,
            "flex": null,
            "flex_flow": null,
            "grid_area": null,
            "grid_auto_columns": null,
            "grid_auto_flow": null,
            "grid_auto_rows": null,
            "grid_column": null,
            "grid_gap": null,
            "grid_row": null,
            "grid_template_areas": null,
            "grid_template_columns": null,
            "grid_template_rows": null,
            "height": null,
            "justify_content": null,
            "justify_items": null,
            "left": null,
            "margin": null,
            "max_height": null,
            "max_width": null,
            "min_height": null,
            "min_width": null,
            "object_fit": null,
            "object_position": null,
            "order": null,
            "overflow": null,
            "overflow_x": null,
            "overflow_y": null,
            "padding": null,
            "right": null,
            "top": null,
            "visibility": null,
            "width": null
          },
          "model_module_version": "1.2.0"
        },
        "3889c4e4a267472d8c52752089f29b81": {
          "model_module": "@jupyter-widgets/base",
          "model_name": "LayoutModel",
          "state": {
            "_model_module": "@jupyter-widgets/base",
            "_model_module_version": "1.2.0",
            "_model_name": "LayoutModel",
            "_view_count": null,
            "_view_module": "@jupyter-widgets/base",
            "_view_module_version": "1.2.0",
            "_view_name": "LayoutView",
            "align_content": null,
            "align_items": null,
            "align_self": null,
            "border": null,
            "bottom": null,
            "display": null,
            "flex": null,
            "flex_flow": null,
            "grid_area": null,
            "grid_auto_columns": null,
            "grid_auto_flow": null,
            "grid_auto_rows": null,
            "grid_column": null,
            "grid_gap": null,
            "grid_row": null,
            "grid_template_areas": null,
            "grid_template_columns": null,
            "grid_template_rows": null,
            "height": null,
            "justify_content": null,
            "justify_items": null,
            "left": null,
            "margin": null,
            "max_height": null,
            "max_width": null,
            "min_height": null,
            "min_width": null,
            "object_fit": null,
            "object_position": null,
            "order": null,
            "overflow": null,
            "overflow_x": null,
            "overflow_y": null,
            "padding": null,
            "right": null,
            "top": null,
            "visibility": null,
            "width": null
          },
          "model_module_version": "1.2.0"
        },
        "54d9575a246148d2a2adb14c7bbd676e": {
          "model_module": "@jupyter-widgets/controls",
          "model_name": "ProgressStyleModel",
          "state": {
            "_model_module": "@jupyter-widgets/controls",
            "_model_module_version": "1.5.0",
            "_model_name": "ProgressStyleModel",
            "_view_count": null,
            "_view_module": "@jupyter-widgets/base",
            "_view_module_version": "1.2.0",
            "_view_name": "StyleView",
            "bar_color": null,
            "description_width": "initial"
          },
          "model_module_version": "1.5.0"
        },
        "a52d0da391bf4aa291dd07498f7c1f9a": {
          "model_module": "@jupyter-widgets/base",
          "model_name": "LayoutModel",
          "state": {
            "_model_module": "@jupyter-widgets/base",
            "_model_module_version": "1.2.0",
            "_model_name": "LayoutModel",
            "_view_count": null,
            "_view_module": "@jupyter-widgets/base",
            "_view_module_version": "1.2.0",
            "_view_name": "LayoutView",
            "align_content": null,
            "align_items": null,
            "align_self": null,
            "border": null,
            "bottom": null,
            "display": null,
            "flex": null,
            "flex_flow": null,
            "grid_area": null,
            "grid_auto_columns": null,
            "grid_auto_flow": null,
            "grid_auto_rows": null,
            "grid_column": null,
            "grid_gap": null,
            "grid_row": null,
            "grid_template_areas": null,
            "grid_template_columns": null,
            "grid_template_rows": null,
            "height": null,
            "justify_content": null,
            "justify_items": null,
            "left": null,
            "margin": null,
            "max_height": null,
            "max_width": null,
            "min_height": null,
            "min_width": null,
            "object_fit": null,
            "object_position": null,
            "order": null,
            "overflow": null,
            "overflow_x": null,
            "overflow_y": null,
            "padding": null,
            "right": null,
            "top": null,
            "visibility": null,
            "width": null
          },
          "model_module_version": "1.2.0"
        },
        "ee2d61fb5b88460ea4faf1e1e74cfd9b": {
          "model_module": "@jupyter-widgets/controls",
          "model_name": "DescriptionStyleModel",
          "state": {
            "_model_module": "@jupyter-widgets/controls",
            "_model_module_version": "1.5.0",
            "_model_name": "DescriptionStyleModel",
            "_view_count": null,
            "_view_module": "@jupyter-widgets/base",
            "_view_module_version": "1.2.0",
            "_view_name": "StyleView",
            "description_width": ""
          },
          "model_module_version": "1.5.0"
        },
        "14a8de2bfb4b4e018131185908b9b311": {
          "model_module": "@jupyter-widgets/controls",
          "model_name": "HBoxModel",
          "state": {
            "_dom_classes": [],
            "_model_module": "@jupyter-widgets/controls",
            "_model_module_version": "1.5.0",
            "_model_name": "HBoxModel",
            "_view_count": null,
            "_view_module": "@jupyter-widgets/controls",
            "_view_module_version": "1.5.0",
            "_view_name": "HBoxView",
            "box_style": "",
            "children": [
              "IPY_MODEL_4b327d7fcb234203809e6fdb2742bbe1",
              "IPY_MODEL_3a5b42e6c90e453ca2153e1dc1049b43"
            ],
            "layout": "IPY_MODEL_73164914a12f4f27bea42dcc645930c6"
          },
          "model_module_version": "1.5.0"
        },
        "4b327d7fcb234203809e6fdb2742bbe1": {
          "model_module": "@jupyter-widgets/controls",
          "model_name": "FloatProgressModel",
          "state": {
            "_dom_classes": [],
            "_model_module": "@jupyter-widgets/controls",
            "_model_module_version": "1.5.0",
            "_model_name": "FloatProgressModel",
            "_view_count": null,
            "_view_module": "@jupyter-widgets/controls",
            "_view_module_version": "1.5.0",
            "_view_name": "ProgressView",
            "bar_style": "success",
            "description": "Downloading: 100%",
            "description_tooltip": null,
            "layout": "IPY_MODEL_fe5eba4967a14314ad7e977b1488a530",
            "max": 5069051,
            "min": 0,
            "orientation": "horizontal",
            "style": "IPY_MODEL_177ec1c6a7114086b21c972cf4608e53",
            "value": 5069051
          },
          "model_module_version": "1.5.0"
        },
        "3a5b42e6c90e453ca2153e1dc1049b43": {
          "model_module": "@jupyter-widgets/controls",
          "model_name": "HTMLModel",
          "state": {
            "_dom_classes": [],
            "_model_module": "@jupyter-widgets/controls",
            "_model_module_version": "1.5.0",
            "_model_name": "HTMLModel",
            "_view_count": null,
            "_view_module": "@jupyter-widgets/controls",
            "_view_module_version": "1.5.0",
            "_view_name": "HTMLView",
            "description": "",
            "description_tooltip": null,
            "layout": "IPY_MODEL_bf5620a30877478694aada5f5b7a0763",
            "placeholder": "​",
            "style": "IPY_MODEL_49f8f8e4fffd443a81e58b07d0b05343",
            "value": " 5.07M/5.07M [00:02&lt;00:00, 2.01MB/s]"
          },
          "model_module_version": "1.5.0"
        },
        "73164914a12f4f27bea42dcc645930c6": {
          "model_module": "@jupyter-widgets/base",
          "model_name": "LayoutModel",
          "state": {
            "_model_module": "@jupyter-widgets/base",
            "_model_module_version": "1.2.0",
            "_model_name": "LayoutModel",
            "_view_count": null,
            "_view_module": "@jupyter-widgets/base",
            "_view_module_version": "1.2.0",
            "_view_name": "LayoutView",
            "align_content": null,
            "align_items": null,
            "align_self": null,
            "border": null,
            "bottom": null,
            "display": null,
            "flex": null,
            "flex_flow": null,
            "grid_area": null,
            "grid_auto_columns": null,
            "grid_auto_flow": null,
            "grid_auto_rows": null,
            "grid_column": null,
            "grid_gap": null,
            "grid_row": null,
            "grid_template_areas": null,
            "grid_template_columns": null,
            "grid_template_rows": null,
            "height": null,
            "justify_content": null,
            "justify_items": null,
            "left": null,
            "margin": null,
            "max_height": null,
            "max_width": null,
            "min_height": null,
            "min_width": null,
            "object_fit": null,
            "object_position": null,
            "order": null,
            "overflow": null,
            "overflow_x": null,
            "overflow_y": null,
            "padding": null,
            "right": null,
            "top": null,
            "visibility": null,
            "width": null
          },
          "model_module_version": "1.2.0"
        },
        "fe5eba4967a14314ad7e977b1488a530": {
          "model_module": "@jupyter-widgets/base",
          "model_name": "LayoutModel",
          "state": {
            "_model_module": "@jupyter-widgets/base",
            "_model_module_version": "1.2.0",
            "_model_name": "LayoutModel",
            "_view_count": null,
            "_view_module": "@jupyter-widgets/base",
            "_view_module_version": "1.2.0",
            "_view_name": "LayoutView",
            "align_content": null,
            "align_items": null,
            "align_self": null,
            "border": null,
            "bottom": null,
            "display": null,
            "flex": null,
            "flex_flow": null,
            "grid_area": null,
            "grid_auto_columns": null,
            "grid_auto_flow": null,
            "grid_auto_rows": null,
            "grid_column": null,
            "grid_gap": null,
            "grid_row": null,
            "grid_template_areas": null,
            "grid_template_columns": null,
            "grid_template_rows": null,
            "height": null,
            "justify_content": null,
            "justify_items": null,
            "left": null,
            "margin": null,
            "max_height": null,
            "max_width": null,
            "min_height": null,
            "min_width": null,
            "object_fit": null,
            "object_position": null,
            "order": null,
            "overflow": null,
            "overflow_x": null,
            "overflow_y": null,
            "padding": null,
            "right": null,
            "top": null,
            "visibility": null,
            "width": null
          },
          "model_module_version": "1.2.0"
        },
        "177ec1c6a7114086b21c972cf4608e53": {
          "model_module": "@jupyter-widgets/controls",
          "model_name": "ProgressStyleModel",
          "state": {
            "_model_module": "@jupyter-widgets/controls",
            "_model_module_version": "1.5.0",
            "_model_name": "ProgressStyleModel",
            "_view_count": null,
            "_view_module": "@jupyter-widgets/base",
            "_view_module_version": "1.2.0",
            "_view_name": "StyleView",
            "bar_color": null,
            "description_width": "initial"
          },
          "model_module_version": "1.5.0"
        },
        "bf5620a30877478694aada5f5b7a0763": {
          "model_module": "@jupyter-widgets/base",
          "model_name": "LayoutModel",
          "state": {
            "_model_module": "@jupyter-widgets/base",
            "_model_module_version": "1.2.0",
            "_model_name": "LayoutModel",
            "_view_count": null,
            "_view_module": "@jupyter-widgets/base",
            "_view_module_version": "1.2.0",
            "_view_name": "LayoutView",
            "align_content": null,
            "align_items": null,
            "align_self": null,
            "border": null,
            "bottom": null,
            "display": null,
            "flex": null,
            "flex_flow": null,
            "grid_area": null,
            "grid_auto_columns": null,
            "grid_auto_flow": null,
            "grid_auto_rows": null,
            "grid_column": null,
            "grid_gap": null,
            "grid_row": null,
            "grid_template_areas": null,
            "grid_template_columns": null,
            "grid_template_rows": null,
            "height": null,
            "justify_content": null,
            "justify_items": null,
            "left": null,
            "margin": null,
            "max_height": null,
            "max_width": null,
            "min_height": null,
            "min_width": null,
            "object_fit": null,
            "object_position": null,
            "order": null,
            "overflow": null,
            "overflow_x": null,
            "overflow_y": null,
            "padding": null,
            "right": null,
            "top": null,
            "visibility": null,
            "width": null
          },
          "model_module_version": "1.2.0"
        },
        "49f8f8e4fffd443a81e58b07d0b05343": {
          "model_module": "@jupyter-widgets/controls",
          "model_name": "DescriptionStyleModel",
          "state": {
            "_model_module": "@jupyter-widgets/controls",
            "_model_module_version": "1.5.0",
            "_model_name": "DescriptionStyleModel",
            "_view_count": null,
            "_view_module": "@jupyter-widgets/base",
            "_view_module_version": "1.2.0",
            "_view_name": "StyleView",
            "description_width": ""
          },
          "model_module_version": "1.5.0"
        },
        "cd29a05283bf41e1b889a58aff47081d": {
          "model_module": "@jupyter-widgets/controls",
          "model_name": "HBoxModel",
          "state": {
            "_dom_classes": [],
            "_model_module": "@jupyter-widgets/controls",
            "_model_module_version": "1.5.0",
            "_model_name": "HBoxModel",
            "_view_count": null,
            "_view_module": "@jupyter-widgets/controls",
            "_view_module_version": "1.5.0",
            "_view_name": "HBoxView",
            "box_style": "",
            "children": [
              "IPY_MODEL_d752151eaa3c40d691ad40da7ead4805",
              "IPY_MODEL_005788e870a34310a31ebb850bad42a8"
            ],
            "layout": "IPY_MODEL_121022c46f01490d94616fb1145db31d"
          },
          "model_module_version": "1.5.0"
        },
        "d752151eaa3c40d691ad40da7ead4805": {
          "model_module": "@jupyter-widgets/controls",
          "model_name": "FloatProgressModel",
          "state": {
            "_dom_classes": [],
            "_model_module": "@jupyter-widgets/controls",
            "_model_module_version": "1.5.0",
            "_model_name": "FloatProgressModel",
            "_view_count": null,
            "_view_module": "@jupyter-widgets/controls",
            "_view_module_version": "1.5.0",
            "_view_name": "ProgressView",
            "bar_style": "success",
            "description": "Downloading: 100%",
            "description_tooltip": null,
            "layout": "IPY_MODEL_fa5ffbbf211f4942a8e07c7679a996d6",
            "max": 150,
            "min": 0,
            "orientation": "horizontal",
            "style": "IPY_MODEL_f020b5f8663f4f91a22c0a7d27e19e98",
            "value": 150
          },
          "model_module_version": "1.5.0"
        },
        "005788e870a34310a31ebb850bad42a8": {
          "model_module": "@jupyter-widgets/controls",
          "model_name": "HTMLModel",
          "state": {
            "_dom_classes": [],
            "_model_module": "@jupyter-widgets/controls",
            "_model_module_version": "1.5.0",
            "_model_name": "HTMLModel",
            "_view_count": null,
            "_view_module": "@jupyter-widgets/controls",
            "_view_module_version": "1.5.0",
            "_view_name": "HTMLView",
            "description": "",
            "description_tooltip": null,
            "layout": "IPY_MODEL_2cf809bcdeda49e9b5d505944da67b0b",
            "placeholder": "​",
            "style": "IPY_MODEL_e8c6108831c64d4981067b98464a2752",
            "value": " 150/150 [00:07&lt;00:00, 19.8B/s]"
          },
          "model_module_version": "1.5.0"
        },
        "121022c46f01490d94616fb1145db31d": {
          "model_module": "@jupyter-widgets/base",
          "model_name": "LayoutModel",
          "state": {
            "_model_module": "@jupyter-widgets/base",
            "_model_module_version": "1.2.0",
            "_model_name": "LayoutModel",
            "_view_count": null,
            "_view_module": "@jupyter-widgets/base",
            "_view_module_version": "1.2.0",
            "_view_name": "LayoutView",
            "align_content": null,
            "align_items": null,
            "align_self": null,
            "border": null,
            "bottom": null,
            "display": null,
            "flex": null,
            "flex_flow": null,
            "grid_area": null,
            "grid_auto_columns": null,
            "grid_auto_flow": null,
            "grid_auto_rows": null,
            "grid_column": null,
            "grid_gap": null,
            "grid_row": null,
            "grid_template_areas": null,
            "grid_template_columns": null,
            "grid_template_rows": null,
            "height": null,
            "justify_content": null,
            "justify_items": null,
            "left": null,
            "margin": null,
            "max_height": null,
            "max_width": null,
            "min_height": null,
            "min_width": null,
            "object_fit": null,
            "object_position": null,
            "order": null,
            "overflow": null,
            "overflow_x": null,
            "overflow_y": null,
            "padding": null,
            "right": null,
            "top": null,
            "visibility": null,
            "width": null
          },
          "model_module_version": "1.2.0"
        },
        "fa5ffbbf211f4942a8e07c7679a996d6": {
          "model_module": "@jupyter-widgets/base",
          "model_name": "LayoutModel",
          "state": {
            "_model_module": "@jupyter-widgets/base",
            "_model_module_version": "1.2.0",
            "_model_name": "LayoutModel",
            "_view_count": null,
            "_view_module": "@jupyter-widgets/base",
            "_view_module_version": "1.2.0",
            "_view_name": "LayoutView",
            "align_content": null,
            "align_items": null,
            "align_self": null,
            "border": null,
            "bottom": null,
            "display": null,
            "flex": null,
            "flex_flow": null,
            "grid_area": null,
            "grid_auto_columns": null,
            "grid_auto_flow": null,
            "grid_auto_rows": null,
            "grid_column": null,
            "grid_gap": null,
            "grid_row": null,
            "grid_template_areas": null,
            "grid_template_columns": null,
            "grid_template_rows": null,
            "height": null,
            "justify_content": null,
            "justify_items": null,
            "left": null,
            "margin": null,
            "max_height": null,
            "max_width": null,
            "min_height": null,
            "min_width": null,
            "object_fit": null,
            "object_position": null,
            "order": null,
            "overflow": null,
            "overflow_x": null,
            "overflow_y": null,
            "padding": null,
            "right": null,
            "top": null,
            "visibility": null,
            "width": null
          },
          "model_module_version": "1.2.0"
        },
        "f020b5f8663f4f91a22c0a7d27e19e98": {
          "model_module": "@jupyter-widgets/controls",
          "model_name": "ProgressStyleModel",
          "state": {
            "_model_module": "@jupyter-widgets/controls",
            "_model_module_version": "1.5.0",
            "_model_name": "ProgressStyleModel",
            "_view_count": null,
            "_view_module": "@jupyter-widgets/base",
            "_view_module_version": "1.2.0",
            "_view_name": "StyleView",
            "bar_color": null,
            "description_width": "initial"
          },
          "model_module_version": "1.5.0"
        },
        "2cf809bcdeda49e9b5d505944da67b0b": {
          "model_module": "@jupyter-widgets/base",
          "model_name": "LayoutModel",
          "state": {
            "_model_module": "@jupyter-widgets/base",
            "_model_module_version": "1.2.0",
            "_model_name": "LayoutModel",
            "_view_count": null,
            "_view_module": "@jupyter-widgets/base",
            "_view_module_version": "1.2.0",
            "_view_name": "LayoutView",
            "align_content": null,
            "align_items": null,
            "align_self": null,
            "border": null,
            "bottom": null,
            "display": null,
            "flex": null,
            "flex_flow": null,
            "grid_area": null,
            "grid_auto_columns": null,
            "grid_auto_flow": null,
            "grid_auto_rows": null,
            "grid_column": null,
            "grid_gap": null,
            "grid_row": null,
            "grid_template_areas": null,
            "grid_template_columns": null,
            "grid_template_rows": null,
            "height": null,
            "justify_content": null,
            "justify_items": null,
            "left": null,
            "margin": null,
            "max_height": null,
            "max_width": null,
            "min_height": null,
            "min_width": null,
            "object_fit": null,
            "object_position": null,
            "order": null,
            "overflow": null,
            "overflow_x": null,
            "overflow_y": null,
            "padding": null,
            "right": null,
            "top": null,
            "visibility": null,
            "width": null
          },
          "model_module_version": "1.2.0"
        },
        "e8c6108831c64d4981067b98464a2752": {
          "model_module": "@jupyter-widgets/controls",
          "model_name": "DescriptionStyleModel",
          "state": {
            "_model_module": "@jupyter-widgets/controls",
            "_model_module_version": "1.5.0",
            "_model_name": "DescriptionStyleModel",
            "_view_count": null,
            "_view_module": "@jupyter-widgets/base",
            "_view_module_version": "1.2.0",
            "_view_name": "StyleView",
            "description_width": ""
          },
          "model_module_version": "1.5.0"
        },
        "dc69774f7dcf49cb809de0af0f683a0d": {
          "model_module": "@jupyter-widgets/controls",
          "model_name": "HBoxModel",
          "state": {
            "_dom_classes": [],
            "_model_module": "@jupyter-widgets/controls",
            "_model_module_version": "1.5.0",
            "_model_name": "HBoxModel",
            "_view_count": null,
            "_view_module": "@jupyter-widgets/controls",
            "_view_module_version": "1.5.0",
            "_view_name": "HBoxView",
            "box_style": "",
            "children": [
              "IPY_MODEL_b6315c1490254323b2e811b99bbe3426",
              "IPY_MODEL_a78e1e874289491ab621afafc368c744"
            ],
            "layout": "IPY_MODEL_876f0b262807425abde9bc6d63cc0185"
          },
          "model_module_version": "1.5.0"
        },
        "b6315c1490254323b2e811b99bbe3426": {
          "model_module": "@jupyter-widgets/controls",
          "model_name": "FloatProgressModel",
          "state": {
            "_dom_classes": [],
            "_model_module": "@jupyter-widgets/controls",
            "_model_module_version": "1.5.0",
            "_model_name": "FloatProgressModel",
            "_view_count": null,
            "_view_module": "@jupyter-widgets/controls",
            "_view_module_version": "1.5.0",
            "_view_name": "ProgressView",
            "bar_style": "success",
            "description": "Downloading: 100%",
            "description_tooltip": null,
            "layout": "IPY_MODEL_8199d23c74db41dc96ccd66e2a52fefe",
            "max": 9096735,
            "min": 0,
            "orientation": "horizontal",
            "style": "IPY_MODEL_3e3aaae60e0e457bafae38195a3786dc",
            "value": 9096735
          },
          "model_module_version": "1.5.0"
        },
        "a78e1e874289491ab621afafc368c744": {
          "model_module": "@jupyter-widgets/controls",
          "model_name": "HTMLModel",
          "state": {
            "_dom_classes": [],
            "_model_module": "@jupyter-widgets/controls",
            "_model_module_version": "1.5.0",
            "_model_name": "HTMLModel",
            "_view_count": null,
            "_view_module": "@jupyter-widgets/controls",
            "_view_module_version": "1.5.0",
            "_view_name": "HTMLView",
            "description": "",
            "description_tooltip": null,
            "layout": "IPY_MODEL_48317672ac444a729944e002742443c9",
            "placeholder": "​",
            "style": "IPY_MODEL_72c72f366ebe4e01b1dc5adcc96f78d8",
            "value": " 9.10M/9.10M [00:06&lt;00:00, 1.51MB/s]"
          },
          "model_module_version": "1.5.0"
        },
        "876f0b262807425abde9bc6d63cc0185": {
          "model_module": "@jupyter-widgets/base",
          "model_name": "LayoutModel",
          "state": {
            "_model_module": "@jupyter-widgets/base",
            "_model_module_version": "1.2.0",
            "_model_name": "LayoutModel",
            "_view_count": null,
            "_view_module": "@jupyter-widgets/base",
            "_view_module_version": "1.2.0",
            "_view_name": "LayoutView",
            "align_content": null,
            "align_items": null,
            "align_self": null,
            "border": null,
            "bottom": null,
            "display": null,
            "flex": null,
            "flex_flow": null,
            "grid_area": null,
            "grid_auto_columns": null,
            "grid_auto_flow": null,
            "grid_auto_rows": null,
            "grid_column": null,
            "grid_gap": null,
            "grid_row": null,
            "grid_template_areas": null,
            "grid_template_columns": null,
            "grid_template_rows": null,
            "height": null,
            "justify_content": null,
            "justify_items": null,
            "left": null,
            "margin": null,
            "max_height": null,
            "max_width": null,
            "min_height": null,
            "min_width": null,
            "object_fit": null,
            "object_position": null,
            "order": null,
            "overflow": null,
            "overflow_x": null,
            "overflow_y": null,
            "padding": null,
            "right": null,
            "top": null,
            "visibility": null,
            "width": null
          },
          "model_module_version": "1.2.0"
        },
        "8199d23c74db41dc96ccd66e2a52fefe": {
          "model_module": "@jupyter-widgets/base",
          "model_name": "LayoutModel",
          "state": {
            "_model_module": "@jupyter-widgets/base",
            "_model_module_version": "1.2.0",
            "_model_name": "LayoutModel",
            "_view_count": null,
            "_view_module": "@jupyter-widgets/base",
            "_view_module_version": "1.2.0",
            "_view_name": "LayoutView",
            "align_content": null,
            "align_items": null,
            "align_self": null,
            "border": null,
            "bottom": null,
            "display": null,
            "flex": null,
            "flex_flow": null,
            "grid_area": null,
            "grid_auto_columns": null,
            "grid_auto_flow": null,
            "grid_auto_rows": null,
            "grid_column": null,
            "grid_gap": null,
            "grid_row": null,
            "grid_template_areas": null,
            "grid_template_columns": null,
            "grid_template_rows": null,
            "height": null,
            "justify_content": null,
            "justify_items": null,
            "left": null,
            "margin": null,
            "max_height": null,
            "max_width": null,
            "min_height": null,
            "min_width": null,
            "object_fit": null,
            "object_position": null,
            "order": null,
            "overflow": null,
            "overflow_x": null,
            "overflow_y": null,
            "padding": null,
            "right": null,
            "top": null,
            "visibility": null,
            "width": null
          },
          "model_module_version": "1.2.0"
        },
        "3e3aaae60e0e457bafae38195a3786dc": {
          "model_module": "@jupyter-widgets/controls",
          "model_name": "ProgressStyleModel",
          "state": {
            "_model_module": "@jupyter-widgets/controls",
            "_model_module_version": "1.5.0",
            "_model_name": "ProgressStyleModel",
            "_view_count": null,
            "_view_module": "@jupyter-widgets/base",
            "_view_module_version": "1.2.0",
            "_view_name": "StyleView",
            "bar_color": null,
            "description_width": "initial"
          },
          "model_module_version": "1.5.0"
        },
        "48317672ac444a729944e002742443c9": {
          "model_module": "@jupyter-widgets/base",
          "model_name": "LayoutModel",
          "state": {
            "_model_module": "@jupyter-widgets/base",
            "_model_module_version": "1.2.0",
            "_model_name": "LayoutModel",
            "_view_count": null,
            "_view_module": "@jupyter-widgets/base",
            "_view_module_version": "1.2.0",
            "_view_name": "LayoutView",
            "align_content": null,
            "align_items": null,
            "align_self": null,
            "border": null,
            "bottom": null,
            "display": null,
            "flex": null,
            "flex_flow": null,
            "grid_area": null,
            "grid_auto_columns": null,
            "grid_auto_flow": null,
            "grid_auto_rows": null,
            "grid_column": null,
            "grid_gap": null,
            "grid_row": null,
            "grid_template_areas": null,
            "grid_template_columns": null,
            "grid_template_rows": null,
            "height": null,
            "justify_content": null,
            "justify_items": null,
            "left": null,
            "margin": null,
            "max_height": null,
            "max_width": null,
            "min_height": null,
            "min_width": null,
            "object_fit": null,
            "object_position": null,
            "order": null,
            "overflow": null,
            "overflow_x": null,
            "overflow_y": null,
            "padding": null,
            "right": null,
            "top": null,
            "visibility": null,
            "width": null
          },
          "model_module_version": "1.2.0"
        },
        "72c72f366ebe4e01b1dc5adcc96f78d8": {
          "model_module": "@jupyter-widgets/controls",
          "model_name": "DescriptionStyleModel",
          "state": {
            "_model_module": "@jupyter-widgets/controls",
            "_model_module_version": "1.5.0",
            "_model_name": "DescriptionStyleModel",
            "_view_count": null,
            "_view_module": "@jupyter-widgets/base",
            "_view_module_version": "1.2.0",
            "_view_name": "StyleView",
            "description_width": ""
          },
          "model_module_version": "1.5.0"
        },
        "7fe07f1c903a405aac76a7c9c15a4c0c": {
          "model_module": "@jupyter-widgets/controls",
          "model_name": "HBoxModel",
          "state": {
            "_dom_classes": [],
            "_model_module": "@jupyter-widgets/controls",
            "_model_module_version": "1.5.0",
            "_model_name": "HBoxModel",
            "_view_count": null,
            "_view_module": "@jupyter-widgets/controls",
            "_view_module_version": "1.5.0",
            "_view_name": "HBoxView",
            "box_style": "",
            "children": [
              "IPY_MODEL_eb698ddcf1024e79b2059c6ba9c7e40b",
              "IPY_MODEL_ff7631d5dd3e4344a904e133a4e3ef4e"
            ],
            "layout": "IPY_MODEL_f1c2386037d54c31bcddd2c3710b34c4"
          },
          "model_module_version": "1.5.0"
        },
        "eb698ddcf1024e79b2059c6ba9c7e40b": {
          "model_module": "@jupyter-widgets/controls",
          "model_name": "FloatProgressModel",
          "state": {
            "_dom_classes": [],
            "_model_module": "@jupyter-widgets/controls",
            "_model_module_version": "1.5.0",
            "_model_name": "FloatProgressModel",
            "_view_count": null,
            "_view_module": "@jupyter-widgets/controls",
            "_view_module_version": "1.5.0",
            "_view_name": "ProgressView",
            "bar_style": "success",
            "description": "Downloading: 100%",
            "description_tooltip": null,
            "layout": "IPY_MODEL_e98f1b32521d423da5acfc773128c510",
            "max": 550,
            "min": 0,
            "orientation": "horizontal",
            "style": "IPY_MODEL_857fe3389ae74730b1dc302f65e07270",
            "value": 550
          },
          "model_module_version": "1.5.0"
        },
        "ff7631d5dd3e4344a904e133a4e3ef4e": {
          "model_module": "@jupyter-widgets/controls",
          "model_name": "HTMLModel",
          "state": {
            "_dom_classes": [],
            "_model_module": "@jupyter-widgets/controls",
            "_model_module_version": "1.5.0",
            "_model_name": "HTMLModel",
            "_view_count": null,
            "_view_module": "@jupyter-widgets/controls",
            "_view_module_version": "1.5.0",
            "_view_name": "HTMLView",
            "description": "",
            "description_tooltip": null,
            "layout": "IPY_MODEL_2e0c32cb351140148b3e9196656c88a1",
            "placeholder": "​",
            "style": "IPY_MODEL_aa8d3f9c4a4847f3b9eff0a18db988fb",
            "value": " 550/550 [00:03&lt;00:00, 169B/s]"
          },
          "model_module_version": "1.5.0"
        },
        "f1c2386037d54c31bcddd2c3710b34c4": {
          "model_module": "@jupyter-widgets/base",
          "model_name": "LayoutModel",
          "state": {
            "_model_module": "@jupyter-widgets/base",
            "_model_module_version": "1.2.0",
            "_model_name": "LayoutModel",
            "_view_count": null,
            "_view_module": "@jupyter-widgets/base",
            "_view_module_version": "1.2.0",
            "_view_name": "LayoutView",
            "align_content": null,
            "align_items": null,
            "align_self": null,
            "border": null,
            "bottom": null,
            "display": null,
            "flex": null,
            "flex_flow": null,
            "grid_area": null,
            "grid_auto_columns": null,
            "grid_auto_flow": null,
            "grid_auto_rows": null,
            "grid_column": null,
            "grid_gap": null,
            "grid_row": null,
            "grid_template_areas": null,
            "grid_template_columns": null,
            "grid_template_rows": null,
            "height": null,
            "justify_content": null,
            "justify_items": null,
            "left": null,
            "margin": null,
            "max_height": null,
            "max_width": null,
            "min_height": null,
            "min_width": null,
            "object_fit": null,
            "object_position": null,
            "order": null,
            "overflow": null,
            "overflow_x": null,
            "overflow_y": null,
            "padding": null,
            "right": null,
            "top": null,
            "visibility": null,
            "width": null
          },
          "model_module_version": "1.2.0"
        },
        "e98f1b32521d423da5acfc773128c510": {
          "model_module": "@jupyter-widgets/base",
          "model_name": "LayoutModel",
          "state": {
            "_model_module": "@jupyter-widgets/base",
            "_model_module_version": "1.2.0",
            "_model_name": "LayoutModel",
            "_view_count": null,
            "_view_module": "@jupyter-widgets/base",
            "_view_module_version": "1.2.0",
            "_view_name": "LayoutView",
            "align_content": null,
            "align_items": null,
            "align_self": null,
            "border": null,
            "bottom": null,
            "display": null,
            "flex": null,
            "flex_flow": null,
            "grid_area": null,
            "grid_auto_columns": null,
            "grid_auto_flow": null,
            "grid_auto_rows": null,
            "grid_column": null,
            "grid_gap": null,
            "grid_row": null,
            "grid_template_areas": null,
            "grid_template_columns": null,
            "grid_template_rows": null,
            "height": null,
            "justify_content": null,
            "justify_items": null,
            "left": null,
            "margin": null,
            "max_height": null,
            "max_width": null,
            "min_height": null,
            "min_width": null,
            "object_fit": null,
            "object_position": null,
            "order": null,
            "overflow": null,
            "overflow_x": null,
            "overflow_y": null,
            "padding": null,
            "right": null,
            "top": null,
            "visibility": null,
            "width": null
          },
          "model_module_version": "1.2.0"
        },
        "857fe3389ae74730b1dc302f65e07270": {
          "model_module": "@jupyter-widgets/controls",
          "model_name": "ProgressStyleModel",
          "state": {
            "_model_module": "@jupyter-widgets/controls",
            "_model_module_version": "1.5.0",
            "_model_name": "ProgressStyleModel",
            "_view_count": null,
            "_view_module": "@jupyter-widgets/base",
            "_view_module_version": "1.2.0",
            "_view_name": "StyleView",
            "bar_color": null,
            "description_width": "initial"
          },
          "model_module_version": "1.5.0"
        },
        "2e0c32cb351140148b3e9196656c88a1": {
          "model_module": "@jupyter-widgets/base",
          "model_name": "LayoutModel",
          "state": {
            "_model_module": "@jupyter-widgets/base",
            "_model_module_version": "1.2.0",
            "_model_name": "LayoutModel",
            "_view_count": null,
            "_view_module": "@jupyter-widgets/base",
            "_view_module_version": "1.2.0",
            "_view_name": "LayoutView",
            "align_content": null,
            "align_items": null,
            "align_self": null,
            "border": null,
            "bottom": null,
            "display": null,
            "flex": null,
            "flex_flow": null,
            "grid_area": null,
            "grid_auto_columns": null,
            "grid_auto_flow": null,
            "grid_auto_rows": null,
            "grid_column": null,
            "grid_gap": null,
            "grid_row": null,
            "grid_template_areas": null,
            "grid_template_columns": null,
            "grid_template_rows": null,
            "height": null,
            "justify_content": null,
            "justify_items": null,
            "left": null,
            "margin": null,
            "max_height": null,
            "max_width": null,
            "min_height": null,
            "min_width": null,
            "object_fit": null,
            "object_position": null,
            "order": null,
            "overflow": null,
            "overflow_x": null,
            "overflow_y": null,
            "padding": null,
            "right": null,
            "top": null,
            "visibility": null,
            "width": null
          },
          "model_module_version": "1.2.0"
        },
        "aa8d3f9c4a4847f3b9eff0a18db988fb": {
          "model_module": "@jupyter-widgets/controls",
          "model_name": "DescriptionStyleModel",
          "state": {
            "_model_module": "@jupyter-widgets/controls",
            "_model_module_version": "1.5.0",
            "_model_name": "DescriptionStyleModel",
            "_view_count": null,
            "_view_module": "@jupyter-widgets/base",
            "_view_module_version": "1.2.0",
            "_view_name": "StyleView",
            "description_width": ""
          },
          "model_module_version": "1.5.0"
        },
        "3be464de54314a279341f7dafaa5c117": {
          "model_module": "@jupyter-widgets/controls",
          "model_name": "HBoxModel",
          "state": {
            "_dom_classes": [],
            "_model_module": "@jupyter-widgets/controls",
            "_model_module_version": "1.5.0",
            "_model_name": "HBoxModel",
            "_view_count": null,
            "_view_module": "@jupyter-widgets/controls",
            "_view_module_version": "1.5.0",
            "_view_name": "HBoxView",
            "box_style": "",
            "children": [
              "IPY_MODEL_8520466ecee5459286c38e55b87c4286",
              "IPY_MODEL_0e8a4b4ab1fb488a961614ab4cea26d2"
            ],
            "layout": "IPY_MODEL_bcdc315146984a2986416971684d4075"
          },
          "model_module_version": "1.5.0"
        },
        "8520466ecee5459286c38e55b87c4286": {
          "model_module": "@jupyter-widgets/controls",
          "model_name": "FloatProgressModel",
          "state": {
            "_dom_classes": [],
            "_model_module": "@jupyter-widgets/controls",
            "_model_module_version": "1.5.0",
            "_model_name": "FloatProgressModel",
            "_view_count": null,
            "_view_module": "@jupyter-widgets/controls",
            "_view_module_version": "1.5.0",
            "_view_name": "ProgressView",
            "bar_style": "success",
            "description": "Downloading: 100%",
            "description_tooltip": null,
            "layout": "IPY_MODEL_8560b6c6adc54f4999c299ca9bee6526",
            "max": 190,
            "min": 0,
            "orientation": "horizontal",
            "style": "IPY_MODEL_f5ea65af9bc546dfaae6aa769368dd1b",
            "value": 190
          },
          "model_module_version": "1.5.0"
        },
        "0e8a4b4ab1fb488a961614ab4cea26d2": {
          "model_module": "@jupyter-widgets/controls",
          "model_name": "HTMLModel",
          "state": {
            "_dom_classes": [],
            "_model_module": "@jupyter-widgets/controls",
            "_model_module_version": "1.5.0",
            "_model_name": "HTMLModel",
            "_view_count": null,
            "_view_module": "@jupyter-widgets/controls",
            "_view_module_version": "1.5.0",
            "_view_name": "HTMLView",
            "description": "",
            "description_tooltip": null,
            "layout": "IPY_MODEL_2deda8f44dee48f59c65d25feb181f12",
            "placeholder": "​",
            "style": "IPY_MODEL_af1f66b57d764b00a63b4b5cc7a3ba34",
            "value": " 190/190 [00:01&lt;00:00, 106B/s]"
          },
          "model_module_version": "1.5.0"
        },
        "bcdc315146984a2986416971684d4075": {
          "model_module": "@jupyter-widgets/base",
          "model_name": "LayoutModel",
          "state": {
            "_model_module": "@jupyter-widgets/base",
            "_model_module_version": "1.2.0",
            "_model_name": "LayoutModel",
            "_view_count": null,
            "_view_module": "@jupyter-widgets/base",
            "_view_module_version": "1.2.0",
            "_view_name": "LayoutView",
            "align_content": null,
            "align_items": null,
            "align_self": null,
            "border": null,
            "bottom": null,
            "display": null,
            "flex": null,
            "flex_flow": null,
            "grid_area": null,
            "grid_auto_columns": null,
            "grid_auto_flow": null,
            "grid_auto_rows": null,
            "grid_column": null,
            "grid_gap": null,
            "grid_row": null,
            "grid_template_areas": null,
            "grid_template_columns": null,
            "grid_template_rows": null,
            "height": null,
            "justify_content": null,
            "justify_items": null,
            "left": null,
            "margin": null,
            "max_height": null,
            "max_width": null,
            "min_height": null,
            "min_width": null,
            "object_fit": null,
            "object_position": null,
            "order": null,
            "overflow": null,
            "overflow_x": null,
            "overflow_y": null,
            "padding": null,
            "right": null,
            "top": null,
            "visibility": null,
            "width": null
          },
          "model_module_version": "1.2.0"
        },
        "8560b6c6adc54f4999c299ca9bee6526": {
          "model_module": "@jupyter-widgets/base",
          "model_name": "LayoutModel",
          "state": {
            "_model_module": "@jupyter-widgets/base",
            "_model_module_version": "1.2.0",
            "_model_name": "LayoutModel",
            "_view_count": null,
            "_view_module": "@jupyter-widgets/base",
            "_view_module_version": "1.2.0",
            "_view_name": "LayoutView",
            "align_content": null,
            "align_items": null,
            "align_self": null,
            "border": null,
            "bottom": null,
            "display": null,
            "flex": null,
            "flex_flow": null,
            "grid_area": null,
            "grid_auto_columns": null,
            "grid_auto_flow": null,
            "grid_auto_rows": null,
            "grid_column": null,
            "grid_gap": null,
            "grid_row": null,
            "grid_template_areas": null,
            "grid_template_columns": null,
            "grid_template_rows": null,
            "height": null,
            "justify_content": null,
            "justify_items": null,
            "left": null,
            "margin": null,
            "max_height": null,
            "max_width": null,
            "min_height": null,
            "min_width": null,
            "object_fit": null,
            "object_position": null,
            "order": null,
            "overflow": null,
            "overflow_x": null,
            "overflow_y": null,
            "padding": null,
            "right": null,
            "top": null,
            "visibility": null,
            "width": null
          },
          "model_module_version": "1.2.0"
        },
        "f5ea65af9bc546dfaae6aa769368dd1b": {
          "model_module": "@jupyter-widgets/controls",
          "model_name": "ProgressStyleModel",
          "state": {
            "_model_module": "@jupyter-widgets/controls",
            "_model_module_version": "1.5.0",
            "_model_name": "ProgressStyleModel",
            "_view_count": null,
            "_view_module": "@jupyter-widgets/base",
            "_view_module_version": "1.2.0",
            "_view_name": "StyleView",
            "bar_color": null,
            "description_width": "initial"
          },
          "model_module_version": "1.5.0"
        },
        "2deda8f44dee48f59c65d25feb181f12": {
          "model_module": "@jupyter-widgets/base",
          "model_name": "LayoutModel",
          "state": {
            "_model_module": "@jupyter-widgets/base",
            "_model_module_version": "1.2.0",
            "_model_name": "LayoutModel",
            "_view_count": null,
            "_view_module": "@jupyter-widgets/base",
            "_view_module_version": "1.2.0",
            "_view_name": "LayoutView",
            "align_content": null,
            "align_items": null,
            "align_self": null,
            "border": null,
            "bottom": null,
            "display": null,
            "flex": null,
            "flex_flow": null,
            "grid_area": null,
            "grid_auto_columns": null,
            "grid_auto_flow": null,
            "grid_auto_rows": null,
            "grid_column": null,
            "grid_gap": null,
            "grid_row": null,
            "grid_template_areas": null,
            "grid_template_columns": null,
            "grid_template_rows": null,
            "height": null,
            "justify_content": null,
            "justify_items": null,
            "left": null,
            "margin": null,
            "max_height": null,
            "max_width": null,
            "min_height": null,
            "min_width": null,
            "object_fit": null,
            "object_position": null,
            "order": null,
            "overflow": null,
            "overflow_x": null,
            "overflow_y": null,
            "padding": null,
            "right": null,
            "top": null,
            "visibility": null,
            "width": null
          },
          "model_module_version": "1.2.0"
        },
        "af1f66b57d764b00a63b4b5cc7a3ba34": {
          "model_module": "@jupyter-widgets/controls",
          "model_name": "DescriptionStyleModel",
          "state": {
            "_model_module": "@jupyter-widgets/controls",
            "_model_module_version": "1.5.0",
            "_model_name": "DescriptionStyleModel",
            "_view_count": null,
            "_view_module": "@jupyter-widgets/base",
            "_view_module_version": "1.2.0",
            "_view_name": "StyleView",
            "description_width": ""
          },
          "model_module_version": "1.5.0"
        },
        "b41a3b3552074c2e885203adf9484715": {
          "model_module": "@jupyter-widgets/controls",
          "model_name": "HBoxModel",
          "state": {
            "_dom_classes": [],
            "_model_module": "@jupyter-widgets/controls",
            "_model_module_version": "1.5.0",
            "_model_name": "HBoxModel",
            "_view_count": null,
            "_view_module": "@jupyter-widgets/controls",
            "_view_module_version": "1.5.0",
            "_view_name": "HBoxView",
            "box_style": "",
            "children": [
              "IPY_MODEL_142766f083224d308ce02e9574f7cab7",
              "IPY_MODEL_d2cea178920d4ca1bbfb69f319a025f5"
            ],
            "layout": "IPY_MODEL_7a4cf07fd1a04e03b405e114cdb15546"
          },
          "model_module_version": "1.5.0"
        },
        "142766f083224d308ce02e9574f7cab7": {
          "model_module": "@jupyter-widgets/controls",
          "model_name": "FloatProgressModel",
          "state": {
            "_dom_classes": [],
            "_model_module": "@jupyter-widgets/controls",
            "_model_module_version": "1.5.0",
            "_model_name": "FloatProgressModel",
            "_view_count": null,
            "_view_module": "@jupyter-widgets/controls",
            "_view_module_version": "1.5.0",
            "_view_name": "ProgressView",
            "bar_style": "success",
            "description": "Batches: 100%",
            "description_tooltip": null,
            "layout": "IPY_MODEL_2aced29289fa44c19f20c77b37321c03",
            "max": 72,
            "min": 0,
            "orientation": "horizontal",
            "style": "IPY_MODEL_5d6466b678a549378be70428a5d2a7ec",
            "value": 72
          },
          "model_module_version": "1.5.0"
        },
        "d2cea178920d4ca1bbfb69f319a025f5": {
          "model_module": "@jupyter-widgets/controls",
          "model_name": "HTMLModel",
          "state": {
            "_dom_classes": [],
            "_model_module": "@jupyter-widgets/controls",
            "_model_module_version": "1.5.0",
            "_model_name": "HTMLModel",
            "_view_count": null,
            "_view_module": "@jupyter-widgets/controls",
            "_view_module_version": "1.5.0",
            "_view_name": "HTMLView",
            "description": "",
            "description_tooltip": null,
            "layout": "IPY_MODEL_e0084389348a40f3892356644af7fda7",
            "placeholder": "​",
            "style": "IPY_MODEL_3f685d4c7de342628e50fd3a3d23ab31",
            "value": " 72/72 [08:16&lt;00:00,  6.90s/it]"
          },
          "model_module_version": "1.5.0"
        },
        "7a4cf07fd1a04e03b405e114cdb15546": {
          "model_module": "@jupyter-widgets/base",
          "model_name": "LayoutModel",
          "state": {
            "_model_module": "@jupyter-widgets/base",
            "_model_module_version": "1.2.0",
            "_model_name": "LayoutModel",
            "_view_count": null,
            "_view_module": "@jupyter-widgets/base",
            "_view_module_version": "1.2.0",
            "_view_name": "LayoutView",
            "align_content": null,
            "align_items": null,
            "align_self": null,
            "border": null,
            "bottom": null,
            "display": null,
            "flex": null,
            "flex_flow": null,
            "grid_area": null,
            "grid_auto_columns": null,
            "grid_auto_flow": null,
            "grid_auto_rows": null,
            "grid_column": null,
            "grid_gap": null,
            "grid_row": null,
            "grid_template_areas": null,
            "grid_template_columns": null,
            "grid_template_rows": null,
            "height": null,
            "justify_content": null,
            "justify_items": null,
            "left": null,
            "margin": null,
            "max_height": null,
            "max_width": null,
            "min_height": null,
            "min_width": null,
            "object_fit": null,
            "object_position": null,
            "order": null,
            "overflow": null,
            "overflow_x": null,
            "overflow_y": null,
            "padding": null,
            "right": null,
            "top": null,
            "visibility": null,
            "width": null
          },
          "model_module_version": "1.2.0"
        },
        "2aced29289fa44c19f20c77b37321c03": {
          "model_module": "@jupyter-widgets/base",
          "model_name": "LayoutModel",
          "state": {
            "_model_module": "@jupyter-widgets/base",
            "_model_module_version": "1.2.0",
            "_model_name": "LayoutModel",
            "_view_count": null,
            "_view_module": "@jupyter-widgets/base",
            "_view_module_version": "1.2.0",
            "_view_name": "LayoutView",
            "align_content": null,
            "align_items": null,
            "align_self": null,
            "border": null,
            "bottom": null,
            "display": null,
            "flex": null,
            "flex_flow": null,
            "grid_area": null,
            "grid_auto_columns": null,
            "grid_auto_flow": null,
            "grid_auto_rows": null,
            "grid_column": null,
            "grid_gap": null,
            "grid_row": null,
            "grid_template_areas": null,
            "grid_template_columns": null,
            "grid_template_rows": null,
            "height": null,
            "justify_content": null,
            "justify_items": null,
            "left": null,
            "margin": null,
            "max_height": null,
            "max_width": null,
            "min_height": null,
            "min_width": null,
            "object_fit": null,
            "object_position": null,
            "order": null,
            "overflow": null,
            "overflow_x": null,
            "overflow_y": null,
            "padding": null,
            "right": null,
            "top": null,
            "visibility": null,
            "width": null
          },
          "model_module_version": "1.2.0"
        },
        "5d6466b678a549378be70428a5d2a7ec": {
          "model_module": "@jupyter-widgets/controls",
          "model_name": "ProgressStyleModel",
          "state": {
            "_model_module": "@jupyter-widgets/controls",
            "_model_module_version": "1.5.0",
            "_model_name": "ProgressStyleModel",
            "_view_count": null,
            "_view_module": "@jupyter-widgets/base",
            "_view_module_version": "1.2.0",
            "_view_name": "StyleView",
            "bar_color": null,
            "description_width": "initial"
          },
          "model_module_version": "1.5.0"
        },
        "e0084389348a40f3892356644af7fda7": {
          "model_module": "@jupyter-widgets/base",
          "model_name": "LayoutModel",
          "state": {
            "_model_module": "@jupyter-widgets/base",
            "_model_module_version": "1.2.0",
            "_model_name": "LayoutModel",
            "_view_count": null,
            "_view_module": "@jupyter-widgets/base",
            "_view_module_version": "1.2.0",
            "_view_name": "LayoutView",
            "align_content": null,
            "align_items": null,
            "align_self": null,
            "border": null,
            "bottom": null,
            "display": null,
            "flex": null,
            "flex_flow": null,
            "grid_area": null,
            "grid_auto_columns": null,
            "grid_auto_flow": null,
            "grid_auto_rows": null,
            "grid_column": null,
            "grid_gap": null,
            "grid_row": null,
            "grid_template_areas": null,
            "grid_template_columns": null,
            "grid_template_rows": null,
            "height": null,
            "justify_content": null,
            "justify_items": null,
            "left": null,
            "margin": null,
            "max_height": null,
            "max_width": null,
            "min_height": null,
            "min_width": null,
            "object_fit": null,
            "object_position": null,
            "order": null,
            "overflow": null,
            "overflow_x": null,
            "overflow_y": null,
            "padding": null,
            "right": null,
            "top": null,
            "visibility": null,
            "width": null
          },
          "model_module_version": "1.2.0"
        },
        "3f685d4c7de342628e50fd3a3d23ab31": {
          "model_module": "@jupyter-widgets/controls",
          "model_name": "DescriptionStyleModel",
          "state": {
            "_model_module": "@jupyter-widgets/controls",
            "_model_module_version": "1.5.0",
            "_model_name": "DescriptionStyleModel",
            "_view_count": null,
            "_view_module": "@jupyter-widgets/base",
            "_view_module_version": "1.2.0",
            "_view_name": "StyleView",
            "description_width": ""
          },
          "model_module_version": "1.5.0"
        },
        "ce1827b0ee9141669c29e9ce7bd063d9": {
          "model_module": "@jupyter-widgets/controls",
          "model_name": "HBoxModel",
          "state": {
            "_dom_classes": [],
            "_model_module": "@jupyter-widgets/controls",
            "_model_module_version": "1.5.0",
            "_model_name": "HBoxModel",
            "_view_count": null,
            "_view_module": "@jupyter-widgets/controls",
            "_view_module_version": "1.5.0",
            "_view_name": "HBoxView",
            "box_style": "",
            "children": [
              "IPY_MODEL_4f6dfdb97b3043d38676c79f3df2637c",
              "IPY_MODEL_855063bf87dd4856a9d3659a84d56c20"
            ],
            "layout": "IPY_MODEL_dd951d8b73ef42f6b7a64023db9724be"
          },
          "model_module_version": "1.5.0"
        },
        "4f6dfdb97b3043d38676c79f3df2637c": {
          "model_module": "@jupyter-widgets/controls",
          "model_name": "FloatProgressModel",
          "state": {
            "_dom_classes": [],
            "_model_module": "@jupyter-widgets/controls",
            "_model_module_version": "1.5.0",
            "_model_name": "FloatProgressModel",
            "_view_count": null,
            "_view_module": "@jupyter-widgets/controls",
            "_view_module_version": "1.5.0",
            "_view_name": "ProgressView",
            "bar_style": "success",
            "description": "Downloading: 100%",
            "description_tooltip": null,
            "layout": "IPY_MODEL_0727b180b2304f9db451961255523259",
            "max": 574,
            "min": 0,
            "orientation": "horizontal",
            "style": "IPY_MODEL_e22c30be16f5426685d6181bcde31137",
            "value": 574
          },
          "model_module_version": "1.5.0"
        },
        "855063bf87dd4856a9d3659a84d56c20": {
          "model_module": "@jupyter-widgets/controls",
          "model_name": "HTMLModel",
          "state": {
            "_dom_classes": [],
            "_model_module": "@jupyter-widgets/controls",
            "_model_module_version": "1.5.0",
            "_model_name": "HTMLModel",
            "_view_count": null,
            "_view_module": "@jupyter-widgets/controls",
            "_view_module_version": "1.5.0",
            "_view_name": "HTMLView",
            "description": "",
            "description_tooltip": null,
            "layout": "IPY_MODEL_1c16e8444fa44c2caf9f17bc73977ef0",
            "placeholder": "​",
            "style": "IPY_MODEL_ae79fd129b3d4832b11b2c172b4edac2",
            "value": " 574/574 [00:04&lt;00:00, 128B/s]"
          },
          "model_module_version": "1.5.0"
        },
        "dd951d8b73ef42f6b7a64023db9724be": {
          "model_module": "@jupyter-widgets/base",
          "model_name": "LayoutModel",
          "state": {
            "_model_module": "@jupyter-widgets/base",
            "_model_module_version": "1.2.0",
            "_model_name": "LayoutModel",
            "_view_count": null,
            "_view_module": "@jupyter-widgets/base",
            "_view_module_version": "1.2.0",
            "_view_name": "LayoutView",
            "align_content": null,
            "align_items": null,
            "align_self": null,
            "border": null,
            "bottom": null,
            "display": null,
            "flex": null,
            "flex_flow": null,
            "grid_area": null,
            "grid_auto_columns": null,
            "grid_auto_flow": null,
            "grid_auto_rows": null,
            "grid_column": null,
            "grid_gap": null,
            "grid_row": null,
            "grid_template_areas": null,
            "grid_template_columns": null,
            "grid_template_rows": null,
            "height": null,
            "justify_content": null,
            "justify_items": null,
            "left": null,
            "margin": null,
            "max_height": null,
            "max_width": null,
            "min_height": null,
            "min_width": null,
            "object_fit": null,
            "object_position": null,
            "order": null,
            "overflow": null,
            "overflow_x": null,
            "overflow_y": null,
            "padding": null,
            "right": null,
            "top": null,
            "visibility": null,
            "width": null
          },
          "model_module_version": "1.2.0"
        },
        "0727b180b2304f9db451961255523259": {
          "model_module": "@jupyter-widgets/base",
          "model_name": "LayoutModel",
          "state": {
            "_model_module": "@jupyter-widgets/base",
            "_model_module_version": "1.2.0",
            "_model_name": "LayoutModel",
            "_view_count": null,
            "_view_module": "@jupyter-widgets/base",
            "_view_module_version": "1.2.0",
            "_view_name": "LayoutView",
            "align_content": null,
            "align_items": null,
            "align_self": null,
            "border": null,
            "bottom": null,
            "display": null,
            "flex": null,
            "flex_flow": null,
            "grid_area": null,
            "grid_auto_columns": null,
            "grid_auto_flow": null,
            "grid_auto_rows": null,
            "grid_column": null,
            "grid_gap": null,
            "grid_row": null,
            "grid_template_areas": null,
            "grid_template_columns": null,
            "grid_template_rows": null,
            "height": null,
            "justify_content": null,
            "justify_items": null,
            "left": null,
            "margin": null,
            "max_height": null,
            "max_width": null,
            "min_height": null,
            "min_width": null,
            "object_fit": null,
            "object_position": null,
            "order": null,
            "overflow": null,
            "overflow_x": null,
            "overflow_y": null,
            "padding": null,
            "right": null,
            "top": null,
            "visibility": null,
            "width": null
          },
          "model_module_version": "1.2.0"
        },
        "e22c30be16f5426685d6181bcde31137": {
          "model_module": "@jupyter-widgets/controls",
          "model_name": "ProgressStyleModel",
          "state": {
            "_model_module": "@jupyter-widgets/controls",
            "_model_module_version": "1.5.0",
            "_model_name": "ProgressStyleModel",
            "_view_count": null,
            "_view_module": "@jupyter-widgets/base",
            "_view_module_version": "1.2.0",
            "_view_name": "StyleView",
            "bar_color": null,
            "description_width": "initial"
          },
          "model_module_version": "1.5.0"
        },
        "1c16e8444fa44c2caf9f17bc73977ef0": {
          "model_module": "@jupyter-widgets/base",
          "model_name": "LayoutModel",
          "state": {
            "_model_module": "@jupyter-widgets/base",
            "_model_module_version": "1.2.0",
            "_model_name": "LayoutModel",
            "_view_count": null,
            "_view_module": "@jupyter-widgets/base",
            "_view_module_version": "1.2.0",
            "_view_name": "LayoutView",
            "align_content": null,
            "align_items": null,
            "align_self": null,
            "border": null,
            "bottom": null,
            "display": null,
            "flex": null,
            "flex_flow": null,
            "grid_area": null,
            "grid_auto_columns": null,
            "grid_auto_flow": null,
            "grid_auto_rows": null,
            "grid_column": null,
            "grid_gap": null,
            "grid_row": null,
            "grid_template_areas": null,
            "grid_template_columns": null,
            "grid_template_rows": null,
            "height": null,
            "justify_content": null,
            "justify_items": null,
            "left": null,
            "margin": null,
            "max_height": null,
            "max_width": null,
            "min_height": null,
            "min_width": null,
            "object_fit": null,
            "object_position": null,
            "order": null,
            "overflow": null,
            "overflow_x": null,
            "overflow_y": null,
            "padding": null,
            "right": null,
            "top": null,
            "visibility": null,
            "width": null
          },
          "model_module_version": "1.2.0"
        },
        "ae79fd129b3d4832b11b2c172b4edac2": {
          "model_module": "@jupyter-widgets/controls",
          "model_name": "DescriptionStyleModel",
          "state": {
            "_model_module": "@jupyter-widgets/controls",
            "_model_module_version": "1.5.0",
            "_model_name": "DescriptionStyleModel",
            "_view_count": null,
            "_view_module": "@jupyter-widgets/base",
            "_view_module_version": "1.2.0",
            "_view_name": "StyleView",
            "description_width": ""
          },
          "model_module_version": "1.5.0"
        },
        "0485a6ad289848a1960077f22f2998be": {
          "model_module": "@jupyter-widgets/controls",
          "model_name": "HBoxModel",
          "state": {
            "_dom_classes": [],
            "_model_module": "@jupyter-widgets/controls",
            "_model_module_version": "1.5.0",
            "_model_name": "HBoxModel",
            "_view_count": null,
            "_view_module": "@jupyter-widgets/controls",
            "_view_module_version": "1.5.0",
            "_view_name": "HBoxView",
            "box_style": "",
            "children": [
              "IPY_MODEL_cd598e0251ab4d4484c2a77656e793f5",
              "IPY_MODEL_de1047029c39487d98a0ce998c34a755"
            ],
            "layout": "IPY_MODEL_fa7542fc24424a8eb100045d2546f171"
          },
          "model_module_version": "1.5.0"
        },
        "cd598e0251ab4d4484c2a77656e793f5": {
          "model_module": "@jupyter-widgets/controls",
          "model_name": "FloatProgressModel",
          "state": {
            "_dom_classes": [],
            "_model_module": "@jupyter-widgets/controls",
            "_model_module_version": "1.5.0",
            "_model_name": "FloatProgressModel",
            "_view_count": null,
            "_view_module": "@jupyter-widgets/controls",
            "_view_module_version": "1.5.0",
            "_view_name": "ProgressView",
            "bar_style": "success",
            "description": "Downloading: 100%",
            "description_tooltip": null,
            "layout": "IPY_MODEL_f01c6d4ccab1420795c2841d4d041f9d",
            "max": 3679,
            "min": 0,
            "orientation": "horizontal",
            "style": "IPY_MODEL_1e790d5de22743a6834d154830ba8a25",
            "value": 3679
          },
          "model_module_version": "1.5.0"
        },
        "de1047029c39487d98a0ce998c34a755": {
          "model_module": "@jupyter-widgets/controls",
          "model_name": "HTMLModel",
          "state": {
            "_dom_classes": [],
            "_model_module": "@jupyter-widgets/controls",
            "_model_module_version": "1.5.0",
            "_model_name": "HTMLModel",
            "_view_count": null,
            "_view_module": "@jupyter-widgets/controls",
            "_view_module_version": "1.5.0",
            "_view_name": "HTMLView",
            "description": "",
            "description_tooltip": null,
            "layout": "IPY_MODEL_d0a5ce8a635845278c26cdebae536b55",
            "placeholder": "​",
            "style": "IPY_MODEL_422ba4a5de5a4741a64565f493150b54",
            "value": " 3.68k/3.68k [00:02&lt;00:00, 1.23kB/s]"
          },
          "model_module_version": "1.5.0"
        },
        "fa7542fc24424a8eb100045d2546f171": {
          "model_module": "@jupyter-widgets/base",
          "model_name": "LayoutModel",
          "state": {
            "_model_module": "@jupyter-widgets/base",
            "_model_module_version": "1.2.0",
            "_model_name": "LayoutModel",
            "_view_count": null,
            "_view_module": "@jupyter-widgets/base",
            "_view_module_version": "1.2.0",
            "_view_name": "LayoutView",
            "align_content": null,
            "align_items": null,
            "align_self": null,
            "border": null,
            "bottom": null,
            "display": null,
            "flex": null,
            "flex_flow": null,
            "grid_area": null,
            "grid_auto_columns": null,
            "grid_auto_flow": null,
            "grid_auto_rows": null,
            "grid_column": null,
            "grid_gap": null,
            "grid_row": null,
            "grid_template_areas": null,
            "grid_template_columns": null,
            "grid_template_rows": null,
            "height": null,
            "justify_content": null,
            "justify_items": null,
            "left": null,
            "margin": null,
            "max_height": null,
            "max_width": null,
            "min_height": null,
            "min_width": null,
            "object_fit": null,
            "object_position": null,
            "order": null,
            "overflow": null,
            "overflow_x": null,
            "overflow_y": null,
            "padding": null,
            "right": null,
            "top": null,
            "visibility": null,
            "width": null
          },
          "model_module_version": "1.2.0"
        },
        "f01c6d4ccab1420795c2841d4d041f9d": {
          "model_module": "@jupyter-widgets/base",
          "model_name": "LayoutModel",
          "state": {
            "_model_module": "@jupyter-widgets/base",
            "_model_module_version": "1.2.0",
            "_model_name": "LayoutModel",
            "_view_count": null,
            "_view_module": "@jupyter-widgets/base",
            "_view_module_version": "1.2.0",
            "_view_name": "LayoutView",
            "align_content": null,
            "align_items": null,
            "align_self": null,
            "border": null,
            "bottom": null,
            "display": null,
            "flex": null,
            "flex_flow": null,
            "grid_area": null,
            "grid_auto_columns": null,
            "grid_auto_flow": null,
            "grid_auto_rows": null,
            "grid_column": null,
            "grid_gap": null,
            "grid_row": null,
            "grid_template_areas": null,
            "grid_template_columns": null,
            "grid_template_rows": null,
            "height": null,
            "justify_content": null,
            "justify_items": null,
            "left": null,
            "margin": null,
            "max_height": null,
            "max_width": null,
            "min_height": null,
            "min_width": null,
            "object_fit": null,
            "object_position": null,
            "order": null,
            "overflow": null,
            "overflow_x": null,
            "overflow_y": null,
            "padding": null,
            "right": null,
            "top": null,
            "visibility": null,
            "width": null
          },
          "model_module_version": "1.2.0"
        },
        "1e790d5de22743a6834d154830ba8a25": {
          "model_module": "@jupyter-widgets/controls",
          "model_name": "ProgressStyleModel",
          "state": {
            "_model_module": "@jupyter-widgets/controls",
            "_model_module_version": "1.5.0",
            "_model_name": "ProgressStyleModel",
            "_view_count": null,
            "_view_module": "@jupyter-widgets/base",
            "_view_module_version": "1.2.0",
            "_view_name": "StyleView",
            "bar_color": null,
            "description_width": "initial"
          },
          "model_module_version": "1.5.0"
        },
        "d0a5ce8a635845278c26cdebae536b55": {
          "model_module": "@jupyter-widgets/base",
          "model_name": "LayoutModel",
          "state": {
            "_model_module": "@jupyter-widgets/base",
            "_model_module_version": "1.2.0",
            "_model_name": "LayoutModel",
            "_view_count": null,
            "_view_module": "@jupyter-widgets/base",
            "_view_module_version": "1.2.0",
            "_view_name": "LayoutView",
            "align_content": null,
            "align_items": null,
            "align_self": null,
            "border": null,
            "bottom": null,
            "display": null,
            "flex": null,
            "flex_flow": null,
            "grid_area": null,
            "grid_auto_columns": null,
            "grid_auto_flow": null,
            "grid_auto_rows": null,
            "grid_column": null,
            "grid_gap": null,
            "grid_row": null,
            "grid_template_areas": null,
            "grid_template_columns": null,
            "grid_template_rows": null,
            "height": null,
            "justify_content": null,
            "justify_items": null,
            "left": null,
            "margin": null,
            "max_height": null,
            "max_width": null,
            "min_height": null,
            "min_width": null,
            "object_fit": null,
            "object_position": null,
            "order": null,
            "overflow": null,
            "overflow_x": null,
            "overflow_y": null,
            "padding": null,
            "right": null,
            "top": null,
            "visibility": null,
            "width": null
          },
          "model_module_version": "1.2.0"
        },
        "422ba4a5de5a4741a64565f493150b54": {
          "model_module": "@jupyter-widgets/controls",
          "model_name": "DescriptionStyleModel",
          "state": {
            "_model_module": "@jupyter-widgets/controls",
            "_model_module_version": "1.5.0",
            "_model_name": "DescriptionStyleModel",
            "_view_count": null,
            "_view_module": "@jupyter-widgets/base",
            "_view_module_version": "1.2.0",
            "_view_name": "StyleView",
            "description_width": ""
          },
          "model_module_version": "1.5.0"
        },
        "4bc64455b4614f6688aaa6bececcfdcf": {
          "model_module": "@jupyter-widgets/controls",
          "model_name": "HBoxModel",
          "state": {
            "_dom_classes": [],
            "_model_module": "@jupyter-widgets/controls",
            "_model_module_version": "1.5.0",
            "_model_name": "HBoxModel",
            "_view_count": null,
            "_view_module": "@jupyter-widgets/controls",
            "_view_module_version": "1.5.0",
            "_view_name": "HBoxView",
            "box_style": "",
            "children": [
              "IPY_MODEL_722b76a97e6744e48c24f0e3a7d01b1d",
              "IPY_MODEL_dfc0dc3cafde4274ada79103aa46cf01"
            ],
            "layout": "IPY_MODEL_991611c13b0f4c50b95e3f2bb903f244"
          },
          "model_module_version": "1.5.0"
        },
        "722b76a97e6744e48c24f0e3a7d01b1d": {
          "model_module": "@jupyter-widgets/controls",
          "model_name": "FloatProgressModel",
          "state": {
            "_dom_classes": [],
            "_model_module": "@jupyter-widgets/controls",
            "_model_module_version": "1.5.0",
            "_model_name": "FloatProgressModel",
            "_view_count": null,
            "_view_module": "@jupyter-widgets/controls",
            "_view_module_version": "1.5.0",
            "_view_name": "ProgressView",
            "bar_style": "success",
            "description": "Downloading: 100%",
            "description_tooltip": null,
            "layout": "IPY_MODEL_26d55f1ccfe343718f2c65ec5860487c",
            "max": 709,
            "min": 0,
            "orientation": "horizontal",
            "style": "IPY_MODEL_780893b73d8c4ab3955077b9871ff788",
            "value": 709
          },
          "model_module_version": "1.5.0"
        },
        "dfc0dc3cafde4274ada79103aa46cf01": {
          "model_module": "@jupyter-widgets/controls",
          "model_name": "HTMLModel",
          "state": {
            "_dom_classes": [],
            "_model_module": "@jupyter-widgets/controls",
            "_model_module_version": "1.5.0",
            "_model_name": "HTMLModel",
            "_view_count": null,
            "_view_module": "@jupyter-widgets/controls",
            "_view_module_version": "1.5.0",
            "_view_name": "HTMLView",
            "description": "",
            "description_tooltip": null,
            "layout": "IPY_MODEL_38f83826a578443da36b06a11d24058b",
            "placeholder": "​",
            "style": "IPY_MODEL_bca856f753e84c3882e8babd497f9aad",
            "value": " 709/709 [00:01&lt;00:00, 474B/s]"
          },
          "model_module_version": "1.5.0"
        },
        "991611c13b0f4c50b95e3f2bb903f244": {
          "model_module": "@jupyter-widgets/base",
          "model_name": "LayoutModel",
          "state": {
            "_model_module": "@jupyter-widgets/base",
            "_model_module_version": "1.2.0",
            "_model_name": "LayoutModel",
            "_view_count": null,
            "_view_module": "@jupyter-widgets/base",
            "_view_module_version": "1.2.0",
            "_view_name": "LayoutView",
            "align_content": null,
            "align_items": null,
            "align_self": null,
            "border": null,
            "bottom": null,
            "display": null,
            "flex": null,
            "flex_flow": null,
            "grid_area": null,
            "grid_auto_columns": null,
            "grid_auto_flow": null,
            "grid_auto_rows": null,
            "grid_column": null,
            "grid_gap": null,
            "grid_row": null,
            "grid_template_areas": null,
            "grid_template_columns": null,
            "grid_template_rows": null,
            "height": null,
            "justify_content": null,
            "justify_items": null,
            "left": null,
            "margin": null,
            "max_height": null,
            "max_width": null,
            "min_height": null,
            "min_width": null,
            "object_fit": null,
            "object_position": null,
            "order": null,
            "overflow": null,
            "overflow_x": null,
            "overflow_y": null,
            "padding": null,
            "right": null,
            "top": null,
            "visibility": null,
            "width": null
          },
          "model_module_version": "1.2.0"
        },
        "26d55f1ccfe343718f2c65ec5860487c": {
          "model_module": "@jupyter-widgets/base",
          "model_name": "LayoutModel",
          "state": {
            "_model_module": "@jupyter-widgets/base",
            "_model_module_version": "1.2.0",
            "_model_name": "LayoutModel",
            "_view_count": null,
            "_view_module": "@jupyter-widgets/base",
            "_view_module_version": "1.2.0",
            "_view_name": "LayoutView",
            "align_content": null,
            "align_items": null,
            "align_self": null,
            "border": null,
            "bottom": null,
            "display": null,
            "flex": null,
            "flex_flow": null,
            "grid_area": null,
            "grid_auto_columns": null,
            "grid_auto_flow": null,
            "grid_auto_rows": null,
            "grid_column": null,
            "grid_gap": null,
            "grid_row": null,
            "grid_template_areas": null,
            "grid_template_columns": null,
            "grid_template_rows": null,
            "height": null,
            "justify_content": null,
            "justify_items": null,
            "left": null,
            "margin": null,
            "max_height": null,
            "max_width": null,
            "min_height": null,
            "min_width": null,
            "object_fit": null,
            "object_position": null,
            "order": null,
            "overflow": null,
            "overflow_x": null,
            "overflow_y": null,
            "padding": null,
            "right": null,
            "top": null,
            "visibility": null,
            "width": null
          },
          "model_module_version": "1.2.0"
        },
        "780893b73d8c4ab3955077b9871ff788": {
          "model_module": "@jupyter-widgets/controls",
          "model_name": "ProgressStyleModel",
          "state": {
            "_model_module": "@jupyter-widgets/controls",
            "_model_module_version": "1.5.0",
            "_model_name": "ProgressStyleModel",
            "_view_count": null,
            "_view_module": "@jupyter-widgets/base",
            "_view_module_version": "1.2.0",
            "_view_name": "StyleView",
            "bar_color": null,
            "description_width": "initial"
          },
          "model_module_version": "1.5.0"
        },
        "38f83826a578443da36b06a11d24058b": {
          "model_module": "@jupyter-widgets/base",
          "model_name": "LayoutModel",
          "state": {
            "_model_module": "@jupyter-widgets/base",
            "_model_module_version": "1.2.0",
            "_model_name": "LayoutModel",
            "_view_count": null,
            "_view_module": "@jupyter-widgets/base",
            "_view_module_version": "1.2.0",
            "_view_name": "LayoutView",
            "align_content": null,
            "align_items": null,
            "align_self": null,
            "border": null,
            "bottom": null,
            "display": null,
            "flex": null,
            "flex_flow": null,
            "grid_area": null,
            "grid_auto_columns": null,
            "grid_auto_flow": null,
            "grid_auto_rows": null,
            "grid_column": null,
            "grid_gap": null,
            "grid_row": null,
            "grid_template_areas": null,
            "grid_template_columns": null,
            "grid_template_rows": null,
            "height": null,
            "justify_content": null,
            "justify_items": null,
            "left": null,
            "margin": null,
            "max_height": null,
            "max_width": null,
            "min_height": null,
            "min_width": null,
            "object_fit": null,
            "object_position": null,
            "order": null,
            "overflow": null,
            "overflow_x": null,
            "overflow_y": null,
            "padding": null,
            "right": null,
            "top": null,
            "visibility": null,
            "width": null
          },
          "model_module_version": "1.2.0"
        },
        "bca856f753e84c3882e8babd497f9aad": {
          "model_module": "@jupyter-widgets/controls",
          "model_name": "DescriptionStyleModel",
          "state": {
            "_model_module": "@jupyter-widgets/controls",
            "_model_module_version": "1.5.0",
            "_model_name": "DescriptionStyleModel",
            "_view_count": null,
            "_view_module": "@jupyter-widgets/base",
            "_view_module_version": "1.2.0",
            "_view_name": "StyleView",
            "description_width": ""
          },
          "model_module_version": "1.5.0"
        },
        "1bb254686514434cb362af9a62c77111": {
          "model_module": "@jupyter-widgets/controls",
          "model_name": "HBoxModel",
          "state": {
            "_dom_classes": [],
            "_model_module": "@jupyter-widgets/controls",
            "_model_module_version": "1.5.0",
            "_model_name": "HBoxModel",
            "_view_count": null,
            "_view_module": "@jupyter-widgets/controls",
            "_view_module_version": "1.5.0",
            "_view_name": "HBoxView",
            "box_style": "",
            "children": [
              "IPY_MODEL_eccde9c16a1643518a53188c6e1d06a4",
              "IPY_MODEL_bb03ee93fac245faa2fcbe03c28afdd6"
            ],
            "layout": "IPY_MODEL_e20be8a2d0b24b6f845f613f40a30430"
          },
          "model_module_version": "1.5.0"
        },
        "eccde9c16a1643518a53188c6e1d06a4": {
          "model_module": "@jupyter-widgets/controls",
          "model_name": "FloatProgressModel",
          "state": {
            "_dom_classes": [],
            "_model_module": "@jupyter-widgets/controls",
            "_model_module_version": "1.5.0",
            "_model_name": "FloatProgressModel",
            "_view_count": null,
            "_view_module": "@jupyter-widgets/controls",
            "_view_module_version": "1.5.0",
            "_view_name": "ProgressView",
            "bar_style": "success",
            "description": "Downloading: 100%",
            "description_tooltip": null,
            "layout": "IPY_MODEL_7686b3fd3cb14cc085dbd3026d0fe981",
            "max": 122,
            "min": 0,
            "orientation": "horizontal",
            "style": "IPY_MODEL_349aa49777a14939870f08eb663a9027",
            "value": 122
          },
          "model_module_version": "1.5.0"
        },
        "bb03ee93fac245faa2fcbe03c28afdd6": {
          "model_module": "@jupyter-widgets/controls",
          "model_name": "HTMLModel",
          "state": {
            "_dom_classes": [],
            "_model_module": "@jupyter-widgets/controls",
            "_model_module_version": "1.5.0",
            "_model_name": "HTMLModel",
            "_view_count": null,
            "_view_module": "@jupyter-widgets/controls",
            "_view_module_version": "1.5.0",
            "_view_name": "HTMLView",
            "description": "",
            "description_tooltip": null,
            "layout": "IPY_MODEL_e1bdaadc1fbd44dc974aca3fa0a30a64",
            "placeholder": "​",
            "style": "IPY_MODEL_3e4269dd4bd14e70978162fbd4b1a780",
            "value": " 122/122 [02:05&lt;00:00, 1.03s/B]"
          },
          "model_module_version": "1.5.0"
        },
        "e20be8a2d0b24b6f845f613f40a30430": {
          "model_module": "@jupyter-widgets/base",
          "model_name": "LayoutModel",
          "state": {
            "_model_module": "@jupyter-widgets/base",
            "_model_module_version": "1.2.0",
            "_model_name": "LayoutModel",
            "_view_count": null,
            "_view_module": "@jupyter-widgets/base",
            "_view_module_version": "1.2.0",
            "_view_name": "LayoutView",
            "align_content": null,
            "align_items": null,
            "align_self": null,
            "border": null,
            "bottom": null,
            "display": null,
            "flex": null,
            "flex_flow": null,
            "grid_area": null,
            "grid_auto_columns": null,
            "grid_auto_flow": null,
            "grid_auto_rows": null,
            "grid_column": null,
            "grid_gap": null,
            "grid_row": null,
            "grid_template_areas": null,
            "grid_template_columns": null,
            "grid_template_rows": null,
            "height": null,
            "justify_content": null,
            "justify_items": null,
            "left": null,
            "margin": null,
            "max_height": null,
            "max_width": null,
            "min_height": null,
            "min_width": null,
            "object_fit": null,
            "object_position": null,
            "order": null,
            "overflow": null,
            "overflow_x": null,
            "overflow_y": null,
            "padding": null,
            "right": null,
            "top": null,
            "visibility": null,
            "width": null
          },
          "model_module_version": "1.2.0"
        },
        "7686b3fd3cb14cc085dbd3026d0fe981": {
          "model_module": "@jupyter-widgets/base",
          "model_name": "LayoutModel",
          "state": {
            "_model_module": "@jupyter-widgets/base",
            "_model_module_version": "1.2.0",
            "_model_name": "LayoutModel",
            "_view_count": null,
            "_view_module": "@jupyter-widgets/base",
            "_view_module_version": "1.2.0",
            "_view_name": "LayoutView",
            "align_content": null,
            "align_items": null,
            "align_self": null,
            "border": null,
            "bottom": null,
            "display": null,
            "flex": null,
            "flex_flow": null,
            "grid_area": null,
            "grid_auto_columns": null,
            "grid_auto_flow": null,
            "grid_auto_rows": null,
            "grid_column": null,
            "grid_gap": null,
            "grid_row": null,
            "grid_template_areas": null,
            "grid_template_columns": null,
            "grid_template_rows": null,
            "height": null,
            "justify_content": null,
            "justify_items": null,
            "left": null,
            "margin": null,
            "max_height": null,
            "max_width": null,
            "min_height": null,
            "min_width": null,
            "object_fit": null,
            "object_position": null,
            "order": null,
            "overflow": null,
            "overflow_x": null,
            "overflow_y": null,
            "padding": null,
            "right": null,
            "top": null,
            "visibility": null,
            "width": null
          },
          "model_module_version": "1.2.0"
        },
        "349aa49777a14939870f08eb663a9027": {
          "model_module": "@jupyter-widgets/controls",
          "model_name": "ProgressStyleModel",
          "state": {
            "_model_module": "@jupyter-widgets/controls",
            "_model_module_version": "1.5.0",
            "_model_name": "ProgressStyleModel",
            "_view_count": null,
            "_view_module": "@jupyter-widgets/base",
            "_view_module_version": "1.2.0",
            "_view_name": "StyleView",
            "bar_color": null,
            "description_width": "initial"
          },
          "model_module_version": "1.5.0"
        },
        "e1bdaadc1fbd44dc974aca3fa0a30a64": {
          "model_module": "@jupyter-widgets/base",
          "model_name": "LayoutModel",
          "state": {
            "_model_module": "@jupyter-widgets/base",
            "_model_module_version": "1.2.0",
            "_model_name": "LayoutModel",
            "_view_count": null,
            "_view_module": "@jupyter-widgets/base",
            "_view_module_version": "1.2.0",
            "_view_name": "LayoutView",
            "align_content": null,
            "align_items": null,
            "align_self": null,
            "border": null,
            "bottom": null,
            "display": null,
            "flex": null,
            "flex_flow": null,
            "grid_area": null,
            "grid_auto_columns": null,
            "grid_auto_flow": null,
            "grid_auto_rows": null,
            "grid_column": null,
            "grid_gap": null,
            "grid_row": null,
            "grid_template_areas": null,
            "grid_template_columns": null,
            "grid_template_rows": null,
            "height": null,
            "justify_content": null,
            "justify_items": null,
            "left": null,
            "margin": null,
            "max_height": null,
            "max_width": null,
            "min_height": null,
            "min_width": null,
            "object_fit": null,
            "object_position": null,
            "order": null,
            "overflow": null,
            "overflow_x": null,
            "overflow_y": null,
            "padding": null,
            "right": null,
            "top": null,
            "visibility": null,
            "width": null
          },
          "model_module_version": "1.2.0"
        },
        "3e4269dd4bd14e70978162fbd4b1a780": {
          "model_module": "@jupyter-widgets/controls",
          "model_name": "DescriptionStyleModel",
          "state": {
            "_model_module": "@jupyter-widgets/controls",
            "_model_module_version": "1.5.0",
            "_model_name": "DescriptionStyleModel",
            "_view_count": null,
            "_view_module": "@jupyter-widgets/base",
            "_view_module_version": "1.2.0",
            "_view_name": "StyleView",
            "description_width": ""
          },
          "model_module_version": "1.5.0"
        },
        "7d08e7ee272049d4bb6eae2a68b0d86b": {
          "model_module": "@jupyter-widgets/controls",
          "model_name": "HBoxModel",
          "state": {
            "_dom_classes": [],
            "_model_module": "@jupyter-widgets/controls",
            "_model_module_version": "1.5.0",
            "_model_name": "HBoxModel",
            "_view_count": null,
            "_view_module": "@jupyter-widgets/controls",
            "_view_module_version": "1.5.0",
            "_view_name": "HBoxView",
            "box_style": "",
            "children": [
              "IPY_MODEL_b5f5ea5c47454fcbb9c7c737789b8c4f",
              "IPY_MODEL_eb5e0db3af604ca3a2d5302d1c7e61e1"
            ],
            "layout": "IPY_MODEL_f936412ff7d348a58413929eee24edcd"
          },
          "model_module_version": "1.5.0"
        },
        "b5f5ea5c47454fcbb9c7c737789b8c4f": {
          "model_module": "@jupyter-widgets/controls",
          "model_name": "FloatProgressModel",
          "state": {
            "_dom_classes": [],
            "_model_module": "@jupyter-widgets/controls",
            "_model_module_version": "1.5.0",
            "_model_name": "FloatProgressModel",
            "_view_count": null,
            "_view_module": "@jupyter-widgets/controls",
            "_view_module_version": "1.5.0",
            "_view_name": "ProgressView",
            "bar_style": "success",
            "description": "Downloading: 100%",
            "description_tooltip": null,
            "layout": "IPY_MODEL_881b2ed169a6445fa33085a017e76774",
            "max": 229,
            "min": 0,
            "orientation": "horizontal",
            "style": "IPY_MODEL_830fc64995ba4141b6a6197adff81009",
            "value": 229
          },
          "model_module_version": "1.5.0"
        },
        "eb5e0db3af604ca3a2d5302d1c7e61e1": {
          "model_module": "@jupyter-widgets/controls",
          "model_name": "HTMLModel",
          "state": {
            "_dom_classes": [],
            "_model_module": "@jupyter-widgets/controls",
            "_model_module_version": "1.5.0",
            "_model_name": "HTMLModel",
            "_view_count": null,
            "_view_module": "@jupyter-widgets/controls",
            "_view_module_version": "1.5.0",
            "_view_name": "HTMLView",
            "description": "",
            "description_tooltip": null,
            "layout": "IPY_MODEL_d92c34d1e7644966ac99c1cece58fc47",
            "placeholder": "​",
            "style": "IPY_MODEL_12f138a42f40454485e9f714a3df853b",
            "value": " 229/229 [01:52&lt;00:00, 2.04B/s]"
          },
          "model_module_version": "1.5.0"
        },
        "f936412ff7d348a58413929eee24edcd": {
          "model_module": "@jupyter-widgets/base",
          "model_name": "LayoutModel",
          "state": {
            "_model_module": "@jupyter-widgets/base",
            "_model_module_version": "1.2.0",
            "_model_name": "LayoutModel",
            "_view_count": null,
            "_view_module": "@jupyter-widgets/base",
            "_view_module_version": "1.2.0",
            "_view_name": "LayoutView",
            "align_content": null,
            "align_items": null,
            "align_self": null,
            "border": null,
            "bottom": null,
            "display": null,
            "flex": null,
            "flex_flow": null,
            "grid_area": null,
            "grid_auto_columns": null,
            "grid_auto_flow": null,
            "grid_auto_rows": null,
            "grid_column": null,
            "grid_gap": null,
            "grid_row": null,
            "grid_template_areas": null,
            "grid_template_columns": null,
            "grid_template_rows": null,
            "height": null,
            "justify_content": null,
            "justify_items": null,
            "left": null,
            "margin": null,
            "max_height": null,
            "max_width": null,
            "min_height": null,
            "min_width": null,
            "object_fit": null,
            "object_position": null,
            "order": null,
            "overflow": null,
            "overflow_x": null,
            "overflow_y": null,
            "padding": null,
            "right": null,
            "top": null,
            "visibility": null,
            "width": null
          },
          "model_module_version": "1.2.0"
        },
        "881b2ed169a6445fa33085a017e76774": {
          "model_module": "@jupyter-widgets/base",
          "model_name": "LayoutModel",
          "state": {
            "_model_module": "@jupyter-widgets/base",
            "_model_module_version": "1.2.0",
            "_model_name": "LayoutModel",
            "_view_count": null,
            "_view_module": "@jupyter-widgets/base",
            "_view_module_version": "1.2.0",
            "_view_name": "LayoutView",
            "align_content": null,
            "align_items": null,
            "align_self": null,
            "border": null,
            "bottom": null,
            "display": null,
            "flex": null,
            "flex_flow": null,
            "grid_area": null,
            "grid_auto_columns": null,
            "grid_auto_flow": null,
            "grid_auto_rows": null,
            "grid_column": null,
            "grid_gap": null,
            "grid_row": null,
            "grid_template_areas": null,
            "grid_template_columns": null,
            "grid_template_rows": null,
            "height": null,
            "justify_content": null,
            "justify_items": null,
            "left": null,
            "margin": null,
            "max_height": null,
            "max_width": null,
            "min_height": null,
            "min_width": null,
            "object_fit": null,
            "object_position": null,
            "order": null,
            "overflow": null,
            "overflow_x": null,
            "overflow_y": null,
            "padding": null,
            "right": null,
            "top": null,
            "visibility": null,
            "width": null
          },
          "model_module_version": "1.2.0"
        },
        "830fc64995ba4141b6a6197adff81009": {
          "model_module": "@jupyter-widgets/controls",
          "model_name": "ProgressStyleModel",
          "state": {
            "_model_module": "@jupyter-widgets/controls",
            "_model_module_version": "1.5.0",
            "_model_name": "ProgressStyleModel",
            "_view_count": null,
            "_view_module": "@jupyter-widgets/base",
            "_view_module_version": "1.2.0",
            "_view_name": "StyleView",
            "bar_color": null,
            "description_width": "initial"
          },
          "model_module_version": "1.5.0"
        },
        "d92c34d1e7644966ac99c1cece58fc47": {
          "model_module": "@jupyter-widgets/base",
          "model_name": "LayoutModel",
          "state": {
            "_model_module": "@jupyter-widgets/base",
            "_model_module_version": "1.2.0",
            "_model_name": "LayoutModel",
            "_view_count": null,
            "_view_module": "@jupyter-widgets/base",
            "_view_module_version": "1.2.0",
            "_view_name": "LayoutView",
            "align_content": null,
            "align_items": null,
            "align_self": null,
            "border": null,
            "bottom": null,
            "display": null,
            "flex": null,
            "flex_flow": null,
            "grid_area": null,
            "grid_auto_columns": null,
            "grid_auto_flow": null,
            "grid_auto_rows": null,
            "grid_column": null,
            "grid_gap": null,
            "grid_row": null,
            "grid_template_areas": null,
            "grid_template_columns": null,
            "grid_template_rows": null,
            "height": null,
            "justify_content": null,
            "justify_items": null,
            "left": null,
            "margin": null,
            "max_height": null,
            "max_width": null,
            "min_height": null,
            "min_width": null,
            "object_fit": null,
            "object_position": null,
            "order": null,
            "overflow": null,
            "overflow_x": null,
            "overflow_y": null,
            "padding": null,
            "right": null,
            "top": null,
            "visibility": null,
            "width": null
          },
          "model_module_version": "1.2.0"
        },
        "12f138a42f40454485e9f714a3df853b": {
          "model_module": "@jupyter-widgets/controls",
          "model_name": "DescriptionStyleModel",
          "state": {
            "_model_module": "@jupyter-widgets/controls",
            "_model_module_version": "1.5.0",
            "_model_name": "DescriptionStyleModel",
            "_view_count": null,
            "_view_module": "@jupyter-widgets/base",
            "_view_module_version": "1.2.0",
            "_view_name": "StyleView",
            "description_width": ""
          },
          "model_module_version": "1.5.0"
        },
        "e242cc83f36c4616b7112af5fe5c908c": {
          "model_module": "@jupyter-widgets/controls",
          "model_name": "HBoxModel",
          "state": {
            "_dom_classes": [],
            "_model_module": "@jupyter-widgets/controls",
            "_model_module_version": "1.5.0",
            "_model_name": "HBoxModel",
            "_view_count": null,
            "_view_module": "@jupyter-widgets/controls",
            "_view_module_version": "1.5.0",
            "_view_name": "HBoxView",
            "box_style": "",
            "children": [
              "IPY_MODEL_c03e01d40c4943d2900dee3a04a519bc",
              "IPY_MODEL_a1ad5af9d5f8469ebe5d6cb397f7ac9e"
            ],
            "layout": "IPY_MODEL_9189c16f919144e4b7e3a718c7a8a3e7"
          },
          "model_module_version": "1.5.0"
        },
        "c03e01d40c4943d2900dee3a04a519bc": {
          "model_module": "@jupyter-widgets/controls",
          "model_name": "FloatProgressModel",
          "state": {
            "_dom_classes": [],
            "_model_module": "@jupyter-widgets/controls",
            "_model_module_version": "1.5.0",
            "_model_name": "FloatProgressModel",
            "_view_count": null,
            "_view_module": "@jupyter-widgets/controls",
            "_view_module_version": "1.5.0",
            "_view_name": "ProgressView",
            "bar_style": "success",
            "description": "Downloading: 100%",
            "description_tooltip": null,
            "layout": "IPY_MODEL_7ad1fdb3ffea45bfbf0eabe7957451ab",
            "max": 1112253233,
            "min": 0,
            "orientation": "horizontal",
            "style": "IPY_MODEL_d4d3c01b676e41aeb084ec7f43e1e6d5",
            "value": 1112253233
          },
          "model_module_version": "1.5.0"
        },
        "a1ad5af9d5f8469ebe5d6cb397f7ac9e": {
          "model_module": "@jupyter-widgets/controls",
          "model_name": "HTMLModel",
          "state": {
            "_dom_classes": [],
            "_model_module": "@jupyter-widgets/controls",
            "_model_module_version": "1.5.0",
            "_model_name": "HTMLModel",
            "_view_count": null,
            "_view_module": "@jupyter-widgets/controls",
            "_view_module_version": "1.5.0",
            "_view_name": "HTMLView",
            "description": "",
            "description_tooltip": null,
            "layout": "IPY_MODEL_7f04c3f73017411f9a9d6ce856cce58d",
            "placeholder": "​",
            "style": "IPY_MODEL_19291e3fb22d4e98b90a3be05e4b5208",
            "value": " 1.11G/1.11G [02:01&lt;00:00, 9.15MB/s]"
          },
          "model_module_version": "1.5.0"
        },
        "9189c16f919144e4b7e3a718c7a8a3e7": {
          "model_module": "@jupyter-widgets/base",
          "model_name": "LayoutModel",
          "state": {
            "_model_module": "@jupyter-widgets/base",
            "_model_module_version": "1.2.0",
            "_model_name": "LayoutModel",
            "_view_count": null,
            "_view_module": "@jupyter-widgets/base",
            "_view_module_version": "1.2.0",
            "_view_name": "LayoutView",
            "align_content": null,
            "align_items": null,
            "align_self": null,
            "border": null,
            "bottom": null,
            "display": null,
            "flex": null,
            "flex_flow": null,
            "grid_area": null,
            "grid_auto_columns": null,
            "grid_auto_flow": null,
            "grid_auto_rows": null,
            "grid_column": null,
            "grid_gap": null,
            "grid_row": null,
            "grid_template_areas": null,
            "grid_template_columns": null,
            "grid_template_rows": null,
            "height": null,
            "justify_content": null,
            "justify_items": null,
            "left": null,
            "margin": null,
            "max_height": null,
            "max_width": null,
            "min_height": null,
            "min_width": null,
            "object_fit": null,
            "object_position": null,
            "order": null,
            "overflow": null,
            "overflow_x": null,
            "overflow_y": null,
            "padding": null,
            "right": null,
            "top": null,
            "visibility": null,
            "width": null
          },
          "model_module_version": "1.2.0"
        },
        "7ad1fdb3ffea45bfbf0eabe7957451ab": {
          "model_module": "@jupyter-widgets/base",
          "model_name": "LayoutModel",
          "state": {
            "_model_module": "@jupyter-widgets/base",
            "_model_module_version": "1.2.0",
            "_model_name": "LayoutModel",
            "_view_count": null,
            "_view_module": "@jupyter-widgets/base",
            "_view_module_version": "1.2.0",
            "_view_name": "LayoutView",
            "align_content": null,
            "align_items": null,
            "align_self": null,
            "border": null,
            "bottom": null,
            "display": null,
            "flex": null,
            "flex_flow": null,
            "grid_area": null,
            "grid_auto_columns": null,
            "grid_auto_flow": null,
            "grid_auto_rows": null,
            "grid_column": null,
            "grid_gap": null,
            "grid_row": null,
            "grid_template_areas": null,
            "grid_template_columns": null,
            "grid_template_rows": null,
            "height": null,
            "justify_content": null,
            "justify_items": null,
            "left": null,
            "margin": null,
            "max_height": null,
            "max_width": null,
            "min_height": null,
            "min_width": null,
            "object_fit": null,
            "object_position": null,
            "order": null,
            "overflow": null,
            "overflow_x": null,
            "overflow_y": null,
            "padding": null,
            "right": null,
            "top": null,
            "visibility": null,
            "width": null
          },
          "model_module_version": "1.2.0"
        },
        "d4d3c01b676e41aeb084ec7f43e1e6d5": {
          "model_module": "@jupyter-widgets/controls",
          "model_name": "ProgressStyleModel",
          "state": {
            "_model_module": "@jupyter-widgets/controls",
            "_model_module_version": "1.5.0",
            "_model_name": "ProgressStyleModel",
            "_view_count": null,
            "_view_module": "@jupyter-widgets/base",
            "_view_module_version": "1.2.0",
            "_view_name": "StyleView",
            "bar_color": null,
            "description_width": "initial"
          },
          "model_module_version": "1.5.0"
        },
        "7f04c3f73017411f9a9d6ce856cce58d": {
          "model_module": "@jupyter-widgets/base",
          "model_name": "LayoutModel",
          "state": {
            "_model_module": "@jupyter-widgets/base",
            "_model_module_version": "1.2.0",
            "_model_name": "LayoutModel",
            "_view_count": null,
            "_view_module": "@jupyter-widgets/base",
            "_view_module_version": "1.2.0",
            "_view_name": "LayoutView",
            "align_content": null,
            "align_items": null,
            "align_self": null,
            "border": null,
            "bottom": null,
            "display": null,
            "flex": null,
            "flex_flow": null,
            "grid_area": null,
            "grid_auto_columns": null,
            "grid_auto_flow": null,
            "grid_auto_rows": null,
            "grid_column": null,
            "grid_gap": null,
            "grid_row": null,
            "grid_template_areas": null,
            "grid_template_columns": null,
            "grid_template_rows": null,
            "height": null,
            "justify_content": null,
            "justify_items": null,
            "left": null,
            "margin": null,
            "max_height": null,
            "max_width": null,
            "min_height": null,
            "min_width": null,
            "object_fit": null,
            "object_position": null,
            "order": null,
            "overflow": null,
            "overflow_x": null,
            "overflow_y": null,
            "padding": null,
            "right": null,
            "top": null,
            "visibility": null,
            "width": null
          },
          "model_module_version": "1.2.0"
        },
        "19291e3fb22d4e98b90a3be05e4b5208": {
          "model_module": "@jupyter-widgets/controls",
          "model_name": "DescriptionStyleModel",
          "state": {
            "_model_module": "@jupyter-widgets/controls",
            "_model_module_version": "1.5.0",
            "_model_name": "DescriptionStyleModel",
            "_view_count": null,
            "_view_module": "@jupyter-widgets/base",
            "_view_module_version": "1.2.0",
            "_view_name": "StyleView",
            "description_width": ""
          },
          "model_module_version": "1.5.0"
        },
        "01b26fa870574daa9615b1a249dda432": {
          "model_module": "@jupyter-widgets/controls",
          "model_name": "HBoxModel",
          "state": {
            "_dom_classes": [],
            "_model_module": "@jupyter-widgets/controls",
            "_model_module_version": "1.5.0",
            "_model_name": "HBoxModel",
            "_view_count": null,
            "_view_module": "@jupyter-widgets/controls",
            "_view_module_version": "1.5.0",
            "_view_name": "HBoxView",
            "box_style": "",
            "children": [
              "IPY_MODEL_41e75e91f77441818f142b41cbba4022",
              "IPY_MODEL_b0047a1c4d744ee0950fd5437f3c5f45"
            ],
            "layout": "IPY_MODEL_87fc75d778034a05bd4062ede90a6a82"
          },
          "model_module_version": "1.5.0"
        },
        "41e75e91f77441818f142b41cbba4022": {
          "model_module": "@jupyter-widgets/controls",
          "model_name": "FloatProgressModel",
          "state": {
            "_dom_classes": [],
            "_model_module": "@jupyter-widgets/controls",
            "_model_module_version": "1.5.0",
            "_model_name": "FloatProgressModel",
            "_view_count": null,
            "_view_module": "@jupyter-widgets/controls",
            "_view_module_version": "1.5.0",
            "_view_name": "ProgressView",
            "bar_style": "success",
            "description": "Downloading: 100%",
            "description_tooltip": null,
            "layout": "IPY_MODEL_58187248fe5c472aa1cd4f9710563d69",
            "max": 53,
            "min": 0,
            "orientation": "horizontal",
            "style": "IPY_MODEL_881ee0d89b0f46ac994b77bcdb8ac075",
            "value": 53
          },
          "model_module_version": "1.5.0"
        },
        "b0047a1c4d744ee0950fd5437f3c5f45": {
          "model_module": "@jupyter-widgets/controls",
          "model_name": "HTMLModel",
          "state": {
            "_dom_classes": [],
            "_model_module": "@jupyter-widgets/controls",
            "_model_module_version": "1.5.0",
            "_model_name": "HTMLModel",
            "_view_count": null,
            "_view_module": "@jupyter-widgets/controls",
            "_view_module_version": "1.5.0",
            "_view_name": "HTMLView",
            "description": "",
            "description_tooltip": null,
            "layout": "IPY_MODEL_39782e2bdc9441d2b5576e5394cf4698",
            "placeholder": "​",
            "style": "IPY_MODEL_a6d64b5f48bd41c4806171a6b010b771",
            "value": " 53.0/53.0 [00:11&lt;00:00, 4.47B/s]"
          },
          "model_module_version": "1.5.0"
        },
        "87fc75d778034a05bd4062ede90a6a82": {
          "model_module": "@jupyter-widgets/base",
          "model_name": "LayoutModel",
          "state": {
            "_model_module": "@jupyter-widgets/base",
            "_model_module_version": "1.2.0",
            "_model_name": "LayoutModel",
            "_view_count": null,
            "_view_module": "@jupyter-widgets/base",
            "_view_module_version": "1.2.0",
            "_view_name": "LayoutView",
            "align_content": null,
            "align_items": null,
            "align_self": null,
            "border": null,
            "bottom": null,
            "display": null,
            "flex": null,
            "flex_flow": null,
            "grid_area": null,
            "grid_auto_columns": null,
            "grid_auto_flow": null,
            "grid_auto_rows": null,
            "grid_column": null,
            "grid_gap": null,
            "grid_row": null,
            "grid_template_areas": null,
            "grid_template_columns": null,
            "grid_template_rows": null,
            "height": null,
            "justify_content": null,
            "justify_items": null,
            "left": null,
            "margin": null,
            "max_height": null,
            "max_width": null,
            "min_height": null,
            "min_width": null,
            "object_fit": null,
            "object_position": null,
            "order": null,
            "overflow": null,
            "overflow_x": null,
            "overflow_y": null,
            "padding": null,
            "right": null,
            "top": null,
            "visibility": null,
            "width": null
          },
          "model_module_version": "1.2.0"
        },
        "58187248fe5c472aa1cd4f9710563d69": {
          "model_module": "@jupyter-widgets/base",
          "model_name": "LayoutModel",
          "state": {
            "_model_module": "@jupyter-widgets/base",
            "_model_module_version": "1.2.0",
            "_model_name": "LayoutModel",
            "_view_count": null,
            "_view_module": "@jupyter-widgets/base",
            "_view_module_version": "1.2.0",
            "_view_name": "LayoutView",
            "align_content": null,
            "align_items": null,
            "align_self": null,
            "border": null,
            "bottom": null,
            "display": null,
            "flex": null,
            "flex_flow": null,
            "grid_area": null,
            "grid_auto_columns": null,
            "grid_auto_flow": null,
            "grid_auto_rows": null,
            "grid_column": null,
            "grid_gap": null,
            "grid_row": null,
            "grid_template_areas": null,
            "grid_template_columns": null,
            "grid_template_rows": null,
            "height": null,
            "justify_content": null,
            "justify_items": null,
            "left": null,
            "margin": null,
            "max_height": null,
            "max_width": null,
            "min_height": null,
            "min_width": null,
            "object_fit": null,
            "object_position": null,
            "order": null,
            "overflow": null,
            "overflow_x": null,
            "overflow_y": null,
            "padding": null,
            "right": null,
            "top": null,
            "visibility": null,
            "width": null
          },
          "model_module_version": "1.2.0"
        },
        "881ee0d89b0f46ac994b77bcdb8ac075": {
          "model_module": "@jupyter-widgets/controls",
          "model_name": "ProgressStyleModel",
          "state": {
            "_model_module": "@jupyter-widgets/controls",
            "_model_module_version": "1.5.0",
            "_model_name": "ProgressStyleModel",
            "_view_count": null,
            "_view_module": "@jupyter-widgets/base",
            "_view_module_version": "1.2.0",
            "_view_name": "StyleView",
            "bar_color": null,
            "description_width": "initial"
          },
          "model_module_version": "1.5.0"
        },
        "39782e2bdc9441d2b5576e5394cf4698": {
          "model_module": "@jupyter-widgets/base",
          "model_name": "LayoutModel",
          "state": {
            "_model_module": "@jupyter-widgets/base",
            "_model_module_version": "1.2.0",
            "_model_name": "LayoutModel",
            "_view_count": null,
            "_view_module": "@jupyter-widgets/base",
            "_view_module_version": "1.2.0",
            "_view_name": "LayoutView",
            "align_content": null,
            "align_items": null,
            "align_self": null,
            "border": null,
            "bottom": null,
            "display": null,
            "flex": null,
            "flex_flow": null,
            "grid_area": null,
            "grid_auto_columns": null,
            "grid_auto_flow": null,
            "grid_auto_rows": null,
            "grid_column": null,
            "grid_gap": null,
            "grid_row": null,
            "grid_template_areas": null,
            "grid_template_columns": null,
            "grid_template_rows": null,
            "height": null,
            "justify_content": null,
            "justify_items": null,
            "left": null,
            "margin": null,
            "max_height": null,
            "max_width": null,
            "min_height": null,
            "min_width": null,
            "object_fit": null,
            "object_position": null,
            "order": null,
            "overflow": null,
            "overflow_x": null,
            "overflow_y": null,
            "padding": null,
            "right": null,
            "top": null,
            "visibility": null,
            "width": null
          },
          "model_module_version": "1.2.0"
        },
        "a6d64b5f48bd41c4806171a6b010b771": {
          "model_module": "@jupyter-widgets/controls",
          "model_name": "DescriptionStyleModel",
          "state": {
            "_model_module": "@jupyter-widgets/controls",
            "_model_module_version": "1.5.0",
            "_model_name": "DescriptionStyleModel",
            "_view_count": null,
            "_view_module": "@jupyter-widgets/base",
            "_view_module_version": "1.2.0",
            "_view_name": "StyleView",
            "description_width": ""
          },
          "model_module_version": "1.5.0"
        },
        "eb02ce8facbe4a70b7ddee841cff1c42": {
          "model_module": "@jupyter-widgets/controls",
          "model_name": "HBoxModel",
          "state": {
            "_dom_classes": [],
            "_model_module": "@jupyter-widgets/controls",
            "_model_module_version": "1.5.0",
            "_model_name": "HBoxModel",
            "_view_count": null,
            "_view_module": "@jupyter-widgets/controls",
            "_view_module_version": "1.5.0",
            "_view_name": "HBoxView",
            "box_style": "",
            "children": [
              "IPY_MODEL_354a205f6a794d4d93e0df6218f2a508",
              "IPY_MODEL_4526f058324e445690ad3aaf3e769c45"
            ],
            "layout": "IPY_MODEL_e222bb5c750947deb8e3cc417991e773"
          },
          "model_module_version": "1.5.0"
        },
        "354a205f6a794d4d93e0df6218f2a508": {
          "model_module": "@jupyter-widgets/controls",
          "model_name": "FloatProgressModel",
          "state": {
            "_dom_classes": [],
            "_model_module": "@jupyter-widgets/controls",
            "_model_module_version": "1.5.0",
            "_model_name": "FloatProgressModel",
            "_view_count": null,
            "_view_module": "@jupyter-widgets/controls",
            "_view_module_version": "1.5.0",
            "_view_name": "ProgressView",
            "bar_style": "success",
            "description": "Downloading: 100%",
            "description_tooltip": null,
            "layout": "IPY_MODEL_ce99a32885b44e1495d66b89605fbad2",
            "max": 5069051,
            "min": 0,
            "orientation": "horizontal",
            "style": "IPY_MODEL_33281397c0f54bde809b625df1149a5e",
            "value": 5069051
          },
          "model_module_version": "1.5.0"
        },
        "4526f058324e445690ad3aaf3e769c45": {
          "model_module": "@jupyter-widgets/controls",
          "model_name": "HTMLModel",
          "state": {
            "_dom_classes": [],
            "_model_module": "@jupyter-widgets/controls",
            "_model_module_version": "1.5.0",
            "_model_name": "HTMLModel",
            "_view_count": null,
            "_view_module": "@jupyter-widgets/controls",
            "_view_module_version": "1.5.0",
            "_view_name": "HTMLView",
            "description": "",
            "description_tooltip": null,
            "layout": "IPY_MODEL_0d0226dc6f6d48cf9ba5f8d8da8b3ec7",
            "placeholder": "​",
            "style": "IPY_MODEL_710058e09f7f4757a1da4aa7e19028eb",
            "value": " 5.07M/5.07M [00:04&lt;00:00, 1.21MB/s]"
          },
          "model_module_version": "1.5.0"
        },
        "e222bb5c750947deb8e3cc417991e773": {
          "model_module": "@jupyter-widgets/base",
          "model_name": "LayoutModel",
          "state": {
            "_model_module": "@jupyter-widgets/base",
            "_model_module_version": "1.2.0",
            "_model_name": "LayoutModel",
            "_view_count": null,
            "_view_module": "@jupyter-widgets/base",
            "_view_module_version": "1.2.0",
            "_view_name": "LayoutView",
            "align_content": null,
            "align_items": null,
            "align_self": null,
            "border": null,
            "bottom": null,
            "display": null,
            "flex": null,
            "flex_flow": null,
            "grid_area": null,
            "grid_auto_columns": null,
            "grid_auto_flow": null,
            "grid_auto_rows": null,
            "grid_column": null,
            "grid_gap": null,
            "grid_row": null,
            "grid_template_areas": null,
            "grid_template_columns": null,
            "grid_template_rows": null,
            "height": null,
            "justify_content": null,
            "justify_items": null,
            "left": null,
            "margin": null,
            "max_height": null,
            "max_width": null,
            "min_height": null,
            "min_width": null,
            "object_fit": null,
            "object_position": null,
            "order": null,
            "overflow": null,
            "overflow_x": null,
            "overflow_y": null,
            "padding": null,
            "right": null,
            "top": null,
            "visibility": null,
            "width": null
          },
          "model_module_version": "1.2.0"
        },
        "ce99a32885b44e1495d66b89605fbad2": {
          "model_module": "@jupyter-widgets/base",
          "model_name": "LayoutModel",
          "state": {
            "_model_module": "@jupyter-widgets/base",
            "_model_module_version": "1.2.0",
            "_model_name": "LayoutModel",
            "_view_count": null,
            "_view_module": "@jupyter-widgets/base",
            "_view_module_version": "1.2.0",
            "_view_name": "LayoutView",
            "align_content": null,
            "align_items": null,
            "align_self": null,
            "border": null,
            "bottom": null,
            "display": null,
            "flex": null,
            "flex_flow": null,
            "grid_area": null,
            "grid_auto_columns": null,
            "grid_auto_flow": null,
            "grid_auto_rows": null,
            "grid_column": null,
            "grid_gap": null,
            "grid_row": null,
            "grid_template_areas": null,
            "grid_template_columns": null,
            "grid_template_rows": null,
            "height": null,
            "justify_content": null,
            "justify_items": null,
            "left": null,
            "margin": null,
            "max_height": null,
            "max_width": null,
            "min_height": null,
            "min_width": null,
            "object_fit": null,
            "object_position": null,
            "order": null,
            "overflow": null,
            "overflow_x": null,
            "overflow_y": null,
            "padding": null,
            "right": null,
            "top": null,
            "visibility": null,
            "width": null
          },
          "model_module_version": "1.2.0"
        },
        "33281397c0f54bde809b625df1149a5e": {
          "model_module": "@jupyter-widgets/controls",
          "model_name": "ProgressStyleModel",
          "state": {
            "_model_module": "@jupyter-widgets/controls",
            "_model_module_version": "1.5.0",
            "_model_name": "ProgressStyleModel",
            "_view_count": null,
            "_view_module": "@jupyter-widgets/base",
            "_view_module_version": "1.2.0",
            "_view_name": "StyleView",
            "bar_color": null,
            "description_width": "initial"
          },
          "model_module_version": "1.5.0"
        },
        "0d0226dc6f6d48cf9ba5f8d8da8b3ec7": {
          "model_module": "@jupyter-widgets/base",
          "model_name": "LayoutModel",
          "state": {
            "_model_module": "@jupyter-widgets/base",
            "_model_module_version": "1.2.0",
            "_model_name": "LayoutModel",
            "_view_count": null,
            "_view_module": "@jupyter-widgets/base",
            "_view_module_version": "1.2.0",
            "_view_name": "LayoutView",
            "align_content": null,
            "align_items": null,
            "align_self": null,
            "border": null,
            "bottom": null,
            "display": null,
            "flex": null,
            "flex_flow": null,
            "grid_area": null,
            "grid_auto_columns": null,
            "grid_auto_flow": null,
            "grid_auto_rows": null,
            "grid_column": null,
            "grid_gap": null,
            "grid_row": null,
            "grid_template_areas": null,
            "grid_template_columns": null,
            "grid_template_rows": null,
            "height": null,
            "justify_content": null,
            "justify_items": null,
            "left": null,
            "margin": null,
            "max_height": null,
            "max_width": null,
            "min_height": null,
            "min_width": null,
            "object_fit": null,
            "object_position": null,
            "order": null,
            "overflow": null,
            "overflow_x": null,
            "overflow_y": null,
            "padding": null,
            "right": null,
            "top": null,
            "visibility": null,
            "width": null
          },
          "model_module_version": "1.2.0"
        },
        "710058e09f7f4757a1da4aa7e19028eb": {
          "model_module": "@jupyter-widgets/controls",
          "model_name": "DescriptionStyleModel",
          "state": {
            "_model_module": "@jupyter-widgets/controls",
            "_model_module_version": "1.5.0",
            "_model_name": "DescriptionStyleModel",
            "_view_count": null,
            "_view_module": "@jupyter-widgets/base",
            "_view_module_version": "1.2.0",
            "_view_name": "StyleView",
            "description_width": ""
          },
          "model_module_version": "1.5.0"
        },
        "2a43e09c845b4bec9cac49c9a0500b7f": {
          "model_module": "@jupyter-widgets/controls",
          "model_name": "HBoxModel",
          "state": {
            "_dom_classes": [],
            "_model_module": "@jupyter-widgets/controls",
            "_model_module_version": "1.5.0",
            "_model_name": "HBoxModel",
            "_view_count": null,
            "_view_module": "@jupyter-widgets/controls",
            "_view_module_version": "1.5.0",
            "_view_name": "HBoxView",
            "box_style": "",
            "children": [
              "IPY_MODEL_0d55c09a8f2541a2952771050147b3f8",
              "IPY_MODEL_2f985621aaa542d2b70e8f0a2a38e8db"
            ],
            "layout": "IPY_MODEL_c374f49ea561438da9476db670a34c1d"
          },
          "model_module_version": "1.5.0"
        },
        "0d55c09a8f2541a2952771050147b3f8": {
          "model_module": "@jupyter-widgets/controls",
          "model_name": "FloatProgressModel",
          "state": {
            "_dom_classes": [],
            "_model_module": "@jupyter-widgets/controls",
            "_model_module_version": "1.5.0",
            "_model_name": "FloatProgressModel",
            "_view_count": null,
            "_view_module": "@jupyter-widgets/controls",
            "_view_module_version": "1.5.0",
            "_view_name": "ProgressView",
            "bar_style": "success",
            "description": "Downloading: 100%",
            "description_tooltip": null,
            "layout": "IPY_MODEL_58f1584bb96d4641a7d11aacd6394c4f",
            "max": 150,
            "min": 0,
            "orientation": "horizontal",
            "style": "IPY_MODEL_f82aa0843a504c8a89678503473a7032",
            "value": 150
          },
          "model_module_version": "1.5.0"
        },
        "2f985621aaa542d2b70e8f0a2a38e8db": {
          "model_module": "@jupyter-widgets/controls",
          "model_name": "HTMLModel",
          "state": {
            "_dom_classes": [],
            "_model_module": "@jupyter-widgets/controls",
            "_model_module_version": "1.5.0",
            "_model_name": "HTMLModel",
            "_view_count": null,
            "_view_module": "@jupyter-widgets/controls",
            "_view_module_version": "1.5.0",
            "_view_name": "HTMLView",
            "description": "",
            "description_tooltip": null,
            "layout": "IPY_MODEL_cd2cbb9d8723438087f40ed3f78bd6ad",
            "placeholder": "​",
            "style": "IPY_MODEL_742665a41209488aaca739077676eb80",
            "value": " 150/150 [00:01&lt;00:00, 105B/s]"
          },
          "model_module_version": "1.5.0"
        },
        "c374f49ea561438da9476db670a34c1d": {
          "model_module": "@jupyter-widgets/base",
          "model_name": "LayoutModel",
          "state": {
            "_model_module": "@jupyter-widgets/base",
            "_model_module_version": "1.2.0",
            "_model_name": "LayoutModel",
            "_view_count": null,
            "_view_module": "@jupyter-widgets/base",
            "_view_module_version": "1.2.0",
            "_view_name": "LayoutView",
            "align_content": null,
            "align_items": null,
            "align_self": null,
            "border": null,
            "bottom": null,
            "display": null,
            "flex": null,
            "flex_flow": null,
            "grid_area": null,
            "grid_auto_columns": null,
            "grid_auto_flow": null,
            "grid_auto_rows": null,
            "grid_column": null,
            "grid_gap": null,
            "grid_row": null,
            "grid_template_areas": null,
            "grid_template_columns": null,
            "grid_template_rows": null,
            "height": null,
            "justify_content": null,
            "justify_items": null,
            "left": null,
            "margin": null,
            "max_height": null,
            "max_width": null,
            "min_height": null,
            "min_width": null,
            "object_fit": null,
            "object_position": null,
            "order": null,
            "overflow": null,
            "overflow_x": null,
            "overflow_y": null,
            "padding": null,
            "right": null,
            "top": null,
            "visibility": null,
            "width": null
          },
          "model_module_version": "1.2.0"
        },
        "58f1584bb96d4641a7d11aacd6394c4f": {
          "model_module": "@jupyter-widgets/base",
          "model_name": "LayoutModel",
          "state": {
            "_model_module": "@jupyter-widgets/base",
            "_model_module_version": "1.2.0",
            "_model_name": "LayoutModel",
            "_view_count": null,
            "_view_module": "@jupyter-widgets/base",
            "_view_module_version": "1.2.0",
            "_view_name": "LayoutView",
            "align_content": null,
            "align_items": null,
            "align_self": null,
            "border": null,
            "bottom": null,
            "display": null,
            "flex": null,
            "flex_flow": null,
            "grid_area": null,
            "grid_auto_columns": null,
            "grid_auto_flow": null,
            "grid_auto_rows": null,
            "grid_column": null,
            "grid_gap": null,
            "grid_row": null,
            "grid_template_areas": null,
            "grid_template_columns": null,
            "grid_template_rows": null,
            "height": null,
            "justify_content": null,
            "justify_items": null,
            "left": null,
            "margin": null,
            "max_height": null,
            "max_width": null,
            "min_height": null,
            "min_width": null,
            "object_fit": null,
            "object_position": null,
            "order": null,
            "overflow": null,
            "overflow_x": null,
            "overflow_y": null,
            "padding": null,
            "right": null,
            "top": null,
            "visibility": null,
            "width": null
          },
          "model_module_version": "1.2.0"
        },
        "f82aa0843a504c8a89678503473a7032": {
          "model_module": "@jupyter-widgets/controls",
          "model_name": "ProgressStyleModel",
          "state": {
            "_model_module": "@jupyter-widgets/controls",
            "_model_module_version": "1.5.0",
            "_model_name": "ProgressStyleModel",
            "_view_count": null,
            "_view_module": "@jupyter-widgets/base",
            "_view_module_version": "1.2.0",
            "_view_name": "StyleView",
            "bar_color": null,
            "description_width": "initial"
          },
          "model_module_version": "1.5.0"
        },
        "cd2cbb9d8723438087f40ed3f78bd6ad": {
          "model_module": "@jupyter-widgets/base",
          "model_name": "LayoutModel",
          "state": {
            "_model_module": "@jupyter-widgets/base",
            "_model_module_version": "1.2.0",
            "_model_name": "LayoutModel",
            "_view_count": null,
            "_view_module": "@jupyter-widgets/base",
            "_view_module_version": "1.2.0",
            "_view_name": "LayoutView",
            "align_content": null,
            "align_items": null,
            "align_self": null,
            "border": null,
            "bottom": null,
            "display": null,
            "flex": null,
            "flex_flow": null,
            "grid_area": null,
            "grid_auto_columns": null,
            "grid_auto_flow": null,
            "grid_auto_rows": null,
            "grid_column": null,
            "grid_gap": null,
            "grid_row": null,
            "grid_template_areas": null,
            "grid_template_columns": null,
            "grid_template_rows": null,
            "height": null,
            "justify_content": null,
            "justify_items": null,
            "left": null,
            "margin": null,
            "max_height": null,
            "max_width": null,
            "min_height": null,
            "min_width": null,
            "object_fit": null,
            "object_position": null,
            "order": null,
            "overflow": null,
            "overflow_x": null,
            "overflow_y": null,
            "padding": null,
            "right": null,
            "top": null,
            "visibility": null,
            "width": null
          },
          "model_module_version": "1.2.0"
        },
        "742665a41209488aaca739077676eb80": {
          "model_module": "@jupyter-widgets/controls",
          "model_name": "DescriptionStyleModel",
          "state": {
            "_model_module": "@jupyter-widgets/controls",
            "_model_module_version": "1.5.0",
            "_model_name": "DescriptionStyleModel",
            "_view_count": null,
            "_view_module": "@jupyter-widgets/base",
            "_view_module_version": "1.2.0",
            "_view_name": "StyleView",
            "description_width": ""
          },
          "model_module_version": "1.5.0"
        },
        "9dae0780308544d8b8ec272364460c29": {
          "model_module": "@jupyter-widgets/controls",
          "model_name": "HBoxModel",
          "state": {
            "_dom_classes": [],
            "_model_module": "@jupyter-widgets/controls",
            "_model_module_version": "1.5.0",
            "_model_name": "HBoxModel",
            "_view_count": null,
            "_view_module": "@jupyter-widgets/controls",
            "_view_module_version": "1.5.0",
            "_view_name": "HBoxView",
            "box_style": "",
            "children": [
              "IPY_MODEL_7de2644422ac4bd8889ca45bbececf36",
              "IPY_MODEL_32856c57b4004b34a3303c5bfbfc4c70"
            ],
            "layout": "IPY_MODEL_e5fc243bf69549458584d18d6b304bee"
          },
          "model_module_version": "1.5.0"
        },
        "7de2644422ac4bd8889ca45bbececf36": {
          "model_module": "@jupyter-widgets/controls",
          "model_name": "FloatProgressModel",
          "state": {
            "_dom_classes": [],
            "_model_module": "@jupyter-widgets/controls",
            "_model_module_version": "1.5.0",
            "_model_name": "FloatProgressModel",
            "_view_count": null,
            "_view_module": "@jupyter-widgets/controls",
            "_view_module_version": "1.5.0",
            "_view_name": "ProgressView",
            "bar_style": "success",
            "description": "Downloading: 100%",
            "description_tooltip": null,
            "layout": "IPY_MODEL_e3ab2620b5444f3ea29f3dc011120346",
            "max": 9096735,
            "min": 0,
            "orientation": "horizontal",
            "style": "IPY_MODEL_44bb040fb68d479bb22097b7ecb55243",
            "value": 9096735
          },
          "model_module_version": "1.5.0"
        },
        "32856c57b4004b34a3303c5bfbfc4c70": {
          "model_module": "@jupyter-widgets/controls",
          "model_name": "HTMLModel",
          "state": {
            "_dom_classes": [],
            "_model_module": "@jupyter-widgets/controls",
            "_model_module_version": "1.5.0",
            "_model_name": "HTMLModel",
            "_view_count": null,
            "_view_module": "@jupyter-widgets/controls",
            "_view_module_version": "1.5.0",
            "_view_name": "HTMLView",
            "description": "",
            "description_tooltip": null,
            "layout": "IPY_MODEL_fd896feec2fc497290763e3b6f9ad1c6",
            "placeholder": "​",
            "style": "IPY_MODEL_ea8d1aeb3015492fb7415aa320ac6715",
            "value": " 9.10M/9.10M [00:06&lt;00:00, 1.44MB/s]"
          },
          "model_module_version": "1.5.0"
        },
        "e5fc243bf69549458584d18d6b304bee": {
          "model_module": "@jupyter-widgets/base",
          "model_name": "LayoutModel",
          "state": {
            "_model_module": "@jupyter-widgets/base",
            "_model_module_version": "1.2.0",
            "_model_name": "LayoutModel",
            "_view_count": null,
            "_view_module": "@jupyter-widgets/base",
            "_view_module_version": "1.2.0",
            "_view_name": "LayoutView",
            "align_content": null,
            "align_items": null,
            "align_self": null,
            "border": null,
            "bottom": null,
            "display": null,
            "flex": null,
            "flex_flow": null,
            "grid_area": null,
            "grid_auto_columns": null,
            "grid_auto_flow": null,
            "grid_auto_rows": null,
            "grid_column": null,
            "grid_gap": null,
            "grid_row": null,
            "grid_template_areas": null,
            "grid_template_columns": null,
            "grid_template_rows": null,
            "height": null,
            "justify_content": null,
            "justify_items": null,
            "left": null,
            "margin": null,
            "max_height": null,
            "max_width": null,
            "min_height": null,
            "min_width": null,
            "object_fit": null,
            "object_position": null,
            "order": null,
            "overflow": null,
            "overflow_x": null,
            "overflow_y": null,
            "padding": null,
            "right": null,
            "top": null,
            "visibility": null,
            "width": null
          },
          "model_module_version": "1.2.0"
        },
        "e3ab2620b5444f3ea29f3dc011120346": {
          "model_module": "@jupyter-widgets/base",
          "model_name": "LayoutModel",
          "state": {
            "_model_module": "@jupyter-widgets/base",
            "_model_module_version": "1.2.0",
            "_model_name": "LayoutModel",
            "_view_count": null,
            "_view_module": "@jupyter-widgets/base",
            "_view_module_version": "1.2.0",
            "_view_name": "LayoutView",
            "align_content": null,
            "align_items": null,
            "align_self": null,
            "border": null,
            "bottom": null,
            "display": null,
            "flex": null,
            "flex_flow": null,
            "grid_area": null,
            "grid_auto_columns": null,
            "grid_auto_flow": null,
            "grid_auto_rows": null,
            "grid_column": null,
            "grid_gap": null,
            "grid_row": null,
            "grid_template_areas": null,
            "grid_template_columns": null,
            "grid_template_rows": null,
            "height": null,
            "justify_content": null,
            "justify_items": null,
            "left": null,
            "margin": null,
            "max_height": null,
            "max_width": null,
            "min_height": null,
            "min_width": null,
            "object_fit": null,
            "object_position": null,
            "order": null,
            "overflow": null,
            "overflow_x": null,
            "overflow_y": null,
            "padding": null,
            "right": null,
            "top": null,
            "visibility": null,
            "width": null
          },
          "model_module_version": "1.2.0"
        },
        "44bb040fb68d479bb22097b7ecb55243": {
          "model_module": "@jupyter-widgets/controls",
          "model_name": "ProgressStyleModel",
          "state": {
            "_model_module": "@jupyter-widgets/controls",
            "_model_module_version": "1.5.0",
            "_model_name": "ProgressStyleModel",
            "_view_count": null,
            "_view_module": "@jupyter-widgets/base",
            "_view_module_version": "1.2.0",
            "_view_name": "StyleView",
            "bar_color": null,
            "description_width": "initial"
          },
          "model_module_version": "1.5.0"
        },
        "fd896feec2fc497290763e3b6f9ad1c6": {
          "model_module": "@jupyter-widgets/base",
          "model_name": "LayoutModel",
          "state": {
            "_model_module": "@jupyter-widgets/base",
            "_model_module_version": "1.2.0",
            "_model_name": "LayoutModel",
            "_view_count": null,
            "_view_module": "@jupyter-widgets/base",
            "_view_module_version": "1.2.0",
            "_view_name": "LayoutView",
            "align_content": null,
            "align_items": null,
            "align_self": null,
            "border": null,
            "bottom": null,
            "display": null,
            "flex": null,
            "flex_flow": null,
            "grid_area": null,
            "grid_auto_columns": null,
            "grid_auto_flow": null,
            "grid_auto_rows": null,
            "grid_column": null,
            "grid_gap": null,
            "grid_row": null,
            "grid_template_areas": null,
            "grid_template_columns": null,
            "grid_template_rows": null,
            "height": null,
            "justify_content": null,
            "justify_items": null,
            "left": null,
            "margin": null,
            "max_height": null,
            "max_width": null,
            "min_height": null,
            "min_width": null,
            "object_fit": null,
            "object_position": null,
            "order": null,
            "overflow": null,
            "overflow_x": null,
            "overflow_y": null,
            "padding": null,
            "right": null,
            "top": null,
            "visibility": null,
            "width": null
          },
          "model_module_version": "1.2.0"
        },
        "ea8d1aeb3015492fb7415aa320ac6715": {
          "model_module": "@jupyter-widgets/controls",
          "model_name": "DescriptionStyleModel",
          "state": {
            "_model_module": "@jupyter-widgets/controls",
            "_model_module_version": "1.5.0",
            "_model_name": "DescriptionStyleModel",
            "_view_count": null,
            "_view_module": "@jupyter-widgets/base",
            "_view_module_version": "1.2.0",
            "_view_name": "StyleView",
            "description_width": ""
          },
          "model_module_version": "1.5.0"
        },
        "1405b35cf6464a228c33425b6f2e052f": {
          "model_module": "@jupyter-widgets/controls",
          "model_name": "HBoxModel",
          "state": {
            "_dom_classes": [],
            "_model_module": "@jupyter-widgets/controls",
            "_model_module_version": "1.5.0",
            "_model_name": "HBoxModel",
            "_view_count": null,
            "_view_module": "@jupyter-widgets/controls",
            "_view_module_version": "1.5.0",
            "_view_name": "HBoxView",
            "box_style": "",
            "children": [
              "IPY_MODEL_451ab8f79183458f8b75c6eb8e63f0cd",
              "IPY_MODEL_06f7f75af4094c78b940068d576e271c"
            ],
            "layout": "IPY_MODEL_e39c609a99534499be2fb4f689add328"
          },
          "model_module_version": "1.5.0"
        },
        "451ab8f79183458f8b75c6eb8e63f0cd": {
          "model_module": "@jupyter-widgets/controls",
          "model_name": "FloatProgressModel",
          "state": {
            "_dom_classes": [],
            "_model_module": "@jupyter-widgets/controls",
            "_model_module_version": "1.5.0",
            "_model_name": "FloatProgressModel",
            "_view_count": null,
            "_view_module": "@jupyter-widgets/controls",
            "_view_module_version": "1.5.0",
            "_view_name": "ProgressView",
            "bar_style": "success",
            "description": "Downloading: 100%",
            "description_tooltip": null,
            "layout": "IPY_MODEL_6d1e550a20124d32abf63d7c5f4b1101",
            "max": 505,
            "min": 0,
            "orientation": "horizontal",
            "style": "IPY_MODEL_1023f8a2ed164a2591c7791563a5376b",
            "value": 505
          },
          "model_module_version": "1.5.0"
        },
        "06f7f75af4094c78b940068d576e271c": {
          "model_module": "@jupyter-widgets/controls",
          "model_name": "HTMLModel",
          "state": {
            "_dom_classes": [],
            "_model_module": "@jupyter-widgets/controls",
            "_model_module_version": "1.5.0",
            "_model_name": "HTMLModel",
            "_view_count": null,
            "_view_module": "@jupyter-widgets/controls",
            "_view_module_version": "1.5.0",
            "_view_name": "HTMLView",
            "description": "",
            "description_tooltip": null,
            "layout": "IPY_MODEL_d9725a6baf8e417bb7a22fb866530d73",
            "placeholder": "​",
            "style": "IPY_MODEL_32d81ba0e8bf4aeebf8fa75abb4c1696",
            "value": " 505/505 [00:03&lt;00:00, 151B/s]"
          },
          "model_module_version": "1.5.0"
        },
        "e39c609a99534499be2fb4f689add328": {
          "model_module": "@jupyter-widgets/base",
          "model_name": "LayoutModel",
          "state": {
            "_model_module": "@jupyter-widgets/base",
            "_model_module_version": "1.2.0",
            "_model_name": "LayoutModel",
            "_view_count": null,
            "_view_module": "@jupyter-widgets/base",
            "_view_module_version": "1.2.0",
            "_view_name": "LayoutView",
            "align_content": null,
            "align_items": null,
            "align_self": null,
            "border": null,
            "bottom": null,
            "display": null,
            "flex": null,
            "flex_flow": null,
            "grid_area": null,
            "grid_auto_columns": null,
            "grid_auto_flow": null,
            "grid_auto_rows": null,
            "grid_column": null,
            "grid_gap": null,
            "grid_row": null,
            "grid_template_areas": null,
            "grid_template_columns": null,
            "grid_template_rows": null,
            "height": null,
            "justify_content": null,
            "justify_items": null,
            "left": null,
            "margin": null,
            "max_height": null,
            "max_width": null,
            "min_height": null,
            "min_width": null,
            "object_fit": null,
            "object_position": null,
            "order": null,
            "overflow": null,
            "overflow_x": null,
            "overflow_y": null,
            "padding": null,
            "right": null,
            "top": null,
            "visibility": null,
            "width": null
          },
          "model_module_version": "1.2.0"
        },
        "6d1e550a20124d32abf63d7c5f4b1101": {
          "model_module": "@jupyter-widgets/base",
          "model_name": "LayoutModel",
          "state": {
            "_model_module": "@jupyter-widgets/base",
            "_model_module_version": "1.2.0",
            "_model_name": "LayoutModel",
            "_view_count": null,
            "_view_module": "@jupyter-widgets/base",
            "_view_module_version": "1.2.0",
            "_view_name": "LayoutView",
            "align_content": null,
            "align_items": null,
            "align_self": null,
            "border": null,
            "bottom": null,
            "display": null,
            "flex": null,
            "flex_flow": null,
            "grid_area": null,
            "grid_auto_columns": null,
            "grid_auto_flow": null,
            "grid_auto_rows": null,
            "grid_column": null,
            "grid_gap": null,
            "grid_row": null,
            "grid_template_areas": null,
            "grid_template_columns": null,
            "grid_template_rows": null,
            "height": null,
            "justify_content": null,
            "justify_items": null,
            "left": null,
            "margin": null,
            "max_height": null,
            "max_width": null,
            "min_height": null,
            "min_width": null,
            "object_fit": null,
            "object_position": null,
            "order": null,
            "overflow": null,
            "overflow_x": null,
            "overflow_y": null,
            "padding": null,
            "right": null,
            "top": null,
            "visibility": null,
            "width": null
          },
          "model_module_version": "1.2.0"
        },
        "1023f8a2ed164a2591c7791563a5376b": {
          "model_module": "@jupyter-widgets/controls",
          "model_name": "ProgressStyleModel",
          "state": {
            "_model_module": "@jupyter-widgets/controls",
            "_model_module_version": "1.5.0",
            "_model_name": "ProgressStyleModel",
            "_view_count": null,
            "_view_module": "@jupyter-widgets/base",
            "_view_module_version": "1.2.0",
            "_view_name": "StyleView",
            "bar_color": null,
            "description_width": "initial"
          },
          "model_module_version": "1.5.0"
        },
        "d9725a6baf8e417bb7a22fb866530d73": {
          "model_module": "@jupyter-widgets/base",
          "model_name": "LayoutModel",
          "state": {
            "_model_module": "@jupyter-widgets/base",
            "_model_module_version": "1.2.0",
            "_model_name": "LayoutModel",
            "_view_count": null,
            "_view_module": "@jupyter-widgets/base",
            "_view_module_version": "1.2.0",
            "_view_name": "LayoutView",
            "align_content": null,
            "align_items": null,
            "align_self": null,
            "border": null,
            "bottom": null,
            "display": null,
            "flex": null,
            "flex_flow": null,
            "grid_area": null,
            "grid_auto_columns": null,
            "grid_auto_flow": null,
            "grid_auto_rows": null,
            "grid_column": null,
            "grid_gap": null,
            "grid_row": null,
            "grid_template_areas": null,
            "grid_template_columns": null,
            "grid_template_rows": null,
            "height": null,
            "justify_content": null,
            "justify_items": null,
            "left": null,
            "margin": null,
            "max_height": null,
            "max_width": null,
            "min_height": null,
            "min_width": null,
            "object_fit": null,
            "object_position": null,
            "order": null,
            "overflow": null,
            "overflow_x": null,
            "overflow_y": null,
            "padding": null,
            "right": null,
            "top": null,
            "visibility": null,
            "width": null
          },
          "model_module_version": "1.2.0"
        },
        "32d81ba0e8bf4aeebf8fa75abb4c1696": {
          "model_module": "@jupyter-widgets/controls",
          "model_name": "DescriptionStyleModel",
          "state": {
            "_model_module": "@jupyter-widgets/controls",
            "_model_module_version": "1.5.0",
            "_model_name": "DescriptionStyleModel",
            "_view_count": null,
            "_view_module": "@jupyter-widgets/base",
            "_view_module_version": "1.2.0",
            "_view_name": "StyleView",
            "description_width": ""
          },
          "model_module_version": "1.5.0"
        },
        "300ec88f85884e40bcb19426f3bd27af": {
          "model_module": "@jupyter-widgets/controls",
          "model_name": "HBoxModel",
          "state": {
            "_dom_classes": [],
            "_model_module": "@jupyter-widgets/controls",
            "_model_module_version": "1.5.0",
            "_model_name": "HBoxModel",
            "_view_count": null,
            "_view_module": "@jupyter-widgets/controls",
            "_view_module_version": "1.5.0",
            "_view_name": "HBoxView",
            "box_style": "",
            "children": [
              "IPY_MODEL_e4a32306e58c44f584a5fb314ed705a6",
              "IPY_MODEL_1a69c3d7647d4fd3941e45339463214b"
            ],
            "layout": "IPY_MODEL_6a66fadbd575467d8f9008d2eb61fe36"
          },
          "model_module_version": "1.5.0"
        },
        "e4a32306e58c44f584a5fb314ed705a6": {
          "model_module": "@jupyter-widgets/controls",
          "model_name": "FloatProgressModel",
          "state": {
            "_dom_classes": [],
            "_model_module": "@jupyter-widgets/controls",
            "_model_module_version": "1.5.0",
            "_model_name": "FloatProgressModel",
            "_view_count": null,
            "_view_module": "@jupyter-widgets/controls",
            "_view_module_version": "1.5.0",
            "_view_name": "ProgressView",
            "bar_style": "success",
            "description": "Downloading: 100%",
            "description_tooltip": null,
            "layout": "IPY_MODEL_0261445e5bda419a8f0c4f01bf4589ef",
            "max": 190,
            "min": 0,
            "orientation": "horizontal",
            "style": "IPY_MODEL_ae018ea0e69940e1b9da90bf31aa9d0c",
            "value": 190
          },
          "model_module_version": "1.5.0"
        },
        "1a69c3d7647d4fd3941e45339463214b": {
          "model_module": "@jupyter-widgets/controls",
          "model_name": "HTMLModel",
          "state": {
            "_dom_classes": [],
            "_model_module": "@jupyter-widgets/controls",
            "_model_module_version": "1.5.0",
            "_model_name": "HTMLModel",
            "_view_count": null,
            "_view_module": "@jupyter-widgets/controls",
            "_view_module_version": "1.5.0",
            "_view_name": "HTMLView",
            "description": "",
            "description_tooltip": null,
            "layout": "IPY_MODEL_63080b22184e4ad1aa7d6da52bd21d7c",
            "placeholder": "​",
            "style": "IPY_MODEL_21eec60d47c6467999a1f6b409cff5c0",
            "value": " 190/190 [00:01&lt;00:00, 103B/s]"
          },
          "model_module_version": "1.5.0"
        },
        "6a66fadbd575467d8f9008d2eb61fe36": {
          "model_module": "@jupyter-widgets/base",
          "model_name": "LayoutModel",
          "state": {
            "_model_module": "@jupyter-widgets/base",
            "_model_module_version": "1.2.0",
            "_model_name": "LayoutModel",
            "_view_count": null,
            "_view_module": "@jupyter-widgets/base",
            "_view_module_version": "1.2.0",
            "_view_name": "LayoutView",
            "align_content": null,
            "align_items": null,
            "align_self": null,
            "border": null,
            "bottom": null,
            "display": null,
            "flex": null,
            "flex_flow": null,
            "grid_area": null,
            "grid_auto_columns": null,
            "grid_auto_flow": null,
            "grid_auto_rows": null,
            "grid_column": null,
            "grid_gap": null,
            "grid_row": null,
            "grid_template_areas": null,
            "grid_template_columns": null,
            "grid_template_rows": null,
            "height": null,
            "justify_content": null,
            "justify_items": null,
            "left": null,
            "margin": null,
            "max_height": null,
            "max_width": null,
            "min_height": null,
            "min_width": null,
            "object_fit": null,
            "object_position": null,
            "order": null,
            "overflow": null,
            "overflow_x": null,
            "overflow_y": null,
            "padding": null,
            "right": null,
            "top": null,
            "visibility": null,
            "width": null
          },
          "model_module_version": "1.2.0"
        },
        "0261445e5bda419a8f0c4f01bf4589ef": {
          "model_module": "@jupyter-widgets/base",
          "model_name": "LayoutModel",
          "state": {
            "_model_module": "@jupyter-widgets/base",
            "_model_module_version": "1.2.0",
            "_model_name": "LayoutModel",
            "_view_count": null,
            "_view_module": "@jupyter-widgets/base",
            "_view_module_version": "1.2.0",
            "_view_name": "LayoutView",
            "align_content": null,
            "align_items": null,
            "align_self": null,
            "border": null,
            "bottom": null,
            "display": null,
            "flex": null,
            "flex_flow": null,
            "grid_area": null,
            "grid_auto_columns": null,
            "grid_auto_flow": null,
            "grid_auto_rows": null,
            "grid_column": null,
            "grid_gap": null,
            "grid_row": null,
            "grid_template_areas": null,
            "grid_template_columns": null,
            "grid_template_rows": null,
            "height": null,
            "justify_content": null,
            "justify_items": null,
            "left": null,
            "margin": null,
            "max_height": null,
            "max_width": null,
            "min_height": null,
            "min_width": null,
            "object_fit": null,
            "object_position": null,
            "order": null,
            "overflow": null,
            "overflow_x": null,
            "overflow_y": null,
            "padding": null,
            "right": null,
            "top": null,
            "visibility": null,
            "width": null
          },
          "model_module_version": "1.2.0"
        },
        "ae018ea0e69940e1b9da90bf31aa9d0c": {
          "model_module": "@jupyter-widgets/controls",
          "model_name": "ProgressStyleModel",
          "state": {
            "_model_module": "@jupyter-widgets/controls",
            "_model_module_version": "1.5.0",
            "_model_name": "ProgressStyleModel",
            "_view_count": null,
            "_view_module": "@jupyter-widgets/base",
            "_view_module_version": "1.2.0",
            "_view_name": "StyleView",
            "bar_color": null,
            "description_width": "initial"
          },
          "model_module_version": "1.5.0"
        },
        "63080b22184e4ad1aa7d6da52bd21d7c": {
          "model_module": "@jupyter-widgets/base",
          "model_name": "LayoutModel",
          "state": {
            "_model_module": "@jupyter-widgets/base",
            "_model_module_version": "1.2.0",
            "_model_name": "LayoutModel",
            "_view_count": null,
            "_view_module": "@jupyter-widgets/base",
            "_view_module_version": "1.2.0",
            "_view_name": "LayoutView",
            "align_content": null,
            "align_items": null,
            "align_self": null,
            "border": null,
            "bottom": null,
            "display": null,
            "flex": null,
            "flex_flow": null,
            "grid_area": null,
            "grid_auto_columns": null,
            "grid_auto_flow": null,
            "grid_auto_rows": null,
            "grid_column": null,
            "grid_gap": null,
            "grid_row": null,
            "grid_template_areas": null,
            "grid_template_columns": null,
            "grid_template_rows": null,
            "height": null,
            "justify_content": null,
            "justify_items": null,
            "left": null,
            "margin": null,
            "max_height": null,
            "max_width": null,
            "min_height": null,
            "min_width": null,
            "object_fit": null,
            "object_position": null,
            "order": null,
            "overflow": null,
            "overflow_x": null,
            "overflow_y": null,
            "padding": null,
            "right": null,
            "top": null,
            "visibility": null,
            "width": null
          },
          "model_module_version": "1.2.0"
        },
        "21eec60d47c6467999a1f6b409cff5c0": {
          "model_module": "@jupyter-widgets/controls",
          "model_name": "DescriptionStyleModel",
          "state": {
            "_model_module": "@jupyter-widgets/controls",
            "_model_module_version": "1.5.0",
            "_model_name": "DescriptionStyleModel",
            "_view_count": null,
            "_view_module": "@jupyter-widgets/base",
            "_view_module_version": "1.2.0",
            "_view_name": "StyleView",
            "description_width": ""
          },
          "model_module_version": "1.5.0"
        },
        "ec7097f9415e40e496b552b61b29677b": {
          "model_module": "@jupyter-widgets/controls",
          "model_name": "HBoxModel",
          "state": {
            "_dom_classes": [],
            "_model_module": "@jupyter-widgets/controls",
            "_model_module_version": "1.5.0",
            "_model_name": "HBoxModel",
            "_view_count": null,
            "_view_module": "@jupyter-widgets/controls",
            "_view_module_version": "1.5.0",
            "_view_name": "HBoxView",
            "box_style": "",
            "children": [
              "IPY_MODEL_8f0a1e0924714de3bba812e88bc62352",
              "IPY_MODEL_8bff251cfbbc48f380868bdb09343f41"
            ],
            "layout": "IPY_MODEL_24764f4028314c898bc1b0a24b71cd06"
          },
          "model_module_version": "1.5.0"
        },
        "8f0a1e0924714de3bba812e88bc62352": {
          "model_module": "@jupyter-widgets/controls",
          "model_name": "FloatProgressModel",
          "state": {
            "_dom_classes": [],
            "_model_module": "@jupyter-widgets/controls",
            "_model_module_version": "1.5.0",
            "_model_name": "FloatProgressModel",
            "_view_count": null,
            "_view_module": "@jupyter-widgets/controls",
            "_view_module_version": "1.5.0",
            "_view_name": "ProgressView",
            "bar_style": "success",
            "description": "Batches: 100%",
            "description_tooltip": null,
            "layout": "IPY_MODEL_5ba483bad8a24cf6a1d6929fc3769999",
            "max": 72,
            "min": 0,
            "orientation": "horizontal",
            "style": "IPY_MODEL_a0ab3147e7b244f3b7cec720f779372d",
            "value": 72
          },
          "model_module_version": "1.5.0"
        },
        "8bff251cfbbc48f380868bdb09343f41": {
          "model_module": "@jupyter-widgets/controls",
          "model_name": "HTMLModel",
          "state": {
            "_dom_classes": [],
            "_model_module": "@jupyter-widgets/controls",
            "_model_module_version": "1.5.0",
            "_model_name": "HTMLModel",
            "_view_count": null,
            "_view_module": "@jupyter-widgets/controls",
            "_view_module_version": "1.5.0",
            "_view_name": "HTMLView",
            "description": "",
            "description_tooltip": null,
            "layout": "IPY_MODEL_b9a9c6374c424d078834a7c692dadb90",
            "placeholder": "​",
            "style": "IPY_MODEL_cfb03a9fef1c4fa6ab52bdd0c1e650b1",
            "value": " 72/72 [12:37&lt;00:00, 10.52s/it]"
          },
          "model_module_version": "1.5.0"
        },
        "24764f4028314c898bc1b0a24b71cd06": {
          "model_module": "@jupyter-widgets/base",
          "model_name": "LayoutModel",
          "state": {
            "_model_module": "@jupyter-widgets/base",
            "_model_module_version": "1.2.0",
            "_model_name": "LayoutModel",
            "_view_count": null,
            "_view_module": "@jupyter-widgets/base",
            "_view_module_version": "1.2.0",
            "_view_name": "LayoutView",
            "align_content": null,
            "align_items": null,
            "align_self": null,
            "border": null,
            "bottom": null,
            "display": null,
            "flex": null,
            "flex_flow": null,
            "grid_area": null,
            "grid_auto_columns": null,
            "grid_auto_flow": null,
            "grid_auto_rows": null,
            "grid_column": null,
            "grid_gap": null,
            "grid_row": null,
            "grid_template_areas": null,
            "grid_template_columns": null,
            "grid_template_rows": null,
            "height": null,
            "justify_content": null,
            "justify_items": null,
            "left": null,
            "margin": null,
            "max_height": null,
            "max_width": null,
            "min_height": null,
            "min_width": null,
            "object_fit": null,
            "object_position": null,
            "order": null,
            "overflow": null,
            "overflow_x": null,
            "overflow_y": null,
            "padding": null,
            "right": null,
            "top": null,
            "visibility": null,
            "width": null
          },
          "model_module_version": "1.2.0"
        },
        "5ba483bad8a24cf6a1d6929fc3769999": {
          "model_module": "@jupyter-widgets/base",
          "model_name": "LayoutModel",
          "state": {
            "_model_module": "@jupyter-widgets/base",
            "_model_module_version": "1.2.0",
            "_model_name": "LayoutModel",
            "_view_count": null,
            "_view_module": "@jupyter-widgets/base",
            "_view_module_version": "1.2.0",
            "_view_name": "LayoutView",
            "align_content": null,
            "align_items": null,
            "align_self": null,
            "border": null,
            "bottom": null,
            "display": null,
            "flex": null,
            "flex_flow": null,
            "grid_area": null,
            "grid_auto_columns": null,
            "grid_auto_flow": null,
            "grid_auto_rows": null,
            "grid_column": null,
            "grid_gap": null,
            "grid_row": null,
            "grid_template_areas": null,
            "grid_template_columns": null,
            "grid_template_rows": null,
            "height": null,
            "justify_content": null,
            "justify_items": null,
            "left": null,
            "margin": null,
            "max_height": null,
            "max_width": null,
            "min_height": null,
            "min_width": null,
            "object_fit": null,
            "object_position": null,
            "order": null,
            "overflow": null,
            "overflow_x": null,
            "overflow_y": null,
            "padding": null,
            "right": null,
            "top": null,
            "visibility": null,
            "width": null
          },
          "model_module_version": "1.2.0"
        },
        "a0ab3147e7b244f3b7cec720f779372d": {
          "model_module": "@jupyter-widgets/controls",
          "model_name": "ProgressStyleModel",
          "state": {
            "_model_module": "@jupyter-widgets/controls",
            "_model_module_version": "1.5.0",
            "_model_name": "ProgressStyleModel",
            "_view_count": null,
            "_view_module": "@jupyter-widgets/base",
            "_view_module_version": "1.2.0",
            "_view_name": "StyleView",
            "bar_color": null,
            "description_width": "initial"
          },
          "model_module_version": "1.5.0"
        },
        "b9a9c6374c424d078834a7c692dadb90": {
          "model_module": "@jupyter-widgets/base",
          "model_name": "LayoutModel",
          "state": {
            "_model_module": "@jupyter-widgets/base",
            "_model_module_version": "1.2.0",
            "_model_name": "LayoutModel",
            "_view_count": null,
            "_view_module": "@jupyter-widgets/base",
            "_view_module_version": "1.2.0",
            "_view_name": "LayoutView",
            "align_content": null,
            "align_items": null,
            "align_self": null,
            "border": null,
            "bottom": null,
            "display": null,
            "flex": null,
            "flex_flow": null,
            "grid_area": null,
            "grid_auto_columns": null,
            "grid_auto_flow": null,
            "grid_auto_rows": null,
            "grid_column": null,
            "grid_gap": null,
            "grid_row": null,
            "grid_template_areas": null,
            "grid_template_columns": null,
            "grid_template_rows": null,
            "height": null,
            "justify_content": null,
            "justify_items": null,
            "left": null,
            "margin": null,
            "max_height": null,
            "max_width": null,
            "min_height": null,
            "min_width": null,
            "object_fit": null,
            "object_position": null,
            "order": null,
            "overflow": null,
            "overflow_x": null,
            "overflow_y": null,
            "padding": null,
            "right": null,
            "top": null,
            "visibility": null,
            "width": null
          },
          "model_module_version": "1.2.0"
        },
        "cfb03a9fef1c4fa6ab52bdd0c1e650b1": {
          "model_module": "@jupyter-widgets/controls",
          "model_name": "DescriptionStyleModel",
          "state": {
            "_model_module": "@jupyter-widgets/controls",
            "_model_module_version": "1.5.0",
            "_model_name": "DescriptionStyleModel",
            "_view_count": null,
            "_view_module": "@jupyter-widgets/base",
            "_view_module_version": "1.2.0",
            "_view_name": "StyleView",
            "description_width": ""
          },
          "model_module_version": "1.5.0"
        },
        "92572c03d40d46f29ec2173b03ea0643": {
          "model_module": "@jupyter-widgets/controls",
          "model_name": "HBoxModel",
          "state": {
            "_dom_classes": [],
            "_model_module": "@jupyter-widgets/controls",
            "_model_module_version": "1.5.0",
            "_model_name": "HBoxModel",
            "_view_count": null,
            "_view_module": "@jupyter-widgets/controls",
            "_view_module_version": "1.5.0",
            "_view_name": "HBoxView",
            "box_style": "",
            "children": [
              "IPY_MODEL_d84603b5e245448d8aa01963be2fda3c",
              "IPY_MODEL_1500d2ac51ca443e9d4f5739b2c008c1"
            ],
            "layout": "IPY_MODEL_a56db5917a534361b174560de72710b0"
          },
          "model_module_version": "1.5.0"
        },
        "d84603b5e245448d8aa01963be2fda3c": {
          "model_module": "@jupyter-widgets/controls",
          "model_name": "FloatProgressModel",
          "state": {
            "_dom_classes": [],
            "_model_module": "@jupyter-widgets/controls",
            "_model_module_version": "1.5.0",
            "_model_name": "FloatProgressModel",
            "_view_count": null,
            "_view_module": "@jupyter-widgets/controls",
            "_view_module_version": "1.5.0",
            "_view_name": "ProgressView",
            "bar_style": "success",
            "description": "Downloading: 100%",
            "description_tooltip": null,
            "layout": "IPY_MODEL_1dfd741209d9417fbcca2e9eca850160",
            "max": 345,
            "min": 0,
            "orientation": "horizontal",
            "style": "IPY_MODEL_97455bcc5a6e4bd4a30fe568f0118133",
            "value": 345
          },
          "model_module_version": "1.5.0"
        },
        "1500d2ac51ca443e9d4f5739b2c008c1": {
          "model_module": "@jupyter-widgets/controls",
          "model_name": "HTMLModel",
          "state": {
            "_dom_classes": [],
            "_model_module": "@jupyter-widgets/controls",
            "_model_module_version": "1.5.0",
            "_model_name": "HTMLModel",
            "_view_count": null,
            "_view_module": "@jupyter-widgets/controls",
            "_view_module_version": "1.5.0",
            "_view_name": "HTMLView",
            "description": "",
            "description_tooltip": null,
            "layout": "IPY_MODEL_0264d07a46c0489ba7942c910bdeed37",
            "placeholder": "​",
            "style": "IPY_MODEL_167ec9d8641344c9882f65d19d9c6b80",
            "value": " 345/345 [00:01&lt;00:00, 231B/s]"
          },
          "model_module_version": "1.5.0"
        },
        "a56db5917a534361b174560de72710b0": {
          "model_module": "@jupyter-widgets/base",
          "model_name": "LayoutModel",
          "state": {
            "_model_module": "@jupyter-widgets/base",
            "_model_module_version": "1.2.0",
            "_model_name": "LayoutModel",
            "_view_count": null,
            "_view_module": "@jupyter-widgets/base",
            "_view_module_version": "1.2.0",
            "_view_name": "LayoutView",
            "align_content": null,
            "align_items": null,
            "align_self": null,
            "border": null,
            "bottom": null,
            "display": null,
            "flex": null,
            "flex_flow": null,
            "grid_area": null,
            "grid_auto_columns": null,
            "grid_auto_flow": null,
            "grid_auto_rows": null,
            "grid_column": null,
            "grid_gap": null,
            "grid_row": null,
            "grid_template_areas": null,
            "grid_template_columns": null,
            "grid_template_rows": null,
            "height": null,
            "justify_content": null,
            "justify_items": null,
            "left": null,
            "margin": null,
            "max_height": null,
            "max_width": null,
            "min_height": null,
            "min_width": null,
            "object_fit": null,
            "object_position": null,
            "order": null,
            "overflow": null,
            "overflow_x": null,
            "overflow_y": null,
            "padding": null,
            "right": null,
            "top": null,
            "visibility": null,
            "width": null
          },
          "model_module_version": "1.2.0"
        },
        "1dfd741209d9417fbcca2e9eca850160": {
          "model_module": "@jupyter-widgets/base",
          "model_name": "LayoutModel",
          "state": {
            "_model_module": "@jupyter-widgets/base",
            "_model_module_version": "1.2.0",
            "_model_name": "LayoutModel",
            "_view_count": null,
            "_view_module": "@jupyter-widgets/base",
            "_view_module_version": "1.2.0",
            "_view_name": "LayoutView",
            "align_content": null,
            "align_items": null,
            "align_self": null,
            "border": null,
            "bottom": null,
            "display": null,
            "flex": null,
            "flex_flow": null,
            "grid_area": null,
            "grid_auto_columns": null,
            "grid_auto_flow": null,
            "grid_auto_rows": null,
            "grid_column": null,
            "grid_gap": null,
            "grid_row": null,
            "grid_template_areas": null,
            "grid_template_columns": null,
            "grid_template_rows": null,
            "height": null,
            "justify_content": null,
            "justify_items": null,
            "left": null,
            "margin": null,
            "max_height": null,
            "max_width": null,
            "min_height": null,
            "min_width": null,
            "object_fit": null,
            "object_position": null,
            "order": null,
            "overflow": null,
            "overflow_x": null,
            "overflow_y": null,
            "padding": null,
            "right": null,
            "top": null,
            "visibility": null,
            "width": null
          },
          "model_module_version": "1.2.0"
        },
        "97455bcc5a6e4bd4a30fe568f0118133": {
          "model_module": "@jupyter-widgets/controls",
          "model_name": "ProgressStyleModel",
          "state": {
            "_model_module": "@jupyter-widgets/controls",
            "_model_module_version": "1.5.0",
            "_model_name": "ProgressStyleModel",
            "_view_count": null,
            "_view_module": "@jupyter-widgets/base",
            "_view_module_version": "1.2.0",
            "_view_name": "StyleView",
            "bar_color": null,
            "description_width": "initial"
          },
          "model_module_version": "1.5.0"
        },
        "0264d07a46c0489ba7942c910bdeed37": {
          "model_module": "@jupyter-widgets/base",
          "model_name": "LayoutModel",
          "state": {
            "_model_module": "@jupyter-widgets/base",
            "_model_module_version": "1.2.0",
            "_model_name": "LayoutModel",
            "_view_count": null,
            "_view_module": "@jupyter-widgets/base",
            "_view_module_version": "1.2.0",
            "_view_name": "LayoutView",
            "align_content": null,
            "align_items": null,
            "align_self": null,
            "border": null,
            "bottom": null,
            "display": null,
            "flex": null,
            "flex_flow": null,
            "grid_area": null,
            "grid_auto_columns": null,
            "grid_auto_flow": null,
            "grid_auto_rows": null,
            "grid_column": null,
            "grid_gap": null,
            "grid_row": null,
            "grid_template_areas": null,
            "grid_template_columns": null,
            "grid_template_rows": null,
            "height": null,
            "justify_content": null,
            "justify_items": null,
            "left": null,
            "margin": null,
            "max_height": null,
            "max_width": null,
            "min_height": null,
            "min_width": null,
            "object_fit": null,
            "object_position": null,
            "order": null,
            "overflow": null,
            "overflow_x": null,
            "overflow_y": null,
            "padding": null,
            "right": null,
            "top": null,
            "visibility": null,
            "width": null
          },
          "model_module_version": "1.2.0"
        },
        "167ec9d8641344c9882f65d19d9c6b80": {
          "model_module": "@jupyter-widgets/controls",
          "model_name": "DescriptionStyleModel",
          "state": {
            "_model_module": "@jupyter-widgets/controls",
            "_model_module_version": "1.5.0",
            "_model_name": "DescriptionStyleModel",
            "_view_count": null,
            "_view_module": "@jupyter-widgets/base",
            "_view_module_version": "1.2.0",
            "_view_name": "StyleView",
            "description_width": ""
          },
          "model_module_version": "1.5.0"
        },
        "60caa07f1ec44bc99b1e151d95d492d5": {
          "model_module": "@jupyter-widgets/controls",
          "model_name": "HBoxModel",
          "state": {
            "_dom_classes": [],
            "_model_module": "@jupyter-widgets/controls",
            "_model_module_version": "1.5.0",
            "_model_name": "HBoxModel",
            "_view_count": null,
            "_view_module": "@jupyter-widgets/controls",
            "_view_module_version": "1.5.0",
            "_view_name": "HBoxView",
            "box_style": "",
            "children": [
              "IPY_MODEL_8da84eff19f646a9bf16f3c5967f643c",
              "IPY_MODEL_1d9e20b2865a4a74bd43d71cc6829e76"
            ],
            "layout": "IPY_MODEL_3e6ff18c284e46498277da6cc9ad0f8a"
          },
          "model_module_version": "1.5.0"
        },
        "8da84eff19f646a9bf16f3c5967f643c": {
          "model_module": "@jupyter-widgets/controls",
          "model_name": "FloatProgressModel",
          "state": {
            "_dom_classes": [],
            "_model_module": "@jupyter-widgets/controls",
            "_model_module_version": "1.5.0",
            "_model_name": "FloatProgressModel",
            "_view_count": null,
            "_view_module": "@jupyter-widgets/controls",
            "_view_module_version": "1.5.0",
            "_view_name": "ProgressView",
            "bar_style": "success",
            "description": "Downloading: 100%",
            "description_tooltip": null,
            "layout": "IPY_MODEL_26a0b9e8147e4c0da77ed0d04a2189e2",
            "max": 3709,
            "min": 0,
            "orientation": "horizontal",
            "style": "IPY_MODEL_5fda22cae7c34c74bda43f19223332fb",
            "value": 3709
          },
          "model_module_version": "1.5.0"
        },
        "1d9e20b2865a4a74bd43d71cc6829e76": {
          "model_module": "@jupyter-widgets/controls",
          "model_name": "HTMLModel",
          "state": {
            "_dom_classes": [],
            "_model_module": "@jupyter-widgets/controls",
            "_model_module_version": "1.5.0",
            "_model_name": "HTMLModel",
            "_view_count": null,
            "_view_module": "@jupyter-widgets/controls",
            "_view_module_version": "1.5.0",
            "_view_name": "HTMLView",
            "description": "",
            "description_tooltip": null,
            "layout": "IPY_MODEL_bf17d2eeda8f4a2cb7f28afbe57b4f0a",
            "placeholder": "​",
            "style": "IPY_MODEL_7f0f47b2cf2f40a5a321394ecd2876e7",
            "value": " 3.71k/3.71k [11:06&lt;00:00, 5.57B/s]"
          },
          "model_module_version": "1.5.0"
        },
        "3e6ff18c284e46498277da6cc9ad0f8a": {
          "model_module": "@jupyter-widgets/base",
          "model_name": "LayoutModel",
          "state": {
            "_model_module": "@jupyter-widgets/base",
            "_model_module_version": "1.2.0",
            "_model_name": "LayoutModel",
            "_view_count": null,
            "_view_module": "@jupyter-widgets/base",
            "_view_module_version": "1.2.0",
            "_view_name": "LayoutView",
            "align_content": null,
            "align_items": null,
            "align_self": null,
            "border": null,
            "bottom": null,
            "display": null,
            "flex": null,
            "flex_flow": null,
            "grid_area": null,
            "grid_auto_columns": null,
            "grid_auto_flow": null,
            "grid_auto_rows": null,
            "grid_column": null,
            "grid_gap": null,
            "grid_row": null,
            "grid_template_areas": null,
            "grid_template_columns": null,
            "grid_template_rows": null,
            "height": null,
            "justify_content": null,
            "justify_items": null,
            "left": null,
            "margin": null,
            "max_height": null,
            "max_width": null,
            "min_height": null,
            "min_width": null,
            "object_fit": null,
            "object_position": null,
            "order": null,
            "overflow": null,
            "overflow_x": null,
            "overflow_y": null,
            "padding": null,
            "right": null,
            "top": null,
            "visibility": null,
            "width": null
          },
          "model_module_version": "1.2.0"
        },
        "26a0b9e8147e4c0da77ed0d04a2189e2": {
          "model_module": "@jupyter-widgets/base",
          "model_name": "LayoutModel",
          "state": {
            "_model_module": "@jupyter-widgets/base",
            "_model_module_version": "1.2.0",
            "_model_name": "LayoutModel",
            "_view_count": null,
            "_view_module": "@jupyter-widgets/base",
            "_view_module_version": "1.2.0",
            "_view_name": "LayoutView",
            "align_content": null,
            "align_items": null,
            "align_self": null,
            "border": null,
            "bottom": null,
            "display": null,
            "flex": null,
            "flex_flow": null,
            "grid_area": null,
            "grid_auto_columns": null,
            "grid_auto_flow": null,
            "grid_auto_rows": null,
            "grid_column": null,
            "grid_gap": null,
            "grid_row": null,
            "grid_template_areas": null,
            "grid_template_columns": null,
            "grid_template_rows": null,
            "height": null,
            "justify_content": null,
            "justify_items": null,
            "left": null,
            "margin": null,
            "max_height": null,
            "max_width": null,
            "min_height": null,
            "min_width": null,
            "object_fit": null,
            "object_position": null,
            "order": null,
            "overflow": null,
            "overflow_x": null,
            "overflow_y": null,
            "padding": null,
            "right": null,
            "top": null,
            "visibility": null,
            "width": null
          },
          "model_module_version": "1.2.0"
        },
        "5fda22cae7c34c74bda43f19223332fb": {
          "model_module": "@jupyter-widgets/controls",
          "model_name": "ProgressStyleModel",
          "state": {
            "_model_module": "@jupyter-widgets/controls",
            "_model_module_version": "1.5.0",
            "_model_name": "ProgressStyleModel",
            "_view_count": null,
            "_view_module": "@jupyter-widgets/base",
            "_view_module_version": "1.2.0",
            "_view_name": "StyleView",
            "bar_color": null,
            "description_width": "initial"
          },
          "model_module_version": "1.5.0"
        },
        "bf17d2eeda8f4a2cb7f28afbe57b4f0a": {
          "model_module": "@jupyter-widgets/base",
          "model_name": "LayoutModel",
          "state": {
            "_model_module": "@jupyter-widgets/base",
            "_model_module_version": "1.2.0",
            "_model_name": "LayoutModel",
            "_view_count": null,
            "_view_module": "@jupyter-widgets/base",
            "_view_module_version": "1.2.0",
            "_view_name": "LayoutView",
            "align_content": null,
            "align_items": null,
            "align_self": null,
            "border": null,
            "bottom": null,
            "display": null,
            "flex": null,
            "flex_flow": null,
            "grid_area": null,
            "grid_auto_columns": null,
            "grid_auto_flow": null,
            "grid_auto_rows": null,
            "grid_column": null,
            "grid_gap": null,
            "grid_row": null,
            "grid_template_areas": null,
            "grid_template_columns": null,
            "grid_template_rows": null,
            "height": null,
            "justify_content": null,
            "justify_items": null,
            "left": null,
            "margin": null,
            "max_height": null,
            "max_width": null,
            "min_height": null,
            "min_width": null,
            "object_fit": null,
            "object_position": null,
            "order": null,
            "overflow": null,
            "overflow_x": null,
            "overflow_y": null,
            "padding": null,
            "right": null,
            "top": null,
            "visibility": null,
            "width": null
          },
          "model_module_version": "1.2.0"
        },
        "7f0f47b2cf2f40a5a321394ecd2876e7": {
          "model_module": "@jupyter-widgets/controls",
          "model_name": "DescriptionStyleModel",
          "state": {
            "_model_module": "@jupyter-widgets/controls",
            "_model_module_version": "1.5.0",
            "_model_name": "DescriptionStyleModel",
            "_view_count": null,
            "_view_module": "@jupyter-widgets/base",
            "_view_module_version": "1.2.0",
            "_view_name": "StyleView",
            "description_width": ""
          },
          "model_module_version": "1.5.0"
        },
        "e4ad759a1c5549bea2daf20e1e537a3c": {
          "model_module": "@jupyter-widgets/controls",
          "model_name": "HBoxModel",
          "state": {
            "_dom_classes": [],
            "_model_module": "@jupyter-widgets/controls",
            "_model_module_version": "1.5.0",
            "_model_name": "HBoxModel",
            "_view_count": null,
            "_view_module": "@jupyter-widgets/controls",
            "_view_module_version": "1.5.0",
            "_view_name": "HBoxView",
            "box_style": "",
            "children": [
              "IPY_MODEL_68f9e89b6dde42c0a7027a219924e58f",
              "IPY_MODEL_a9c23b748f354f209b78649e43f7180a"
            ],
            "layout": "IPY_MODEL_59b1ff0cc8e64d1a8950cc5bdf94edc8"
          },
          "model_module_version": "1.5.0"
        },
        "68f9e89b6dde42c0a7027a219924e58f": {
          "model_module": "@jupyter-widgets/controls",
          "model_name": "FloatProgressModel",
          "state": {
            "_dom_classes": [],
            "_model_module": "@jupyter-widgets/controls",
            "_model_module_version": "1.5.0",
            "_model_name": "FloatProgressModel",
            "_view_count": null,
            "_view_module": "@jupyter-widgets/controls",
            "_view_module_version": "1.5.0",
            "_view_name": "ProgressView",
            "bar_style": "success",
            "description": "Downloading: 100%",
            "description_tooltip": null,
            "layout": "IPY_MODEL_cc534d0fc7a94b2c85f7284ef1b45644",
            "max": 572,
            "min": 0,
            "orientation": "horizontal",
            "style": "IPY_MODEL_533eb017d65d4ec9a748135f0e202f93",
            "value": 572
          },
          "model_module_version": "1.5.0"
        },
        "a9c23b748f354f209b78649e43f7180a": {
          "model_module": "@jupyter-widgets/controls",
          "model_name": "HTMLModel",
          "state": {
            "_dom_classes": [],
            "_model_module": "@jupyter-widgets/controls",
            "_model_module_version": "1.5.0",
            "_model_name": "HTMLModel",
            "_view_count": null,
            "_view_module": "@jupyter-widgets/controls",
            "_view_module_version": "1.5.0",
            "_view_name": "HTMLView",
            "description": "",
            "description_tooltip": null,
            "layout": "IPY_MODEL_9c8e543c9aa747da84fbaf7a8b36861e",
            "placeholder": "​",
            "style": "IPY_MODEL_84c93737855340efa76f0c17f5a7a4e7",
            "value": " 572/572 [00:03&lt;00:00, 174B/s]"
          },
          "model_module_version": "1.5.0"
        },
        "59b1ff0cc8e64d1a8950cc5bdf94edc8": {
          "model_module": "@jupyter-widgets/base",
          "model_name": "LayoutModel",
          "state": {
            "_model_module": "@jupyter-widgets/base",
            "_model_module_version": "1.2.0",
            "_model_name": "LayoutModel",
            "_view_count": null,
            "_view_module": "@jupyter-widgets/base",
            "_view_module_version": "1.2.0",
            "_view_name": "LayoutView",
            "align_content": null,
            "align_items": null,
            "align_self": null,
            "border": null,
            "bottom": null,
            "display": null,
            "flex": null,
            "flex_flow": null,
            "grid_area": null,
            "grid_auto_columns": null,
            "grid_auto_flow": null,
            "grid_auto_rows": null,
            "grid_column": null,
            "grid_gap": null,
            "grid_row": null,
            "grid_template_areas": null,
            "grid_template_columns": null,
            "grid_template_rows": null,
            "height": null,
            "justify_content": null,
            "justify_items": null,
            "left": null,
            "margin": null,
            "max_height": null,
            "max_width": null,
            "min_height": null,
            "min_width": null,
            "object_fit": null,
            "object_position": null,
            "order": null,
            "overflow": null,
            "overflow_x": null,
            "overflow_y": null,
            "padding": null,
            "right": null,
            "top": null,
            "visibility": null,
            "width": null
          },
          "model_module_version": "1.2.0"
        },
        "cc534d0fc7a94b2c85f7284ef1b45644": {
          "model_module": "@jupyter-widgets/base",
          "model_name": "LayoutModel",
          "state": {
            "_model_module": "@jupyter-widgets/base",
            "_model_module_version": "1.2.0",
            "_model_name": "LayoutModel",
            "_view_count": null,
            "_view_module": "@jupyter-widgets/base",
            "_view_module_version": "1.2.0",
            "_view_name": "LayoutView",
            "align_content": null,
            "align_items": null,
            "align_self": null,
            "border": null,
            "bottom": null,
            "display": null,
            "flex": null,
            "flex_flow": null,
            "grid_area": null,
            "grid_auto_columns": null,
            "grid_auto_flow": null,
            "grid_auto_rows": null,
            "grid_column": null,
            "grid_gap": null,
            "grid_row": null,
            "grid_template_areas": null,
            "grid_template_columns": null,
            "grid_template_rows": null,
            "height": null,
            "justify_content": null,
            "justify_items": null,
            "left": null,
            "margin": null,
            "max_height": null,
            "max_width": null,
            "min_height": null,
            "min_width": null,
            "object_fit": null,
            "object_position": null,
            "order": null,
            "overflow": null,
            "overflow_x": null,
            "overflow_y": null,
            "padding": null,
            "right": null,
            "top": null,
            "visibility": null,
            "width": null
          },
          "model_module_version": "1.2.0"
        },
        "533eb017d65d4ec9a748135f0e202f93": {
          "model_module": "@jupyter-widgets/controls",
          "model_name": "ProgressStyleModel",
          "state": {
            "_model_module": "@jupyter-widgets/controls",
            "_model_module_version": "1.5.0",
            "_model_name": "ProgressStyleModel",
            "_view_count": null,
            "_view_module": "@jupyter-widgets/base",
            "_view_module_version": "1.2.0",
            "_view_name": "StyleView",
            "bar_color": null,
            "description_width": "initial"
          },
          "model_module_version": "1.5.0"
        },
        "9c8e543c9aa747da84fbaf7a8b36861e": {
          "model_module": "@jupyter-widgets/base",
          "model_name": "LayoutModel",
          "state": {
            "_model_module": "@jupyter-widgets/base",
            "_model_module_version": "1.2.0",
            "_model_name": "LayoutModel",
            "_view_count": null,
            "_view_module": "@jupyter-widgets/base",
            "_view_module_version": "1.2.0",
            "_view_name": "LayoutView",
            "align_content": null,
            "align_items": null,
            "align_self": null,
            "border": null,
            "bottom": null,
            "display": null,
            "flex": null,
            "flex_flow": null,
            "grid_area": null,
            "grid_auto_columns": null,
            "grid_auto_flow": null,
            "grid_auto_rows": null,
            "grid_column": null,
            "grid_gap": null,
            "grid_row": null,
            "grid_template_areas": null,
            "grid_template_columns": null,
            "grid_template_rows": null,
            "height": null,
            "justify_content": null,
            "justify_items": null,
            "left": null,
            "margin": null,
            "max_height": null,
            "max_width": null,
            "min_height": null,
            "min_width": null,
            "object_fit": null,
            "object_position": null,
            "order": null,
            "overflow": null,
            "overflow_x": null,
            "overflow_y": null,
            "padding": null,
            "right": null,
            "top": null,
            "visibility": null,
            "width": null
          },
          "model_module_version": "1.2.0"
        },
        "84c93737855340efa76f0c17f5a7a4e7": {
          "model_module": "@jupyter-widgets/controls",
          "model_name": "DescriptionStyleModel",
          "state": {
            "_model_module": "@jupyter-widgets/controls",
            "_model_module_version": "1.5.0",
            "_model_name": "DescriptionStyleModel",
            "_view_count": null,
            "_view_module": "@jupyter-widgets/base",
            "_view_module_version": "1.2.0",
            "_view_name": "StyleView",
            "description_width": ""
          },
          "model_module_version": "1.5.0"
        },
        "1ef86e4dccc64499915b7fa0c48bc90a": {
          "model_module": "@jupyter-widgets/controls",
          "model_name": "HBoxModel",
          "state": {
            "_dom_classes": [],
            "_model_module": "@jupyter-widgets/controls",
            "_model_module_version": "1.5.0",
            "_model_name": "HBoxModel",
            "_view_count": null,
            "_view_module": "@jupyter-widgets/controls",
            "_view_module_version": "1.5.0",
            "_view_name": "HBoxView",
            "box_style": "",
            "children": [
              "IPY_MODEL_14cb511513c94956ab81c38145e809e0",
              "IPY_MODEL_c4ec15dc3e1c4d39aef4522342469078"
            ],
            "layout": "IPY_MODEL_22aef880648b4d119f6f14d0e6d8803b"
          },
          "model_module_version": "1.5.0"
        },
        "14cb511513c94956ab81c38145e809e0": {
          "model_module": "@jupyter-widgets/controls",
          "model_name": "FloatProgressModel",
          "state": {
            "_dom_classes": [],
            "_model_module": "@jupyter-widgets/controls",
            "_model_module_version": "1.5.0",
            "_model_name": "FloatProgressModel",
            "_view_count": null,
            "_view_module": "@jupyter-widgets/controls",
            "_view_module_version": "1.5.0",
            "_view_name": "ProgressView",
            "bar_style": "success",
            "description": "Downloading: 100%",
            "description_tooltip": null,
            "layout": "IPY_MODEL_45cf52bdf7194a8890c24a1be5b5ba1c",
            "max": 122,
            "min": 0,
            "orientation": "horizontal",
            "style": "IPY_MODEL_a936d205de1d4bd781daa33e5b705923",
            "value": 122
          },
          "model_module_version": "1.5.0"
        },
        "c4ec15dc3e1c4d39aef4522342469078": {
          "model_module": "@jupyter-widgets/controls",
          "model_name": "HTMLModel",
          "state": {
            "_dom_classes": [],
            "_model_module": "@jupyter-widgets/controls",
            "_model_module_version": "1.5.0",
            "_model_name": "HTMLModel",
            "_view_count": null,
            "_view_module": "@jupyter-widgets/controls",
            "_view_module_version": "1.5.0",
            "_view_name": "HTMLView",
            "description": "",
            "description_tooltip": null,
            "layout": "IPY_MODEL_0bf798631aae48eab039afafff6064f1",
            "placeholder": "​",
            "style": "IPY_MODEL_d91c1fec87d546aba0f6cffa351896e6",
            "value": " 122/122 [00:01&lt;00:00, 67.2B/s]"
          },
          "model_module_version": "1.5.0"
        },
        "22aef880648b4d119f6f14d0e6d8803b": {
          "model_module": "@jupyter-widgets/base",
          "model_name": "LayoutModel",
          "state": {
            "_model_module": "@jupyter-widgets/base",
            "_model_module_version": "1.2.0",
            "_model_name": "LayoutModel",
            "_view_count": null,
            "_view_module": "@jupyter-widgets/base",
            "_view_module_version": "1.2.0",
            "_view_name": "LayoutView",
            "align_content": null,
            "align_items": null,
            "align_self": null,
            "border": null,
            "bottom": null,
            "display": null,
            "flex": null,
            "flex_flow": null,
            "grid_area": null,
            "grid_auto_columns": null,
            "grid_auto_flow": null,
            "grid_auto_rows": null,
            "grid_column": null,
            "grid_gap": null,
            "grid_row": null,
            "grid_template_areas": null,
            "grid_template_columns": null,
            "grid_template_rows": null,
            "height": null,
            "justify_content": null,
            "justify_items": null,
            "left": null,
            "margin": null,
            "max_height": null,
            "max_width": null,
            "min_height": null,
            "min_width": null,
            "object_fit": null,
            "object_position": null,
            "order": null,
            "overflow": null,
            "overflow_x": null,
            "overflow_y": null,
            "padding": null,
            "right": null,
            "top": null,
            "visibility": null,
            "width": null
          },
          "model_module_version": "1.2.0"
        },
        "45cf52bdf7194a8890c24a1be5b5ba1c": {
          "model_module": "@jupyter-widgets/base",
          "model_name": "LayoutModel",
          "state": {
            "_model_module": "@jupyter-widgets/base",
            "_model_module_version": "1.2.0",
            "_model_name": "LayoutModel",
            "_view_count": null,
            "_view_module": "@jupyter-widgets/base",
            "_view_module_version": "1.2.0",
            "_view_name": "LayoutView",
            "align_content": null,
            "align_items": null,
            "align_self": null,
            "border": null,
            "bottom": null,
            "display": null,
            "flex": null,
            "flex_flow": null,
            "grid_area": null,
            "grid_auto_columns": null,
            "grid_auto_flow": null,
            "grid_auto_rows": null,
            "grid_column": null,
            "grid_gap": null,
            "grid_row": null,
            "grid_template_areas": null,
            "grid_template_columns": null,
            "grid_template_rows": null,
            "height": null,
            "justify_content": null,
            "justify_items": null,
            "left": null,
            "margin": null,
            "max_height": null,
            "max_width": null,
            "min_height": null,
            "min_width": null,
            "object_fit": null,
            "object_position": null,
            "order": null,
            "overflow": null,
            "overflow_x": null,
            "overflow_y": null,
            "padding": null,
            "right": null,
            "top": null,
            "visibility": null,
            "width": null
          },
          "model_module_version": "1.2.0"
        },
        "a936d205de1d4bd781daa33e5b705923": {
          "model_module": "@jupyter-widgets/controls",
          "model_name": "ProgressStyleModel",
          "state": {
            "_model_module": "@jupyter-widgets/controls",
            "_model_module_version": "1.5.0",
            "_model_name": "ProgressStyleModel",
            "_view_count": null,
            "_view_module": "@jupyter-widgets/base",
            "_view_module_version": "1.2.0",
            "_view_name": "StyleView",
            "bar_color": null,
            "description_width": "initial"
          },
          "model_module_version": "1.5.0"
        },
        "0bf798631aae48eab039afafff6064f1": {
          "model_module": "@jupyter-widgets/base",
          "model_name": "LayoutModel",
          "state": {
            "_model_module": "@jupyter-widgets/base",
            "_model_module_version": "1.2.0",
            "_model_name": "LayoutModel",
            "_view_count": null,
            "_view_module": "@jupyter-widgets/base",
            "_view_module_version": "1.2.0",
            "_view_name": "LayoutView",
            "align_content": null,
            "align_items": null,
            "align_self": null,
            "border": null,
            "bottom": null,
            "display": null,
            "flex": null,
            "flex_flow": null,
            "grid_area": null,
            "grid_auto_columns": null,
            "grid_auto_flow": null,
            "grid_auto_rows": null,
            "grid_column": null,
            "grid_gap": null,
            "grid_row": null,
            "grid_template_areas": null,
            "grid_template_columns": null,
            "grid_template_rows": null,
            "height": null,
            "justify_content": null,
            "justify_items": null,
            "left": null,
            "margin": null,
            "max_height": null,
            "max_width": null,
            "min_height": null,
            "min_width": null,
            "object_fit": null,
            "object_position": null,
            "order": null,
            "overflow": null,
            "overflow_x": null,
            "overflow_y": null,
            "padding": null,
            "right": null,
            "top": null,
            "visibility": null,
            "width": null
          },
          "model_module_version": "1.2.0"
        },
        "d91c1fec87d546aba0f6cffa351896e6": {
          "model_module": "@jupyter-widgets/controls",
          "model_name": "DescriptionStyleModel",
          "state": {
            "_model_module": "@jupyter-widgets/controls",
            "_model_module_version": "1.5.0",
            "_model_name": "DescriptionStyleModel",
            "_view_count": null,
            "_view_module": "@jupyter-widgets/base",
            "_view_module_version": "1.2.0",
            "_view_name": "StyleView",
            "description_width": ""
          },
          "model_module_version": "1.5.0"
        },
        "9737c153150b44598fbf5b3107ade07b": {
          "model_module": "@jupyter-widgets/controls",
          "model_name": "HBoxModel",
          "state": {
            "_dom_classes": [],
            "_model_module": "@jupyter-widgets/controls",
            "_model_module_version": "1.5.0",
            "_model_name": "HBoxModel",
            "_view_count": null,
            "_view_module": "@jupyter-widgets/controls",
            "_view_module_version": "1.5.0",
            "_view_name": "HBoxView",
            "box_style": "",
            "children": [
              "IPY_MODEL_3e54cb15ee3b4ff6bb8fe996033331fa",
              "IPY_MODEL_2cfd90c8ee05412c9998753e20846f6a"
            ],
            "layout": "IPY_MODEL_6c2a8b7347e14e608bbcfc60fd5c7249"
          },
          "model_module_version": "1.5.0"
        },
        "3e54cb15ee3b4ff6bb8fe996033331fa": {
          "model_module": "@jupyter-widgets/controls",
          "model_name": "FloatProgressModel",
          "state": {
            "_dom_classes": [],
            "_model_module": "@jupyter-widgets/controls",
            "_model_module_version": "1.5.0",
            "_model_name": "FloatProgressModel",
            "_view_count": null,
            "_view_module": "@jupyter-widgets/controls",
            "_view_module_version": "1.5.0",
            "_view_name": "ProgressView",
            "bar_style": "success",
            "description": "Downloading: 100%",
            "description_tooltip": null,
            "layout": "IPY_MODEL_30116c639d2a4f86a71427cd3f067044",
            "max": 229,
            "min": 0,
            "orientation": "horizontal",
            "style": "IPY_MODEL_0a0623a337384c249541a5bb9d5a0911",
            "value": 229
          },
          "model_module_version": "1.5.0"
        },
        "2cfd90c8ee05412c9998753e20846f6a": {
          "model_module": "@jupyter-widgets/controls",
          "model_name": "HTMLModel",
          "state": {
            "_dom_classes": [],
            "_model_module": "@jupyter-widgets/controls",
            "_model_module_version": "1.5.0",
            "_model_name": "HTMLModel",
            "_view_count": null,
            "_view_module": "@jupyter-widgets/controls",
            "_view_module_version": "1.5.0",
            "_view_name": "HTMLView",
            "description": "",
            "description_tooltip": null,
            "layout": "IPY_MODEL_b7d05e313cb24355ae3343d87c094a9d",
            "placeholder": "​",
            "style": "IPY_MODEL_b341c2ee37aa414a8a54060f25e7689e",
            "value": " 229/229 [11:01&lt;00:00, 2.89s/B]"
          },
          "model_module_version": "1.5.0"
        },
        "6c2a8b7347e14e608bbcfc60fd5c7249": {
          "model_module": "@jupyter-widgets/base",
          "model_name": "LayoutModel",
          "state": {
            "_model_module": "@jupyter-widgets/base",
            "_model_module_version": "1.2.0",
            "_model_name": "LayoutModel",
            "_view_count": null,
            "_view_module": "@jupyter-widgets/base",
            "_view_module_version": "1.2.0",
            "_view_name": "LayoutView",
            "align_content": null,
            "align_items": null,
            "align_self": null,
            "border": null,
            "bottom": null,
            "display": null,
            "flex": null,
            "flex_flow": null,
            "grid_area": null,
            "grid_auto_columns": null,
            "grid_auto_flow": null,
            "grid_auto_rows": null,
            "grid_column": null,
            "grid_gap": null,
            "grid_row": null,
            "grid_template_areas": null,
            "grid_template_columns": null,
            "grid_template_rows": null,
            "height": null,
            "justify_content": null,
            "justify_items": null,
            "left": null,
            "margin": null,
            "max_height": null,
            "max_width": null,
            "min_height": null,
            "min_width": null,
            "object_fit": null,
            "object_position": null,
            "order": null,
            "overflow": null,
            "overflow_x": null,
            "overflow_y": null,
            "padding": null,
            "right": null,
            "top": null,
            "visibility": null,
            "width": null
          },
          "model_module_version": "1.2.0"
        },
        "30116c639d2a4f86a71427cd3f067044": {
          "model_module": "@jupyter-widgets/base",
          "model_name": "LayoutModel",
          "state": {
            "_model_module": "@jupyter-widgets/base",
            "_model_module_version": "1.2.0",
            "_model_name": "LayoutModel",
            "_view_count": null,
            "_view_module": "@jupyter-widgets/base",
            "_view_module_version": "1.2.0",
            "_view_name": "LayoutView",
            "align_content": null,
            "align_items": null,
            "align_self": null,
            "border": null,
            "bottom": null,
            "display": null,
            "flex": null,
            "flex_flow": null,
            "grid_area": null,
            "grid_auto_columns": null,
            "grid_auto_flow": null,
            "grid_auto_rows": null,
            "grid_column": null,
            "grid_gap": null,
            "grid_row": null,
            "grid_template_areas": null,
            "grid_template_columns": null,
            "grid_template_rows": null,
            "height": null,
            "justify_content": null,
            "justify_items": null,
            "left": null,
            "margin": null,
            "max_height": null,
            "max_width": null,
            "min_height": null,
            "min_width": null,
            "object_fit": null,
            "object_position": null,
            "order": null,
            "overflow": null,
            "overflow_x": null,
            "overflow_y": null,
            "padding": null,
            "right": null,
            "top": null,
            "visibility": null,
            "width": null
          },
          "model_module_version": "1.2.0"
        },
        "0a0623a337384c249541a5bb9d5a0911": {
          "model_module": "@jupyter-widgets/controls",
          "model_name": "ProgressStyleModel",
          "state": {
            "_model_module": "@jupyter-widgets/controls",
            "_model_module_version": "1.5.0",
            "_model_name": "ProgressStyleModel",
            "_view_count": null,
            "_view_module": "@jupyter-widgets/base",
            "_view_module_version": "1.2.0",
            "_view_name": "StyleView",
            "bar_color": null,
            "description_width": "initial"
          },
          "model_module_version": "1.5.0"
        },
        "b7d05e313cb24355ae3343d87c094a9d": {
          "model_module": "@jupyter-widgets/base",
          "model_name": "LayoutModel",
          "state": {
            "_model_module": "@jupyter-widgets/base",
            "_model_module_version": "1.2.0",
            "_model_name": "LayoutModel",
            "_view_count": null,
            "_view_module": "@jupyter-widgets/base",
            "_view_module_version": "1.2.0",
            "_view_name": "LayoutView",
            "align_content": null,
            "align_items": null,
            "align_self": null,
            "border": null,
            "bottom": null,
            "display": null,
            "flex": null,
            "flex_flow": null,
            "grid_area": null,
            "grid_auto_columns": null,
            "grid_auto_flow": null,
            "grid_auto_rows": null,
            "grid_column": null,
            "grid_gap": null,
            "grid_row": null,
            "grid_template_areas": null,
            "grid_template_columns": null,
            "grid_template_rows": null,
            "height": null,
            "justify_content": null,
            "justify_items": null,
            "left": null,
            "margin": null,
            "max_height": null,
            "max_width": null,
            "min_height": null,
            "min_width": null,
            "object_fit": null,
            "object_position": null,
            "order": null,
            "overflow": null,
            "overflow_x": null,
            "overflow_y": null,
            "padding": null,
            "right": null,
            "top": null,
            "visibility": null,
            "width": null
          },
          "model_module_version": "1.2.0"
        },
        "b341c2ee37aa414a8a54060f25e7689e": {
          "model_module": "@jupyter-widgets/controls",
          "model_name": "DescriptionStyleModel",
          "state": {
            "_model_module": "@jupyter-widgets/controls",
            "_model_module_version": "1.5.0",
            "_model_name": "DescriptionStyleModel",
            "_view_count": null,
            "_view_module": "@jupyter-widgets/base",
            "_view_module_version": "1.2.0",
            "_view_name": "StyleView",
            "description_width": ""
          },
          "model_module_version": "1.5.0"
        },
        "72a9d40696204210898ef2e62267e7ef": {
          "model_module": "@jupyter-widgets/controls",
          "model_name": "HBoxModel",
          "state": {
            "_dom_classes": [],
            "_model_module": "@jupyter-widgets/controls",
            "_model_module_version": "1.5.0",
            "_model_name": "HBoxModel",
            "_view_count": null,
            "_view_module": "@jupyter-widgets/controls",
            "_view_module_version": "1.5.0",
            "_view_name": "HBoxView",
            "box_style": "",
            "children": [
              "IPY_MODEL_609796bf552c4b2f8fb65b06a9f4c10e",
              "IPY_MODEL_e6650dafd4044d7c8cbd03bff1b36941"
            ],
            "layout": "IPY_MODEL_92ff0f8ac65c43d8acee76a9676d5cf1"
          },
          "model_module_version": "1.5.0"
        },
        "609796bf552c4b2f8fb65b06a9f4c10e": {
          "model_module": "@jupyter-widgets/controls",
          "model_name": "FloatProgressModel",
          "state": {
            "_dom_classes": [],
            "_model_module": "@jupyter-widgets/controls",
            "_model_module_version": "1.5.0",
            "_model_name": "FloatProgressModel",
            "_view_count": null,
            "_view_module": "@jupyter-widgets/controls",
            "_view_module_version": "1.5.0",
            "_view_name": "ProgressView",
            "bar_style": "success",
            "description": "Downloading: 100%",
            "description_tooltip": null,
            "layout": "IPY_MODEL_de2b04fb33e6415b95776e18dff11452",
            "max": 538971577,
            "min": 0,
            "orientation": "horizontal",
            "style": "IPY_MODEL_e4b2095e34bb40798ea06fe290230844",
            "value": 538971577
          },
          "model_module_version": "1.5.0"
        },
        "e6650dafd4044d7c8cbd03bff1b36941": {
          "model_module": "@jupyter-widgets/controls",
          "model_name": "HTMLModel",
          "state": {
            "_dom_classes": [],
            "_model_module": "@jupyter-widgets/controls",
            "_model_module_version": "1.5.0",
            "_model_name": "HTMLModel",
            "_view_count": null,
            "_view_module": "@jupyter-widgets/controls",
            "_view_module_version": "1.5.0",
            "_view_name": "HTMLView",
            "description": "",
            "description_tooltip": null,
            "layout": "IPY_MODEL_03d793e34d8a4b0eb09909ec693cd319",
            "placeholder": "​",
            "style": "IPY_MODEL_5dbd4bc28c3a46b790161c62eccf3476",
            "value": " 539M/539M [10:59&lt;00:00, 817kB/s]"
          },
          "model_module_version": "1.5.0"
        },
        "92ff0f8ac65c43d8acee76a9676d5cf1": {
          "model_module": "@jupyter-widgets/base",
          "model_name": "LayoutModel",
          "state": {
            "_model_module": "@jupyter-widgets/base",
            "_model_module_version": "1.2.0",
            "_model_name": "LayoutModel",
            "_view_count": null,
            "_view_module": "@jupyter-widgets/base",
            "_view_module_version": "1.2.0",
            "_view_name": "LayoutView",
            "align_content": null,
            "align_items": null,
            "align_self": null,
            "border": null,
            "bottom": null,
            "display": null,
            "flex": null,
            "flex_flow": null,
            "grid_area": null,
            "grid_auto_columns": null,
            "grid_auto_flow": null,
            "grid_auto_rows": null,
            "grid_column": null,
            "grid_gap": null,
            "grid_row": null,
            "grid_template_areas": null,
            "grid_template_columns": null,
            "grid_template_rows": null,
            "height": null,
            "justify_content": null,
            "justify_items": null,
            "left": null,
            "margin": null,
            "max_height": null,
            "max_width": null,
            "min_height": null,
            "min_width": null,
            "object_fit": null,
            "object_position": null,
            "order": null,
            "overflow": null,
            "overflow_x": null,
            "overflow_y": null,
            "padding": null,
            "right": null,
            "top": null,
            "visibility": null,
            "width": null
          },
          "model_module_version": "1.2.0"
        },
        "de2b04fb33e6415b95776e18dff11452": {
          "model_module": "@jupyter-widgets/base",
          "model_name": "LayoutModel",
          "state": {
            "_model_module": "@jupyter-widgets/base",
            "_model_module_version": "1.2.0",
            "_model_name": "LayoutModel",
            "_view_count": null,
            "_view_module": "@jupyter-widgets/base",
            "_view_module_version": "1.2.0",
            "_view_name": "LayoutView",
            "align_content": null,
            "align_items": null,
            "align_self": null,
            "border": null,
            "bottom": null,
            "display": null,
            "flex": null,
            "flex_flow": null,
            "grid_area": null,
            "grid_auto_columns": null,
            "grid_auto_flow": null,
            "grid_auto_rows": null,
            "grid_column": null,
            "grid_gap": null,
            "grid_row": null,
            "grid_template_areas": null,
            "grid_template_columns": null,
            "grid_template_rows": null,
            "height": null,
            "justify_content": null,
            "justify_items": null,
            "left": null,
            "margin": null,
            "max_height": null,
            "max_width": null,
            "min_height": null,
            "min_width": null,
            "object_fit": null,
            "object_position": null,
            "order": null,
            "overflow": null,
            "overflow_x": null,
            "overflow_y": null,
            "padding": null,
            "right": null,
            "top": null,
            "visibility": null,
            "width": null
          },
          "model_module_version": "1.2.0"
        },
        "e4b2095e34bb40798ea06fe290230844": {
          "model_module": "@jupyter-widgets/controls",
          "model_name": "ProgressStyleModel",
          "state": {
            "_model_module": "@jupyter-widgets/controls",
            "_model_module_version": "1.5.0",
            "_model_name": "ProgressStyleModel",
            "_view_count": null,
            "_view_module": "@jupyter-widgets/base",
            "_view_module_version": "1.2.0",
            "_view_name": "StyleView",
            "bar_color": null,
            "description_width": "initial"
          },
          "model_module_version": "1.5.0"
        },
        "03d793e34d8a4b0eb09909ec693cd319": {
          "model_module": "@jupyter-widgets/base",
          "model_name": "LayoutModel",
          "state": {
            "_model_module": "@jupyter-widgets/base",
            "_model_module_version": "1.2.0",
            "_model_name": "LayoutModel",
            "_view_count": null,
            "_view_module": "@jupyter-widgets/base",
            "_view_module_version": "1.2.0",
            "_view_name": "LayoutView",
            "align_content": null,
            "align_items": null,
            "align_self": null,
            "border": null,
            "bottom": null,
            "display": null,
            "flex": null,
            "flex_flow": null,
            "grid_area": null,
            "grid_auto_columns": null,
            "grid_auto_flow": null,
            "grid_auto_rows": null,
            "grid_column": null,
            "grid_gap": null,
            "grid_row": null,
            "grid_template_areas": null,
            "grid_template_columns": null,
            "grid_template_rows": null,
            "height": null,
            "justify_content": null,
            "justify_items": null,
            "left": null,
            "margin": null,
            "max_height": null,
            "max_width": null,
            "min_height": null,
            "min_width": null,
            "object_fit": null,
            "object_position": null,
            "order": null,
            "overflow": null,
            "overflow_x": null,
            "overflow_y": null,
            "padding": null,
            "right": null,
            "top": null,
            "visibility": null,
            "width": null
          },
          "model_module_version": "1.2.0"
        },
        "5dbd4bc28c3a46b790161c62eccf3476": {
          "model_module": "@jupyter-widgets/controls",
          "model_name": "DescriptionStyleModel",
          "state": {
            "_model_module": "@jupyter-widgets/controls",
            "_model_module_version": "1.5.0",
            "_model_name": "DescriptionStyleModel",
            "_view_count": null,
            "_view_module": "@jupyter-widgets/base",
            "_view_module_version": "1.2.0",
            "_view_name": "StyleView",
            "description_width": ""
          },
          "model_module_version": "1.5.0"
        },
        "5b98efc7d8c9466f858af41568b0a86c": {
          "model_module": "@jupyter-widgets/controls",
          "model_name": "HBoxModel",
          "state": {
            "_dom_classes": [],
            "_model_module": "@jupyter-widgets/controls",
            "_model_module_version": "1.5.0",
            "_model_name": "HBoxModel",
            "_view_count": null,
            "_view_module": "@jupyter-widgets/controls",
            "_view_module_version": "1.5.0",
            "_view_name": "HBoxView",
            "box_style": "",
            "children": [
              "IPY_MODEL_f03c3742f9394ee98f87649757a255a1",
              "IPY_MODEL_907a00c0a3d04cc4916355912f65de51"
            ],
            "layout": "IPY_MODEL_e1d213de738741c0b6f9b00bd5c0c749"
          },
          "model_module_version": "1.5.0"
        },
        "f03c3742f9394ee98f87649757a255a1": {
          "model_module": "@jupyter-widgets/controls",
          "model_name": "FloatProgressModel",
          "state": {
            "_dom_classes": [],
            "_model_module": "@jupyter-widgets/controls",
            "_model_module_version": "1.5.0",
            "_model_name": "FloatProgressModel",
            "_view_count": null,
            "_view_module": "@jupyter-widgets/controls",
            "_view_module_version": "1.5.0",
            "_view_name": "ProgressView",
            "bar_style": "success",
            "description": "Downloading: 100%",
            "description_tooltip": null,
            "layout": "IPY_MODEL_e43c5f56faa04c6cac58607edd0550a4",
            "max": 53,
            "min": 0,
            "orientation": "horizontal",
            "style": "IPY_MODEL_a7de3bb2419442d9b4198d1c4a818965",
            "value": 53
          },
          "model_module_version": "1.5.0"
        },
        "907a00c0a3d04cc4916355912f65de51": {
          "model_module": "@jupyter-widgets/controls",
          "model_name": "HTMLModel",
          "state": {
            "_dom_classes": [],
            "_model_module": "@jupyter-widgets/controls",
            "_model_module_version": "1.5.0",
            "_model_name": "HTMLModel",
            "_view_count": null,
            "_view_module": "@jupyter-widgets/controls",
            "_view_module_version": "1.5.0",
            "_view_name": "HTMLView",
            "description": "",
            "description_tooltip": null,
            "layout": "IPY_MODEL_a243943152ca419fac11f4fed057029f",
            "placeholder": "​",
            "style": "IPY_MODEL_bba62eb094a84e4ca30c433ebfbe14af",
            "value": " 53.0/53.0 [00:02&lt;00:00, 23.4B/s]"
          },
          "model_module_version": "1.5.0"
        },
        "e1d213de738741c0b6f9b00bd5c0c749": {
          "model_module": "@jupyter-widgets/base",
          "model_name": "LayoutModel",
          "state": {
            "_model_module": "@jupyter-widgets/base",
            "_model_module_version": "1.2.0",
            "_model_name": "LayoutModel",
            "_view_count": null,
            "_view_module": "@jupyter-widgets/base",
            "_view_module_version": "1.2.0",
            "_view_name": "LayoutView",
            "align_content": null,
            "align_items": null,
            "align_self": null,
            "border": null,
            "bottom": null,
            "display": null,
            "flex": null,
            "flex_flow": null,
            "grid_area": null,
            "grid_auto_columns": null,
            "grid_auto_flow": null,
            "grid_auto_rows": null,
            "grid_column": null,
            "grid_gap": null,
            "grid_row": null,
            "grid_template_areas": null,
            "grid_template_columns": null,
            "grid_template_rows": null,
            "height": null,
            "justify_content": null,
            "justify_items": null,
            "left": null,
            "margin": null,
            "max_height": null,
            "max_width": null,
            "min_height": null,
            "min_width": null,
            "object_fit": null,
            "object_position": null,
            "order": null,
            "overflow": null,
            "overflow_x": null,
            "overflow_y": null,
            "padding": null,
            "right": null,
            "top": null,
            "visibility": null,
            "width": null
          },
          "model_module_version": "1.2.0"
        },
        "e43c5f56faa04c6cac58607edd0550a4": {
          "model_module": "@jupyter-widgets/base",
          "model_name": "LayoutModel",
          "state": {
            "_model_module": "@jupyter-widgets/base",
            "_model_module_version": "1.2.0",
            "_model_name": "LayoutModel",
            "_view_count": null,
            "_view_module": "@jupyter-widgets/base",
            "_view_module_version": "1.2.0",
            "_view_name": "LayoutView",
            "align_content": null,
            "align_items": null,
            "align_self": null,
            "border": null,
            "bottom": null,
            "display": null,
            "flex": null,
            "flex_flow": null,
            "grid_area": null,
            "grid_auto_columns": null,
            "grid_auto_flow": null,
            "grid_auto_rows": null,
            "grid_column": null,
            "grid_gap": null,
            "grid_row": null,
            "grid_template_areas": null,
            "grid_template_columns": null,
            "grid_template_rows": null,
            "height": null,
            "justify_content": null,
            "justify_items": null,
            "left": null,
            "margin": null,
            "max_height": null,
            "max_width": null,
            "min_height": null,
            "min_width": null,
            "object_fit": null,
            "object_position": null,
            "order": null,
            "overflow": null,
            "overflow_x": null,
            "overflow_y": null,
            "padding": null,
            "right": null,
            "top": null,
            "visibility": null,
            "width": null
          },
          "model_module_version": "1.2.0"
        },
        "a7de3bb2419442d9b4198d1c4a818965": {
          "model_module": "@jupyter-widgets/controls",
          "model_name": "ProgressStyleModel",
          "state": {
            "_model_module": "@jupyter-widgets/controls",
            "_model_module_version": "1.5.0",
            "_model_name": "ProgressStyleModel",
            "_view_count": null,
            "_view_module": "@jupyter-widgets/base",
            "_view_module_version": "1.2.0",
            "_view_name": "StyleView",
            "bar_color": null,
            "description_width": "initial"
          },
          "model_module_version": "1.5.0"
        },
        "a243943152ca419fac11f4fed057029f": {
          "model_module": "@jupyter-widgets/base",
          "model_name": "LayoutModel",
          "state": {
            "_model_module": "@jupyter-widgets/base",
            "_model_module_version": "1.2.0",
            "_model_name": "LayoutModel",
            "_view_count": null,
            "_view_module": "@jupyter-widgets/base",
            "_view_module_version": "1.2.0",
            "_view_name": "LayoutView",
            "align_content": null,
            "align_items": null,
            "align_self": null,
            "border": null,
            "bottom": null,
            "display": null,
            "flex": null,
            "flex_flow": null,
            "grid_area": null,
            "grid_auto_columns": null,
            "grid_auto_flow": null,
            "grid_auto_rows": null,
            "grid_column": null,
            "grid_gap": null,
            "grid_row": null,
            "grid_template_areas": null,
            "grid_template_columns": null,
            "grid_template_rows": null,
            "height": null,
            "justify_content": null,
            "justify_items": null,
            "left": null,
            "margin": null,
            "max_height": null,
            "max_width": null,
            "min_height": null,
            "min_width": null,
            "object_fit": null,
            "object_position": null,
            "order": null,
            "overflow": null,
            "overflow_x": null,
            "overflow_y": null,
            "padding": null,
            "right": null,
            "top": null,
            "visibility": null,
            "width": null
          },
          "model_module_version": "1.2.0"
        },
        "bba62eb094a84e4ca30c433ebfbe14af": {
          "model_module": "@jupyter-widgets/controls",
          "model_name": "DescriptionStyleModel",
          "state": {
            "_model_module": "@jupyter-widgets/controls",
            "_model_module_version": "1.5.0",
            "_model_name": "DescriptionStyleModel",
            "_view_count": null,
            "_view_module": "@jupyter-widgets/base",
            "_view_module_version": "1.2.0",
            "_view_name": "StyleView",
            "description_width": ""
          },
          "model_module_version": "1.5.0"
        },
        "1805f3f7f5bc4e47b306ed7fb58f71bb": {
          "model_module": "@jupyter-widgets/controls",
          "model_name": "HBoxModel",
          "state": {
            "_dom_classes": [],
            "_model_module": "@jupyter-widgets/controls",
            "_model_module_version": "1.5.0",
            "_model_name": "HBoxModel",
            "_view_count": null,
            "_view_module": "@jupyter-widgets/controls",
            "_view_module_version": "1.5.0",
            "_view_name": "HBoxView",
            "box_style": "",
            "children": [
              "IPY_MODEL_a2385964d6ec475a80352677caff6275",
              "IPY_MODEL_c0b1cbee17b14e4da636fbd5cb82abdc"
            ],
            "layout": "IPY_MODEL_a9852138b27a4499a3d19847d85f21ed"
          },
          "model_module_version": "1.5.0"
        },
        "a2385964d6ec475a80352677caff6275": {
          "model_module": "@jupyter-widgets/controls",
          "model_name": "FloatProgressModel",
          "state": {
            "_dom_classes": [],
            "_model_module": "@jupyter-widgets/controls",
            "_model_module_version": "1.5.0",
            "_model_name": "FloatProgressModel",
            "_view_count": null,
            "_view_module": "@jupyter-widgets/controls",
            "_view_module_version": "1.5.0",
            "_view_name": "ProgressView",
            "bar_style": "success",
            "description": "Downloading: 100%",
            "description_tooltip": null,
            "layout": "IPY_MODEL_75e25b0a64fd4bfebf764702ba91eab7",
            "max": 112,
            "min": 0,
            "orientation": "horizontal",
            "style": "IPY_MODEL_29e0c8cb022f4110bc0117f25dd41852",
            "value": 112
          },
          "model_module_version": "1.5.0"
        },
        "c0b1cbee17b14e4da636fbd5cb82abdc": {
          "model_module": "@jupyter-widgets/controls",
          "model_name": "HTMLModel",
          "state": {
            "_dom_classes": [],
            "_model_module": "@jupyter-widgets/controls",
            "_model_module_version": "1.5.0",
            "_model_name": "HTMLModel",
            "_view_count": null,
            "_view_module": "@jupyter-widgets/controls",
            "_view_module_version": "1.5.0",
            "_view_name": "HTMLView",
            "description": "",
            "description_tooltip": null,
            "layout": "IPY_MODEL_64e1dd00bbc34cb09244ba134ce514f6",
            "placeholder": "​",
            "style": "IPY_MODEL_04e22909c7d14d54955814cc010a7c4a",
            "value": " 112/112 [00:00&lt;00:00, 144B/s]"
          },
          "model_module_version": "1.5.0"
        },
        "a9852138b27a4499a3d19847d85f21ed": {
          "model_module": "@jupyter-widgets/base",
          "model_name": "LayoutModel",
          "state": {
            "_model_module": "@jupyter-widgets/base",
            "_model_module_version": "1.2.0",
            "_model_name": "LayoutModel",
            "_view_count": null,
            "_view_module": "@jupyter-widgets/base",
            "_view_module_version": "1.2.0",
            "_view_name": "LayoutView",
            "align_content": null,
            "align_items": null,
            "align_self": null,
            "border": null,
            "bottom": null,
            "display": null,
            "flex": null,
            "flex_flow": null,
            "grid_area": null,
            "grid_auto_columns": null,
            "grid_auto_flow": null,
            "grid_auto_rows": null,
            "grid_column": null,
            "grid_gap": null,
            "grid_row": null,
            "grid_template_areas": null,
            "grid_template_columns": null,
            "grid_template_rows": null,
            "height": null,
            "justify_content": null,
            "justify_items": null,
            "left": null,
            "margin": null,
            "max_height": null,
            "max_width": null,
            "min_height": null,
            "min_width": null,
            "object_fit": null,
            "object_position": null,
            "order": null,
            "overflow": null,
            "overflow_x": null,
            "overflow_y": null,
            "padding": null,
            "right": null,
            "top": null,
            "visibility": null,
            "width": null
          },
          "model_module_version": "1.2.0"
        },
        "75e25b0a64fd4bfebf764702ba91eab7": {
          "model_module": "@jupyter-widgets/base",
          "model_name": "LayoutModel",
          "state": {
            "_model_module": "@jupyter-widgets/base",
            "_model_module_version": "1.2.0",
            "_model_name": "LayoutModel",
            "_view_count": null,
            "_view_module": "@jupyter-widgets/base",
            "_view_module_version": "1.2.0",
            "_view_name": "LayoutView",
            "align_content": null,
            "align_items": null,
            "align_self": null,
            "border": null,
            "bottom": null,
            "display": null,
            "flex": null,
            "flex_flow": null,
            "grid_area": null,
            "grid_auto_columns": null,
            "grid_auto_flow": null,
            "grid_auto_rows": null,
            "grid_column": null,
            "grid_gap": null,
            "grid_row": null,
            "grid_template_areas": null,
            "grid_template_columns": null,
            "grid_template_rows": null,
            "height": null,
            "justify_content": null,
            "justify_items": null,
            "left": null,
            "margin": null,
            "max_height": null,
            "max_width": null,
            "min_height": null,
            "min_width": null,
            "object_fit": null,
            "object_position": null,
            "order": null,
            "overflow": null,
            "overflow_x": null,
            "overflow_y": null,
            "padding": null,
            "right": null,
            "top": null,
            "visibility": null,
            "width": null
          },
          "model_module_version": "1.2.0"
        },
        "29e0c8cb022f4110bc0117f25dd41852": {
          "model_module": "@jupyter-widgets/controls",
          "model_name": "ProgressStyleModel",
          "state": {
            "_model_module": "@jupyter-widgets/controls",
            "_model_module_version": "1.5.0",
            "_model_name": "ProgressStyleModel",
            "_view_count": null,
            "_view_module": "@jupyter-widgets/base",
            "_view_module_version": "1.2.0",
            "_view_name": "StyleView",
            "bar_color": null,
            "description_width": "initial"
          },
          "model_module_version": "1.5.0"
        },
        "64e1dd00bbc34cb09244ba134ce514f6": {
          "model_module": "@jupyter-widgets/base",
          "model_name": "LayoutModel",
          "state": {
            "_model_module": "@jupyter-widgets/base",
            "_model_module_version": "1.2.0",
            "_model_name": "LayoutModel",
            "_view_count": null,
            "_view_module": "@jupyter-widgets/base",
            "_view_module_version": "1.2.0",
            "_view_name": "LayoutView",
            "align_content": null,
            "align_items": null,
            "align_self": null,
            "border": null,
            "bottom": null,
            "display": null,
            "flex": null,
            "flex_flow": null,
            "grid_area": null,
            "grid_auto_columns": null,
            "grid_auto_flow": null,
            "grid_auto_rows": null,
            "grid_column": null,
            "grid_gap": null,
            "grid_row": null,
            "grid_template_areas": null,
            "grid_template_columns": null,
            "grid_template_rows": null,
            "height": null,
            "justify_content": null,
            "justify_items": null,
            "left": null,
            "margin": null,
            "max_height": null,
            "max_width": null,
            "min_height": null,
            "min_width": null,
            "object_fit": null,
            "object_position": null,
            "order": null,
            "overflow": null,
            "overflow_x": null,
            "overflow_y": null,
            "padding": null,
            "right": null,
            "top": null,
            "visibility": null,
            "width": null
          },
          "model_module_version": "1.2.0"
        },
        "04e22909c7d14d54955814cc010a7c4a": {
          "model_module": "@jupyter-widgets/controls",
          "model_name": "DescriptionStyleModel",
          "state": {
            "_model_module": "@jupyter-widgets/controls",
            "_model_module_version": "1.5.0",
            "_model_name": "DescriptionStyleModel",
            "_view_count": null,
            "_view_module": "@jupyter-widgets/base",
            "_view_module_version": "1.2.0",
            "_view_name": "StyleView",
            "description_width": ""
          },
          "model_module_version": "1.5.0"
        },
        "6c043445399d43a79bd9b5277534e23e": {
          "model_module": "@jupyter-widgets/controls",
          "model_name": "HBoxModel",
          "state": {
            "_dom_classes": [],
            "_model_module": "@jupyter-widgets/controls",
            "_model_module_version": "1.5.0",
            "_model_name": "HBoxModel",
            "_view_count": null,
            "_view_module": "@jupyter-widgets/controls",
            "_view_module_version": "1.5.0",
            "_view_name": "HBoxView",
            "box_style": "",
            "children": [
              "IPY_MODEL_499bb770f3994b9ea4d42a95681f6ec8",
              "IPY_MODEL_303cf7cfd9da402698873f1d3d853982"
            ],
            "layout": "IPY_MODEL_e0d44691011546e5aa12d96181dceacc"
          },
          "model_module_version": "1.5.0"
        },
        "499bb770f3994b9ea4d42a95681f6ec8": {
          "model_module": "@jupyter-widgets/controls",
          "model_name": "FloatProgressModel",
          "state": {
            "_dom_classes": [],
            "_model_module": "@jupyter-widgets/controls",
            "_model_module_version": "1.5.0",
            "_model_name": "FloatProgressModel",
            "_view_count": null,
            "_view_module": "@jupyter-widgets/controls",
            "_view_module_version": "1.5.0",
            "_view_name": "ProgressView",
            "bar_style": "success",
            "description": "Downloading: 100%",
            "description_tooltip": null,
            "layout": "IPY_MODEL_90820ad806e34e1d93236bc5e4d16dde",
            "max": 1961847,
            "min": 0,
            "orientation": "horizontal",
            "style": "IPY_MODEL_6cd47712e35444849efbeacf8811b80e",
            "value": 1961847
          },
          "model_module_version": "1.5.0"
        },
        "303cf7cfd9da402698873f1d3d853982": {
          "model_module": "@jupyter-widgets/controls",
          "model_name": "HTMLModel",
          "state": {
            "_dom_classes": [],
            "_model_module": "@jupyter-widgets/controls",
            "_model_module_version": "1.5.0",
            "_model_name": "HTMLModel",
            "_view_count": null,
            "_view_module": "@jupyter-widgets/controls",
            "_view_module_version": "1.5.0",
            "_view_name": "HTMLView",
            "description": "",
            "description_tooltip": null,
            "layout": "IPY_MODEL_d164dbc2f147489282c3a670889a937f",
            "placeholder": "​",
            "style": "IPY_MODEL_91b6ce851eef4ae3a07f993bf05a603f",
            "value": " 1.96M/1.96M [00:06&lt;00:00, 296kB/s]"
          },
          "model_module_version": "1.5.0"
        },
        "e0d44691011546e5aa12d96181dceacc": {
          "model_module": "@jupyter-widgets/base",
          "model_name": "LayoutModel",
          "state": {
            "_model_module": "@jupyter-widgets/base",
            "_model_module_version": "1.2.0",
            "_model_name": "LayoutModel",
            "_view_count": null,
            "_view_module": "@jupyter-widgets/base",
            "_view_module_version": "1.2.0",
            "_view_name": "LayoutView",
            "align_content": null,
            "align_items": null,
            "align_self": null,
            "border": null,
            "bottom": null,
            "display": null,
            "flex": null,
            "flex_flow": null,
            "grid_area": null,
            "grid_auto_columns": null,
            "grid_auto_flow": null,
            "grid_auto_rows": null,
            "grid_column": null,
            "grid_gap": null,
            "grid_row": null,
            "grid_template_areas": null,
            "grid_template_columns": null,
            "grid_template_rows": null,
            "height": null,
            "justify_content": null,
            "justify_items": null,
            "left": null,
            "margin": null,
            "max_height": null,
            "max_width": null,
            "min_height": null,
            "min_width": null,
            "object_fit": null,
            "object_position": null,
            "order": null,
            "overflow": null,
            "overflow_x": null,
            "overflow_y": null,
            "padding": null,
            "right": null,
            "top": null,
            "visibility": null,
            "width": null
          },
          "model_module_version": "1.2.0"
        },
        "90820ad806e34e1d93236bc5e4d16dde": {
          "model_module": "@jupyter-widgets/base",
          "model_name": "LayoutModel",
          "state": {
            "_model_module": "@jupyter-widgets/base",
            "_model_module_version": "1.2.0",
            "_model_name": "LayoutModel",
            "_view_count": null,
            "_view_module": "@jupyter-widgets/base",
            "_view_module_version": "1.2.0",
            "_view_name": "LayoutView",
            "align_content": null,
            "align_items": null,
            "align_self": null,
            "border": null,
            "bottom": null,
            "display": null,
            "flex": null,
            "flex_flow": null,
            "grid_area": null,
            "grid_auto_columns": null,
            "grid_auto_flow": null,
            "grid_auto_rows": null,
            "grid_column": null,
            "grid_gap": null,
            "grid_row": null,
            "grid_template_areas": null,
            "grid_template_columns": null,
            "grid_template_rows": null,
            "height": null,
            "justify_content": null,
            "justify_items": null,
            "left": null,
            "margin": null,
            "max_height": null,
            "max_width": null,
            "min_height": null,
            "min_width": null,
            "object_fit": null,
            "object_position": null,
            "order": null,
            "overflow": null,
            "overflow_x": null,
            "overflow_y": null,
            "padding": null,
            "right": null,
            "top": null,
            "visibility": null,
            "width": null
          },
          "model_module_version": "1.2.0"
        },
        "6cd47712e35444849efbeacf8811b80e": {
          "model_module": "@jupyter-widgets/controls",
          "model_name": "ProgressStyleModel",
          "state": {
            "_model_module": "@jupyter-widgets/controls",
            "_model_module_version": "1.5.0",
            "_model_name": "ProgressStyleModel",
            "_view_count": null,
            "_view_module": "@jupyter-widgets/base",
            "_view_module_version": "1.2.0",
            "_view_name": "StyleView",
            "bar_color": null,
            "description_width": "initial"
          },
          "model_module_version": "1.5.0"
        },
        "d164dbc2f147489282c3a670889a937f": {
          "model_module": "@jupyter-widgets/base",
          "model_name": "LayoutModel",
          "state": {
            "_model_module": "@jupyter-widgets/base",
            "_model_module_version": "1.2.0",
            "_model_name": "LayoutModel",
            "_view_count": null,
            "_view_module": "@jupyter-widgets/base",
            "_view_module_version": "1.2.0",
            "_view_name": "LayoutView",
            "align_content": null,
            "align_items": null,
            "align_self": null,
            "border": null,
            "bottom": null,
            "display": null,
            "flex": null,
            "flex_flow": null,
            "grid_area": null,
            "grid_auto_columns": null,
            "grid_auto_flow": null,
            "grid_auto_rows": null,
            "grid_column": null,
            "grid_gap": null,
            "grid_row": null,
            "grid_template_areas": null,
            "grid_template_columns": null,
            "grid_template_rows": null,
            "height": null,
            "justify_content": null,
            "justify_items": null,
            "left": null,
            "margin": null,
            "max_height": null,
            "max_width": null,
            "min_height": null,
            "min_width": null,
            "object_fit": null,
            "object_position": null,
            "order": null,
            "overflow": null,
            "overflow_x": null,
            "overflow_y": null,
            "padding": null,
            "right": null,
            "top": null,
            "visibility": null,
            "width": null
          },
          "model_module_version": "1.2.0"
        },
        "91b6ce851eef4ae3a07f993bf05a603f": {
          "model_module": "@jupyter-widgets/controls",
          "model_name": "DescriptionStyleModel",
          "state": {
            "_model_module": "@jupyter-widgets/controls",
            "_model_module_version": "1.5.0",
            "_model_name": "DescriptionStyleModel",
            "_view_count": null,
            "_view_module": "@jupyter-widgets/base",
            "_view_module_version": "1.2.0",
            "_view_name": "StyleView",
            "description_width": ""
          },
          "model_module_version": "1.5.0"
        },
        "5b6932f2e06d44cb9c2f8614356d2c10": {
          "model_module": "@jupyter-widgets/controls",
          "model_name": "HBoxModel",
          "state": {
            "_dom_classes": [],
            "_model_module": "@jupyter-widgets/controls",
            "_model_module_version": "1.5.0",
            "_model_name": "HBoxModel",
            "_view_count": null,
            "_view_module": "@jupyter-widgets/controls",
            "_view_module_version": "1.5.0",
            "_view_name": "HBoxView",
            "box_style": "",
            "children": [
              "IPY_MODEL_6a5b3ed3f2fa4027a4d970b833319fdd",
              "IPY_MODEL_8bae9a49556b4de485b43bd416f09f93"
            ],
            "layout": "IPY_MODEL_e453ebb1a4b74f03a51959353d138fce"
          },
          "model_module_version": "1.5.0"
        },
        "6a5b3ed3f2fa4027a4d970b833319fdd": {
          "model_module": "@jupyter-widgets/controls",
          "model_name": "FloatProgressModel",
          "state": {
            "_dom_classes": [],
            "_model_module": "@jupyter-widgets/controls",
            "_model_module_version": "1.5.0",
            "_model_name": "FloatProgressModel",
            "_view_count": null,
            "_view_module": "@jupyter-widgets/controls",
            "_view_module_version": "1.5.0",
            "_view_name": "ProgressView",
            "bar_style": "success",
            "description": "Downloading: 100%",
            "description_tooltip": null,
            "layout": "IPY_MODEL_445a2de73e7843dfa6c4134fde80018e",
            "max": 447,
            "min": 0,
            "orientation": "horizontal",
            "style": "IPY_MODEL_2e7c8c0e88cc464d8ee870a290a123ac",
            "value": 447
          },
          "model_module_version": "1.5.0"
        },
        "8bae9a49556b4de485b43bd416f09f93": {
          "model_module": "@jupyter-widgets/controls",
          "model_name": "HTMLModel",
          "state": {
            "_dom_classes": [],
            "_model_module": "@jupyter-widgets/controls",
            "_model_module_version": "1.5.0",
            "_model_name": "HTMLModel",
            "_view_count": null,
            "_view_module": "@jupyter-widgets/controls",
            "_view_module_version": "1.5.0",
            "_view_name": "HTMLView",
            "description": "",
            "description_tooltip": null,
            "layout": "IPY_MODEL_0098b28da1514731bb03089475281361",
            "placeholder": "​",
            "style": "IPY_MODEL_5de1854e92bc44c3bdc1b4fb9cd3af98",
            "value": " 447/447 [00:04&lt;00:00, 100B/s]"
          },
          "model_module_version": "1.5.0"
        },
        "e453ebb1a4b74f03a51959353d138fce": {
          "model_module": "@jupyter-widgets/base",
          "model_name": "LayoutModel",
          "state": {
            "_model_module": "@jupyter-widgets/base",
            "_model_module_version": "1.2.0",
            "_model_name": "LayoutModel",
            "_view_count": null,
            "_view_module": "@jupyter-widgets/base",
            "_view_module_version": "1.2.0",
            "_view_name": "LayoutView",
            "align_content": null,
            "align_items": null,
            "align_self": null,
            "border": null,
            "bottom": null,
            "display": null,
            "flex": null,
            "flex_flow": null,
            "grid_area": null,
            "grid_auto_columns": null,
            "grid_auto_flow": null,
            "grid_auto_rows": null,
            "grid_column": null,
            "grid_gap": null,
            "grid_row": null,
            "grid_template_areas": null,
            "grid_template_columns": null,
            "grid_template_rows": null,
            "height": null,
            "justify_content": null,
            "justify_items": null,
            "left": null,
            "margin": null,
            "max_height": null,
            "max_width": null,
            "min_height": null,
            "min_width": null,
            "object_fit": null,
            "object_position": null,
            "order": null,
            "overflow": null,
            "overflow_x": null,
            "overflow_y": null,
            "padding": null,
            "right": null,
            "top": null,
            "visibility": null,
            "width": null
          },
          "model_module_version": "1.2.0"
        },
        "445a2de73e7843dfa6c4134fde80018e": {
          "model_module": "@jupyter-widgets/base",
          "model_name": "LayoutModel",
          "state": {
            "_model_module": "@jupyter-widgets/base",
            "_model_module_version": "1.2.0",
            "_model_name": "LayoutModel",
            "_view_count": null,
            "_view_module": "@jupyter-widgets/base",
            "_view_module_version": "1.2.0",
            "_view_name": "LayoutView",
            "align_content": null,
            "align_items": null,
            "align_self": null,
            "border": null,
            "bottom": null,
            "display": null,
            "flex": null,
            "flex_flow": null,
            "grid_area": null,
            "grid_auto_columns": null,
            "grid_auto_flow": null,
            "grid_auto_rows": null,
            "grid_column": null,
            "grid_gap": null,
            "grid_row": null,
            "grid_template_areas": null,
            "grid_template_columns": null,
            "grid_template_rows": null,
            "height": null,
            "justify_content": null,
            "justify_items": null,
            "left": null,
            "margin": null,
            "max_height": null,
            "max_width": null,
            "min_height": null,
            "min_width": null,
            "object_fit": null,
            "object_position": null,
            "order": null,
            "overflow": null,
            "overflow_x": null,
            "overflow_y": null,
            "padding": null,
            "right": null,
            "top": null,
            "visibility": null,
            "width": null
          },
          "model_module_version": "1.2.0"
        },
        "2e7c8c0e88cc464d8ee870a290a123ac": {
          "model_module": "@jupyter-widgets/controls",
          "model_name": "ProgressStyleModel",
          "state": {
            "_model_module": "@jupyter-widgets/controls",
            "_model_module_version": "1.5.0",
            "_model_name": "ProgressStyleModel",
            "_view_count": null,
            "_view_module": "@jupyter-widgets/base",
            "_view_module_version": "1.2.0",
            "_view_name": "StyleView",
            "bar_color": null,
            "description_width": "initial"
          },
          "model_module_version": "1.5.0"
        },
        "0098b28da1514731bb03089475281361": {
          "model_module": "@jupyter-widgets/base",
          "model_name": "LayoutModel",
          "state": {
            "_model_module": "@jupyter-widgets/base",
            "_model_module_version": "1.2.0",
            "_model_name": "LayoutModel",
            "_view_count": null,
            "_view_module": "@jupyter-widgets/base",
            "_view_module_version": "1.2.0",
            "_view_name": "LayoutView",
            "align_content": null,
            "align_items": null,
            "align_self": null,
            "border": null,
            "bottom": null,
            "display": null,
            "flex": null,
            "flex_flow": null,
            "grid_area": null,
            "grid_auto_columns": null,
            "grid_auto_flow": null,
            "grid_auto_rows": null,
            "grid_column": null,
            "grid_gap": null,
            "grid_row": null,
            "grid_template_areas": null,
            "grid_template_columns": null,
            "grid_template_rows": null,
            "height": null,
            "justify_content": null,
            "justify_items": null,
            "left": null,
            "margin": null,
            "max_height": null,
            "max_width": null,
            "min_height": null,
            "min_width": null,
            "object_fit": null,
            "object_position": null,
            "order": null,
            "overflow": null,
            "overflow_x": null,
            "overflow_y": null,
            "padding": null,
            "right": null,
            "top": null,
            "visibility": null,
            "width": null
          },
          "model_module_version": "1.2.0"
        },
        "5de1854e92bc44c3bdc1b4fb9cd3af98": {
          "model_module": "@jupyter-widgets/controls",
          "model_name": "DescriptionStyleModel",
          "state": {
            "_model_module": "@jupyter-widgets/controls",
            "_model_module_version": "1.5.0",
            "_model_name": "DescriptionStyleModel",
            "_view_count": null,
            "_view_module": "@jupyter-widgets/base",
            "_view_module_version": "1.2.0",
            "_view_name": "StyleView",
            "description_width": ""
          },
          "model_module_version": "1.5.0"
        },
        "914f3295e23b4cb8aa134a1c17a43aee": {
          "model_module": "@jupyter-widgets/controls",
          "model_name": "HBoxModel",
          "state": {
            "_dom_classes": [],
            "_model_module": "@jupyter-widgets/controls",
            "_model_module_version": "1.5.0",
            "_model_name": "HBoxModel",
            "_view_count": null,
            "_view_module": "@jupyter-widgets/controls",
            "_view_module_version": "1.5.0",
            "_view_name": "HBoxView",
            "box_style": "",
            "children": [
              "IPY_MODEL_b6dd297c37e3416bb4536c3d9f329b3c",
              "IPY_MODEL_1efed77d90fb4c3f96c21f15778f268a"
            ],
            "layout": "IPY_MODEL_b1d7790838a149c3860f364d59a92f69"
          },
          "model_module_version": "1.5.0"
        },
        "b6dd297c37e3416bb4536c3d9f329b3c": {
          "model_module": "@jupyter-widgets/controls",
          "model_name": "FloatProgressModel",
          "state": {
            "_dom_classes": [],
            "_model_module": "@jupyter-widgets/controls",
            "_model_module_version": "1.5.0",
            "_model_name": "FloatProgressModel",
            "_view_count": null,
            "_view_module": "@jupyter-widgets/controls",
            "_view_module_version": "1.5.0",
            "_view_name": "ProgressView",
            "bar_style": "success",
            "description": "Downloading: 100%",
            "description_tooltip": null,
            "layout": "IPY_MODEL_eb8b4e620d6b4a04b96442a3576ebd32",
            "max": 995526,
            "min": 0,
            "orientation": "horizontal",
            "style": "IPY_MODEL_1f6bd85a3e624a26bd872c2c987d7cb1",
            "value": 995526
          },
          "model_module_version": "1.5.0"
        },
        "1efed77d90fb4c3f96c21f15778f268a": {
          "model_module": "@jupyter-widgets/controls",
          "model_name": "HTMLModel",
          "state": {
            "_dom_classes": [],
            "_model_module": "@jupyter-widgets/controls",
            "_model_module_version": "1.5.0",
            "_model_name": "HTMLModel",
            "_view_count": null,
            "_view_module": "@jupyter-widgets/controls",
            "_view_module_version": "1.5.0",
            "_view_name": "HTMLView",
            "description": "",
            "description_tooltip": null,
            "layout": "IPY_MODEL_4f9ce9c6a0b34d68ba65d6ce85b758e0",
            "placeholder": "​",
            "style": "IPY_MODEL_18dae2ea92234fb9923343aa662b4159",
            "value": " 996k/996k [00:02&lt;00:00, 335kB/s]"
          },
          "model_module_version": "1.5.0"
        },
        "b1d7790838a149c3860f364d59a92f69": {
          "model_module": "@jupyter-widgets/base",
          "model_name": "LayoutModel",
          "state": {
            "_model_module": "@jupyter-widgets/base",
            "_model_module_version": "1.2.0",
            "_model_name": "LayoutModel",
            "_view_count": null,
            "_view_module": "@jupyter-widgets/base",
            "_view_module_version": "1.2.0",
            "_view_name": "LayoutView",
            "align_content": null,
            "align_items": null,
            "align_self": null,
            "border": null,
            "bottom": null,
            "display": null,
            "flex": null,
            "flex_flow": null,
            "grid_area": null,
            "grid_auto_columns": null,
            "grid_auto_flow": null,
            "grid_auto_rows": null,
            "grid_column": null,
            "grid_gap": null,
            "grid_row": null,
            "grid_template_areas": null,
            "grid_template_columns": null,
            "grid_template_rows": null,
            "height": null,
            "justify_content": null,
            "justify_items": null,
            "left": null,
            "margin": null,
            "max_height": null,
            "max_width": null,
            "min_height": null,
            "min_width": null,
            "object_fit": null,
            "object_position": null,
            "order": null,
            "overflow": null,
            "overflow_x": null,
            "overflow_y": null,
            "padding": null,
            "right": null,
            "top": null,
            "visibility": null,
            "width": null
          },
          "model_module_version": "1.2.0"
        },
        "eb8b4e620d6b4a04b96442a3576ebd32": {
          "model_module": "@jupyter-widgets/base",
          "model_name": "LayoutModel",
          "state": {
            "_model_module": "@jupyter-widgets/base",
            "_model_module_version": "1.2.0",
            "_model_name": "LayoutModel",
            "_view_count": null,
            "_view_module": "@jupyter-widgets/base",
            "_view_module_version": "1.2.0",
            "_view_name": "LayoutView",
            "align_content": null,
            "align_items": null,
            "align_self": null,
            "border": null,
            "bottom": null,
            "display": null,
            "flex": null,
            "flex_flow": null,
            "grid_area": null,
            "grid_auto_columns": null,
            "grid_auto_flow": null,
            "grid_auto_rows": null,
            "grid_column": null,
            "grid_gap": null,
            "grid_row": null,
            "grid_template_areas": null,
            "grid_template_columns": null,
            "grid_template_rows": null,
            "height": null,
            "justify_content": null,
            "justify_items": null,
            "left": null,
            "margin": null,
            "max_height": null,
            "max_width": null,
            "min_height": null,
            "min_width": null,
            "object_fit": null,
            "object_position": null,
            "order": null,
            "overflow": null,
            "overflow_x": null,
            "overflow_y": null,
            "padding": null,
            "right": null,
            "top": null,
            "visibility": null,
            "width": null
          },
          "model_module_version": "1.2.0"
        },
        "1f6bd85a3e624a26bd872c2c987d7cb1": {
          "model_module": "@jupyter-widgets/controls",
          "model_name": "ProgressStyleModel",
          "state": {
            "_model_module": "@jupyter-widgets/controls",
            "_model_module_version": "1.5.0",
            "_model_name": "ProgressStyleModel",
            "_view_count": null,
            "_view_module": "@jupyter-widgets/base",
            "_view_module_version": "1.2.0",
            "_view_name": "StyleView",
            "bar_color": null,
            "description_width": "initial"
          },
          "model_module_version": "1.5.0"
        },
        "4f9ce9c6a0b34d68ba65d6ce85b758e0": {
          "model_module": "@jupyter-widgets/base",
          "model_name": "LayoutModel",
          "state": {
            "_model_module": "@jupyter-widgets/base",
            "_model_module_version": "1.2.0",
            "_model_name": "LayoutModel",
            "_view_count": null,
            "_view_module": "@jupyter-widgets/base",
            "_view_module_version": "1.2.0",
            "_view_name": "LayoutView",
            "align_content": null,
            "align_items": null,
            "align_self": null,
            "border": null,
            "bottom": null,
            "display": null,
            "flex": null,
            "flex_flow": null,
            "grid_area": null,
            "grid_auto_columns": null,
            "grid_auto_flow": null,
            "grid_auto_rows": null,
            "grid_column": null,
            "grid_gap": null,
            "grid_row": null,
            "grid_template_areas": null,
            "grid_template_columns": null,
            "grid_template_rows": null,
            "height": null,
            "justify_content": null,
            "justify_items": null,
            "left": null,
            "margin": null,
            "max_height": null,
            "max_width": null,
            "min_height": null,
            "min_width": null,
            "object_fit": null,
            "object_position": null,
            "order": null,
            "overflow": null,
            "overflow_x": null,
            "overflow_y": null,
            "padding": null,
            "right": null,
            "top": null,
            "visibility": null,
            "width": null
          },
          "model_module_version": "1.2.0"
        },
        "18dae2ea92234fb9923343aa662b4159": {
          "model_module": "@jupyter-widgets/controls",
          "model_name": "DescriptionStyleModel",
          "state": {
            "_model_module": "@jupyter-widgets/controls",
            "_model_module_version": "1.5.0",
            "_model_name": "DescriptionStyleModel",
            "_view_count": null,
            "_view_module": "@jupyter-widgets/base",
            "_view_module_version": "1.2.0",
            "_view_name": "StyleView",
            "description_width": ""
          },
          "model_module_version": "1.5.0"
        },
        "ceaf9cb01f014d82b89b5f142367e92f": {
          "model_module": "@jupyter-widgets/controls",
          "model_name": "HBoxModel",
          "state": {
            "_dom_classes": [],
            "_model_module": "@jupyter-widgets/controls",
            "_model_module_version": "1.5.0",
            "_model_name": "HBoxModel",
            "_view_count": null,
            "_view_module": "@jupyter-widgets/controls",
            "_view_module_version": "1.5.0",
            "_view_name": "HBoxView",
            "box_style": "",
            "children": [
              "IPY_MODEL_b3e15c07906943f8ae7a842bfa78bc56",
              "IPY_MODEL_4190d32a499c44e58a90750d980a9cbf"
            ],
            "layout": "IPY_MODEL_c4c2364b4004473490e91fe272daf4aa"
          },
          "model_module_version": "1.5.0"
        },
        "b3e15c07906943f8ae7a842bfa78bc56": {
          "model_module": "@jupyter-widgets/controls",
          "model_name": "FloatProgressModel",
          "state": {
            "_dom_classes": [],
            "_model_module": "@jupyter-widgets/controls",
            "_model_module_version": "1.5.0",
            "_model_name": "FloatProgressModel",
            "_view_count": null,
            "_view_module": "@jupyter-widgets/controls",
            "_view_module_version": "1.5.0",
            "_view_name": "ProgressView",
            "bar_style": "success",
            "description": "Downloading: 100%",
            "description_tooltip": null,
            "layout": "IPY_MODEL_3def2a0958594d5994c483c41cbbdada",
            "max": 190,
            "min": 0,
            "orientation": "horizontal",
            "style": "IPY_MODEL_0e4a4af4cd7e46ba829ded456c4b5509",
            "value": 190
          },
          "model_module_version": "1.5.0"
        },
        "4190d32a499c44e58a90750d980a9cbf": {
          "model_module": "@jupyter-widgets/controls",
          "model_name": "HTMLModel",
          "state": {
            "_dom_classes": [],
            "_model_module": "@jupyter-widgets/controls",
            "_model_module_version": "1.5.0",
            "_model_name": "HTMLModel",
            "_view_count": null,
            "_view_module": "@jupyter-widgets/controls",
            "_view_module_version": "1.5.0",
            "_view_name": "HTMLView",
            "description": "",
            "description_tooltip": null,
            "layout": "IPY_MODEL_d5b58beb530e4d72b7145e1a3ae72351",
            "placeholder": "​",
            "style": "IPY_MODEL_4b4561982c28440aa73dec43a8815aea",
            "value": " 190/190 [00:00&lt;00:00, 232B/s]"
          },
          "model_module_version": "1.5.0"
        },
        "c4c2364b4004473490e91fe272daf4aa": {
          "model_module": "@jupyter-widgets/base",
          "model_name": "LayoutModel",
          "state": {
            "_model_module": "@jupyter-widgets/base",
            "_model_module_version": "1.2.0",
            "_model_name": "LayoutModel",
            "_view_count": null,
            "_view_module": "@jupyter-widgets/base",
            "_view_module_version": "1.2.0",
            "_view_name": "LayoutView",
            "align_content": null,
            "align_items": null,
            "align_self": null,
            "border": null,
            "bottom": null,
            "display": null,
            "flex": null,
            "flex_flow": null,
            "grid_area": null,
            "grid_auto_columns": null,
            "grid_auto_flow": null,
            "grid_auto_rows": null,
            "grid_column": null,
            "grid_gap": null,
            "grid_row": null,
            "grid_template_areas": null,
            "grid_template_columns": null,
            "grid_template_rows": null,
            "height": null,
            "justify_content": null,
            "justify_items": null,
            "left": null,
            "margin": null,
            "max_height": null,
            "max_width": null,
            "min_height": null,
            "min_width": null,
            "object_fit": null,
            "object_position": null,
            "order": null,
            "overflow": null,
            "overflow_x": null,
            "overflow_y": null,
            "padding": null,
            "right": null,
            "top": null,
            "visibility": null,
            "width": null
          },
          "model_module_version": "1.2.0"
        },
        "3def2a0958594d5994c483c41cbbdada": {
          "model_module": "@jupyter-widgets/base",
          "model_name": "LayoutModel",
          "state": {
            "_model_module": "@jupyter-widgets/base",
            "_model_module_version": "1.2.0",
            "_model_name": "LayoutModel",
            "_view_count": null,
            "_view_module": "@jupyter-widgets/base",
            "_view_module_version": "1.2.0",
            "_view_name": "LayoutView",
            "align_content": null,
            "align_items": null,
            "align_self": null,
            "border": null,
            "bottom": null,
            "display": null,
            "flex": null,
            "flex_flow": null,
            "grid_area": null,
            "grid_auto_columns": null,
            "grid_auto_flow": null,
            "grid_auto_rows": null,
            "grid_column": null,
            "grid_gap": null,
            "grid_row": null,
            "grid_template_areas": null,
            "grid_template_columns": null,
            "grid_template_rows": null,
            "height": null,
            "justify_content": null,
            "justify_items": null,
            "left": null,
            "margin": null,
            "max_height": null,
            "max_width": null,
            "min_height": null,
            "min_width": null,
            "object_fit": null,
            "object_position": null,
            "order": null,
            "overflow": null,
            "overflow_x": null,
            "overflow_y": null,
            "padding": null,
            "right": null,
            "top": null,
            "visibility": null,
            "width": null
          },
          "model_module_version": "1.2.0"
        },
        "0e4a4af4cd7e46ba829ded456c4b5509": {
          "model_module": "@jupyter-widgets/controls",
          "model_name": "ProgressStyleModel",
          "state": {
            "_model_module": "@jupyter-widgets/controls",
            "_model_module_version": "1.5.0",
            "_model_name": "ProgressStyleModel",
            "_view_count": null,
            "_view_module": "@jupyter-widgets/base",
            "_view_module_version": "1.2.0",
            "_view_name": "StyleView",
            "bar_color": null,
            "description_width": "initial"
          },
          "model_module_version": "1.5.0"
        },
        "d5b58beb530e4d72b7145e1a3ae72351": {
          "model_module": "@jupyter-widgets/base",
          "model_name": "LayoutModel",
          "state": {
            "_model_module": "@jupyter-widgets/base",
            "_model_module_version": "1.2.0",
            "_model_name": "LayoutModel",
            "_view_count": null,
            "_view_module": "@jupyter-widgets/base",
            "_view_module_version": "1.2.0",
            "_view_name": "LayoutView",
            "align_content": null,
            "align_items": null,
            "align_self": null,
            "border": null,
            "bottom": null,
            "display": null,
            "flex": null,
            "flex_flow": null,
            "grid_area": null,
            "grid_auto_columns": null,
            "grid_auto_flow": null,
            "grid_auto_rows": null,
            "grid_column": null,
            "grid_gap": null,
            "grid_row": null,
            "grid_template_areas": null,
            "grid_template_columns": null,
            "grid_template_rows": null,
            "height": null,
            "justify_content": null,
            "justify_items": null,
            "left": null,
            "margin": null,
            "max_height": null,
            "max_width": null,
            "min_height": null,
            "min_width": null,
            "object_fit": null,
            "object_position": null,
            "order": null,
            "overflow": null,
            "overflow_x": null,
            "overflow_y": null,
            "padding": null,
            "right": null,
            "top": null,
            "visibility": null,
            "width": null
          },
          "model_module_version": "1.2.0"
        },
        "4b4561982c28440aa73dec43a8815aea": {
          "model_module": "@jupyter-widgets/controls",
          "model_name": "DescriptionStyleModel",
          "state": {
            "_model_module": "@jupyter-widgets/controls",
            "_model_module_version": "1.5.0",
            "_model_name": "DescriptionStyleModel",
            "_view_count": null,
            "_view_module": "@jupyter-widgets/base",
            "_view_module_version": "1.2.0",
            "_view_name": "StyleView",
            "description_width": ""
          },
          "model_module_version": "1.5.0"
        },
        "ebe8b09ad5244ebd860dfab686b759ef": {
          "model_module": "@jupyter-widgets/controls",
          "model_name": "HBoxModel",
          "state": {
            "_dom_classes": [],
            "_model_module": "@jupyter-widgets/controls",
            "_model_module_version": "1.5.0",
            "_model_name": "HBoxModel",
            "_view_count": null,
            "_view_module": "@jupyter-widgets/controls",
            "_view_module_version": "1.5.0",
            "_view_name": "HBoxView",
            "box_style": "",
            "children": [
              "IPY_MODEL_bd155e95d970450d90e1b588a9709453",
              "IPY_MODEL_2b911e91d0624adfb1dcbd57cb5d68bc"
            ],
            "layout": "IPY_MODEL_4c1b970bec1b4899abdeb3418fd1d916"
          },
          "model_module_version": "1.5.0"
        },
        "bd155e95d970450d90e1b588a9709453": {
          "model_module": "@jupyter-widgets/controls",
          "model_name": "FloatProgressModel",
          "state": {
            "_dom_classes": [],
            "_model_module": "@jupyter-widgets/controls",
            "_model_module_version": "1.5.0",
            "_model_name": "FloatProgressModel",
            "_view_count": null,
            "_view_module": "@jupyter-widgets/controls",
            "_view_module_version": "1.5.0",
            "_view_name": "ProgressView",
            "bar_style": "success",
            "description": "Batches: 100%",
            "description_tooltip": null,
            "layout": "IPY_MODEL_17e1978a4ea14dd4814f4b30ed682e75",
            "max": 72,
            "min": 0,
            "orientation": "horizontal",
            "style": "IPY_MODEL_d66df42e7a2e48fdb9b0042ce8962822",
            "value": 72
          },
          "model_module_version": "1.5.0"
        },
        "2b911e91d0624adfb1dcbd57cb5d68bc": {
          "model_module": "@jupyter-widgets/controls",
          "model_name": "HTMLModel",
          "state": {
            "_dom_classes": [],
            "_model_module": "@jupyter-widgets/controls",
            "_model_module_version": "1.5.0",
            "_model_name": "HTMLModel",
            "_view_count": null,
            "_view_module": "@jupyter-widgets/controls",
            "_view_module_version": "1.5.0",
            "_view_name": "HTMLView",
            "description": "",
            "description_tooltip": null,
            "layout": "IPY_MODEL_9d533bfaeb6949fea3673193186d8eb2",
            "placeholder": "​",
            "style": "IPY_MODEL_a65749b9b45346489506f53ee61975eb",
            "value": " 72/72 [09:55&lt;00:00,  8.28s/it]"
          },
          "model_module_version": "1.5.0"
        },
        "4c1b970bec1b4899abdeb3418fd1d916": {
          "model_module": "@jupyter-widgets/base",
          "model_name": "LayoutModel",
          "state": {
            "_model_module": "@jupyter-widgets/base",
            "_model_module_version": "1.2.0",
            "_model_name": "LayoutModel",
            "_view_count": null,
            "_view_module": "@jupyter-widgets/base",
            "_view_module_version": "1.2.0",
            "_view_name": "LayoutView",
            "align_content": null,
            "align_items": null,
            "align_self": null,
            "border": null,
            "bottom": null,
            "display": null,
            "flex": null,
            "flex_flow": null,
            "grid_area": null,
            "grid_auto_columns": null,
            "grid_auto_flow": null,
            "grid_auto_rows": null,
            "grid_column": null,
            "grid_gap": null,
            "grid_row": null,
            "grid_template_areas": null,
            "grid_template_columns": null,
            "grid_template_rows": null,
            "height": null,
            "justify_content": null,
            "justify_items": null,
            "left": null,
            "margin": null,
            "max_height": null,
            "max_width": null,
            "min_height": null,
            "min_width": null,
            "object_fit": null,
            "object_position": null,
            "order": null,
            "overflow": null,
            "overflow_x": null,
            "overflow_y": null,
            "padding": null,
            "right": null,
            "top": null,
            "visibility": null,
            "width": null
          },
          "model_module_version": "1.2.0"
        },
        "17e1978a4ea14dd4814f4b30ed682e75": {
          "model_module": "@jupyter-widgets/base",
          "model_name": "LayoutModel",
          "state": {
            "_model_module": "@jupyter-widgets/base",
            "_model_module_version": "1.2.0",
            "_model_name": "LayoutModel",
            "_view_count": null,
            "_view_module": "@jupyter-widgets/base",
            "_view_module_version": "1.2.0",
            "_view_name": "LayoutView",
            "align_content": null,
            "align_items": null,
            "align_self": null,
            "border": null,
            "bottom": null,
            "display": null,
            "flex": null,
            "flex_flow": null,
            "grid_area": null,
            "grid_auto_columns": null,
            "grid_auto_flow": null,
            "grid_auto_rows": null,
            "grid_column": null,
            "grid_gap": null,
            "grid_row": null,
            "grid_template_areas": null,
            "grid_template_columns": null,
            "grid_template_rows": null,
            "height": null,
            "justify_content": null,
            "justify_items": null,
            "left": null,
            "margin": null,
            "max_height": null,
            "max_width": null,
            "min_height": null,
            "min_width": null,
            "object_fit": null,
            "object_position": null,
            "order": null,
            "overflow": null,
            "overflow_x": null,
            "overflow_y": null,
            "padding": null,
            "right": null,
            "top": null,
            "visibility": null,
            "width": null
          },
          "model_module_version": "1.2.0"
        },
        "d66df42e7a2e48fdb9b0042ce8962822": {
          "model_module": "@jupyter-widgets/controls",
          "model_name": "ProgressStyleModel",
          "state": {
            "_model_module": "@jupyter-widgets/controls",
            "_model_module_version": "1.5.0",
            "_model_name": "ProgressStyleModel",
            "_view_count": null,
            "_view_module": "@jupyter-widgets/base",
            "_view_module_version": "1.2.0",
            "_view_name": "StyleView",
            "bar_color": null,
            "description_width": "initial"
          },
          "model_module_version": "1.5.0"
        },
        "9d533bfaeb6949fea3673193186d8eb2": {
          "model_module": "@jupyter-widgets/base",
          "model_name": "LayoutModel",
          "state": {
            "_model_module": "@jupyter-widgets/base",
            "_model_module_version": "1.2.0",
            "_model_name": "LayoutModel",
            "_view_count": null,
            "_view_module": "@jupyter-widgets/base",
            "_view_module_version": "1.2.0",
            "_view_name": "LayoutView",
            "align_content": null,
            "align_items": null,
            "align_self": null,
            "border": null,
            "bottom": null,
            "display": null,
            "flex": null,
            "flex_flow": null,
            "grid_area": null,
            "grid_auto_columns": null,
            "grid_auto_flow": null,
            "grid_auto_rows": null,
            "grid_column": null,
            "grid_gap": null,
            "grid_row": null,
            "grid_template_areas": null,
            "grid_template_columns": null,
            "grid_template_rows": null,
            "height": null,
            "justify_content": null,
            "justify_items": null,
            "left": null,
            "margin": null,
            "max_height": null,
            "max_width": null,
            "min_height": null,
            "min_width": null,
            "object_fit": null,
            "object_position": null,
            "order": null,
            "overflow": null,
            "overflow_x": null,
            "overflow_y": null,
            "padding": null,
            "right": null,
            "top": null,
            "visibility": null,
            "width": null
          },
          "model_module_version": "1.2.0"
        },
        "a65749b9b45346489506f53ee61975eb": {
          "model_module": "@jupyter-widgets/controls",
          "model_name": "DescriptionStyleModel",
          "state": {
            "_model_module": "@jupyter-widgets/controls",
            "_model_module_version": "1.5.0",
            "_model_name": "DescriptionStyleModel",
            "_view_count": null,
            "_view_module": "@jupyter-widgets/base",
            "_view_module_version": "1.2.0",
            "_view_name": "StyleView",
            "description_width": ""
          },
          "model_module_version": "1.5.0"
        },
        "d7eefeac219945d4afda106e0bd1bf2c": {
          "model_module": "@jupyter-widgets/controls",
          "model_name": "HBoxModel",
          "state": {
            "_dom_classes": [],
            "_model_module": "@jupyter-widgets/controls",
            "_model_module_version": "1.5.0",
            "_model_name": "HBoxModel",
            "_view_count": null,
            "_view_module": "@jupyter-widgets/controls",
            "_view_module_version": "1.5.0",
            "_view_name": "HBoxView",
            "box_style": "",
            "children": [
              "IPY_MODEL_aca44b5e25a447e6a61d7237ebd9dd03",
              "IPY_MODEL_a94a5396f8a54571927d2fbee4cb1a71"
            ],
            "layout": "IPY_MODEL_c6dcf2d0b4f84e268de5d9b59f8ba529"
          },
          "model_module_version": "1.5.0"
        },
        "aca44b5e25a447e6a61d7237ebd9dd03": {
          "model_module": "@jupyter-widgets/controls",
          "model_name": "FloatProgressModel",
          "state": {
            "_dom_classes": [],
            "_model_module": "@jupyter-widgets/controls",
            "_model_module_version": "1.5.0",
            "_model_name": "FloatProgressModel",
            "_view_count": null,
            "_view_module": "@jupyter-widgets/controls",
            "_view_module_version": "1.5.0",
            "_view_name": "ProgressView",
            "bar_style": "success",
            "description": "Batches: 100%",
            "description_tooltip": null,
            "layout": "IPY_MODEL_100616eb76da4e8896b4f14077b06ae6",
            "max": 72,
            "min": 0,
            "orientation": "horizontal",
            "style": "IPY_MODEL_837286f8c02e44e49d9b1f17e99da28c",
            "value": 72
          },
          "model_module_version": "1.5.0"
        },
        "a94a5396f8a54571927d2fbee4cb1a71": {
          "model_module": "@jupyter-widgets/controls",
          "model_name": "HTMLModel",
          "state": {
            "_dom_classes": [],
            "_model_module": "@jupyter-widgets/controls",
            "_model_module_version": "1.5.0",
            "_model_name": "HTMLModel",
            "_view_count": null,
            "_view_module": "@jupyter-widgets/controls",
            "_view_module_version": "1.5.0",
            "_view_name": "HTMLView",
            "description": "",
            "description_tooltip": null,
            "layout": "IPY_MODEL_032afabd68194c5b9c5e1a86d0bc0d94",
            "placeholder": "​",
            "style": "IPY_MODEL_613e33230a14492da4b92dd671ac529d",
            "value": " 72/72 [01:07&lt;00:00,  1.07it/s]"
          },
          "model_module_version": "1.5.0"
        },
        "c6dcf2d0b4f84e268de5d9b59f8ba529": {
          "model_module": "@jupyter-widgets/base",
          "model_name": "LayoutModel",
          "state": {
            "_model_module": "@jupyter-widgets/base",
            "_model_module_version": "1.2.0",
            "_model_name": "LayoutModel",
            "_view_count": null,
            "_view_module": "@jupyter-widgets/base",
            "_view_module_version": "1.2.0",
            "_view_name": "LayoutView",
            "align_content": null,
            "align_items": null,
            "align_self": null,
            "border": null,
            "bottom": null,
            "display": null,
            "flex": null,
            "flex_flow": null,
            "grid_area": null,
            "grid_auto_columns": null,
            "grid_auto_flow": null,
            "grid_auto_rows": null,
            "grid_column": null,
            "grid_gap": null,
            "grid_row": null,
            "grid_template_areas": null,
            "grid_template_columns": null,
            "grid_template_rows": null,
            "height": null,
            "justify_content": null,
            "justify_items": null,
            "left": null,
            "margin": null,
            "max_height": null,
            "max_width": null,
            "min_height": null,
            "min_width": null,
            "object_fit": null,
            "object_position": null,
            "order": null,
            "overflow": null,
            "overflow_x": null,
            "overflow_y": null,
            "padding": null,
            "right": null,
            "top": null,
            "visibility": null,
            "width": null
          },
          "model_module_version": "1.2.0"
        },
        "100616eb76da4e8896b4f14077b06ae6": {
          "model_module": "@jupyter-widgets/base",
          "model_name": "LayoutModel",
          "state": {
            "_model_module": "@jupyter-widgets/base",
            "_model_module_version": "1.2.0",
            "_model_name": "LayoutModel",
            "_view_count": null,
            "_view_module": "@jupyter-widgets/base",
            "_view_module_version": "1.2.0",
            "_view_name": "LayoutView",
            "align_content": null,
            "align_items": null,
            "align_self": null,
            "border": null,
            "bottom": null,
            "display": null,
            "flex": null,
            "flex_flow": null,
            "grid_area": null,
            "grid_auto_columns": null,
            "grid_auto_flow": null,
            "grid_auto_rows": null,
            "grid_column": null,
            "grid_gap": null,
            "grid_row": null,
            "grid_template_areas": null,
            "grid_template_columns": null,
            "grid_template_rows": null,
            "height": null,
            "justify_content": null,
            "justify_items": null,
            "left": null,
            "margin": null,
            "max_height": null,
            "max_width": null,
            "min_height": null,
            "min_width": null,
            "object_fit": null,
            "object_position": null,
            "order": null,
            "overflow": null,
            "overflow_x": null,
            "overflow_y": null,
            "padding": null,
            "right": null,
            "top": null,
            "visibility": null,
            "width": null
          },
          "model_module_version": "1.2.0"
        },
        "837286f8c02e44e49d9b1f17e99da28c": {
          "model_module": "@jupyter-widgets/controls",
          "model_name": "ProgressStyleModel",
          "state": {
            "_model_module": "@jupyter-widgets/controls",
            "_model_module_version": "1.5.0",
            "_model_name": "ProgressStyleModel",
            "_view_count": null,
            "_view_module": "@jupyter-widgets/base",
            "_view_module_version": "1.2.0",
            "_view_name": "StyleView",
            "bar_color": null,
            "description_width": "initial"
          },
          "model_module_version": "1.5.0"
        },
        "032afabd68194c5b9c5e1a86d0bc0d94": {
          "model_module": "@jupyter-widgets/base",
          "model_name": "LayoutModel",
          "state": {
            "_model_module": "@jupyter-widgets/base",
            "_model_module_version": "1.2.0",
            "_model_name": "LayoutModel",
            "_view_count": null,
            "_view_module": "@jupyter-widgets/base",
            "_view_module_version": "1.2.0",
            "_view_name": "LayoutView",
            "align_content": null,
            "align_items": null,
            "align_self": null,
            "border": null,
            "bottom": null,
            "display": null,
            "flex": null,
            "flex_flow": null,
            "grid_area": null,
            "grid_auto_columns": null,
            "grid_auto_flow": null,
            "grid_auto_rows": null,
            "grid_column": null,
            "grid_gap": null,
            "grid_row": null,
            "grid_template_areas": null,
            "grid_template_columns": null,
            "grid_template_rows": null,
            "height": null,
            "justify_content": null,
            "justify_items": null,
            "left": null,
            "margin": null,
            "max_height": null,
            "max_width": null,
            "min_height": null,
            "min_width": null,
            "object_fit": null,
            "object_position": null,
            "order": null,
            "overflow": null,
            "overflow_x": null,
            "overflow_y": null,
            "padding": null,
            "right": null,
            "top": null,
            "visibility": null,
            "width": null
          },
          "model_module_version": "1.2.0"
        },
        "613e33230a14492da4b92dd671ac529d": {
          "model_module": "@jupyter-widgets/controls",
          "model_name": "DescriptionStyleModel",
          "state": {
            "_model_module": "@jupyter-widgets/controls",
            "_model_module_version": "1.5.0",
            "_model_name": "DescriptionStyleModel",
            "_view_count": null,
            "_view_module": "@jupyter-widgets/base",
            "_view_module_version": "1.2.0",
            "_view_name": "StyleView",
            "description_width": ""
          },
          "model_module_version": "1.5.0"
        },
        "975506ec56004cfb95294cc9fa0d22ba": {
          "model_module": "@jupyter-widgets/controls",
          "model_name": "HBoxModel",
          "state": {
            "_dom_classes": [],
            "_model_module": "@jupyter-widgets/controls",
            "_model_module_version": "1.5.0",
            "_model_name": "HBoxModel",
            "_view_count": null,
            "_view_module": "@jupyter-widgets/controls",
            "_view_module_version": "1.5.0",
            "_view_name": "HBoxView",
            "box_style": "",
            "children": [
              "IPY_MODEL_b71ea73363fa4fda9df11e27903ff6d7",
              "IPY_MODEL_964b45b1d3414847825a0c6558b82c38"
            ],
            "layout": "IPY_MODEL_977c928cbe8444c093e97832f897e890"
          },
          "model_module_version": "1.5.0"
        },
        "b71ea73363fa4fda9df11e27903ff6d7": {
          "model_module": "@jupyter-widgets/controls",
          "model_name": "FloatProgressModel",
          "state": {
            "_dom_classes": [],
            "_model_module": "@jupyter-widgets/controls",
            "_model_module_version": "1.5.0",
            "_model_name": "FloatProgressModel",
            "_view_count": null,
            "_view_module": "@jupyter-widgets/controls",
            "_view_module_version": "1.5.0",
            "_view_name": "ProgressView",
            "bar_style": "success",
            "description": "Batches: 100%",
            "description_tooltip": null,
            "layout": "IPY_MODEL_dc1b6537522f45d08dba421229c479a6",
            "max": 72,
            "min": 0,
            "orientation": "horizontal",
            "style": "IPY_MODEL_209ded2983024d2a8baf8539b889de2c",
            "value": 72
          },
          "model_module_version": "1.5.0"
        },
        "964b45b1d3414847825a0c6558b82c38": {
          "model_module": "@jupyter-widgets/controls",
          "model_name": "HTMLModel",
          "state": {
            "_dom_classes": [],
            "_model_module": "@jupyter-widgets/controls",
            "_model_module_version": "1.5.0",
            "_model_name": "HTMLModel",
            "_view_count": null,
            "_view_module": "@jupyter-widgets/controls",
            "_view_module_version": "1.5.0",
            "_view_name": "HTMLView",
            "description": "",
            "description_tooltip": null,
            "layout": "IPY_MODEL_46233bcaf3084abe8c5d0bc524e0da4b",
            "placeholder": "​",
            "style": "IPY_MODEL_5a68be8d91ef46f4b5016e769e29b375",
            "value": " 72/72 [07:11&lt;00:00,  5.99s/it]"
          },
          "model_module_version": "1.5.0"
        },
        "977c928cbe8444c093e97832f897e890": {
          "model_module": "@jupyter-widgets/base",
          "model_name": "LayoutModel",
          "state": {
            "_model_module": "@jupyter-widgets/base",
            "_model_module_version": "1.2.0",
            "_model_name": "LayoutModel",
            "_view_count": null,
            "_view_module": "@jupyter-widgets/base",
            "_view_module_version": "1.2.0",
            "_view_name": "LayoutView",
            "align_content": null,
            "align_items": null,
            "align_self": null,
            "border": null,
            "bottom": null,
            "display": null,
            "flex": null,
            "flex_flow": null,
            "grid_area": null,
            "grid_auto_columns": null,
            "grid_auto_flow": null,
            "grid_auto_rows": null,
            "grid_column": null,
            "grid_gap": null,
            "grid_row": null,
            "grid_template_areas": null,
            "grid_template_columns": null,
            "grid_template_rows": null,
            "height": null,
            "justify_content": null,
            "justify_items": null,
            "left": null,
            "margin": null,
            "max_height": null,
            "max_width": null,
            "min_height": null,
            "min_width": null,
            "object_fit": null,
            "object_position": null,
            "order": null,
            "overflow": null,
            "overflow_x": null,
            "overflow_y": null,
            "padding": null,
            "right": null,
            "top": null,
            "visibility": null,
            "width": null
          },
          "model_module_version": "1.2.0"
        },
        "dc1b6537522f45d08dba421229c479a6": {
          "model_module": "@jupyter-widgets/base",
          "model_name": "LayoutModel",
          "state": {
            "_model_module": "@jupyter-widgets/base",
            "_model_module_version": "1.2.0",
            "_model_name": "LayoutModel",
            "_view_count": null,
            "_view_module": "@jupyter-widgets/base",
            "_view_module_version": "1.2.0",
            "_view_name": "LayoutView",
            "align_content": null,
            "align_items": null,
            "align_self": null,
            "border": null,
            "bottom": null,
            "display": null,
            "flex": null,
            "flex_flow": null,
            "grid_area": null,
            "grid_auto_columns": null,
            "grid_auto_flow": null,
            "grid_auto_rows": null,
            "grid_column": null,
            "grid_gap": null,
            "grid_row": null,
            "grid_template_areas": null,
            "grid_template_columns": null,
            "grid_template_rows": null,
            "height": null,
            "justify_content": null,
            "justify_items": null,
            "left": null,
            "margin": null,
            "max_height": null,
            "max_width": null,
            "min_height": null,
            "min_width": null,
            "object_fit": null,
            "object_position": null,
            "order": null,
            "overflow": null,
            "overflow_x": null,
            "overflow_y": null,
            "padding": null,
            "right": null,
            "top": null,
            "visibility": null,
            "width": null
          },
          "model_module_version": "1.2.0"
        },
        "209ded2983024d2a8baf8539b889de2c": {
          "model_module": "@jupyter-widgets/controls",
          "model_name": "ProgressStyleModel",
          "state": {
            "_model_module": "@jupyter-widgets/controls",
            "_model_module_version": "1.5.0",
            "_model_name": "ProgressStyleModel",
            "_view_count": null,
            "_view_module": "@jupyter-widgets/base",
            "_view_module_version": "1.2.0",
            "_view_name": "StyleView",
            "bar_color": null,
            "description_width": "initial"
          },
          "model_module_version": "1.5.0"
        },
        "46233bcaf3084abe8c5d0bc524e0da4b": {
          "model_module": "@jupyter-widgets/base",
          "model_name": "LayoutModel",
          "state": {
            "_model_module": "@jupyter-widgets/base",
            "_model_module_version": "1.2.0",
            "_model_name": "LayoutModel",
            "_view_count": null,
            "_view_module": "@jupyter-widgets/base",
            "_view_module_version": "1.2.0",
            "_view_name": "LayoutView",
            "align_content": null,
            "align_items": null,
            "align_self": null,
            "border": null,
            "bottom": null,
            "display": null,
            "flex": null,
            "flex_flow": null,
            "grid_area": null,
            "grid_auto_columns": null,
            "grid_auto_flow": null,
            "grid_auto_rows": null,
            "grid_column": null,
            "grid_gap": null,
            "grid_row": null,
            "grid_template_areas": null,
            "grid_template_columns": null,
            "grid_template_rows": null,
            "height": null,
            "justify_content": null,
            "justify_items": null,
            "left": null,
            "margin": null,
            "max_height": null,
            "max_width": null,
            "min_height": null,
            "min_width": null,
            "object_fit": null,
            "object_position": null,
            "order": null,
            "overflow": null,
            "overflow_x": null,
            "overflow_y": null,
            "padding": null,
            "right": null,
            "top": null,
            "visibility": null,
            "width": null
          },
          "model_module_version": "1.2.0"
        },
        "5a68be8d91ef46f4b5016e769e29b375": {
          "model_module": "@jupyter-widgets/controls",
          "model_name": "DescriptionStyleModel",
          "state": {
            "_model_module": "@jupyter-widgets/controls",
            "_model_module_version": "1.5.0",
            "_model_name": "DescriptionStyleModel",
            "_view_count": null,
            "_view_module": "@jupyter-widgets/base",
            "_view_module_version": "1.2.0",
            "_view_name": "StyleView",
            "description_width": ""
          },
          "model_module_version": "1.5.0"
        }
      }
    }
  },
  "cells": [
    {
      "cell_type": "markdown",
      "metadata": {
        "id": "view-in-github",
        "colab_type": "text"
      },
      "source": [
        "<a href=\"https://colab.research.google.com/github/guSamyuktha/memeclassification/blob/main/memeclassificationTamilLang.ipynb\" target=\"_parent\"><img src=\"https://colab.research.google.com/assets/colab-badge.svg\" alt=\"Open In Colab\"/></a>"
      ]
    },
    {
      "cell_type": "code",
      "metadata": {
        "id": "TQXFkoLZPyoP"
      },
      "source": [
        "from sklearn import tree\n",
        "from sklearn.pipeline import Pipeline\n",
        "from sklearn import metrics\n",
        "from sklearn.feature_extraction.text import CountVectorizer\n",
        "#from sklearn.feature_extraction.text import TfidfTransformer\n",
        "import pandas as pd\n",
        "from sklearn.feature_extraction.text import CountVectorizer, TfidfVectorizer\n",
        "from sklearn.ensemble import RandomForestClassifier\n",
        "import random\n",
        "from sklearn.neural_network import MLPClassifier\n",
        "from sklearn.model_selection import cross_validate\n",
        "from sklearn.model_selection import cross_val_score\n",
        "from sklearn.metrics import classification_report\n",
        "from sklearn.neighbors import KNeighborsClassifier\n",
        "from sklearn.model_selection import StratifiedKFold\n",
        "from sklearn.linear_model import LogisticRegression\n",
        "from sklearn.tree import DecisionTreeClassifier  \n",
        "from sklearn.svm import SVC\n",
        "from xgboost import XGBClassifier"
      ],
      "execution_count": null,
      "outputs": []
    },
    {
      "cell_type": "code",
      "metadata": {
        "colab": {
          "base_uri": "https://localhost:8080/"
        },
        "id": "SOdzwvNhP7-2",
        "outputId": "1801c427-50f7-49a8-b42a-fc615d954c07"
      },
      "source": [
        "from google.colab import drive \n",
        "drive.mount('/content/drive/')"
      ],
      "execution_count": null,
      "outputs": [
        {
          "output_type": "stream",
          "text": [
            "Drive already mounted at /content/drive/; to attempt to forcibly remount, call drive.mount(\"/content/drive/\", force_remount=True).\n"
          ],
          "name": "stdout"
        }
      ]
    },
    {
      "cell_type": "code",
      "metadata": {
        "id": "CxLZsursDkLm"
      },
      "source": [
        "import csv\n",
        "in_file = open(\"/content/drive/MyDrive/classifymemes/train_captions.csv\", \"r\")\n",
        "reader = csv.reader(in_file)\n",
        "out_file = open(\"train_captions_out.csv\", \"w+\")\n",
        "writer = csv.writer(out_file)\n",
        " \n",
        "firstline = True\n",
        " \n",
        "for row in reader:\n",
        "    if firstline:\n",
        "        firstline=False\n",
        "        continue\n",
        "    \n",
        "    if row[1].startswith(\"Not\"):\n",
        "        row[1]=\"Not_troll\"\n",
        "    else:\n",
        "        row[1]=\"troll\"\n",
        "    writer.writerow(row)\n",
        "    #print(row)\n",
        "in_file.close()    \n",
        "out_file.close()"
      ],
      "execution_count": null,
      "outputs": []
    },
    {
      "cell_type": "code",
      "metadata": {
        "id": "gGfs82nUEWT9"
      },
      "source": [
        "train = pd.read_csv('train_captions_out.csv',',', names=['id','label', 'text'])\n",
        "captions = train.text\n",
        "label=train.label"
      ],
      "execution_count": null,
      "outputs": []
    },
    {
      "cell_type": "code",
      "metadata": {
        "colab": {
          "base_uri": "https://localhost:8080/"
        },
        "id": "Ru1vSt4FP9Ev",
        "outputId": "3edcc7b4-f16d-4ac5-8cfb-ce8521fd13ff"
      },
      "source": [
        "test1 = pd.read_csv('/content/drive/MyDrive/classifymemes/gold_labels_for_test.csv',',', names=['id','referencecaption','label'])\n",
        "y_test = test1.label\n",
        "print(y_test)"
      ],
      "execution_count": null,
      "outputs": [
        {
          "output_type": "stream",
          "text": [
            "0          label\n",
            "1          troll\n",
            "2          troll\n",
            "3          troll\n",
            "4          troll\n",
            "         ...    \n",
            "663        troll\n",
            "664        troll\n",
            "665        troll\n",
            "666    not_troll\n",
            "667    not_troll\n",
            "Name: label, Length: 668, dtype: object\n"
          ],
          "name": "stdout"
        }
      ]
    },
    {
      "cell_type": "code",
      "metadata": {
        "colab": {
          "base_uri": "https://localhost:8080/"
        },
        "id": "g3c9a77jQpcW",
        "outputId": "bdbea765-f3c5-42ca-e0eb-d4b6114d55c8"
      },
      "source": [
        "test = pd.read_csv('/content/drive/MyDrive/classifymemes/test_captions.csv',',', names=['id','imagename','text'])\n",
        "captiontext = test.text\n",
        "print(captiontext)"
      ],
      "execution_count": null,
      "outputs": [
        {
          "output_type": "stream",
          "text": [
            "0                                               captions\n",
            "1      sugarkaga nadandhava vida figuregaga nadandhav...\n",
            "2      i have come for my stones      stones thaane.....\n",
            "3      \"special porotta\" nu pottuierukke spacial kum ...\n",
            "4      *we : amma .. cooker 3 whistle vanthuchu off p...\n",
            "                             ...                        \n",
            "663    DURING SCHOOL DAYS  ME & FRNDS: ANNA MAIL CHEC...\n",
            "664           REMEMBER THIS KID    THIS KID IS RIGHT NOW\n",
            "665    *SINGLES: IVAN VERA ENGALA ROMBA TORCHER PANDR...\n",
            "666    ENAIKI PUBG LA CHICKEN DINNER VANGURA PAYALUGA...\n",
            "667                                       LATER THAT DAY\n",
            "Name: text, Length: 668, dtype: object\n"
          ],
          "name": "stdout"
        }
      ]
    },
    {
      "cell_type": "code",
      "metadata": {
        "colab": {
          "base_uri": "https://localhost:8080/"
        },
        "id": "Rok45E6IQ59v",
        "outputId": "f972108b-6a8d-45b1-f358-c69f01fd1a60"
      },
      "source": [
        "vectorizer = TfidfVectorizer(analyzer='char', ngram_range=(1,3))\n",
        "X_train = vectorizer.fit_transform(captions)\n",
        "y_train = label\n",
        "X_test = vectorizer.transform(captiontext)\n",
        "clf = MLPClassifier(verbose=True, hidden_layer_sizes=(512))\n",
        "#res = cross_validate(clf, X_train, y_train, cv=5,  return_train_score=True) \n",
        "#scores = cross_val_score(clf,X_train, y_train, cv=5)\n",
        "#print(\"Accuracy: %0.2f (+/- %0.2f)\" % (scores.mean(), scores.std()))\n",
        "clf.fit(X_train, y_train)\n",
        "pred = clf.predict(X_test)\n",
        "X_test"
      ],
      "execution_count": null,
      "outputs": [
        {
          "output_type": "stream",
          "text": [
            "Iteration 1, loss = 0.62082292\n",
            "Iteration 2, loss = 0.43234354\n",
            "Iteration 3, loss = 0.29563603\n",
            "Iteration 4, loss = 0.21507592\n",
            "Iteration 5, loss = 0.16481840\n",
            "Iteration 6, loss = 0.13279167\n",
            "Iteration 7, loss = 0.10923777\n",
            "Iteration 8, loss = 0.09285210\n",
            "Iteration 9, loss = 0.08091848\n",
            "Iteration 10, loss = 0.07059409\n",
            "Iteration 11, loss = 0.06461582\n",
            "Iteration 12, loss = 0.05778978\n",
            "Iteration 13, loss = 0.05382718\n",
            "Iteration 14, loss = 0.04965729\n",
            "Iteration 15, loss = 0.04689598\n",
            "Iteration 16, loss = 0.04407809\n",
            "Iteration 17, loss = 0.04221980\n",
            "Iteration 18, loss = 0.04047801\n",
            "Iteration 19, loss = 0.03932046\n",
            "Iteration 20, loss = 0.03851908\n",
            "Iteration 21, loss = 0.03732312\n",
            "Iteration 22, loss = 0.03801004\n",
            "Iteration 23, loss = 0.03566605\n",
            "Iteration 24, loss = 0.03579060\n",
            "Iteration 25, loss = 0.03418160\n",
            "Iteration 26, loss = 0.03444928\n",
            "Iteration 27, loss = 0.03409999\n",
            "Iteration 28, loss = 0.03333505\n",
            "Iteration 29, loss = 0.03305222\n",
            "Iteration 30, loss = 0.03290537\n",
            "Iteration 31, loss = 0.03258193\n",
            "Iteration 32, loss = 0.03218517\n",
            "Iteration 33, loss = 0.03229042\n",
            "Iteration 34, loss = 0.03180649\n",
            "Iteration 35, loss = 0.03155432\n",
            "Iteration 36, loss = 0.03126528\n",
            "Iteration 37, loss = 0.03114529\n",
            "Iteration 38, loss = 0.03137630\n",
            "Iteration 39, loss = 0.03311019\n",
            "Iteration 40, loss = 0.03130349\n",
            "Iteration 41, loss = 0.03076010\n",
            "Iteration 42, loss = 0.03156326\n",
            "Iteration 43, loss = 0.03120244\n",
            "Iteration 44, loss = 0.03533568\n",
            "Iteration 45, loss = 0.03079424\n",
            "Iteration 46, loss = 0.03043596\n",
            "Iteration 47, loss = 0.03045957\n",
            "Iteration 48, loss = 0.03010038\n",
            "Iteration 49, loss = 0.03022135\n",
            "Iteration 50, loss = 0.03023008\n",
            "Iteration 51, loss = 0.03047280\n",
            "Iteration 52, loss = 0.03057895\n",
            "Iteration 53, loss = 0.03003784\n",
            "Iteration 54, loss = 0.03071631\n",
            "Iteration 55, loss = 0.03024491\n",
            "Iteration 56, loss = 0.03035855\n",
            "Iteration 57, loss = 0.02988048\n",
            "Iteration 58, loss = 0.03090925\n",
            "Iteration 59, loss = 0.03086547\n",
            "Iteration 60, loss = 0.03097610\n",
            "Iteration 61, loss = 0.02939157\n",
            "Iteration 62, loss = 0.02992777\n",
            "Iteration 63, loss = 0.03016333\n",
            "Iteration 64, loss = 0.02944752\n",
            "Iteration 65, loss = 0.02943630\n",
            "Iteration 66, loss = 0.02966316\n",
            "Iteration 67, loss = 0.02955944\n",
            "Iteration 68, loss = 0.02978624\n",
            "Iteration 69, loss = 0.02945034\n",
            "Iteration 70, loss = 0.02971856\n",
            "Iteration 71, loss = 0.02922113\n",
            "Iteration 72, loss = 0.02974139\n",
            "Iteration 73, loss = 0.03138095\n",
            "Iteration 74, loss = 0.03054446\n",
            "Iteration 75, loss = 0.02921243\n",
            "Iteration 76, loss = 0.02923032\n",
            "Iteration 77, loss = 0.02952188\n",
            "Iteration 78, loss = 0.02918545\n",
            "Iteration 79, loss = 0.02993389\n",
            "Iteration 80, loss = 0.02961876\n",
            "Iteration 81, loss = 0.03050817\n",
            "Iteration 82, loss = 0.02894372\n",
            "Iteration 83, loss = 0.03038022\n",
            "Iteration 84, loss = 0.02909415\n",
            "Iteration 85, loss = 0.02959063\n",
            "Iteration 86, loss = 0.02932078\n",
            "Iteration 87, loss = 0.02970124\n",
            "Iteration 88, loss = 0.03070284\n",
            "Iteration 89, loss = 0.02904629\n",
            "Iteration 90, loss = 0.02880978\n",
            "Iteration 91, loss = 0.02923144\n",
            "Iteration 92, loss = 0.03001248\n",
            "Iteration 93, loss = 0.02904968\n",
            "Iteration 94, loss = 0.02892243\n",
            "Iteration 95, loss = 0.03021473\n",
            "Iteration 96, loss = 0.02916568\n",
            "Iteration 97, loss = 0.02905329\n",
            "Iteration 98, loss = 0.02900619\n",
            "Iteration 99, loss = 0.02940295\n",
            "Iteration 100, loss = 0.02887912\n",
            "Iteration 101, loss = 0.02910160\n",
            "Training loss did not improve more than tol=0.000100 for 10 consecutive epochs. Stopping.\n"
          ],
          "name": "stdout"
        },
        {
          "output_type": "execute_result",
          "data": {
            "text/plain": [
              "<668x8629 sparse matrix of type '<class 'numpy.float64'>'\n",
              "\twith 98216 stored elements in Compressed Sparse Row format>"
            ]
          },
          "metadata": {
            "tags": []
          },
          "execution_count": 7
        }
      ]
    },
    {
      "cell_type": "code",
      "metadata": {
        "id": "oL_9fHoqsfcb",
        "colab": {
          "base_uri": "https://localhost:8080/"
        },
        "outputId": "f037a61b-a4b2-4f3e-f258-8fb3655476b4"
      },
      "source": [
        "pred"
      ],
      "execution_count": null,
      "outputs": [
        {
          "output_type": "execute_result",
          "data": {
            "text/plain": [
              "array(['Not_troll', 'troll', 'troll', 'troll', 'troll', 'troll', 'troll',\n",
              "       'troll', 'troll', 'troll', 'troll', 'troll', 'troll', 'Not_troll',\n",
              "       'troll', 'troll', 'troll', 'troll', 'troll', 'troll', 'troll',\n",
              "       'troll', 'troll', 'troll', 'troll', 'troll', 'troll', 'troll',\n",
              "       'troll', 'troll', 'troll', 'troll', 'troll', 'troll', 'troll',\n",
              "       'troll', 'troll', 'troll', 'troll', 'troll', 'troll', 'troll',\n",
              "       'troll', 'troll', 'troll', 'Not_troll', 'troll', 'troll', 'troll',\n",
              "       'troll', 'troll', 'troll', 'troll', 'troll', 'troll', 'troll',\n",
              "       'troll', 'troll', 'Not_troll', 'troll', 'troll', 'troll', 'troll',\n",
              "       'troll', 'troll', 'Not_troll', 'troll', 'troll', 'troll', 'troll',\n",
              "       'troll', 'troll', 'troll', 'Not_troll', 'troll', 'Not_troll',\n",
              "       'troll', 'troll', 'troll', 'Not_troll', 'Not_troll', 'troll',\n",
              "       'troll', 'troll', 'troll', 'Not_troll', 'troll', 'troll',\n",
              "       'Not_troll', 'troll', 'Not_troll', 'troll', 'troll', 'Not_troll',\n",
              "       'troll', 'troll', 'troll', 'troll', 'troll', 'troll', 'troll',\n",
              "       'troll', 'Not_troll', 'Not_troll', 'troll', 'troll', 'troll',\n",
              "       'troll', 'Not_troll', 'troll', 'troll', 'troll', 'troll', 'troll',\n",
              "       'troll', 'Not_troll', 'troll', 'troll', 'troll', 'troll',\n",
              "       'Not_troll', 'troll', 'troll', 'troll', 'troll', 'troll', 'troll',\n",
              "       'troll', 'Not_troll', 'troll', 'troll', 'Not_troll', 'troll',\n",
              "       'troll', 'troll', 'troll', 'troll', 'Not_troll', 'troll',\n",
              "       'Not_troll', 'troll', 'Not_troll', 'Not_troll', 'troll', 'troll',\n",
              "       'Not_troll', 'troll', 'troll', 'troll', 'troll', 'troll', 'troll',\n",
              "       'troll', 'Not_troll', 'troll', 'troll', 'troll', 'Not_troll',\n",
              "       'troll', 'troll', 'troll', 'troll', 'Not_troll', 'troll', 'troll',\n",
              "       'troll', 'troll', 'troll', 'troll', 'troll', 'troll', 'troll',\n",
              "       'troll', 'Not_troll', 'Not_troll', 'troll', 'Not_troll',\n",
              "       'Not_troll', 'troll', 'troll', 'Not_troll', 'troll', 'troll',\n",
              "       'troll', 'troll', 'troll', 'troll', 'troll', 'troll', 'Not_troll',\n",
              "       'troll', 'Not_troll', 'troll', 'Not_troll', 'troll', 'troll',\n",
              "       'troll', 'Not_troll', 'Not_troll', 'Not_troll', 'troll', 'troll',\n",
              "       'troll', 'troll', 'troll', 'Not_troll', 'troll', 'troll',\n",
              "       'Not_troll', 'troll', 'Not_troll', 'troll', 'troll', 'troll',\n",
              "       'Not_troll', 'troll', 'troll', 'troll', 'troll', 'troll', 'troll',\n",
              "       'troll', 'troll', 'troll', 'Not_troll', 'Not_troll', 'troll',\n",
              "       'Not_troll', 'troll', 'troll', 'troll', 'troll', 'Not_troll',\n",
              "       'Not_troll', 'troll', 'troll', 'troll', 'troll', 'troll', 'troll',\n",
              "       'Not_troll', 'troll', 'troll', 'troll', 'troll', 'troll', 'troll',\n",
              "       'Not_troll', 'troll', 'Not_troll', 'Not_troll', 'troll',\n",
              "       'Not_troll', 'troll', 'Not_troll', 'troll', 'troll', 'troll',\n",
              "       'troll', 'troll', 'troll', 'troll', 'troll', 'troll', 'Not_troll',\n",
              "       'troll', 'troll', 'Not_troll', 'troll', 'troll', 'troll',\n",
              "       'Not_troll', 'troll', 'troll', 'troll', 'troll', 'troll', 'troll',\n",
              "       'troll', 'troll', 'troll', 'troll', 'troll', 'troll', 'troll',\n",
              "       'Not_troll', 'troll', 'Not_troll', 'troll', 'troll', 'troll',\n",
              "       'Not_troll', 'Not_troll', 'troll', 'Not_troll', 'Not_troll',\n",
              "       'Not_troll', 'Not_troll', 'troll', 'troll', 'troll', 'troll',\n",
              "       'troll', 'troll', 'troll', 'troll', 'troll', 'troll', 'troll',\n",
              "       'troll', 'troll', 'troll', 'troll', 'troll', 'troll', 'troll',\n",
              "       'troll', 'troll', 'troll', 'troll', 'troll', 'troll', 'troll',\n",
              "       'troll', 'troll', 'troll', 'troll', 'troll', 'troll', 'troll',\n",
              "       'troll', 'troll', 'troll', 'troll', 'troll', 'troll', 'troll',\n",
              "       'troll', 'troll', 'troll', 'troll', 'troll', 'troll', 'troll',\n",
              "       'troll', 'troll', 'troll', 'troll', 'troll', 'troll', 'troll',\n",
              "       'troll', 'troll', 'troll', 'Not_troll', 'troll', 'troll', 'troll',\n",
              "       'troll', 'troll', 'troll', 'troll', 'troll', 'Not_troll', 'troll',\n",
              "       'troll', 'troll', 'troll', 'troll', 'troll', 'troll', 'troll',\n",
              "       'troll', 'troll', 'troll', 'troll', 'Not_troll', 'troll', 'troll',\n",
              "       'troll', 'troll', 'troll', 'troll', 'troll', 'Not_troll',\n",
              "       'Not_troll', 'troll', 'troll', 'troll', 'troll', 'troll', 'troll',\n",
              "       'troll', 'troll', 'troll', 'troll', 'troll', 'troll', 'troll',\n",
              "       'troll', 'troll', 'troll', 'troll', 'troll', 'troll', 'troll',\n",
              "       'troll', 'troll', 'troll', 'troll', 'troll', 'troll', 'troll',\n",
              "       'troll', 'troll', 'troll', 'troll', 'troll', 'troll', 'troll',\n",
              "       'troll', 'troll', 'troll', 'troll', 'troll', 'troll', 'troll',\n",
              "       'troll', 'troll', 'troll', 'troll', 'Not_troll', 'Not_troll',\n",
              "       'troll', 'troll', 'troll', 'Not_troll', 'troll', 'troll', 'troll',\n",
              "       'troll', 'troll', 'troll', 'troll', 'troll', 'troll', 'troll',\n",
              "       'troll', 'troll', 'troll', 'troll', 'troll', 'troll', 'troll',\n",
              "       'troll', 'Not_troll', 'troll', 'troll', 'troll', 'troll', 'troll',\n",
              "       'troll', 'troll', 'troll', 'troll', 'troll', 'Not_troll', 'troll',\n",
              "       'troll', 'Not_troll', 'troll', 'troll', 'Not_troll', 'troll',\n",
              "       'troll', 'troll', 'troll', 'troll', 'troll', 'troll', 'troll',\n",
              "       'troll', 'troll', 'troll', 'troll', 'troll', 'troll', 'troll',\n",
              "       'troll', 'Not_troll', 'troll', 'troll', 'troll', 'troll', 'troll',\n",
              "       'troll', 'troll', 'troll', 'troll', 'troll', 'troll', 'troll',\n",
              "       'troll', 'troll', 'troll', 'troll', 'troll', 'troll', 'troll',\n",
              "       'troll', 'troll', 'troll', 'troll', 'troll', 'troll', 'troll',\n",
              "       'troll', 'troll', 'troll', 'troll', 'troll', 'troll', 'troll',\n",
              "       'troll', 'troll', 'troll', 'troll', 'troll', 'troll', 'troll',\n",
              "       'troll', 'troll', 'troll', 'troll', 'troll', 'troll', 'troll',\n",
              "       'troll', 'troll', 'troll', 'troll', 'troll', 'troll', 'troll',\n",
              "       'troll', 'troll', 'troll', 'troll', 'troll', 'troll', 'troll',\n",
              "       'troll', 'troll', 'troll', 'troll', 'troll', 'troll', 'troll',\n",
              "       'troll', 'troll', 'troll', 'troll', 'troll', 'troll', 'troll',\n",
              "       'troll', 'troll', 'troll', 'troll', 'troll', 'troll', 'troll',\n",
              "       'troll', 'troll', 'troll', 'troll', 'troll', 'troll', 'troll',\n",
              "       'Not_troll', 'troll', 'troll', 'troll', 'troll', 'troll', 'troll',\n",
              "       'troll', 'troll', 'troll', 'troll', 'troll', 'troll', 'troll',\n",
              "       'troll', 'troll', 'troll', 'troll', 'troll', 'troll', 'troll',\n",
              "       'troll', 'troll', 'troll', 'troll', 'troll', 'troll', 'troll',\n",
              "       'troll', 'troll', 'Not_troll', 'troll', 'troll', 'troll', 'troll',\n",
              "       'troll', 'troll', 'troll', 'troll', 'troll', 'troll', 'troll',\n",
              "       'troll', 'troll', 'troll', 'troll', 'troll', 'troll', 'troll',\n",
              "       'troll', 'troll', 'troll', 'troll', 'troll', 'troll', 'troll',\n",
              "       'troll', 'troll', 'troll', 'troll', 'troll', 'troll', 'troll',\n",
              "       'troll', 'troll', 'troll', 'troll', 'troll', 'troll', 'troll',\n",
              "       'troll', 'troll', 'troll', 'troll', 'troll', 'troll', 'troll',\n",
              "       'troll', 'troll', 'troll', 'troll', 'troll', 'troll', 'troll',\n",
              "       'troll', 'troll', 'troll', 'troll', 'troll'], dtype='<U9')"
            ]
          },
          "metadata": {
            "tags": []
          },
          "execution_count": 8
        }
      ]
    },
    {
      "cell_type": "code",
      "metadata": {
        "colab": {
          "base_uri": "https://localhost:8080/"
        },
        "id": "Tf6Fc8d9SFtZ",
        "outputId": "636dde78-02b2-4f74-8aef-8da02c61056e"
      },
      "source": [
        "print(classification_report(y_test, pred))"
      ],
      "execution_count": null,
      "outputs": [
        {
          "output_type": "stream",
          "text": [
            "              precision    recall  f1-score   support\n",
            "\n",
            "   Not_troll       0.00      0.00      0.00         0\n",
            "       label       0.00      0.00      0.00         1\n",
            "   not_troll       0.00      0.00      0.00       272\n",
            "       troll       0.61      0.91      0.73       395\n",
            "\n",
            "    accuracy                           0.54       668\n",
            "   macro avg       0.15      0.23      0.18       668\n",
            "weighted avg       0.36      0.54      0.43       668\n",
            "\n"
          ],
          "name": "stdout"
        },
        {
          "output_type": "stream",
          "text": [
            "/usr/local/lib/python3.7/dist-packages/sklearn/metrics/_classification.py:1272: UndefinedMetricWarning: Precision and F-score are ill-defined and being set to 0.0 in labels with no predicted samples. Use `zero_division` parameter to control this behavior.\n",
            "  _warn_prf(average, modifier, msg_start, len(result))\n",
            "/usr/local/lib/python3.7/dist-packages/sklearn/metrics/_classification.py:1272: UndefinedMetricWarning: Recall and F-score are ill-defined and being set to 0.0 in labels with no true samples. Use `zero_division` parameter to control this behavior.\n",
            "  _warn_prf(average, modifier, msg_start, len(result))\n"
          ],
          "name": "stderr"
        }
      ]
    },
    {
      "cell_type": "code",
      "metadata": {
        "id": "xKkC4QSqTLJw"
      },
      "source": [
        "vectorizer = TfidfVectorizer(analyzer='char', ngram_range=(1,3))\n",
        "X_train = vectorizer.fit_transform(captions)\n",
        "y_train = label\n",
        "X_test = vectorizer.transform(captiontext)"
      ],
      "execution_count": null,
      "outputs": []
    },
    {
      "cell_type": "code",
      "metadata": {
        "id": "FOy9-DxsT0eL"
      },
      "source": [
        "clf = KNeighborsClassifier(n_neighbors=3)\n",
        "#res = cross_validate(clf, X_train, y_train, cv=5,  return_train_score=True) \n",
        "#scores = cross_val_score(clf,X_train, y_train, cv=5)\n",
        "#print(\"Accuracy: %0.2f (+/- %0.2f)\" % (scores.mean(), scores.std()))\n",
        "clf.fit(X_train, y_train)\n",
        "pred = clf.predict(X_test)"
      ],
      "execution_count": null,
      "outputs": []
    },
    {
      "cell_type": "code",
      "metadata": {
        "colab": {
          "base_uri": "https://localhost:8080/"
        },
        "id": "-2TtxW1uT77p",
        "outputId": "2227fe46-a323-441a-b011-d0dfd408ca5b"
      },
      "source": [
        "print(classification_report(y_test, pred))"
      ],
      "execution_count": null,
      "outputs": [
        {
          "output_type": "stream",
          "text": [
            "              precision    recall  f1-score   support\n",
            "\n",
            "   Not_troll       0.00      0.00      0.00         0\n",
            "       label       0.00      0.00      0.00         1\n",
            "   not_troll       0.00      0.00      0.00       272\n",
            "       troll       0.60      0.90      0.72       395\n",
            "\n",
            "    accuracy                           0.53       668\n",
            "   macro avg       0.15      0.23      0.18       668\n",
            "weighted avg       0.35      0.53      0.42       668\n",
            "\n"
          ],
          "name": "stdout"
        },
        {
          "output_type": "stream",
          "text": [
            "/usr/local/lib/python3.7/dist-packages/sklearn/metrics/_classification.py:1272: UndefinedMetricWarning: Precision and F-score are ill-defined and being set to 0.0 in labels with no predicted samples. Use `zero_division` parameter to control this behavior.\n",
            "  _warn_prf(average, modifier, msg_start, len(result))\n",
            "/usr/local/lib/python3.7/dist-packages/sklearn/metrics/_classification.py:1272: UndefinedMetricWarning: Recall and F-score are ill-defined and being set to 0.0 in labels with no true samples. Use `zero_division` parameter to control this behavior.\n",
            "  _warn_prf(average, modifier, msg_start, len(result))\n"
          ],
          "name": "stderr"
        }
      ]
    },
    {
      "cell_type": "code",
      "metadata": {
        "colab": {
          "base_uri": "https://localhost:8080/"
        },
        "id": "BjVdTaU4UZts",
        "outputId": "d9fa55a7-db5f-484a-f2b5-c3e0b53dad25"
      },
      "source": [
        "clf = RandomForestClassifier(n_estimators=1000,verbose=True, n_jobs=-1)\n",
        "#res = cross_validate(clf, X_train, y_train, cv=5,  return_train_score=True) \n",
        "#scores = cross_val_score(clf,X_train, y_train, cv=5)\n",
        "#print(\"Accuracy: %0.2f (+/- %0.2f)\" % (scores.mean(), scores.std()))\n",
        "clf.fit(X_train, y_train)\n",
        "pred = clf.predict(X_test)"
      ],
      "execution_count": null,
      "outputs": [
        {
          "output_type": "stream",
          "text": [
            "[Parallel(n_jobs=-1)]: Using backend ThreadingBackend with 2 concurrent workers.\n",
            "[Parallel(n_jobs=-1)]: Done  46 tasks      | elapsed:    0.6s\n",
            "[Parallel(n_jobs=-1)]: Done 196 tasks      | elapsed:    2.3s\n",
            "[Parallel(n_jobs=-1)]: Done 446 tasks      | elapsed:    5.3s\n",
            "[Parallel(n_jobs=-1)]: Done 796 tasks      | elapsed:    9.4s\n",
            "[Parallel(n_jobs=-1)]: Done 1000 out of 1000 | elapsed:   11.8s finished\n",
            "[Parallel(n_jobs=2)]: Using backend ThreadingBackend with 2 concurrent workers.\n",
            "[Parallel(n_jobs=2)]: Done  46 tasks      | elapsed:    0.0s\n",
            "[Parallel(n_jobs=2)]: Done 196 tasks      | elapsed:    0.1s\n",
            "[Parallel(n_jobs=2)]: Done 446 tasks      | elapsed:    0.2s\n",
            "[Parallel(n_jobs=2)]: Done 796 tasks      | elapsed:    0.4s\n",
            "[Parallel(n_jobs=2)]: Done 1000 out of 1000 | elapsed:    0.5s finished\n"
          ],
          "name": "stderr"
        }
      ]
    },
    {
      "cell_type": "code",
      "metadata": {
        "colab": {
          "base_uri": "https://localhost:8080/"
        },
        "id": "rXVDEe7-UheT",
        "outputId": "22e82586-843b-419d-b26c-847e24107557"
      },
      "source": [
        "print(classification_report(y_test, pred))"
      ],
      "execution_count": null,
      "outputs": [
        {
          "output_type": "stream",
          "text": [
            "              precision    recall  f1-score   support\n",
            "\n",
            "   Not_troll       0.00      0.00      0.00         0\n",
            "       label       0.00      0.00      0.00         1\n",
            "   not_troll       0.00      0.00      0.00       272\n",
            "       troll       0.60      0.89      0.72       395\n",
            "\n",
            "    accuracy                           0.53       668\n",
            "   macro avg       0.15      0.22      0.18       668\n",
            "weighted avg       0.36      0.53      0.42       668\n",
            "\n"
          ],
          "name": "stdout"
        },
        {
          "output_type": "stream",
          "text": [
            "/usr/local/lib/python3.7/dist-packages/sklearn/metrics/_classification.py:1272: UndefinedMetricWarning: Precision and F-score are ill-defined and being set to 0.0 in labels with no predicted samples. Use `zero_division` parameter to control this behavior.\n",
            "  _warn_prf(average, modifier, msg_start, len(result))\n",
            "/usr/local/lib/python3.7/dist-packages/sklearn/metrics/_classification.py:1272: UndefinedMetricWarning: Recall and F-score are ill-defined and being set to 0.0 in labels with no true samples. Use `zero_division` parameter to control this behavior.\n",
            "  _warn_prf(average, modifier, msg_start, len(result))\n"
          ],
          "name": "stderr"
        }
      ]
    },
    {
      "cell_type": "code",
      "metadata": {
        "id": "ND3aLfEsUjSr"
      },
      "source": [
        "clf = LogisticRegression(random_state=0)\n",
        "#res = cross_validate(clf, X_train, y_train, cv=5,  return_train_score=True) \n",
        "#scores = cross_val_score(clf,X_train, y_train, cv=5)\n",
        "#print(\"Accuracy: %0.2f (+/- %0.2f)\" % (scores.mean(), scores.std()))\n",
        "clf.fit(X_train, y_train)\n",
        "pred = clf.predict(X_test)"
      ],
      "execution_count": null,
      "outputs": []
    },
    {
      "cell_type": "code",
      "metadata": {
        "colab": {
          "base_uri": "https://localhost:8080/"
        },
        "id": "sJ6PSjqSUjF4",
        "outputId": "93b1ff68-373f-4859-9e4b-2ff2d36131b8"
      },
      "source": [
        "print(classification_report(y_test, pred))"
      ],
      "execution_count": null,
      "outputs": [
        {
          "output_type": "stream",
          "text": [
            "              precision    recall  f1-score   support\n",
            "\n",
            "   Not_troll       0.00      0.00      0.00         0\n",
            "       label       0.00      0.00      0.00         1\n",
            "   not_troll       0.00      0.00      0.00       272\n",
            "       troll       0.61      0.91      0.73       395\n",
            "\n",
            "    accuracy                           0.54       668\n",
            "   macro avg       0.15      0.23      0.18       668\n",
            "weighted avg       0.36      0.54      0.43       668\n",
            "\n"
          ],
          "name": "stdout"
        },
        {
          "output_type": "stream",
          "text": [
            "/usr/local/lib/python3.7/dist-packages/sklearn/metrics/_classification.py:1272: UndefinedMetricWarning: Precision and F-score are ill-defined and being set to 0.0 in labels with no predicted samples. Use `zero_division` parameter to control this behavior.\n",
            "  _warn_prf(average, modifier, msg_start, len(result))\n",
            "/usr/local/lib/python3.7/dist-packages/sklearn/metrics/_classification.py:1272: UndefinedMetricWarning: Recall and F-score are ill-defined and being set to 0.0 in labels with no true samples. Use `zero_division` parameter to control this behavior.\n",
            "  _warn_prf(average, modifier, msg_start, len(result))\n"
          ],
          "name": "stderr"
        }
      ]
    },
    {
      "cell_type": "code",
      "metadata": {
        "id": "moBpcuBQUixO"
      },
      "source": [
        "clf=DecisionTreeClassifier(criterion='entropy',random_state=0)\n",
        "#res = cross_validate(clf, X_train, y_train, cv=5,  return_train_score=True) \n",
        "#scores = cross_val_score(clf,X_train, y_train, cv=5)\n",
        "#print(\"Accuracy: %0.2f (+/- %0.2f)\" % (scores.mean(), scores.std()))\n",
        "clf.fit(X_train, y_train)\n",
        "pred = clf.predict(X_test)"
      ],
      "execution_count": null,
      "outputs": []
    },
    {
      "cell_type": "code",
      "metadata": {
        "colab": {
          "base_uri": "https://localhost:8080/"
        },
        "id": "3PDJ1jkhVI9_",
        "outputId": "2ac98ab8-0478-475d-bcb5-95be2758be28"
      },
      "source": [
        "print(classification_report(y_test, pred))"
      ],
      "execution_count": null,
      "outputs": [
        {
          "output_type": "stream",
          "text": [
            "              precision    recall  f1-score   support\n",
            "\n",
            "   Not_troll       0.00      0.00      0.00         0\n",
            "       label       0.00      0.00      0.00         1\n",
            "   not_troll       0.00      0.00      0.00       272\n",
            "       troll       0.61      0.84      0.71       395\n",
            "\n",
            "    accuracy                           0.50       668\n",
            "   macro avg       0.15      0.21      0.18       668\n",
            "weighted avg       0.36      0.50      0.42       668\n",
            "\n"
          ],
          "name": "stdout"
        },
        {
          "output_type": "stream",
          "text": [
            "/usr/local/lib/python3.7/dist-packages/sklearn/metrics/_classification.py:1272: UndefinedMetricWarning: Precision and F-score are ill-defined and being set to 0.0 in labels with no predicted samples. Use `zero_division` parameter to control this behavior.\n",
            "  _warn_prf(average, modifier, msg_start, len(result))\n",
            "/usr/local/lib/python3.7/dist-packages/sklearn/metrics/_classification.py:1272: UndefinedMetricWarning: Recall and F-score are ill-defined and being set to 0.0 in labels with no true samples. Use `zero_division` parameter to control this behavior.\n",
            "  _warn_prf(average, modifier, msg_start, len(result))\n"
          ],
          "name": "stderr"
        }
      ]
    },
    {
      "cell_type": "code",
      "metadata": {
        "id": "nVdJmPyIVI67"
      },
      "source": [
        "clf=SVC(kernel='linear',random_state=0)\n",
        "#res = cross_validate(clf, X_train, y_train, cv=5,  return_train_score=True) \n",
        "#scores = cross_val_score(clf,X_train, y_train, cv=5)\n",
        "#print(\"Accuracy: %0.2f (+/- %0.2f)\" % (scores.mean(), scores.std()))\n",
        "clf.fit(X_train, y_train)\n",
        "pred = clf.predict(X_test)"
      ],
      "execution_count": null,
      "outputs": []
    },
    {
      "cell_type": "code",
      "metadata": {
        "colab": {
          "base_uri": "https://localhost:8080/"
        },
        "id": "42FroCUbVI3z",
        "outputId": "5ec9e2a7-b44e-428b-c869-3e04fd89e187"
      },
      "source": [
        "print(classification_report(y_test, pred))"
      ],
      "execution_count": null,
      "outputs": [
        {
          "output_type": "stream",
          "text": [
            "              precision    recall  f1-score   support\n",
            "\n",
            "   Not_troll       0.00      0.00      0.00         0\n",
            "       label       0.00      0.00      0.00         1\n",
            "   not_troll       0.00      0.00      0.00       272\n",
            "       troll       0.62      0.91      0.73       395\n",
            "\n",
            "    accuracy                           0.54       668\n",
            "   macro avg       0.15      0.23      0.18       668\n",
            "weighted avg       0.36      0.54      0.43       668\n",
            "\n"
          ],
          "name": "stdout"
        },
        {
          "output_type": "stream",
          "text": [
            "/usr/local/lib/python3.7/dist-packages/sklearn/metrics/_classification.py:1272: UndefinedMetricWarning: Precision and F-score are ill-defined and being set to 0.0 in labels with no predicted samples. Use `zero_division` parameter to control this behavior.\n",
            "  _warn_prf(average, modifier, msg_start, len(result))\n",
            "/usr/local/lib/python3.7/dist-packages/sklearn/metrics/_classification.py:1272: UndefinedMetricWarning: Recall and F-score are ill-defined and being set to 0.0 in labels with no true samples. Use `zero_division` parameter to control this behavior.\n",
            "  _warn_prf(average, modifier, msg_start, len(result))\n"
          ],
          "name": "stderr"
        }
      ]
    },
    {
      "cell_type": "code",
      "metadata": {
        "id": "hQOlAlr5VI1C"
      },
      "source": [
        "clf=XGBClassifier()\n",
        "#res = cross_validate(clf, X_train, y_train, cv=5,  return_train_score=True) \n",
        "#scores = cross_val_score(clf,X_train, y_train, cv=5)\n",
        "#print(\"Accuracy: %0.2f (+/- %0.2f)\" % (scores.mean(), scores.std()))\n",
        "clf.fit(X_train, y_train)\n",
        "pred = clf.predict(X_test)"
      ],
      "execution_count": null,
      "outputs": []
    },
    {
      "cell_type": "code",
      "metadata": {
        "colab": {
          "base_uri": "https://localhost:8080/"
        },
        "id": "LqnKB3KNVIyQ",
        "outputId": "6790c1fe-6425-48af-f6a5-a13a2496ce3f"
      },
      "source": [
        "print(classification_report(y_test, pred))"
      ],
      "execution_count": null,
      "outputs": [
        {
          "output_type": "stream",
          "text": [
            "              precision    recall  f1-score   support\n",
            "\n",
            "   Not_troll       0.00      0.00      0.00         0\n",
            "       label       0.00      0.00      0.00         1\n",
            "   not_troll       0.00      0.00      0.00       272\n",
            "       troll       0.60      0.90      0.72       395\n",
            "\n",
            "    accuracy                           0.53       668\n",
            "   macro avg       0.15      0.22      0.18       668\n",
            "weighted avg       0.36      0.53      0.43       668\n",
            "\n"
          ],
          "name": "stdout"
        },
        {
          "output_type": "stream",
          "text": [
            "/usr/local/lib/python3.7/dist-packages/sklearn/metrics/_classification.py:1272: UndefinedMetricWarning: Precision and F-score are ill-defined and being set to 0.0 in labels with no predicted samples. Use `zero_division` parameter to control this behavior.\n",
            "  _warn_prf(average, modifier, msg_start, len(result))\n",
            "/usr/local/lib/python3.7/dist-packages/sklearn/metrics/_classification.py:1272: UndefinedMetricWarning: Recall and F-score are ill-defined and being set to 0.0 in labels with no true samples. Use `zero_division` parameter to control this behavior.\n",
            "  _warn_prf(average, modifier, msg_start, len(result))\n"
          ],
          "name": "stderr"
        }
      ]
    },
    {
      "cell_type": "code",
      "metadata": {
        "id": "ZO0kNPHbXJvU"
      },
      "source": [
        "vectorizer = CountVectorizer(analyzer='char', ngram_range=(1,3))\n",
        "X_train = vectorizer.fit_transform(captions)\n",
        "y_train = label\n",
        "X_test = vectorizer.transform(captiontext)\n"
      ],
      "execution_count": null,
      "outputs": []
    },
    {
      "cell_type": "code",
      "metadata": {
        "colab": {
          "base_uri": "https://localhost:8080/"
        },
        "id": "1No9JlJUXw2N",
        "outputId": "153fbfcb-fcef-44cf-9579-7c774c65e932"
      },
      "source": [
        "clf = MLPClassifier(verbose=True, hidden_layer_sizes=(512))\n",
        "#res = cross_validate(clf, X_train, y_train, cv=5,  return_train_score=True) \n",
        "#scores = cross_val_score(clf,X_train, y_train, cv=5)\n",
        "#print(\"Accuracy: %0.2f (+/- %0.2f)\" % (scores.mean(), scores.std()))\n",
        "clf.fit(X_train, y_train)\n",
        "pred = clf.predict(X_test)"
      ],
      "execution_count": null,
      "outputs": [
        {
          "output_type": "stream",
          "text": [
            "Iteration 1, loss = 0.48982926\n",
            "Iteration 2, loss = 0.23140805\n",
            "Iteration 3, loss = 0.14914584\n",
            "Iteration 4, loss = 0.10188455\n",
            "Iteration 5, loss = 0.07671498\n",
            "Iteration 6, loss = 0.06171177\n",
            "Iteration 7, loss = 0.05245496\n",
            "Iteration 8, loss = 0.04785894\n",
            "Iteration 9, loss = 0.04560424\n",
            "Iteration 10, loss = 0.03970158\n",
            "Iteration 11, loss = 0.03844717\n",
            "Iteration 12, loss = 0.03814582\n",
            "Iteration 13, loss = 0.03557226\n",
            "Iteration 14, loss = 0.03495309\n",
            "Iteration 15, loss = 0.03341507\n",
            "Iteration 16, loss = 0.03380952\n",
            "Iteration 17, loss = 0.03244993\n",
            "Iteration 18, loss = 0.03209394\n",
            "Iteration 19, loss = 0.03384696\n",
            "Iteration 20, loss = 0.03384444\n",
            "Iteration 21, loss = 0.03120630\n",
            "Iteration 22, loss = 0.03037408\n",
            "Iteration 23, loss = 0.03035259\n",
            "Iteration 24, loss = 0.03114457\n",
            "Iteration 25, loss = 0.03294882\n",
            "Iteration 26, loss = 0.03023259\n",
            "Iteration 27, loss = 0.03009533\n",
            "Iteration 28, loss = 0.02967219\n",
            "Iteration 29, loss = 0.03063531\n",
            "Iteration 30, loss = 0.02946343\n",
            "Iteration 31, loss = 0.02912877\n",
            "Iteration 32, loss = 0.02900654\n",
            "Iteration 33, loss = 0.02922266\n",
            "Iteration 34, loss = 0.02869831\n",
            "Iteration 35, loss = 0.02880052\n",
            "Iteration 36, loss = 0.02984874\n",
            "Iteration 37, loss = 0.02923327\n",
            "Iteration 38, loss = 0.03059047\n",
            "Iteration 39, loss = 0.03184108\n",
            "Iteration 40, loss = 0.03356132\n",
            "Iteration 41, loss = 0.02842046\n",
            "Iteration 42, loss = 0.02881849\n",
            "Iteration 43, loss = 0.02800985\n",
            "Iteration 44, loss = 0.02832675\n",
            "Iteration 45, loss = 0.02857555\n",
            "Iteration 46, loss = 0.02836349\n",
            "Iteration 47, loss = 0.02837130\n",
            "Iteration 48, loss = 0.02875209\n",
            "Iteration 49, loss = 0.02937686\n",
            "Iteration 50, loss = 0.02938367\n",
            "Iteration 51, loss = 0.02781729\n",
            "Iteration 52, loss = 0.02862643\n",
            "Iteration 53, loss = 0.02923529\n",
            "Iteration 54, loss = 0.03013613\n",
            "Iteration 55, loss = 0.03011715\n",
            "Iteration 56, loss = 0.03119875\n",
            "Iteration 57, loss = 0.02929850\n",
            "Iteration 58, loss = 0.02833449\n",
            "Iteration 59, loss = 0.02772805\n",
            "Iteration 60, loss = 0.02824639\n",
            "Iteration 61, loss = 0.02849243\n",
            "Iteration 62, loss = 0.02856821\n",
            "Training loss did not improve more than tol=0.000100 for 10 consecutive epochs. Stopping.\n"
          ],
          "name": "stdout"
        }
      ]
    },
    {
      "cell_type": "code",
      "metadata": {
        "colab": {
          "base_uri": "https://localhost:8080/"
        },
        "id": "iO5UzwERX3eW",
        "outputId": "ca4c9844-e8b3-4598-e832-e9cdcab41d82"
      },
      "source": [
        "print(classification_report(y_test, pred))"
      ],
      "execution_count": null,
      "outputs": [
        {
          "output_type": "stream",
          "text": [
            "              precision    recall  f1-score   support\n",
            "\n",
            "   Not_troll       0.00      0.00      0.00         0\n",
            "       label       0.00      0.00      0.00         1\n",
            "   not_troll       0.00      0.00      0.00       272\n",
            "       troll       0.61      0.89      0.73       395\n",
            "\n",
            "    accuracy                           0.53       668\n",
            "   macro avg       0.15      0.22      0.18       668\n",
            "weighted avg       0.36      0.53      0.43       668\n",
            "\n"
          ],
          "name": "stdout"
        },
        {
          "output_type": "stream",
          "text": [
            "/usr/local/lib/python3.7/dist-packages/sklearn/metrics/_classification.py:1272: UndefinedMetricWarning: Precision and F-score are ill-defined and being set to 0.0 in labels with no predicted samples. Use `zero_division` parameter to control this behavior.\n",
            "  _warn_prf(average, modifier, msg_start, len(result))\n",
            "/usr/local/lib/python3.7/dist-packages/sklearn/metrics/_classification.py:1272: UndefinedMetricWarning: Recall and F-score are ill-defined and being set to 0.0 in labels with no true samples. Use `zero_division` parameter to control this behavior.\n",
            "  _warn_prf(average, modifier, msg_start, len(result))\n"
          ],
          "name": "stderr"
        }
      ]
    },
    {
      "cell_type": "code",
      "metadata": {
        "id": "YcUdoh7PYGiB"
      },
      "source": [
        "clf = KNeighborsClassifier(n_neighbors=3)\n",
        "#res = cross_validate(clf, X_train, y_train, cv=5,  return_train_score=True) \n",
        "#scores = cross_val_score(clf,X_train, y_train, cv=5)\n",
        "#print(\"Accuracy: %0.2f (+/- %0.2f)\" % (scores.mean(), scores.std()))\n",
        "clf.fit(X_train, y_train)\n",
        "pred = clf.predict(X_test)"
      ],
      "execution_count": null,
      "outputs": []
    },
    {
      "cell_type": "code",
      "metadata": {
        "colab": {
          "base_uri": "https://localhost:8080/"
        },
        "id": "miMU_1-cYbcS",
        "outputId": "2ba9dca4-b194-47a5-ba5e-b0c25fb77255"
      },
      "source": [
        "print(classification_report(y_test, pred))"
      ],
      "execution_count": null,
      "outputs": [
        {
          "output_type": "stream",
          "text": [
            "              precision    recall  f1-score   support\n",
            "\n",
            "   Not_troll       0.00      0.00      0.00         0\n",
            "       label       0.00      0.00      0.00         1\n",
            "   not_troll       0.00      0.00      0.00       272\n",
            "       troll       0.61      0.73      0.66       395\n",
            "\n",
            "    accuracy                           0.43       668\n",
            "   macro avg       0.15      0.18      0.17       668\n",
            "weighted avg       0.36      0.43      0.39       668\n",
            "\n"
          ],
          "name": "stdout"
        },
        {
          "output_type": "stream",
          "text": [
            "/usr/local/lib/python3.7/dist-packages/sklearn/metrics/_classification.py:1272: UndefinedMetricWarning: Precision and F-score are ill-defined and being set to 0.0 in labels with no predicted samples. Use `zero_division` parameter to control this behavior.\n",
            "  _warn_prf(average, modifier, msg_start, len(result))\n",
            "/usr/local/lib/python3.7/dist-packages/sklearn/metrics/_classification.py:1272: UndefinedMetricWarning: Recall and F-score are ill-defined and being set to 0.0 in labels with no true samples. Use `zero_division` parameter to control this behavior.\n",
            "  _warn_prf(average, modifier, msg_start, len(result))\n"
          ],
          "name": "stderr"
        }
      ]
    },
    {
      "cell_type": "code",
      "metadata": {
        "colab": {
          "base_uri": "https://localhost:8080/"
        },
        "id": "YyjAfgwDYsvS",
        "outputId": "06c785ad-1d17-407c-9202-7738c99bd402"
      },
      "source": [
        "clf = RandomForestClassifier(n_estimators=1000,verbose=True, n_jobs=-1)\n",
        "#res = cross_validate(clf, X_train, y_train, cv=5,  return_train_score=True) \n",
        "#scores = cross_val_score(clf,X_train, y_train, cv=5)\n",
        "#print(\"Accuracy: %0.2f (+/- %0.2f)\" % (scores.mean(), scores.std()))\n",
        "clf.fit(X_train, y_train)\n",
        "pred = clf.predict(X_test)"
      ],
      "execution_count": null,
      "outputs": [
        {
          "output_type": "stream",
          "text": [
            "[Parallel(n_jobs=-1)]: Using backend ThreadingBackend with 2 concurrent workers.\n",
            "[Parallel(n_jobs=-1)]: Done  46 tasks      | elapsed:    0.5s\n",
            "[Parallel(n_jobs=-1)]: Done 196 tasks      | elapsed:    2.3s\n",
            "[Parallel(n_jobs=-1)]: Done 446 tasks      | elapsed:    5.2s\n",
            "[Parallel(n_jobs=-1)]: Done 796 tasks      | elapsed:    9.3s\n",
            "[Parallel(n_jobs=-1)]: Done 1000 out of 1000 | elapsed:   11.7s finished\n",
            "[Parallel(n_jobs=2)]: Using backend ThreadingBackend with 2 concurrent workers.\n",
            "[Parallel(n_jobs=2)]: Done  46 tasks      | elapsed:    0.0s\n",
            "[Parallel(n_jobs=2)]: Done 196 tasks      | elapsed:    0.1s\n",
            "[Parallel(n_jobs=2)]: Done 446 tasks      | elapsed:    0.2s\n",
            "[Parallel(n_jobs=2)]: Done 796 tasks      | elapsed:    0.4s\n",
            "[Parallel(n_jobs=2)]: Done 1000 out of 1000 | elapsed:    0.5s finished\n"
          ],
          "name": "stderr"
        }
      ]
    },
    {
      "cell_type": "code",
      "metadata": {
        "colab": {
          "base_uri": "https://localhost:8080/"
        },
        "id": "Tqh6n879Ysgn",
        "outputId": "ac6d7e23-b36d-42ac-e985-fffe46e8a9ed"
      },
      "source": [
        "print(classification_report(y_test, pred))"
      ],
      "execution_count": null,
      "outputs": [
        {
          "output_type": "stream",
          "text": [
            "              precision    recall  f1-score   support\n",
            "\n",
            "   Not_troll       0.00      0.00      0.00         0\n",
            "       label       0.00      0.00      0.00         1\n",
            "   not_troll       0.00      0.00      0.00       272\n",
            "       troll       0.60      0.90      0.72       395\n",
            "\n",
            "    accuracy                           0.53       668\n",
            "   macro avg       0.15      0.22      0.18       668\n",
            "weighted avg       0.35      0.53      0.42       668\n",
            "\n"
          ],
          "name": "stdout"
        },
        {
          "output_type": "stream",
          "text": [
            "/usr/local/lib/python3.7/dist-packages/sklearn/metrics/_classification.py:1272: UndefinedMetricWarning: Precision and F-score are ill-defined and being set to 0.0 in labels with no predicted samples. Use `zero_division` parameter to control this behavior.\n",
            "  _warn_prf(average, modifier, msg_start, len(result))\n",
            "/usr/local/lib/python3.7/dist-packages/sklearn/metrics/_classification.py:1272: UndefinedMetricWarning: Recall and F-score are ill-defined and being set to 0.0 in labels with no true samples. Use `zero_division` parameter to control this behavior.\n",
            "  _warn_prf(average, modifier, msg_start, len(result))\n"
          ],
          "name": "stderr"
        }
      ]
    },
    {
      "cell_type": "code",
      "metadata": {
        "colab": {
          "base_uri": "https://localhost:8080/"
        },
        "id": "2GmGVExSY8CQ",
        "outputId": "fa2b1983-07fc-4d89-e8ea-1e27e63447f7"
      },
      "source": [
        "clf = LogisticRegression(random_state=0)\n",
        "#res = cross_validate(clf, X_train, y_train, cv=5,  return_train_score=True) \n",
        "#scores = cross_val_score(clf,X_train, y_train, cv=5)\n",
        "#print(\"Accuracy: %0.2f (+/- %0.2f)\" % (scores.mean(), scores.std()))\n",
        "clf.fit(X_train, y_train)\n",
        "pred = clf.predict(X_test)"
      ],
      "execution_count": null,
      "outputs": [
        {
          "output_type": "stream",
          "text": [
            "/usr/local/lib/python3.7/dist-packages/sklearn/linear_model/_logistic.py:940: ConvergenceWarning: lbfgs failed to converge (status=1):\n",
            "STOP: TOTAL NO. of ITERATIONS REACHED LIMIT.\n",
            "\n",
            "Increase the number of iterations (max_iter) or scale the data as shown in:\n",
            "    https://scikit-learn.org/stable/modules/preprocessing.html\n",
            "Please also refer to the documentation for alternative solver options:\n",
            "    https://scikit-learn.org/stable/modules/linear_model.html#logistic-regression\n",
            "  extra_warning_msg=_LOGISTIC_SOLVER_CONVERGENCE_MSG)\n"
          ],
          "name": "stderr"
        }
      ]
    },
    {
      "cell_type": "code",
      "metadata": {
        "colab": {
          "base_uri": "https://localhost:8080/"
        },
        "id": "RD2AuYscY9IG",
        "outputId": "52b5203b-2638-401e-c096-bd4ddcf340eb"
      },
      "source": [
        "print(classification_report(y_test, pred))"
      ],
      "execution_count": null,
      "outputs": [
        {
          "output_type": "stream",
          "text": [
            "              precision    recall  f1-score   support\n",
            "\n",
            "   Not_troll       0.00      0.00      0.00         0\n",
            "       label       0.00      0.00      0.00         1\n",
            "   not_troll       0.00      0.00      0.00       272\n",
            "       troll       0.61      0.90      0.73       395\n",
            "\n",
            "    accuracy                           0.53       668\n",
            "   macro avg       0.15      0.22      0.18       668\n",
            "weighted avg       0.36      0.53      0.43       668\n",
            "\n"
          ],
          "name": "stdout"
        },
        {
          "output_type": "stream",
          "text": [
            "/usr/local/lib/python3.7/dist-packages/sklearn/metrics/_classification.py:1272: UndefinedMetricWarning: Precision and F-score are ill-defined and being set to 0.0 in labels with no predicted samples. Use `zero_division` parameter to control this behavior.\n",
            "  _warn_prf(average, modifier, msg_start, len(result))\n",
            "/usr/local/lib/python3.7/dist-packages/sklearn/metrics/_classification.py:1272: UndefinedMetricWarning: Recall and F-score are ill-defined and being set to 0.0 in labels with no true samples. Use `zero_division` parameter to control this behavior.\n",
            "  _warn_prf(average, modifier, msg_start, len(result))\n"
          ],
          "name": "stderr"
        }
      ]
    },
    {
      "cell_type": "code",
      "metadata": {
        "id": "x3NDU8S5aDAW"
      },
      "source": [
        "clf=DecisionTreeClassifier(criterion='entropy',random_state=0)\n",
        "#res = cross_validate(clf, X_train, y_train, cv=5,  return_train_score=True) \n",
        "#scores = cross_val_score(clf,X_train, y_train, cv=5)\n",
        "#print(\"Accuracy: %0.2f (+/- %0.2f)\" % (scores.mean(), scores.std()))\n",
        "clf.fit(X_train, y_train)\n",
        "pred = clf.predict(X_test)"
      ],
      "execution_count": null,
      "outputs": []
    },
    {
      "cell_type": "code",
      "metadata": {
        "colab": {
          "base_uri": "https://localhost:8080/"
        },
        "id": "oNT2S5D0aC9M",
        "outputId": "97ecfdc1-6609-47ab-b46c-851325dc2d07"
      },
      "source": [
        "print(classification_report(y_test, pred))"
      ],
      "execution_count": null,
      "outputs": [
        {
          "output_type": "stream",
          "text": [
            "              precision    recall  f1-score   support\n",
            "\n",
            "   Not_troll       0.00      0.00      0.00         0\n",
            "       label       0.00      0.00      0.00         1\n",
            "   not_troll       0.00      0.00      0.00       272\n",
            "       troll       0.61      0.86      0.71       395\n",
            "\n",
            "    accuracy                           0.51       668\n",
            "   macro avg       0.15      0.21      0.18       668\n",
            "weighted avg       0.36      0.51      0.42       668\n",
            "\n"
          ],
          "name": "stdout"
        },
        {
          "output_type": "stream",
          "text": [
            "/usr/local/lib/python3.7/dist-packages/sklearn/metrics/_classification.py:1272: UndefinedMetricWarning: Precision and F-score are ill-defined and being set to 0.0 in labels with no predicted samples. Use `zero_division` parameter to control this behavior.\n",
            "  _warn_prf(average, modifier, msg_start, len(result))\n",
            "/usr/local/lib/python3.7/dist-packages/sklearn/metrics/_classification.py:1272: UndefinedMetricWarning: Recall and F-score are ill-defined and being set to 0.0 in labels with no true samples. Use `zero_division` parameter to control this behavior.\n",
            "  _warn_prf(average, modifier, msg_start, len(result))\n"
          ],
          "name": "stderr"
        }
      ]
    },
    {
      "cell_type": "code",
      "metadata": {
        "colab": {
          "base_uri": "https://localhost:8080/"
        },
        "id": "0e82zUUmVIvJ",
        "outputId": "c5067fab-49a5-42e0-ede7-e70a44e9efad"
      },
      "source": [
        "clf=XGBClassifier()\n",
        "res = cross_validate(clf, X_train, y_train, cv=5,  return_train_score=True) \n",
        "scores = cross_val_score(clf,X_train, y_train, cv=5)\n",
        "print(\"Accuracy: %0.2f (+/- %0.2f)\" % (scores.mean(), scores.std()))\n",
        "clf.fit(X_train, y_train)\n",
        "pred = clf.predict(X_test)"
      ],
      "execution_count": null,
      "outputs": [
        {
          "output_type": "stream",
          "text": [
            "Accuracy: 0.90 (+/- 0.03)\n"
          ],
          "name": "stdout"
        }
      ]
    },
    {
      "cell_type": "code",
      "metadata": {
        "colab": {
          "base_uri": "https://localhost:8080/"
        },
        "id": "MCE4XsZ8VIsD",
        "outputId": "de64bbf7-3935-4293-bbb6-ea8235abe297"
      },
      "source": [
        "print(classification_report(y_test, pred))"
      ],
      "execution_count": null,
      "outputs": [
        {
          "output_type": "stream",
          "text": [
            "              precision    recall  f1-score   support\n",
            "\n",
            "   Not_troll       0.00      0.00      0.00         0\n",
            "       label       0.00      0.00      0.00         1\n",
            "   not_troll       0.00      0.00      0.00       272\n",
            "       troll       0.61      0.91      0.73       395\n",
            "\n",
            "    accuracy                           0.54       668\n",
            "   macro avg       0.15      0.23      0.18       668\n",
            "weighted avg       0.36      0.54      0.43       668\n",
            "\n"
          ],
          "name": "stdout"
        },
        {
          "output_type": "stream",
          "text": [
            "/usr/local/lib/python3.7/dist-packages/sklearn/metrics/_classification.py:1272: UndefinedMetricWarning: Precision and F-score are ill-defined and being set to 0.0 in labels with no predicted samples. Use `zero_division` parameter to control this behavior.\n",
            "  _warn_prf(average, modifier, msg_start, len(result))\n",
            "/usr/local/lib/python3.7/dist-packages/sklearn/metrics/_classification.py:1272: UndefinedMetricWarning: Recall and F-score are ill-defined and being set to 0.0 in labels with no true samples. Use `zero_division` parameter to control this behavior.\n",
            "  _warn_prf(average, modifier, msg_start, len(result))\n"
          ],
          "name": "stderr"
        }
      ]
    },
    {
      "cell_type": "code",
      "metadata": {
        "id": "WWZzVQBdVIoE"
      },
      "source": [
        "clf=SVC(kernel='linear',random_state=0)\n",
        "#res = cross_validate(clf, X_train, y_train, cv=5,  return_train_score=True) \n",
        "#scores = cross_val_score(clf,X_train, y_train, cv=5)\n",
        "#print(\"Accuracy: %0.2f (+/- %0.2f)\" % (scores.mean(), scores.std()))\n",
        "clf.fit(X_train, y_train)\n",
        "pred = clf.predict(X_test)"
      ],
      "execution_count": null,
      "outputs": []
    },
    {
      "cell_type": "code",
      "metadata": {
        "colab": {
          "base_uri": "https://localhost:8080/"
        },
        "id": "wlrgkuAZVIjI",
        "outputId": "1fe716ba-5f33-47f3-d9f6-228f02ac71de"
      },
      "source": [
        "print(classification_report(y_test, pred))"
      ],
      "execution_count": null,
      "outputs": [
        {
          "output_type": "stream",
          "text": [
            "              precision    recall  f1-score   support\n",
            "\n",
            "   Not_troll       0.00      0.00      0.00         0\n",
            "       label       0.00      0.00      0.00         1\n",
            "   not_troll       0.00      0.00      0.00       272\n",
            "       troll       0.62      0.89      0.73       395\n",
            "\n",
            "    accuracy                           0.53       668\n",
            "   macro avg       0.15      0.22      0.18       668\n",
            "weighted avg       0.37      0.53      0.43       668\n",
            "\n"
          ],
          "name": "stdout"
        },
        {
          "output_type": "stream",
          "text": [
            "/usr/local/lib/python3.7/dist-packages/sklearn/metrics/_classification.py:1272: UndefinedMetricWarning: Precision and F-score are ill-defined and being set to 0.0 in labels with no predicted samples. Use `zero_division` parameter to control this behavior.\n",
            "  _warn_prf(average, modifier, msg_start, len(result))\n",
            "/usr/local/lib/python3.7/dist-packages/sklearn/metrics/_classification.py:1272: UndefinedMetricWarning: Recall and F-score are ill-defined and being set to 0.0 in labels with no true samples. Use `zero_division` parameter to control this behavior.\n",
            "  _warn_prf(average, modifier, msg_start, len(result))\n"
          ],
          "name": "stderr"
        }
      ]
    },
    {
      "cell_type": "code",
      "metadata": {
        "colab": {
          "base_uri": "https://localhost:8080/"
        },
        "id": "dUe0vavaVIfH",
        "outputId": "1140e890-eebf-4e0c-bb93-05ea419f66be"
      },
      "source": [
        "!pip install -U sentence-transformers"
      ],
      "execution_count": null,
      "outputs": [
        {
          "output_type": "stream",
          "text": [
            "Collecting sentence-transformers\n",
            "\u001b[?25l  Downloading https://files.pythonhosted.org/packages/3b/fd/8a81047bbd9fa134a3f27e12937d2a487bd49d353a038916a5d7ed4e5543/sentence-transformers-2.0.0.tar.gz (85kB)\n",
            "\u001b[K     |████████████████████████████████| 92kB 3.8MB/s \n",
            "\u001b[?25hCollecting transformers<5.0.0,>=4.6.0\n",
            "\u001b[?25l  Downloading https://files.pythonhosted.org/packages/fd/1a/41c644c963249fd7f3836d926afa1e3f1cc234a1c40d80c5f03ad8f6f1b2/transformers-4.8.2-py3-none-any.whl (2.5MB)\n",
            "\u001b[K     |████████████████████████████████| 2.5MB 7.7MB/s \n",
            "\u001b[?25hRequirement already satisfied, skipping upgrade: tqdm in /usr/local/lib/python3.7/dist-packages (from sentence-transformers) (4.41.1)\n",
            "Requirement already satisfied, skipping upgrade: torch>=1.6.0 in /usr/local/lib/python3.7/dist-packages (from sentence-transformers) (1.9.0+cu102)\n",
            "Requirement already satisfied, skipping upgrade: torchvision in /usr/local/lib/python3.7/dist-packages (from sentence-transformers) (0.10.0+cu102)\n",
            "Requirement already satisfied, skipping upgrade: numpy in /usr/local/lib/python3.7/dist-packages (from sentence-transformers) (1.19.5)\n",
            "Requirement already satisfied, skipping upgrade: scikit-learn in /usr/local/lib/python3.7/dist-packages (from sentence-transformers) (0.22.2.post1)\n",
            "Requirement already satisfied, skipping upgrade: scipy in /usr/local/lib/python3.7/dist-packages (from sentence-transformers) (1.4.1)\n",
            "Requirement already satisfied, skipping upgrade: nltk in /usr/local/lib/python3.7/dist-packages (from sentence-transformers) (3.2.5)\n",
            "Collecting sentencepiece\n",
            "\u001b[?25l  Downloading https://files.pythonhosted.org/packages/ac/aa/1437691b0c7c83086ebb79ce2da16e00bef024f24fec2a5161c35476f499/sentencepiece-0.1.96-cp37-cp37m-manylinux_2_17_x86_64.manylinux2014_x86_64.whl (1.2MB)\n",
            "\u001b[K     |████████████████████████████████| 1.2MB 26.8MB/s \n",
            "\u001b[?25hCollecting huggingface-hub\n",
            "\u001b[?25l  Downloading https://files.pythonhosted.org/packages/67/d5/07894f2f047055576c3559a66d921c37d1280fda74b08fe574a8490e5999/huggingface_hub-0.0.14-py3-none-any.whl (43kB)\n",
            "\u001b[K     |████████████████████████████████| 51kB 6.2MB/s \n",
            "\u001b[?25hRequirement already satisfied, skipping upgrade: importlib-metadata; python_version < \"3.8\" in /usr/local/lib/python3.7/dist-packages (from transformers<5.0.0,>=4.6.0->sentence-transformers) (4.6.1)\n",
            "Requirement already satisfied, skipping upgrade: requests in /usr/local/lib/python3.7/dist-packages (from transformers<5.0.0,>=4.6.0->sentence-transformers) (2.23.0)\n",
            "Requirement already satisfied, skipping upgrade: filelock in /usr/local/lib/python3.7/dist-packages (from transformers<5.0.0,>=4.6.0->sentence-transformers) (3.0.12)\n",
            "Collecting tokenizers<0.11,>=0.10.1\n",
            "\u001b[?25l  Downloading https://files.pythonhosted.org/packages/d4/e2/df3543e8ffdab68f5acc73f613de9c2b155ac47f162e725dcac87c521c11/tokenizers-0.10.3-cp37-cp37m-manylinux_2_5_x86_64.manylinux1_x86_64.manylinux_2_12_x86_64.manylinux2010_x86_64.whl (3.3MB)\n",
            "\u001b[K     |████████████████████████████████| 3.3MB 43.2MB/s \n",
            "\u001b[?25hRequirement already satisfied, skipping upgrade: packaging in /usr/local/lib/python3.7/dist-packages (from transformers<5.0.0,>=4.6.0->sentence-transformers) (21.0)\n",
            "Requirement already satisfied, skipping upgrade: regex!=2019.12.17 in /usr/local/lib/python3.7/dist-packages (from transformers<5.0.0,>=4.6.0->sentence-transformers) (2019.12.20)\n",
            "Collecting sacremoses\n",
            "\u001b[?25l  Downloading https://files.pythonhosted.org/packages/75/ee/67241dc87f266093c533a2d4d3d69438e57d7a90abb216fa076e7d475d4a/sacremoses-0.0.45-py3-none-any.whl (895kB)\n",
            "\u001b[K     |████████████████████████████████| 901kB 37.5MB/s \n",
            "\u001b[?25hRequirement already satisfied, skipping upgrade: pyyaml in /usr/local/lib/python3.7/dist-packages (from transformers<5.0.0,>=4.6.0->sentence-transformers) (3.13)\n",
            "Requirement already satisfied, skipping upgrade: typing-extensions in /usr/local/lib/python3.7/dist-packages (from torch>=1.6.0->sentence-transformers) (3.7.4.3)\n",
            "Requirement already satisfied, skipping upgrade: pillow>=5.3.0 in /usr/local/lib/python3.7/dist-packages (from torchvision->sentence-transformers) (7.1.2)\n",
            "Requirement already satisfied, skipping upgrade: joblib>=0.11 in /usr/local/lib/python3.7/dist-packages (from scikit-learn->sentence-transformers) (1.0.1)\n",
            "Requirement already satisfied, skipping upgrade: six in /usr/local/lib/python3.7/dist-packages (from nltk->sentence-transformers) (1.15.0)\n",
            "Requirement already satisfied, skipping upgrade: zipp>=0.5 in /usr/local/lib/python3.7/dist-packages (from importlib-metadata; python_version < \"3.8\"->transformers<5.0.0,>=4.6.0->sentence-transformers) (3.5.0)\n",
            "Requirement already satisfied, skipping upgrade: idna<3,>=2.5 in /usr/local/lib/python3.7/dist-packages (from requests->transformers<5.0.0,>=4.6.0->sentence-transformers) (2.10)\n",
            "Requirement already satisfied, skipping upgrade: chardet<4,>=3.0.2 in /usr/local/lib/python3.7/dist-packages (from requests->transformers<5.0.0,>=4.6.0->sentence-transformers) (3.0.4)\n",
            "Requirement already satisfied, skipping upgrade: urllib3!=1.25.0,!=1.25.1,<1.26,>=1.21.1 in /usr/local/lib/python3.7/dist-packages (from requests->transformers<5.0.0,>=4.6.0->sentence-transformers) (1.24.3)\n",
            "Requirement already satisfied, skipping upgrade: certifi>=2017.4.17 in /usr/local/lib/python3.7/dist-packages (from requests->transformers<5.0.0,>=4.6.0->sentence-transformers) (2021.5.30)\n",
            "Requirement already satisfied, skipping upgrade: pyparsing>=2.0.2 in /usr/local/lib/python3.7/dist-packages (from packaging->transformers<5.0.0,>=4.6.0->sentence-transformers) (2.4.7)\n",
            "Requirement already satisfied, skipping upgrade: click in /usr/local/lib/python3.7/dist-packages (from sacremoses->transformers<5.0.0,>=4.6.0->sentence-transformers) (7.1.2)\n",
            "Building wheels for collected packages: sentence-transformers\n",
            "  Building wheel for sentence-transformers (setup.py) ... \u001b[?25l\u001b[?25hdone\n",
            "  Created wheel for sentence-transformers: filename=sentence_transformers-2.0.0-cp37-none-any.whl size=126711 sha256=a4451b75a0852199057050cb5f31f96e47dd07670de41112f3eade520ba8c55c\n",
            "  Stored in directory: /root/.cache/pip/wheels/38/d2/98/d191289a877a34c68aa67e05179521e060f96394a3e9336be6\n",
            "Successfully built sentence-transformers\n",
            "\u001b[31mERROR: transformers 4.8.2 has requirement huggingface-hub==0.0.12, but you'll have huggingface-hub 0.0.14 which is incompatible.\u001b[0m\n",
            "Installing collected packages: tokenizers, sacremoses, huggingface-hub, transformers, sentencepiece, sentence-transformers\n",
            "Successfully installed huggingface-hub-0.0.14 sacremoses-0.0.45 sentence-transformers-2.0.0 sentencepiece-0.1.96 tokenizers-0.10.3 transformers-4.8.2\n"
          ],
          "name": "stdout"
        }
      ]
    },
    {
      "cell_type": "code",
      "metadata": {
        "colab": {
          "base_uri": "https://localhost:8080/",
          "height": 66,
          "referenced_widgets": [
            "0fdbb87c765846c7b62b129200470f77",
            "8363b1cbbb7141c0adc6d2c8de4318d6",
            "6befb0cfbf2c410491f40a7414010954",
            "b513ede41a944ad8993b80df97071fb5",
            "fd6ee2a036c546f1b4504c75cd50caf9",
            "ec5de56b9ee242ef83d1282b0d90d547",
            "502c447f335c4e94951169ab6bccb291",
            "030cdbe3a7ea436ca5df272a5d22842f"
          ]
        },
        "id": "tp5HBwN5cNxP",
        "outputId": "16062961-9245-4a06-9213-aa516ae74442"
      },
      "source": [
        "from sentence_transformers import SentenceTransformer\n",
        "model = SentenceTransformer('distiluse-base-multilingual-cased')\n",
        "X_train = model.encode(captions, batch_size=32,show_progress_bar=True)\n",
        "y_train = label\n",
        "X_test=model.encode(captiontext)"
      ],
      "execution_count": null,
      "outputs": [
        {
          "output_type": "display_data",
          "data": {
            "application/vnd.jupyter.widget-view+json": {
              "model_id": "0fdbb87c765846c7b62b129200470f77",
              "version_major": 2,
              "version_minor": 0
            },
            "text/plain": [
              "HBox(children=(FloatProgress(value=0.0, description='Batches', max=72.0, style=ProgressStyle(description_width…"
            ]
          },
          "metadata": {
            "tags": []
          }
        },
        {
          "output_type": "stream",
          "text": [
            "\n"
          ],
          "name": "stdout"
        }
      ]
    },
    {
      "cell_type": "code",
      "metadata": {
        "colab": {
          "base_uri": "https://localhost:8080/"
        },
        "id": "hwkvFDbicNuC",
        "outputId": "cb6bf033-fb22-4217-8f70-11084739e11a"
      },
      "source": [
        "clf = RandomForestClassifier(n_estimators=1000,verbose=True, n_jobs=-1)\n",
        "#res = cross_validate(clf, X_train, y_train, cv=5,  return_train_score=True) \n",
        "#scores = cross_val_score(clf,X_train, y_train, cv=5)\n",
        "#print(\"Accuracy: %0.2f (+/- %0.2f)\" % (scores.mean(), scores.std()))\n",
        "clf.fit(X_train, y_train)\n",
        "pred = clf.predict(X_test)"
      ],
      "execution_count": null,
      "outputs": [
        {
          "output_type": "stream",
          "text": [
            "[Parallel(n_jobs=-1)]: Using backend ThreadingBackend with 2 concurrent workers.\n",
            "[Parallel(n_jobs=-1)]: Done  46 tasks      | elapsed:    1.2s\n",
            "[Parallel(n_jobs=-1)]: Done 196 tasks      | elapsed:    5.1s\n",
            "[Parallel(n_jobs=-1)]: Done 446 tasks      | elapsed:   11.7s\n",
            "[Parallel(n_jobs=-1)]: Done 796 tasks      | elapsed:   20.7s\n",
            "[Parallel(n_jobs=-1)]: Done 1000 out of 1000 | elapsed:   26.1s finished\n",
            "[Parallel(n_jobs=2)]: Using backend ThreadingBackend with 2 concurrent workers.\n",
            "[Parallel(n_jobs=2)]: Done  46 tasks      | elapsed:    0.0s\n",
            "[Parallel(n_jobs=2)]: Done 196 tasks      | elapsed:    0.1s\n",
            "[Parallel(n_jobs=2)]: Done 446 tasks      | elapsed:    0.2s\n",
            "[Parallel(n_jobs=2)]: Done 796 tasks      | elapsed:    0.3s\n",
            "[Parallel(n_jobs=2)]: Done 1000 out of 1000 | elapsed:    0.4s finished\n"
          ],
          "name": "stderr"
        }
      ]
    },
    {
      "cell_type": "code",
      "metadata": {
        "colab": {
          "base_uri": "https://localhost:8080/"
        },
        "id": "mjct7kaFVIZu",
        "outputId": "6267e4ac-6f95-4036-9c4f-d9cfb94de1aa"
      },
      "source": [
        "print(classification_report(y_test, pred))"
      ],
      "execution_count": null,
      "outputs": [
        {
          "output_type": "stream",
          "text": [
            "              precision    recall  f1-score   support\n",
            "\n",
            "   Not_troll       0.00      0.00      0.00         0\n",
            "       label       0.00      0.00      0.00         1\n",
            "   not_troll       0.00      0.00      0.00       272\n",
            "       troll       0.61      0.83      0.70       395\n",
            "\n",
            "    accuracy                           0.49       668\n",
            "   macro avg       0.15      0.21      0.18       668\n",
            "weighted avg       0.36      0.49      0.41       668\n",
            "\n"
          ],
          "name": "stdout"
        },
        {
          "output_type": "stream",
          "text": [
            "/usr/local/lib/python3.7/dist-packages/sklearn/metrics/_classification.py:1272: UndefinedMetricWarning: Precision and F-score are ill-defined and being set to 0.0 in labels with no predicted samples. Use `zero_division` parameter to control this behavior.\n",
            "  _warn_prf(average, modifier, msg_start, len(result))\n",
            "/usr/local/lib/python3.7/dist-packages/sklearn/metrics/_classification.py:1272: UndefinedMetricWarning: Recall and F-score are ill-defined and being set to 0.0 in labels with no true samples. Use `zero_division` parameter to control this behavior.\n",
            "  _warn_prf(average, modifier, msg_start, len(result))\n"
          ],
          "name": "stderr"
        }
      ]
    },
    {
      "cell_type": "code",
      "metadata": {
        "id": "KWzrb33WVIWH"
      },
      "source": [
        "clf = KNeighborsClassifier(n_neighbors=3)\n",
        "#res = cross_validate(clf, X_train, y_train, cv=5,  return_train_score=True) \n",
        "#scores = cross_val_score(clf,X_train, y_train, cv=5)\n",
        "#print(\"Accuracy: %0.2f (+/- %0.2f)\" % (scores.mean(), scores.std()))\n",
        "clf.fit(X_train, y_train)\n",
        "pred = clf.predict(X_test)"
      ],
      "execution_count": null,
      "outputs": []
    },
    {
      "cell_type": "code",
      "metadata": {
        "colab": {
          "base_uri": "https://localhost:8080/"
        },
        "id": "AxZo-IgIVIQa",
        "outputId": "c057f771-cc76-4472-8760-104633219823"
      },
      "source": [
        "print(classification_report(y_test, pred))"
      ],
      "execution_count": null,
      "outputs": [
        {
          "output_type": "stream",
          "text": [
            "              precision    recall  f1-score   support\n",
            "\n",
            "   Not_troll       0.00      0.00      0.00         0\n",
            "       label       0.00      0.00      0.00         1\n",
            "   not_troll       0.00      0.00      0.00       272\n",
            "       troll       0.59      0.44      0.51       395\n",
            "\n",
            "    accuracy                           0.26       668\n",
            "   macro avg       0.15      0.11      0.13       668\n",
            "weighted avg       0.35      0.26      0.30       668\n",
            "\n"
          ],
          "name": "stdout"
        },
        {
          "output_type": "stream",
          "text": [
            "/usr/local/lib/python3.7/dist-packages/sklearn/metrics/_classification.py:1272: UndefinedMetricWarning: Precision and F-score are ill-defined and being set to 0.0 in labels with no predicted samples. Use `zero_division` parameter to control this behavior.\n",
            "  _warn_prf(average, modifier, msg_start, len(result))\n",
            "/usr/local/lib/python3.7/dist-packages/sklearn/metrics/_classification.py:1272: UndefinedMetricWarning: Recall and F-score are ill-defined and being set to 0.0 in labels with no true samples. Use `zero_division` parameter to control this behavior.\n",
            "  _warn_prf(average, modifier, msg_start, len(result))\n"
          ],
          "name": "stderr"
        }
      ]
    },
    {
      "cell_type": "code",
      "metadata": {
        "colab": {
          "base_uri": "https://localhost:8080/"
        },
        "id": "zIvSFG_Tfmah",
        "outputId": "9c1e74b6-4c8e-428a-e31e-905b5b308c46"
      },
      "source": [
        "clf = MLPClassifier(verbose=True, hidden_layer_sizes=(512))\n",
        "#res = cross_validate(clf, X_train, y_train, cv=5,  return_train_score=True) \n",
        "#scores = cross_val_score(clf,X_train, y_train, cv=5)\n",
        "#print(\"Accuracy: %0.2f (+/- %0.2f)\" % (scores.mean(), scores.std()))\n",
        "clf.fit(X_train, y_train)\n",
        "pred = clf.predict(X_test)"
      ],
      "execution_count": null,
      "outputs": [
        {
          "output_type": "stream",
          "text": [
            "Iteration 1, loss = 0.61133456\n",
            "Iteration 2, loss = 0.43308785\n",
            "Iteration 3, loss = 0.31617530\n",
            "Iteration 4, loss = 0.26583211\n",
            "Iteration 5, loss = 0.24146176\n",
            "Iteration 6, loss = 0.22590087\n",
            "Iteration 7, loss = 0.21439109\n",
            "Iteration 8, loss = 0.20645228\n",
            "Iteration 9, loss = 0.19635555\n",
            "Iteration 10, loss = 0.18955567\n",
            "Iteration 11, loss = 0.18256873\n",
            "Iteration 12, loss = 0.17585734\n",
            "Iteration 13, loss = 0.17050181\n",
            "Iteration 14, loss = 0.16458444\n",
            "Iteration 15, loss = 0.15925991\n",
            "Iteration 16, loss = 0.15270419\n",
            "Iteration 17, loss = 0.14751986\n",
            "Iteration 18, loss = 0.14351292\n",
            "Iteration 19, loss = 0.14089156\n",
            "Iteration 20, loss = 0.13580132\n",
            "Iteration 21, loss = 0.13129391\n",
            "Iteration 22, loss = 0.12780725\n",
            "Iteration 23, loss = 0.12366203\n",
            "Iteration 24, loss = 0.12004981\n",
            "Iteration 25, loss = 0.11742667\n",
            "Iteration 26, loss = 0.11299565\n",
            "Iteration 27, loss = 0.11100268\n",
            "Iteration 28, loss = 0.10866111\n",
            "Iteration 29, loss = 0.10620377\n",
            "Iteration 30, loss = 0.10227040\n",
            "Iteration 31, loss = 0.10065521\n",
            "Iteration 32, loss = 0.09768163\n",
            "Iteration 33, loss = 0.09554687\n",
            "Iteration 34, loss = 0.09219438\n",
            "Iteration 35, loss = 0.09096131\n",
            "Iteration 36, loss = 0.08932380\n",
            "Iteration 37, loss = 0.08694462\n",
            "Iteration 38, loss = 0.08616846\n",
            "Iteration 39, loss = 0.08347208\n",
            "Iteration 40, loss = 0.08076086\n",
            "Iteration 41, loss = 0.07892484\n",
            "Iteration 42, loss = 0.07708583\n",
            "Iteration 43, loss = 0.07504232\n",
            "Iteration 44, loss = 0.07402389\n",
            "Iteration 45, loss = 0.07433048\n",
            "Iteration 46, loss = 0.07162085\n",
            "Iteration 47, loss = 0.07209195\n",
            "Iteration 48, loss = 0.06945088\n",
            "Iteration 49, loss = 0.07164270\n",
            "Iteration 50, loss = 0.06710167\n",
            "Iteration 51, loss = 0.06410869\n",
            "Iteration 52, loss = 0.06314329\n",
            "Iteration 53, loss = 0.06196210\n",
            "Iteration 54, loss = 0.06090278\n",
            "Iteration 55, loss = 0.05927512\n",
            "Iteration 56, loss = 0.05920618\n",
            "Iteration 57, loss = 0.05824577\n",
            "Iteration 58, loss = 0.05644622\n",
            "Iteration 59, loss = 0.05597836\n",
            "Iteration 60, loss = 0.05498547\n",
            "Iteration 61, loss = 0.05296282\n",
            "Iteration 62, loss = 0.05540979\n",
            "Iteration 63, loss = 0.05345054\n",
            "Iteration 64, loss = 0.05078849\n",
            "Iteration 65, loss = 0.04981013\n",
            "Iteration 66, loss = 0.05063942\n",
            "Iteration 67, loss = 0.05005265\n",
            "Iteration 68, loss = 0.04843934\n",
            "Iteration 69, loss = 0.04618989\n",
            "Iteration 70, loss = 0.04575356\n",
            "Iteration 71, loss = 0.04693869\n",
            "Iteration 72, loss = 0.04462575\n",
            "Iteration 73, loss = 0.04510247\n",
            "Iteration 74, loss = 0.04339923\n",
            "Iteration 75, loss = 0.04337064\n",
            "Iteration 76, loss = 0.04135014\n",
            "Iteration 77, loss = 0.04367843\n",
            "Iteration 78, loss = 0.04332226\n",
            "Iteration 79, loss = 0.04028868\n",
            "Iteration 80, loss = 0.04032513\n",
            "Iteration 81, loss = 0.03921404\n",
            "Iteration 82, loss = 0.03829367\n",
            "Iteration 83, loss = 0.03915161\n",
            "Iteration 84, loss = 0.03756668\n",
            "Iteration 85, loss = 0.03793661\n",
            "Iteration 86, loss = 0.03811679\n",
            "Iteration 87, loss = 0.03688963\n",
            "Iteration 88, loss = 0.03569931\n",
            "Iteration 89, loss = 0.03691607\n",
            "Iteration 90, loss = 0.03684536\n",
            "Iteration 91, loss = 0.03467399\n",
            "Iteration 92, loss = 0.03421408\n",
            "Iteration 93, loss = 0.03376790\n",
            "Iteration 94, loss = 0.03519993\n",
            "Iteration 95, loss = 0.03358644\n",
            "Iteration 96, loss = 0.03333941\n",
            "Iteration 97, loss = 0.03379660\n",
            "Iteration 98, loss = 0.03274571\n",
            "Iteration 99, loss = 0.03206298\n",
            "Iteration 100, loss = 0.03106203\n",
            "Iteration 101, loss = 0.03115140\n",
            "Iteration 102, loss = 0.03070203\n",
            "Iteration 103, loss = 0.03161338\n",
            "Iteration 104, loss = 0.03392343\n",
            "Iteration 105, loss = 0.03313884\n",
            "Iteration 106, loss = 0.03136301\n",
            "Iteration 107, loss = 0.02902772\n",
            "Iteration 108, loss = 0.03059874\n",
            "Iteration 109, loss = 0.02910611\n",
            "Iteration 110, loss = 0.02963352\n",
            "Iteration 111, loss = 0.02867459\n",
            "Iteration 112, loss = 0.02883366\n",
            "Iteration 113, loss = 0.02844802\n",
            "Iteration 114, loss = 0.02849710\n",
            "Iteration 115, loss = 0.02796783\n",
            "Iteration 116, loss = 0.02750063\n",
            "Iteration 117, loss = 0.02750037\n",
            "Iteration 118, loss = 0.02837185\n",
            "Iteration 119, loss = 0.02972277\n",
            "Iteration 120, loss = 0.02706022\n",
            "Iteration 121, loss = 0.02668585\n",
            "Iteration 122, loss = 0.02658785\n",
            "Iteration 123, loss = 0.02756846\n",
            "Iteration 124, loss = 0.02944709\n",
            "Iteration 125, loss = 0.02849927\n",
            "Iteration 126, loss = 0.02699104\n",
            "Iteration 127, loss = 0.02568125\n",
            "Iteration 128, loss = 0.02631652\n",
            "Iteration 129, loss = 0.02638719\n",
            "Iteration 130, loss = 0.02500081\n",
            "Iteration 131, loss = 0.02625180\n",
            "Iteration 132, loss = 0.02542812\n",
            "Iteration 133, loss = 0.02777009\n",
            "Iteration 134, loss = 0.02627500\n",
            "Iteration 135, loss = 0.02496257\n",
            "Iteration 136, loss = 0.02475684\n",
            "Iteration 137, loss = 0.02513727\n",
            "Iteration 138, loss = 0.02508904\n",
            "Iteration 139, loss = 0.02579369\n",
            "Iteration 140, loss = 0.02462421\n",
            "Iteration 141, loss = 0.02502282\n",
            "Iteration 142, loss = 0.02411829\n",
            "Iteration 143, loss = 0.02407897\n",
            "Iteration 144, loss = 0.02626155\n",
            "Iteration 145, loss = 0.02777745\n",
            "Iteration 146, loss = 0.02784939\n",
            "Iteration 147, loss = 0.02415057\n",
            "Iteration 148, loss = 0.02330609\n",
            "Iteration 149, loss = 0.02441313\n",
            "Iteration 150, loss = 0.02401785\n",
            "Iteration 151, loss = 0.02466556\n",
            "Iteration 152, loss = 0.02313028\n",
            "Iteration 153, loss = 0.02315081\n",
            "Iteration 154, loss = 0.02318028\n",
            "Iteration 155, loss = 0.02345464\n",
            "Iteration 156, loss = 0.02287054\n",
            "Iteration 157, loss = 0.02584099\n",
            "Iteration 158, loss = 0.02251308\n",
            "Iteration 159, loss = 0.02469958\n",
            "Iteration 160, loss = 0.02655135\n",
            "Iteration 161, loss = 0.02931744\n",
            "Iteration 162, loss = 0.02533183\n",
            "Iteration 163, loss = 0.02429005\n",
            "Iteration 164, loss = 0.02224958\n",
            "Iteration 165, loss = 0.02325149\n",
            "Iteration 166, loss = 0.02355642\n",
            "Iteration 167, loss = 0.02268744\n",
            "Iteration 168, loss = 0.02234293\n",
            "Iteration 169, loss = 0.02558118\n",
            "Iteration 170, loss = 0.02367577\n",
            "Iteration 171, loss = 0.02292303\n",
            "Iteration 172, loss = 0.02507672\n",
            "Iteration 173, loss = 0.02208962\n",
            "Iteration 174, loss = 0.02527848\n",
            "Iteration 175, loss = 0.02161424\n",
            "Iteration 176, loss = 0.02147646\n",
            "Iteration 177, loss = 0.02177337\n",
            "Iteration 178, loss = 0.02227482\n",
            "Iteration 179, loss = 0.02452116\n",
            "Iteration 180, loss = 0.02439278\n",
            "Iteration 181, loss = 0.02432225\n",
            "Iteration 182, loss = 0.02201201\n",
            "Iteration 183, loss = 0.02188698\n",
            "Iteration 184, loss = 0.02189115\n",
            "Iteration 185, loss = 0.02271806\n",
            "Iteration 186, loss = 0.02165620\n",
            "Iteration 187, loss = 0.02117189\n",
            "Iteration 188, loss = 0.02132002\n",
            "Iteration 189, loss = 0.02090669\n",
            "Iteration 190, loss = 0.02099062\n",
            "Iteration 191, loss = 0.02130544\n",
            "Iteration 192, loss = 0.02165104\n",
            "Iteration 193, loss = 0.02145309\n",
            "Iteration 194, loss = 0.02346792\n",
            "Iteration 195, loss = 0.02562983\n",
            "Iteration 196, loss = 0.02150728\n",
            "Iteration 197, loss = 0.02127030\n",
            "Iteration 198, loss = 0.02261681\n",
            "Iteration 199, loss = 0.02179526\n",
            "Iteration 200, loss = 0.02091720\n",
            "Training loss did not improve more than tol=0.000100 for 10 consecutive epochs. Stopping.\n"
          ],
          "name": "stdout"
        }
      ]
    },
    {
      "cell_type": "code",
      "metadata": {
        "colab": {
          "base_uri": "https://localhost:8080/"
        },
        "id": "HV2rUKVQVIKN",
        "outputId": "a8ee87ad-e5d9-4614-c47e-c11640a189cd"
      },
      "source": [
        "print(classification_report(y_test, pred))"
      ],
      "execution_count": null,
      "outputs": [
        {
          "output_type": "stream",
          "text": [
            "              precision    recall  f1-score   support\n",
            "\n",
            "   Not_troll       0.00      0.00      0.00         0\n",
            "       label       0.00      0.00      0.00         1\n",
            "   not_troll       0.00      0.00      0.00       272\n",
            "       troll       0.62      0.78      0.69       395\n",
            "\n",
            "    accuracy                           0.46       668\n",
            "   macro avg       0.15      0.19      0.17       668\n",
            "weighted avg       0.36      0.46      0.41       668\n",
            "\n"
          ],
          "name": "stdout"
        },
        {
          "output_type": "stream",
          "text": [
            "/usr/local/lib/python3.7/dist-packages/sklearn/metrics/_classification.py:1272: UndefinedMetricWarning: Precision and F-score are ill-defined and being set to 0.0 in labels with no predicted samples. Use `zero_division` parameter to control this behavior.\n",
            "  _warn_prf(average, modifier, msg_start, len(result))\n",
            "/usr/local/lib/python3.7/dist-packages/sklearn/metrics/_classification.py:1272: UndefinedMetricWarning: Recall and F-score are ill-defined and being set to 0.0 in labels with no true samples. Use `zero_division` parameter to control this behavior.\n",
            "  _warn_prf(average, modifier, msg_start, len(result))\n"
          ],
          "name": "stderr"
        }
      ]
    },
    {
      "cell_type": "code",
      "metadata": {
        "id": "mP_lwHJiflQy"
      },
      "source": [
        "clf = LogisticRegression(random_state=0)\n",
        "#res = cross_validate(clf, X_train, y_train, cv=5,  return_train_score=True) \n",
        "#scores = cross_val_score(clf,X_train, y_train, cv=5)\n",
        "#print(\"Accuracy: %0.2f (+/- %0.2f)\" % (scores.mean(), scores.std()))\n",
        "clf.fit(X_train, y_train)\n",
        "pred = clf.predict(X_test)"
      ],
      "execution_count": null,
      "outputs": []
    },
    {
      "cell_type": "code",
      "metadata": {
        "colab": {
          "base_uri": "https://localhost:8080/"
        },
        "id": "q8in0AAWflNq",
        "outputId": "2444a35b-0c37-4381-c03e-e4e873c04c46"
      },
      "source": [
        "print(classification_report(y_test, pred))"
      ],
      "execution_count": null,
      "outputs": [
        {
          "output_type": "stream",
          "text": [
            "              precision    recall  f1-score   support\n",
            "\n",
            "   Not_troll       0.00      0.00      0.00         0\n",
            "       label       0.00      0.00      0.00         1\n",
            "   not_troll       0.00      0.00      0.00       272\n",
            "       troll       0.62      0.73      0.67       395\n",
            "\n",
            "    accuracy                           0.43       668\n",
            "   macro avg       0.16      0.18      0.17       668\n",
            "weighted avg       0.37      0.43      0.40       668\n",
            "\n"
          ],
          "name": "stdout"
        },
        {
          "output_type": "stream",
          "text": [
            "/usr/local/lib/python3.7/dist-packages/sklearn/metrics/_classification.py:1272: UndefinedMetricWarning: Precision and F-score are ill-defined and being set to 0.0 in labels with no predicted samples. Use `zero_division` parameter to control this behavior.\n",
            "  _warn_prf(average, modifier, msg_start, len(result))\n",
            "/usr/local/lib/python3.7/dist-packages/sklearn/metrics/_classification.py:1272: UndefinedMetricWarning: Recall and F-score are ill-defined and being set to 0.0 in labels with no true samples. Use `zero_division` parameter to control this behavior.\n",
            "  _warn_prf(average, modifier, msg_start, len(result))\n"
          ],
          "name": "stderr"
        }
      ]
    },
    {
      "cell_type": "code",
      "metadata": {
        "id": "tPLkGZGgflLB"
      },
      "source": [
        "clf=DecisionTreeClassifier(criterion='entropy',random_state=0)\n",
        "#res = cross_validate(clf, X_train, y_train, cv=5,  return_train_score=True) \n",
        "#scores = cross_val_score(clf,X_train, y_train, cv=5)\n",
        "#print(\"Accuracy: %0.2f (+/- %0.2f)\" % (scores.mean(), scores.std()))\n",
        "clf.fit(X_train, y_train)\n",
        "pred = clf.predict(X_test)"
      ],
      "execution_count": null,
      "outputs": []
    },
    {
      "cell_type": "code",
      "metadata": {
        "colab": {
          "base_uri": "https://localhost:8080/"
        },
        "id": "_SzeqtgiflID",
        "outputId": "599335ff-db69-48ee-e6a3-496900cb9ebc"
      },
      "source": [
        "print(classification_report(y_test, pred))"
      ],
      "execution_count": null,
      "outputs": [
        {
          "output_type": "stream",
          "text": [
            "              precision    recall  f1-score   support\n",
            "\n",
            "   Not_troll       0.00      0.00      0.00         0\n",
            "       label       0.00      0.00      0.00         1\n",
            "   not_troll       0.00      0.00      0.00       272\n",
            "       troll       0.60      0.71      0.65       395\n",
            "\n",
            "    accuracy                           0.42       668\n",
            "   macro avg       0.15      0.18      0.16       668\n",
            "weighted avg       0.35      0.42      0.38       668\n",
            "\n"
          ],
          "name": "stdout"
        },
        {
          "output_type": "stream",
          "text": [
            "/usr/local/lib/python3.7/dist-packages/sklearn/metrics/_classification.py:1272: UndefinedMetricWarning: Precision and F-score are ill-defined and being set to 0.0 in labels with no predicted samples. Use `zero_division` parameter to control this behavior.\n",
            "  _warn_prf(average, modifier, msg_start, len(result))\n",
            "/usr/local/lib/python3.7/dist-packages/sklearn/metrics/_classification.py:1272: UndefinedMetricWarning: Recall and F-score are ill-defined and being set to 0.0 in labels with no true samples. Use `zero_division` parameter to control this behavior.\n",
            "  _warn_prf(average, modifier, msg_start, len(result))\n"
          ],
          "name": "stderr"
        }
      ]
    },
    {
      "cell_type": "code",
      "metadata": {
        "id": "p_oN5_C-flDp"
      },
      "source": [
        "clf=SVC(kernel='linear',random_state=0)\n",
        "#res = cross_validate(clf, X_train, y_train, cv=5,  return_train_score=True) \n",
        "#scores = cross_val_score(clf,X_train, y_train, cv=5)\n",
        "#print(\"Accuracy: %0.2f (+/- %0.2f)\" % (scores.mean(), scores.std()))\n",
        "clf.fit(X_train, y_train)\n",
        "pred = clf.predict(X_test)"
      ],
      "execution_count": null,
      "outputs": []
    },
    {
      "cell_type": "code",
      "metadata": {
        "colab": {
          "base_uri": "https://localhost:8080/"
        },
        "id": "1FfBAlaefk9P",
        "outputId": "401e830d-6a79-40ae-c1a3-98a0528d3269"
      },
      "source": [
        "print(classification_report(y_test, pred))"
      ],
      "execution_count": null,
      "outputs": [
        {
          "output_type": "stream",
          "text": [
            "              precision    recall  f1-score   support\n",
            "\n",
            "   Not_troll       0.00      0.00      0.00         0\n",
            "       label       0.00      0.00      0.00         1\n",
            "   not_troll       0.00      0.00      0.00       272\n",
            "       troll       0.62      0.73      0.67       395\n",
            "\n",
            "    accuracy                           0.43       668\n",
            "   macro avg       0.15      0.18      0.17       668\n",
            "weighted avg       0.36      0.43      0.40       668\n",
            "\n"
          ],
          "name": "stdout"
        },
        {
          "output_type": "stream",
          "text": [
            "/usr/local/lib/python3.7/dist-packages/sklearn/metrics/_classification.py:1272: UndefinedMetricWarning: Precision and F-score are ill-defined and being set to 0.0 in labels with no predicted samples. Use `zero_division` parameter to control this behavior.\n",
            "  _warn_prf(average, modifier, msg_start, len(result))\n",
            "/usr/local/lib/python3.7/dist-packages/sklearn/metrics/_classification.py:1272: UndefinedMetricWarning: Recall and F-score are ill-defined and being set to 0.0 in labels with no true samples. Use `zero_division` parameter to control this behavior.\n",
            "  _warn_prf(average, modifier, msg_start, len(result))\n"
          ],
          "name": "stderr"
        }
      ]
    },
    {
      "cell_type": "code",
      "metadata": {
        "colab": {
          "base_uri": "https://localhost:8080/"
        },
        "id": "MQBj-O7Yfk5r",
        "outputId": "f82fa232-282d-4327-b537-b0e8ee202784"
      },
      "source": [
        "clf=XGBClassifier()\n",
        "#res = cross_validate(clf, X_train, y_train, cv=5,  return_train_score=True) \n",
        "#scores = cross_val_score(clf,X_train, y_train, cv=5)\n",
        "#print(\"Accuracy: %0.2f (+/- %0.2f)\" % (scores.mean(), scores.std()))\n",
        "clf.fit(X_train, y_train)\n",
        "pred = clf.predict(X_test)"
      ],
      "execution_count": null,
      "outputs": [
        {
          "output_type": "stream",
          "text": [
            "Accuracy: 0.88 (+/- 0.12)\n"
          ],
          "name": "stdout"
        }
      ]
    },
    {
      "cell_type": "code",
      "metadata": {
        "colab": {
          "base_uri": "https://localhost:8080/"
        },
        "id": "6ajuESB_fk24",
        "outputId": "1e135d4c-87ad-44b1-a3e3-0d3128e9cb38"
      },
      "source": [
        "print(classification_report(y_test, pred))"
      ],
      "execution_count": null,
      "outputs": [
        {
          "output_type": "stream",
          "text": [
            "              precision    recall  f1-score   support\n",
            "\n",
            "   Not_troll       0.00      0.00      0.00         0\n",
            "       label       0.00      0.00      0.00         1\n",
            "   not_troll       0.00      0.00      0.00       272\n",
            "       troll       0.61      0.80      0.69       395\n",
            "\n",
            "    accuracy                           0.47       668\n",
            "   macro avg       0.15      0.20      0.17       668\n",
            "weighted avg       0.36      0.47      0.41       668\n",
            "\n"
          ],
          "name": "stdout"
        },
        {
          "output_type": "stream",
          "text": [
            "/usr/local/lib/python3.7/dist-packages/sklearn/metrics/_classification.py:1272: UndefinedMetricWarning: Precision and F-score are ill-defined and being set to 0.0 in labels with no predicted samples. Use `zero_division` parameter to control this behavior.\n",
            "  _warn_prf(average, modifier, msg_start, len(result))\n",
            "/usr/local/lib/python3.7/dist-packages/sklearn/metrics/_classification.py:1272: UndefinedMetricWarning: Recall and F-score are ill-defined and being set to 0.0 in labels with no true samples. Use `zero_division` parameter to control this behavior.\n",
            "  _warn_prf(average, modifier, msg_start, len(result))\n"
          ],
          "name": "stderr"
        }
      ]
    },
    {
      "cell_type": "code",
      "metadata": {
        "colab": {
          "base_uri": "https://localhost:8080/",
          "height": 752,
          "referenced_widgets": [
            "b970a27540504ed0bc084850c8b17df7",
            "d1de023d5cec4aa9a9ad647af9b7e02b",
            "a836df3c49cf4c998025dc26009b8cd8",
            "e641b4c35ca240f9949a1378f06d2444",
            "4cee143a65dc4c9ebbefe7eac982a4c3",
            "c3969a2e7ef340ce9a8e2519c7257c0a",
            "6ec52a6499194320bdd40cce44a41fb6",
            "50d3202291c6413b8e3ddd1d582d1bfd",
            "4d265497191048e3898241f58b2d7ccd",
            "8ada481b223d4747a24ccb55ea11366b",
            "f4a0f2e7d69b4b47b9bce67e4ff0b9a4",
            "15fbca8f4d5a4faf978d4f019076e880",
            "263fa635e21c43ecb7dd9927a8e45f43",
            "abc06cc4d2c44a6d91730f4f529f7d8e",
            "b2147c820cef4098bc58ba9465c7072e",
            "046ec30c498a4e918322749bb20f3816",
            "c2a54593722248f0b61697fbc0320108",
            "de89e912bbce4987a9c84e9f4de98889",
            "bb57d8e957cc4d52a1721ad42376c4bc",
            "ba8d5c628a0d45d882c25c855b5418df",
            "cbfe55a42c3e46f4a7edaed1bb571d6e",
            "ccc9204129264155b3bd4b88f08a6fe5",
            "b811636d13cb44ef8a34a6a5fafdfb5f",
            "bd99213428bd4aa8a086177566ed9660",
            "0a83be5fe0d1417b890a9af8c9b8b9b4",
            "bdb229f85d0342da9fa892a88cd4f8ae",
            "890132c207d2418097401d147d2a459f",
            "d288b8b9500b45218307cfaff7833f03",
            "920d69e93ffb4a95a54e5996c76bd292",
            "8eed13c28fd546eb890480bb81349f26",
            "432829d1f01c46c9a2523e6630ad33a6",
            "feda4eb2aa8c40bda2fc34904ee7f554",
            "3dfb66c0da444e979d5e8eb5c4e16263",
            "242f788577994708aad7c85c32d6ab47",
            "e776f3fde33e43a988b24e447536268e",
            "bc67c329f0a743c0bd972f355b90cd2c",
            "8f3210f3653f4ee59d3ade0eed7ce3e3",
            "c642ed8c9c9e4b8c9c48d78aa09ff137",
            "dffd66e2dc5f44d0ac58f5fa6d42d8b3",
            "febcf9a6d1564a508be1a79b4c719349",
            "4d3acc2ad3814c469481ff854e1878f6",
            "bbed6cf6918c4b8aad0f654a958a73f6",
            "4fdcd89ccdb94a028866b2ab3c78338d",
            "788686781bea487d8668b5e8ef8a9bf8",
            "5be29219ac9343f099e48235b24eff46",
            "4e54e97e72f146af9fcd414760b28950",
            "38ab5dcaa6d748e19052ac2560303979",
            "e1e5187e8b4c4002a250ea5d275521a7",
            "8d10e579084c468bb852261d4401fc8f",
            "681c036c77fa4fb8b1e1839250bf9542",
            "b3b1c2b64f044111bf67e2992ffff795",
            "e2b8bb24cf1f4b6a99e8eeb4be683a59",
            "42c86daa6b474871a6c6c80053c5f756",
            "4fc14082abd54d2e8dba67a822521878",
            "eafc4befbac44c71918638d27b053ad9",
            "581b6ee9cc5e4968badba8c075e7d6d6",
            "3e984abefa574eaba27a207689ff179a",
            "10d2b44a36ae461dba1381fb16a0c142",
            "473c6fa5d34e4bc2980fa1be8b3ece7c",
            "da8e6c32d9fc4ab9ba4ac46c82537727",
            "df8d7a43bc244bf7ab6995fc71ff40f3",
            "d87a9ca7e1494d9ba3c3a37011562d8d",
            "dee1a11e91144b0c998d834436214e3c",
            "4d89798970fd49a0ab1685cd85468e2a",
            "a75e68a8320341cd80c3ebe27b7403d9",
            "3aeedc7f3f49487390983959d542973d",
            "44dfc7a041044d0380d33eb2cc9507da",
            "cd5b295e15924fe8b444e4cb10952ad3",
            "39480546a5b34908913c04ce306ab238",
            "c93c9e10ab4544cfaa17afacc12bf53d",
            "6e3830fffe58464ebd18295b6eb8d12a",
            "e431bafdfb984e1cb7a946364eecf5a7",
            "0ac0fecbb5714249ac7c22f3f80c22d7",
            "176799dac8e3453090df73bf727cca2b",
            "40a492b033404e3e9ee38ff2ad5f8e12",
            "3a80c907ec2448958d505b55b6b776e3",
            "399d1437134744628b1c8dde2b28fcae",
            "5719738bd952479a9682480243bced4c",
            "bcc2df22ff3d497fb7c936a87d43b688",
            "c85040a2e21a476e9dfb3de9f135336b",
            "1450f023ddaf4223a2eea6bf614f0216",
            "7a2031509cbc460e81a54415283bd3ec",
            "577cbaeff6f64ce79383354dd03ba177",
            "891a90e0dbd849e1a5313326666eb27a",
            "e2936f01e1024bd2847921581ea89280",
            "b2a09488323c4fca99de67da8f3e7874",
            "3d6ab55495b3437c8b9cb72e76efbad3",
            "8999aeac28d14bea96b296582711b7aa",
            "faca2a1af8df4608af4df842a1ae51d9",
            "a8b57967dd0b4670b12e9559c91b2290",
            "37f47e9e84524104a629acad7731fab3",
            "c7d75ffcd052482fbc5691885ea0eea6",
            "3d5b5d44f13c4d49b2edefc244f00ed4",
            "0948bd9f145243e5be7f540fdfc832a8",
            "c1fd4a94193c4ca5b4c1a5659a27b9fa",
            "3d2ca1dde36542ccbb745461f8d28c69",
            "c0961b2994b24068ac5bb835c94bcb08",
            "a087913f7ae6417a96893c9c6831b933",
            "116d94d0d0234f4882cb6554f7f01da0",
            "18ec202698ac4bdeb5171e0d623d86e2",
            "5c4cdfbcc86741f08405691a85eb1ebe",
            "fa021d075b3644a89f8ac01496d122a2",
            "c1dce0e2aa3247e9ab3c1ba54f7c45a0",
            "afd64cc97e41460aa9b31dc04d209418",
            "7867168cdec2437fbd7f25ee24694244",
            "16e37601e66c41798840b2687b66bcb2",
            "ea60e0a816c74439ad87c2b79b5ddca9",
            "148c7b1e2f684c4086a5e79b76aa21de",
            "e501b095f6904a20b7a753e48e664b96",
            "dc7b4e59f87d4cd293e069ab4ac4c90f",
            "6a441c97c53f49b08b0fbbe56d91988f",
            "f3ef4653bc7f4c15a8f253f2f063f4c0",
            "3107eff34f7c47faaa063abd2be7ea5b",
            "6dff51b903b14bd8a340c6d5cb734579",
            "e098b31b335144f79fd9b4458fa2e05a",
            "650aaf803d634f41bcd71cf787a8d6f1",
            "9b3b4fdef1c44eb8ad04d942b0d2c9d9",
            "7d6e257d56a54c399cc512e58d308a9b",
            "945a46d1562545a1a0ac8ed8d57b8aef",
            "f5b3a40f4efa4738a86c2ce04fe119cf"
          ]
        },
        "id": "iDV_KqEMfk0F",
        "outputId": "e0eddb5b-7b7f-4abb-80e9-0390e04530b6"
      },
      "source": [
        "from sentence_transformers import SentenceTransformer\n",
        "model = SentenceTransformer('distiluse-base-multilingual-cased-v2')\n",
        "X_train = model.encode(captions, batch_size=32,show_progress_bar=True)\n",
        "y_train = label\n",
        "X_test=model.encode(captiontext)"
      ],
      "execution_count": null,
      "outputs": [
        {
          "output_type": "display_data",
          "data": {
            "application/vnd.jupyter.widget-view+json": {
              "model_id": "b970a27540504ed0bc084850c8b17df7",
              "version_major": 2,
              "version_minor": 0
            },
            "text/plain": [
              "HBox(children=(FloatProgress(value=0.0, description='Downloading', max=690.0, style=ProgressStyle(description_…"
            ]
          },
          "metadata": {
            "tags": []
          }
        },
        {
          "output_type": "stream",
          "text": [
            "\n"
          ],
          "name": "stdout"
        },
        {
          "output_type": "display_data",
          "data": {
            "application/vnd.jupyter.widget-view+json": {
              "model_id": "4d265497191048e3898241f58b2d7ccd",
              "version_major": 2,
              "version_minor": 0
            },
            "text/plain": [
              "HBox(children=(FloatProgress(value=0.0, description='Downloading', max=2830.0, style=ProgressStyle(description…"
            ]
          },
          "metadata": {
            "tags": []
          }
        },
        {
          "output_type": "stream",
          "text": [
            "\n"
          ],
          "name": "stdout"
        },
        {
          "output_type": "display_data",
          "data": {
            "application/vnd.jupyter.widget-view+json": {
              "model_id": "c2a54593722248f0b61697fbc0320108",
              "version_major": 2,
              "version_minor": 0
            },
            "text/plain": [
              "HBox(children=(FloatProgress(value=0.0, description='Downloading', max=610.0, style=ProgressStyle(description_…"
            ]
          },
          "metadata": {
            "tags": []
          }
        },
        {
          "output_type": "stream",
          "text": [
            "\n"
          ],
          "name": "stdout"
        },
        {
          "output_type": "display_data",
          "data": {
            "application/vnd.jupyter.widget-view+json": {
              "model_id": "0a83be5fe0d1417b890a9af8c9b8b9b4",
              "version_major": 2,
              "version_minor": 0
            },
            "text/plain": [
              "HBox(children=(FloatProgress(value=0.0, description='Downloading', max=122.0, style=ProgressStyle(description_…"
            ]
          },
          "metadata": {
            "tags": []
          }
        },
        {
          "output_type": "stream",
          "text": [
            "\n"
          ],
          "name": "stdout"
        },
        {
          "output_type": "display_data",
          "data": {
            "application/vnd.jupyter.widget-view+json": {
              "model_id": "3dfb66c0da444e979d5e8eb5c4e16263",
              "version_major": 2,
              "version_minor": 0
            },
            "text/plain": [
              "HBox(children=(FloatProgress(value=0.0, description='Downloading', max=341.0, style=ProgressStyle(description_…"
            ]
          },
          "metadata": {
            "tags": []
          }
        },
        {
          "output_type": "stream",
          "text": [
            "\n"
          ],
          "name": "stdout"
        },
        {
          "output_type": "display_data",
          "data": {
            "application/vnd.jupyter.widget-view+json": {
              "model_id": "4d3acc2ad3814c469481ff854e1878f6",
              "version_major": 2,
              "version_minor": 0
            },
            "text/plain": [
              "HBox(children=(FloatProgress(value=0.0, description='Downloading', max=538971577.0, style=ProgressStyle(descri…"
            ]
          },
          "metadata": {
            "tags": []
          }
        },
        {
          "output_type": "stream",
          "text": [
            "\n"
          ],
          "name": "stdout"
        },
        {
          "output_type": "display_data",
          "data": {
            "application/vnd.jupyter.widget-view+json": {
              "model_id": "8d10e579084c468bb852261d4401fc8f",
              "version_major": 2,
              "version_minor": 0
            },
            "text/plain": [
              "HBox(children=(FloatProgress(value=0.0, description='Downloading', max=53.0, style=ProgressStyle(description_w…"
            ]
          },
          "metadata": {
            "tags": []
          }
        },
        {
          "output_type": "stream",
          "text": [
            "\n"
          ],
          "name": "stdout"
        },
        {
          "output_type": "display_data",
          "data": {
            "application/vnd.jupyter.widget-view+json": {
              "model_id": "3e984abefa574eaba27a207689ff179a",
              "version_major": 2,
              "version_minor": 0
            },
            "text/plain": [
              "HBox(children=(FloatProgress(value=0.0, description='Downloading', max=112.0, style=ProgressStyle(description_…"
            ]
          },
          "metadata": {
            "tags": []
          }
        },
        {
          "output_type": "stream",
          "text": [
            "\n"
          ],
          "name": "stdout"
        },
        {
          "output_type": "display_data",
          "data": {
            "application/vnd.jupyter.widget-view+json": {
              "model_id": "a75e68a8320341cd80c3ebe27b7403d9",
              "version_major": 2,
              "version_minor": 0
            },
            "text/plain": [
              "HBox(children=(FloatProgress(value=0.0, description='Downloading', max=1961847.0, style=ProgressStyle(descript…"
            ]
          },
          "metadata": {
            "tags": []
          }
        },
        {
          "output_type": "stream",
          "text": [
            "\n"
          ],
          "name": "stdout"
        },
        {
          "output_type": "display_data",
          "data": {
            "application/vnd.jupyter.widget-view+json": {
              "model_id": "0ac0fecbb5714249ac7c22f3f80c22d7",
              "version_major": 2,
              "version_minor": 0
            },
            "text/plain": [
              "HBox(children=(FloatProgress(value=0.0, description='Downloading', max=531.0, style=ProgressStyle(description_…"
            ]
          },
          "metadata": {
            "tags": []
          }
        },
        {
          "output_type": "stream",
          "text": [
            "\n"
          ],
          "name": "stdout"
        },
        {
          "output_type": "display_data",
          "data": {
            "application/vnd.jupyter.widget-view+json": {
              "model_id": "1450f023ddaf4223a2eea6bf614f0216",
              "version_major": 2,
              "version_minor": 0
            },
            "text/plain": [
              "HBox(children=(FloatProgress(value=0.0, description='Downloading', max=995526.0, style=ProgressStyle(descripti…"
            ]
          },
          "metadata": {
            "tags": []
          }
        },
        {
          "output_type": "stream",
          "text": [
            "\n"
          ],
          "name": "stdout"
        },
        {
          "output_type": "display_data",
          "data": {
            "application/vnd.jupyter.widget-view+json": {
              "model_id": "faca2a1af8df4608af4df842a1ae51d9",
              "version_major": 2,
              "version_minor": 0
            },
            "text/plain": [
              "HBox(children=(FloatProgress(value=0.0, description='Downloading', max=190.0, style=ProgressStyle(description_…"
            ]
          },
          "metadata": {
            "tags": []
          }
        },
        {
          "output_type": "stream",
          "text": [
            "\n"
          ],
          "name": "stdout"
        },
        {
          "output_type": "display_data",
          "data": {
            "application/vnd.jupyter.widget-view+json": {
              "model_id": "c0961b2994b24068ac5bb835c94bcb08",
              "version_major": 2,
              "version_minor": 0
            },
            "text/plain": [
              "HBox(children=(FloatProgress(value=0.0, description='Downloading', max=114.0, style=ProgressStyle(description_…"
            ]
          },
          "metadata": {
            "tags": []
          }
        },
        {
          "output_type": "stream",
          "text": [
            "\n"
          ],
          "name": "stdout"
        },
        {
          "output_type": "display_data",
          "data": {
            "application/vnd.jupyter.widget-view+json": {
              "model_id": "7867168cdec2437fbd7f25ee24694244",
              "version_major": 2,
              "version_minor": 0
            },
            "text/plain": [
              "HBox(children=(FloatProgress(value=0.0, description='Downloading', max=1575975.0, style=ProgressStyle(descript…"
            ]
          },
          "metadata": {
            "tags": []
          }
        },
        {
          "output_type": "stream",
          "text": [
            "\n"
          ],
          "name": "stdout"
        },
        {
          "output_type": "display_data",
          "data": {
            "application/vnd.jupyter.widget-view+json": {
              "model_id": "3107eff34f7c47faaa063abd2be7ea5b",
              "version_major": 2,
              "version_minor": 0
            },
            "text/plain": [
              "HBox(children=(FloatProgress(value=0.0, description='Batches', max=72.0, style=ProgressStyle(description_width…"
            ]
          },
          "metadata": {
            "tags": []
          }
        },
        {
          "output_type": "stream",
          "text": [
            "\n"
          ],
          "name": "stdout"
        }
      ]
    },
    {
      "cell_type": "code",
      "metadata": {
        "colab": {
          "base_uri": "https://localhost:8080/"
        },
        "id": "VZtqt54Ufkwr",
        "outputId": "f4ce1581-479c-442a-a3fc-f29815b5a919"
      },
      "source": [
        "clf = RandomForestClassifier(n_estimators=1000,verbose=True, n_jobs=-1)\n",
        "#res = cross_validate(clf, X_train, y_train, cv=5,  return_train_score=True) \n",
        "#scores = cross_val_score(clf,X_train, y_train, cv=5)\n",
        "#print(\"Accuracy: %0.2f (+/- %0.2f)\" % (scores.mean(), scores.std()))\n",
        "clf.fit(X_train, y_train)\n",
        "pred = clf.predict(X_test)"
      ],
      "execution_count": null,
      "outputs": [
        {
          "output_type": "stream",
          "text": [
            "[Parallel(n_jobs=-1)]: Using backend ThreadingBackend with 2 concurrent workers.\n",
            "[Parallel(n_jobs=-1)]: Done  46 tasks      | elapsed:    1.2s\n",
            "[Parallel(n_jobs=-1)]: Done 196 tasks      | elapsed:    5.2s\n",
            "[Parallel(n_jobs=-1)]: Done 446 tasks      | elapsed:   11.9s\n",
            "[Parallel(n_jobs=-1)]: Done 796 tasks      | elapsed:   21.1s\n",
            "[Parallel(n_jobs=-1)]: Done 1000 out of 1000 | elapsed:   26.5s finished\n",
            "[Parallel(n_jobs=2)]: Using backend ThreadingBackend with 2 concurrent workers.\n",
            "[Parallel(n_jobs=2)]: Done  46 tasks      | elapsed:    0.0s\n",
            "[Parallel(n_jobs=2)]: Done 196 tasks      | elapsed:    0.1s\n",
            "[Parallel(n_jobs=2)]: Done 446 tasks      | elapsed:    0.2s\n",
            "[Parallel(n_jobs=2)]: Done 796 tasks      | elapsed:    0.3s\n",
            "[Parallel(n_jobs=2)]: Done 1000 out of 1000 | elapsed:    0.4s finished\n"
          ],
          "name": "stderr"
        }
      ]
    },
    {
      "cell_type": "code",
      "metadata": {
        "colab": {
          "base_uri": "https://localhost:8080/"
        },
        "id": "yGX4hD1clIuu",
        "outputId": "caacba17-bd6b-4495-8f14-31f039f2cc6e"
      },
      "source": [
        "print(classification_report(y_test, pred))"
      ],
      "execution_count": null,
      "outputs": [
        {
          "output_type": "stream",
          "text": [
            "              precision    recall  f1-score   support\n",
            "\n",
            "   Not_troll       0.00      0.00      0.00         0\n",
            "       label       0.00      0.00      0.00         1\n",
            "   not_troll       0.00      0.00      0.00       272\n",
            "       troll       0.61      0.83      0.70       395\n",
            "\n",
            "    accuracy                           0.49       668\n",
            "   macro avg       0.15      0.21      0.18       668\n",
            "weighted avg       0.36      0.49      0.42       668\n",
            "\n"
          ],
          "name": "stdout"
        },
        {
          "output_type": "stream",
          "text": [
            "/usr/local/lib/python3.7/dist-packages/sklearn/metrics/_classification.py:1272: UndefinedMetricWarning: Precision and F-score are ill-defined and being set to 0.0 in labels with no predicted samples. Use `zero_division` parameter to control this behavior.\n",
            "  _warn_prf(average, modifier, msg_start, len(result))\n",
            "/usr/local/lib/python3.7/dist-packages/sklearn/metrics/_classification.py:1272: UndefinedMetricWarning: Recall and F-score are ill-defined and being set to 0.0 in labels with no true samples. Use `zero_division` parameter to control this behavior.\n",
            "  _warn_prf(average, modifier, msg_start, len(result))\n"
          ],
          "name": "stderr"
        }
      ]
    },
    {
      "cell_type": "code",
      "metadata": {
        "colab": {
          "base_uri": "https://localhost:8080/"
        },
        "id": "x0WHwQ-0lIrZ",
        "outputId": "9c07bb4f-bd67-4b8b-f1f7-3351377a661e"
      },
      "source": [
        "clf = MLPClassifier(verbose=True, hidden_layer_sizes=(512))\n",
        "#res = cross_validate(clf, X_train, y_train, cv=5,  return_train_score=True) \n",
        "#scores = cross_val_score(clf,X_train, y_train, cv=5)\n",
        "#print(\"Accuracy: %0.2f (+/- %0.2f)\" % (scores.mean(), scores.std()))\n",
        "clf.fit(X_train, y_train)\n",
        "pred = clf.predict(X_test)"
      ],
      "execution_count": null,
      "outputs": [
        {
          "output_type": "stream",
          "text": [
            "Iteration 1, loss = 0.60292002\n",
            "Iteration 2, loss = 0.42334607\n",
            "Iteration 3, loss = 0.31386541\n",
            "Iteration 4, loss = 0.26558863\n",
            "Iteration 5, loss = 0.24157464\n",
            "Iteration 6, loss = 0.22702076\n",
            "Iteration 7, loss = 0.21448345\n",
            "Iteration 8, loss = 0.20489843\n",
            "Iteration 9, loss = 0.19713216\n",
            "Iteration 10, loss = 0.18961994\n",
            "Iteration 11, loss = 0.18168985\n",
            "Iteration 12, loss = 0.17451186\n",
            "Iteration 13, loss = 0.16935319\n",
            "Iteration 14, loss = 0.16312295\n",
            "Iteration 15, loss = 0.15742523\n",
            "Iteration 16, loss = 0.15326217\n",
            "Iteration 17, loss = 0.14950148\n",
            "Iteration 18, loss = 0.14302085\n",
            "Iteration 19, loss = 0.13770784\n",
            "Iteration 20, loss = 0.13411619\n",
            "Iteration 21, loss = 0.12945416\n",
            "Iteration 22, loss = 0.12566307\n",
            "Iteration 23, loss = 0.12194852\n",
            "Iteration 24, loss = 0.11882976\n",
            "Iteration 25, loss = 0.11612840\n",
            "Iteration 26, loss = 0.11262953\n",
            "Iteration 27, loss = 0.11088403\n",
            "Iteration 28, loss = 0.10640677\n",
            "Iteration 29, loss = 0.10389933\n",
            "Iteration 30, loss = 0.10387726\n",
            "Iteration 31, loss = 0.09912292\n",
            "Iteration 32, loss = 0.09592266\n",
            "Iteration 33, loss = 0.09388539\n",
            "Iteration 34, loss = 0.09164744\n",
            "Iteration 35, loss = 0.08906728\n",
            "Iteration 36, loss = 0.08776350\n",
            "Iteration 37, loss = 0.08553819\n",
            "Iteration 38, loss = 0.08365945\n",
            "Iteration 39, loss = 0.08144920\n",
            "Iteration 40, loss = 0.08089485\n",
            "Iteration 41, loss = 0.07757256\n",
            "Iteration 42, loss = 0.07809067\n",
            "Iteration 43, loss = 0.07657955\n",
            "Iteration 44, loss = 0.07372653\n",
            "Iteration 45, loss = 0.07281177\n",
            "Iteration 46, loss = 0.07238529\n",
            "Iteration 47, loss = 0.06978416\n",
            "Iteration 48, loss = 0.06820466\n",
            "Iteration 49, loss = 0.06731514\n",
            "Iteration 50, loss = 0.06565790\n",
            "Iteration 51, loss = 0.06409076\n",
            "Iteration 52, loss = 0.06271612\n",
            "Iteration 53, loss = 0.06208705\n",
            "Iteration 54, loss = 0.06062511\n",
            "Iteration 55, loss = 0.06064121\n",
            "Iteration 56, loss = 0.05939917\n",
            "Iteration 57, loss = 0.05745119\n",
            "Iteration 58, loss = 0.05600667\n",
            "Iteration 59, loss = 0.05546361\n",
            "Iteration 60, loss = 0.05410966\n",
            "Iteration 61, loss = 0.05591310\n",
            "Iteration 62, loss = 0.05303570\n",
            "Iteration 63, loss = 0.05187131\n",
            "Iteration 64, loss = 0.05116621\n",
            "Iteration 65, loss = 0.05106666\n",
            "Iteration 66, loss = 0.05273708\n",
            "Iteration 67, loss = 0.04908152\n",
            "Iteration 68, loss = 0.04774895\n",
            "Iteration 69, loss = 0.04835115\n",
            "Iteration 70, loss = 0.04589439\n",
            "Iteration 71, loss = 0.04682500\n",
            "Iteration 72, loss = 0.04564496\n",
            "Iteration 73, loss = 0.04415383\n",
            "Iteration 74, loss = 0.04467124\n",
            "Iteration 75, loss = 0.04677735\n",
            "Iteration 76, loss = 0.04539246\n",
            "Iteration 77, loss = 0.04442827\n",
            "Iteration 78, loss = 0.04159305\n",
            "Iteration 79, loss = 0.04111274\n",
            "Iteration 80, loss = 0.04053495\n",
            "Iteration 81, loss = 0.04067211\n",
            "Iteration 82, loss = 0.04081108\n",
            "Iteration 83, loss = 0.03846062\n",
            "Iteration 84, loss = 0.03861414\n",
            "Iteration 85, loss = 0.03821238\n",
            "Iteration 86, loss = 0.03889597\n",
            "Iteration 87, loss = 0.03750836\n",
            "Iteration 88, loss = 0.03756140\n",
            "Iteration 89, loss = 0.03670967\n",
            "Iteration 90, loss = 0.03631555\n",
            "Iteration 91, loss = 0.03736525\n",
            "Iteration 92, loss = 0.03528588\n",
            "Iteration 93, loss = 0.03656318\n",
            "Iteration 94, loss = 0.03562076\n",
            "Iteration 95, loss = 0.03429399\n",
            "Iteration 96, loss = 0.03403638\n",
            "Iteration 97, loss = 0.03343245\n",
            "Iteration 98, loss = 0.03272977\n",
            "Iteration 99, loss = 0.03225495\n",
            "Iteration 100, loss = 0.03302725\n",
            "Iteration 101, loss = 0.03163274\n",
            "Iteration 102, loss = 0.03428853\n",
            "Iteration 103, loss = 0.03339325\n",
            "Iteration 104, loss = 0.03218640\n",
            "Iteration 105, loss = 0.03296061\n",
            "Iteration 106, loss = 0.03428242\n",
            "Iteration 107, loss = 0.03316122\n",
            "Iteration 108, loss = 0.02985884\n",
            "Iteration 109, loss = 0.02998192\n",
            "Iteration 110, loss = 0.02951276\n",
            "Iteration 111, loss = 0.02972394\n",
            "Iteration 112, loss = 0.03062058\n",
            "Iteration 113, loss = 0.02888599\n",
            "Iteration 114, loss = 0.02833577\n",
            "Iteration 115, loss = 0.02783813\n",
            "Iteration 116, loss = 0.03020324\n",
            "Iteration 117, loss = 0.02858788\n",
            "Iteration 118, loss = 0.02880857\n",
            "Iteration 119, loss = 0.02714555\n",
            "Iteration 120, loss = 0.02726161\n",
            "Iteration 121, loss = 0.02754627\n",
            "Iteration 122, loss = 0.02682816\n",
            "Iteration 123, loss = 0.02717194\n",
            "Iteration 124, loss = 0.02652079\n",
            "Iteration 125, loss = 0.02644413\n",
            "Iteration 126, loss = 0.02638630\n",
            "Iteration 127, loss = 0.02637332\n",
            "Iteration 128, loss = 0.02633280\n",
            "Iteration 129, loss = 0.02674207\n",
            "Iteration 130, loss = 0.02610197\n",
            "Iteration 131, loss = 0.02521403\n",
            "Iteration 132, loss = 0.02512087\n",
            "Iteration 133, loss = 0.02555612\n",
            "Iteration 134, loss = 0.02526137\n",
            "Iteration 135, loss = 0.02549227\n",
            "Iteration 136, loss = 0.02520611\n",
            "Iteration 137, loss = 0.02517341\n",
            "Iteration 138, loss = 0.02627326\n",
            "Iteration 139, loss = 0.02423105\n",
            "Iteration 140, loss = 0.02514403\n",
            "Iteration 141, loss = 0.02488025\n",
            "Iteration 142, loss = 0.02513370\n",
            "Iteration 143, loss = 0.02575172\n",
            "Iteration 144, loss = 0.02403032\n",
            "Iteration 145, loss = 0.02411853\n",
            "Iteration 146, loss = 0.02832396\n",
            "Iteration 147, loss = 0.02296343\n",
            "Iteration 148, loss = 0.02477335\n",
            "Iteration 149, loss = 0.02335784\n",
            "Iteration 150, loss = 0.02323064\n",
            "Iteration 151, loss = 0.02317686\n",
            "Iteration 152, loss = 0.02458615\n",
            "Iteration 153, loss = 0.02399203\n",
            "Iteration 154, loss = 0.02423837\n",
            "Iteration 155, loss = 0.02264258\n",
            "Iteration 156, loss = 0.02402501\n",
            "Iteration 157, loss = 0.02415382\n",
            "Iteration 158, loss = 0.02385724\n",
            "Iteration 159, loss = 0.02503386\n",
            "Iteration 160, loss = 0.02320641\n",
            "Iteration 161, loss = 0.02497232\n",
            "Iteration 162, loss = 0.02639976\n",
            "Iteration 163, loss = 0.02602245\n",
            "Iteration 164, loss = 0.02313636\n",
            "Iteration 165, loss = 0.02507184\n",
            "Iteration 166, loss = 0.02226359\n",
            "Iteration 167, loss = 0.02240750\n",
            "Iteration 168, loss = 0.02287798\n",
            "Iteration 169, loss = 0.02328439\n",
            "Iteration 170, loss = 0.02284177\n",
            "Iteration 171, loss = 0.02300427\n",
            "Iteration 172, loss = 0.02207191\n",
            "Iteration 173, loss = 0.02224162\n",
            "Iteration 174, loss = 0.02496154\n",
            "Iteration 175, loss = 0.02356630\n",
            "Iteration 176, loss = 0.02498003\n",
            "Iteration 177, loss = 0.02447027\n",
            "Iteration 178, loss = 0.02815233\n",
            "Iteration 179, loss = 0.02890391\n",
            "Iteration 180, loss = 0.02376523\n",
            "Iteration 181, loss = 0.02205698\n",
            "Iteration 182, loss = 0.02351004\n",
            "Iteration 183, loss = 0.02294572\n",
            "Training loss did not improve more than tol=0.000100 for 10 consecutive epochs. Stopping.\n"
          ],
          "name": "stdout"
        }
      ]
    },
    {
      "cell_type": "code",
      "metadata": {
        "colab": {
          "base_uri": "https://localhost:8080/"
        },
        "id": "c0e8rs28lInq",
        "outputId": "1c11465b-b309-4b14-8f24-f2a84433262f"
      },
      "source": [
        "print(classification_report(y_test, pred))"
      ],
      "execution_count": null,
      "outputs": [
        {
          "output_type": "stream",
          "text": [
            "              precision    recall  f1-score   support\n",
            "\n",
            "   Not_troll       0.00      0.00      0.00         0\n",
            "       label       0.00      0.00      0.00         1\n",
            "   not_troll       0.00      0.00      0.00       272\n",
            "       troll       0.61      0.78      0.69       395\n",
            "\n",
            "    accuracy                           0.46       668\n",
            "   macro avg       0.15      0.19      0.17       668\n",
            "weighted avg       0.36      0.46      0.41       668\n",
            "\n"
          ],
          "name": "stdout"
        },
        {
          "output_type": "stream",
          "text": [
            "/usr/local/lib/python3.7/dist-packages/sklearn/metrics/_classification.py:1272: UndefinedMetricWarning: Precision and F-score are ill-defined and being set to 0.0 in labels with no predicted samples. Use `zero_division` parameter to control this behavior.\n",
            "  _warn_prf(average, modifier, msg_start, len(result))\n",
            "/usr/local/lib/python3.7/dist-packages/sklearn/metrics/_classification.py:1272: UndefinedMetricWarning: Recall and F-score are ill-defined and being set to 0.0 in labels with no true samples. Use `zero_division` parameter to control this behavior.\n",
            "  _warn_prf(average, modifier, msg_start, len(result))\n"
          ],
          "name": "stderr"
        }
      ]
    },
    {
      "cell_type": "code",
      "metadata": {
        "id": "AVBlNxFDlIkS"
      },
      "source": [
        "clf = KNeighborsClassifier(n_neighbors=3)\n",
        "#res = cross_validate(clf, X_train, y_train, cv=5,  return_train_score=True) \n",
        "#scores = cross_val_score(clf,X_train, y_train, cv=5)\n",
        "#print(\"Accuracy: %0.2f (+/- %0.2f)\" % (scores.mean(), scores.std()))\n",
        "clf.fit(X_train, y_train)\n",
        "pred = clf.predict(X_test)"
      ],
      "execution_count": null,
      "outputs": []
    },
    {
      "cell_type": "code",
      "metadata": {
        "colab": {
          "base_uri": "https://localhost:8080/"
        },
        "id": "STm5rkPmlIgn",
        "outputId": "82784f9d-cc90-496a-d5be-09a3e00e87be"
      },
      "source": [
        "print(classification_report(y_test, pred))"
      ],
      "execution_count": null,
      "outputs": [
        {
          "output_type": "stream",
          "text": [
            "              precision    recall  f1-score   support\n",
            "\n",
            "   Not_troll       0.00      0.00      0.00         0\n",
            "       label       0.00      0.00      0.00         1\n",
            "   not_troll       0.00      0.00      0.00       272\n",
            "       troll       0.59      0.44      0.51       395\n",
            "\n",
            "    accuracy                           0.26       668\n",
            "   macro avg       0.15      0.11      0.13       668\n",
            "weighted avg       0.35      0.26      0.30       668\n",
            "\n"
          ],
          "name": "stdout"
        },
        {
          "output_type": "stream",
          "text": [
            "/usr/local/lib/python3.7/dist-packages/sklearn/metrics/_classification.py:1272: UndefinedMetricWarning: Precision and F-score are ill-defined and being set to 0.0 in labels with no predicted samples. Use `zero_division` parameter to control this behavior.\n",
            "  _warn_prf(average, modifier, msg_start, len(result))\n",
            "/usr/local/lib/python3.7/dist-packages/sklearn/metrics/_classification.py:1272: UndefinedMetricWarning: Recall and F-score are ill-defined and being set to 0.0 in labels with no true samples. Use `zero_division` parameter to control this behavior.\n",
            "  _warn_prf(average, modifier, msg_start, len(result))\n"
          ],
          "name": "stderr"
        }
      ]
    },
    {
      "cell_type": "code",
      "metadata": {
        "id": "S1U-UAXrVa57"
      },
      "source": [
        ""
      ],
      "execution_count": null,
      "outputs": []
    },
    {
      "cell_type": "code",
      "metadata": {
        "id": "DG35GNvtlIch"
      },
      "source": [
        "clf = LogisticRegression(random_state=0)\n",
        "#res = cross_validate(clf, X_train, y_train, cv=5,  return_train_score=True) \n",
        "#scores = cross_val_score(clf,X_train, y_train, cv=5)\n",
        "#print(\"Accuracy: %0.2f (+/- %0.2f)\" % (scores.mean(), scores.std()))\n",
        "clf.fit(X_train, y_train)\n",
        "pred = clf.predict(X_test)"
      ],
      "execution_count": null,
      "outputs": []
    },
    {
      "cell_type": "code",
      "metadata": {
        "colab": {
          "base_uri": "https://localhost:8080/"
        },
        "id": "kRZOXNP1lIYb",
        "outputId": "20bedb5a-6dcb-499f-c78b-b2f84bc729ae"
      },
      "source": [
        "print(classification_report(y_test, pred))"
      ],
      "execution_count": null,
      "outputs": [
        {
          "output_type": "stream",
          "text": [
            "              precision    recall  f1-score   support\n",
            "\n",
            "   Not_troll       0.00      0.00      0.00         0\n",
            "       label       0.00      0.00      0.00         1\n",
            "   not_troll       0.00      0.00      0.00       272\n",
            "       troll       0.62      0.73      0.67       395\n",
            "\n",
            "    accuracy                           0.43       668\n",
            "   macro avg       0.16      0.18      0.17       668\n",
            "weighted avg       0.37      0.43      0.40       668\n",
            "\n"
          ],
          "name": "stdout"
        },
        {
          "output_type": "stream",
          "text": [
            "/usr/local/lib/python3.7/dist-packages/sklearn/metrics/_classification.py:1272: UndefinedMetricWarning: Precision and F-score are ill-defined and being set to 0.0 in labels with no predicted samples. Use `zero_division` parameter to control this behavior.\n",
            "  _warn_prf(average, modifier, msg_start, len(result))\n",
            "/usr/local/lib/python3.7/dist-packages/sklearn/metrics/_classification.py:1272: UndefinedMetricWarning: Recall and F-score are ill-defined and being set to 0.0 in labels with no true samples. Use `zero_division` parameter to control this behavior.\n",
            "  _warn_prf(average, modifier, msg_start, len(result))\n"
          ],
          "name": "stderr"
        }
      ]
    },
    {
      "cell_type": "code",
      "metadata": {
        "id": "m7mTWeiUmP-M"
      },
      "source": [
        "clf=DecisionTreeClassifier(criterion='entropy',random_state=0)\n",
        "#res = cross_validate(clf, X_train, y_train, cv=5,  return_train_score=True) \n",
        "#scores = cross_val_score(clf,X_train, y_train, cv=5)\n",
        "#print(\"Accuracy: %0.2f (+/- %0.2f)\" % (scores.mean(), scores.std()))\n",
        "clf.fit(X_train, y_train)\n",
        "pred = clf.predict(X_test)"
      ],
      "execution_count": null,
      "outputs": []
    },
    {
      "cell_type": "code",
      "metadata": {
        "colab": {
          "base_uri": "https://localhost:8080/"
        },
        "id": "I0MkNc8JmP5Q",
        "outputId": "6ab3c10e-fdf2-45c6-9456-23db9b139d5b"
      },
      "source": [
        "print(classification_report(y_test, pred))"
      ],
      "execution_count": null,
      "outputs": [
        {
          "output_type": "stream",
          "text": [
            "              precision    recall  f1-score   support\n",
            "\n",
            "   Not_troll       0.00      0.00      0.00         0\n",
            "       label       0.00      0.00      0.00         1\n",
            "   not_troll       0.00      0.00      0.00       272\n",
            "       troll       0.60      0.71      0.65       395\n",
            "\n",
            "    accuracy                           0.42       668\n",
            "   macro avg       0.15      0.18      0.16       668\n",
            "weighted avg       0.35      0.42      0.38       668\n",
            "\n"
          ],
          "name": "stdout"
        },
        {
          "output_type": "stream",
          "text": [
            "/usr/local/lib/python3.7/dist-packages/sklearn/metrics/_classification.py:1272: UndefinedMetricWarning: Precision and F-score are ill-defined and being set to 0.0 in labels with no predicted samples. Use `zero_division` parameter to control this behavior.\n",
            "  _warn_prf(average, modifier, msg_start, len(result))\n",
            "/usr/local/lib/python3.7/dist-packages/sklearn/metrics/_classification.py:1272: UndefinedMetricWarning: Recall and F-score are ill-defined and being set to 0.0 in labels with no true samples. Use `zero_division` parameter to control this behavior.\n",
            "  _warn_prf(average, modifier, msg_start, len(result))\n"
          ],
          "name": "stderr"
        }
      ]
    },
    {
      "cell_type": "code",
      "metadata": {
        "id": "W2h7_WGNmSr2"
      },
      "source": [
        "clf=SVC(kernel='linear',random_state=0)\n",
        "#res = cross_validate(clf, X_train, y_train, cv=5,  return_train_score=True) \n",
        "#scores = cross_val_score(clf,X_train, y_train, cv=5)\n",
        "#print(\"Accuracy: %0.2f (+/- %0.2f)\" % (scores.mean(), scores.std()))\n",
        "clf.fit(X_train, y_train)\n",
        "pred = clf.predict(X_test)"
      ],
      "execution_count": null,
      "outputs": []
    },
    {
      "cell_type": "code",
      "metadata": {
        "colab": {
          "base_uri": "https://localhost:8080/"
        },
        "id": "mjLmKF6_mSoy",
        "outputId": "64f85339-577c-4f9b-d4f7-eb10391f641d"
      },
      "source": [
        "print(classification_report(y_test, pred))"
      ],
      "execution_count": null,
      "outputs": [
        {
          "output_type": "stream",
          "text": [
            "              precision    recall  f1-score   support\n",
            "\n",
            "   Not_troll       0.00      0.00      0.00         0\n",
            "       label       0.00      0.00      0.00         1\n",
            "   not_troll       0.00      0.00      0.00       272\n",
            "       troll       0.62      0.73      0.67       395\n",
            "\n",
            "    accuracy                           0.43       668\n",
            "   macro avg       0.15      0.18      0.17       668\n",
            "weighted avg       0.36      0.43      0.40       668\n",
            "\n"
          ],
          "name": "stdout"
        },
        {
          "output_type": "stream",
          "text": [
            "/usr/local/lib/python3.7/dist-packages/sklearn/metrics/_classification.py:1272: UndefinedMetricWarning: Precision and F-score are ill-defined and being set to 0.0 in labels with no predicted samples. Use `zero_division` parameter to control this behavior.\n",
            "  _warn_prf(average, modifier, msg_start, len(result))\n",
            "/usr/local/lib/python3.7/dist-packages/sklearn/metrics/_classification.py:1272: UndefinedMetricWarning: Recall and F-score are ill-defined and being set to 0.0 in labels with no true samples. Use `zero_division` parameter to control this behavior.\n",
            "  _warn_prf(average, modifier, msg_start, len(result))\n"
          ],
          "name": "stderr"
        }
      ]
    },
    {
      "cell_type": "code",
      "metadata": {
        "id": "onTGLwoRmSXR"
      },
      "source": [
        "clf=XGBClassifier()\n",
        "#res = cross_validate(clf, X_train, y_train, cv=5,  return_train_score=True) \n",
        "#scores = cross_val_score(clf,X_train, y_train, cv=5)\n",
        "#print(\"Accuracy: %0.2f (+/- %0.2f)\" % (scores.mean(), scores.std()))\n",
        "clf.fit(X_train, y_train)\n",
        "pred = clf.predict(X_test)"
      ],
      "execution_count": null,
      "outputs": []
    },
    {
      "cell_type": "code",
      "metadata": {
        "colab": {
          "base_uri": "https://localhost:8080/"
        },
        "id": "oRhQDepMmSIC",
        "outputId": "4aa71c13-9a3a-4578-c5d2-f42ae7e04db5"
      },
      "source": [
        "print(classification_report(y_test, pred))"
      ],
      "execution_count": null,
      "outputs": [
        {
          "output_type": "stream",
          "text": [
            "              precision    recall  f1-score   support\n",
            "\n",
            "   Not_troll       0.00      0.00      0.00         0\n",
            "       label       0.00      0.00      0.00         1\n",
            "   not_troll       0.00      0.00      0.00       272\n",
            "       troll       0.61      0.80      0.69       395\n",
            "\n",
            "    accuracy                           0.47       668\n",
            "   macro avg       0.15      0.20      0.17       668\n",
            "weighted avg       0.36      0.47      0.41       668\n",
            "\n"
          ],
          "name": "stdout"
        },
        {
          "output_type": "stream",
          "text": [
            "/usr/local/lib/python3.7/dist-packages/sklearn/metrics/_classification.py:1272: UndefinedMetricWarning: Precision and F-score are ill-defined and being set to 0.0 in labels with no predicted samples. Use `zero_division` parameter to control this behavior.\n",
            "  _warn_prf(average, modifier, msg_start, len(result))\n",
            "/usr/local/lib/python3.7/dist-packages/sklearn/metrics/_classification.py:1272: UndefinedMetricWarning: Recall and F-score are ill-defined and being set to 0.0 in labels with no true samples. Use `zero_division` parameter to control this behavior.\n",
            "  _warn_prf(average, modifier, msg_start, len(result))\n"
          ],
          "name": "stderr"
        }
      ]
    },
    {
      "cell_type": "code",
      "metadata": {
        "colab": {
          "base_uri": "https://localhost:8080/",
          "height": 669,
          "referenced_widgets": [
            "ece03dd5224045e6bb8616ddeb6b5c3a",
            "1d71e4fbb49a4ee4bb9ef69f7546d112",
            "3bcb0a7054bf43d69f40a40cdec5e1c1",
            "2fb7ef5673674316b5e16e8d1e5b3d65",
            "b0d167d0d0ba4a3ca76c8166ad7d4db2",
            "387077f8b581493c9ead080757a146bf",
            "390b8facbce547d58507ecdf76c46575",
            "754bf20c83204b2c83a092d2f509f442",
            "b72276b85ec74d1c993d918ca532f87a",
            "4d25985c11684d84ae3c9ed1b1d76875",
            "43be2a2cf4e341d69130ea92cd16fb9b",
            "144d9f6c6da44388b395d42aaeab9c75",
            "cc2c4b7e8eb54eaf93a34bc9aa556049",
            "4b7c93bf8d144d2c9b2064c24d84d812",
            "8dad3cfb28c249da9094c62a87b92332",
            "632f7e28f3214e8fb73571fab536e17d",
            "db89fcb67e92448189d0e1da3ce6b12f",
            "2a30c5fe977649f8985e1779c350bb32",
            "5c5f07e6240a4cb6a9a2a5370abae8aa",
            "bf5e4024341e4948af63845340f4e47f",
            "83922b84e340467288e9b6aac889a345",
            "7cec98c8b86245f7b2b54d9dc9b27a0a",
            "ca9918a8b308412ca0c77c6393dda5c1",
            "feda76251ed94a01b0aee84f496e4b53",
            "cef39afc8f774ed486b705e9adc1dd4c",
            "7a3e009fea6d4c1098e7a4b2f4be589a",
            "1fe41f335c1c4930b60e541361d3ec34",
            "c1bea326eab640a48694a53750e63909",
            "b726bf155a2f4e769396f14a680bc813",
            "8d0dd6e0c0b343598d34aa9aa407069e",
            "ddf7c1177eb349e7a5eb9eaa35d798cc",
            "4d2ce5ffc7184a1e84c5e065ad19a5e6",
            "9937bb8db1f54c138bdcf99957b9b1c5",
            "a56daee541a943039261babd774f07b4",
            "4f614fd1ed4c432ab648465460b6e39a",
            "60aab5cd6608426da5759e6b5ac94a0d",
            "0a63bde1b41748b6ad107a32d91c37c1",
            "e89bedffbe8b41288b9f90a71bbcc7ab",
            "24b26a0e89944ec2a4b58fdec8db84ce",
            "93236b06bb3c405da22187113c1284bd",
            "fc658a1201634600aaa0a2b5f9c2d05a",
            "8000a9e1157c45cea7cc4b0d2c47e18a",
            "1a8f04be232c497ba860a7d6a4e6f816",
            "9a6b6cbbb189463a9c1c9674fd092567",
            "e9ef7f0bde9e4932bd2aaaef78ec2dda",
            "ea138ffd1e754eb0a8bb02c8ae3d95e0",
            "06ecd49e391b4ad5aaa59ee8de2d5673",
            "c5eba2aa3d364f17868028471658fbbf",
            "966fdff91ea84ce691e08c17bd5d02c1",
            "ad9dec866a3d4670afaf5c62175f2298",
            "54a72a7fa1ba4d3f85308f59ec885709",
            "f8e3a86212804139807528c36f3d1a61",
            "3889c4e4a267472d8c52752089f29b81",
            "54d9575a246148d2a2adb14c7bbd676e",
            "a52d0da391bf4aa291dd07498f7c1f9a",
            "ee2d61fb5b88460ea4faf1e1e74cfd9b",
            "14a8de2bfb4b4e018131185908b9b311",
            "4b327d7fcb234203809e6fdb2742bbe1",
            "3a5b42e6c90e453ca2153e1dc1049b43",
            "73164914a12f4f27bea42dcc645930c6",
            "fe5eba4967a14314ad7e977b1488a530",
            "177ec1c6a7114086b21c972cf4608e53",
            "bf5620a30877478694aada5f5b7a0763",
            "49f8f8e4fffd443a81e58b07d0b05343",
            "cd29a05283bf41e1b889a58aff47081d",
            "d752151eaa3c40d691ad40da7ead4805",
            "005788e870a34310a31ebb850bad42a8",
            "121022c46f01490d94616fb1145db31d",
            "fa5ffbbf211f4942a8e07c7679a996d6",
            "f020b5f8663f4f91a22c0a7d27e19e98",
            "2cf809bcdeda49e9b5d505944da67b0b",
            "e8c6108831c64d4981067b98464a2752",
            "dc69774f7dcf49cb809de0af0f683a0d",
            "b6315c1490254323b2e811b99bbe3426",
            "a78e1e874289491ab621afafc368c744",
            "876f0b262807425abde9bc6d63cc0185",
            "8199d23c74db41dc96ccd66e2a52fefe",
            "3e3aaae60e0e457bafae38195a3786dc",
            "48317672ac444a729944e002742443c9",
            "72c72f366ebe4e01b1dc5adcc96f78d8",
            "7fe07f1c903a405aac76a7c9c15a4c0c",
            "eb698ddcf1024e79b2059c6ba9c7e40b",
            "ff7631d5dd3e4344a904e133a4e3ef4e",
            "f1c2386037d54c31bcddd2c3710b34c4",
            "e98f1b32521d423da5acfc773128c510",
            "857fe3389ae74730b1dc302f65e07270",
            "2e0c32cb351140148b3e9196656c88a1",
            "aa8d3f9c4a4847f3b9eff0a18db988fb",
            "3be464de54314a279341f7dafaa5c117",
            "8520466ecee5459286c38e55b87c4286",
            "0e8a4b4ab1fb488a961614ab4cea26d2",
            "bcdc315146984a2986416971684d4075",
            "8560b6c6adc54f4999c299ca9bee6526",
            "f5ea65af9bc546dfaae6aa769368dd1b",
            "2deda8f44dee48f59c65d25feb181f12",
            "af1f66b57d764b00a63b4b5cc7a3ba34",
            "b41a3b3552074c2e885203adf9484715",
            "142766f083224d308ce02e9574f7cab7",
            "d2cea178920d4ca1bbfb69f319a025f5",
            "7a4cf07fd1a04e03b405e114cdb15546",
            "2aced29289fa44c19f20c77b37321c03",
            "5d6466b678a549378be70428a5d2a7ec",
            "e0084389348a40f3892356644af7fda7",
            "3f685d4c7de342628e50fd3a3d23ab31"
          ]
        },
        "id": "AhwG_JyJk-RT",
        "outputId": "49ac11a2-8baa-4c8d-fb3f-f5ee2c939e8c"
      },
      "source": [
        "from sentence_transformers import SentenceTransformer\n",
        "model = SentenceTransformer('paraphrase-xlm-r-multilingual-v1')\n",
        "X_train = model.encode(captions, batch_size=32,show_progress_bar=True)\n",
        "y_train = label\n",
        "X_test=model.encode(captiontext)"
      ],
      "execution_count": null,
      "outputs": [
        {
          "output_type": "display_data",
          "data": {
            "application/vnd.jupyter.widget-view+json": {
              "model_id": "ece03dd5224045e6bb8616ddeb6b5c3a",
              "version_major": 2,
              "version_minor": 0
            },
            "text/plain": [
              "HBox(children=(FloatProgress(value=0.0, description='Downloading', max=345.0, style=ProgressStyle(description_…"
            ]
          },
          "metadata": {
            "tags": []
          }
        },
        {
          "output_type": "stream",
          "text": [
            "\n"
          ],
          "name": "stdout"
        },
        {
          "output_type": "display_data",
          "data": {
            "application/vnd.jupyter.widget-view+json": {
              "model_id": "b72276b85ec74d1c993d918ca532f87a",
              "version_major": 2,
              "version_minor": 0
            },
            "text/plain": [
              "HBox(children=(FloatProgress(value=0.0, description='Downloading', max=3724.0, style=ProgressStyle(description…"
            ]
          },
          "metadata": {
            "tags": []
          }
        },
        {
          "output_type": "stream",
          "text": [
            "\n"
          ],
          "name": "stdout"
        },
        {
          "output_type": "display_data",
          "data": {
            "application/vnd.jupyter.widget-view+json": {
              "model_id": "db89fcb67e92448189d0e1da3ce6b12f",
              "version_major": 2,
              "version_minor": 0
            },
            "text/plain": [
              "HBox(children=(FloatProgress(value=0.0, description='Downloading', max=718.0, style=ProgressStyle(description_…"
            ]
          },
          "metadata": {
            "tags": []
          }
        },
        {
          "output_type": "stream",
          "text": [
            "\n"
          ],
          "name": "stdout"
        },
        {
          "output_type": "display_data",
          "data": {
            "application/vnd.jupyter.widget-view+json": {
              "model_id": "cef39afc8f774ed486b705e9adc1dd4c",
              "version_major": 2,
              "version_minor": 0
            },
            "text/plain": [
              "HBox(children=(FloatProgress(value=0.0, description='Downloading', max=122.0, style=ProgressStyle(description_…"
            ]
          },
          "metadata": {
            "tags": []
          }
        },
        {
          "output_type": "stream",
          "text": [
            "\n"
          ],
          "name": "stdout"
        },
        {
          "output_type": "display_data",
          "data": {
            "application/vnd.jupyter.widget-view+json": {
              "model_id": "9937bb8db1f54c138bdcf99957b9b1c5",
              "version_major": 2,
              "version_minor": 0
            },
            "text/plain": [
              "HBox(children=(FloatProgress(value=0.0, description='Downloading', max=229.0, style=ProgressStyle(description_…"
            ]
          },
          "metadata": {
            "tags": []
          }
        },
        {
          "output_type": "stream",
          "text": [
            "\n"
          ],
          "name": "stdout"
        },
        {
          "output_type": "display_data",
          "data": {
            "application/vnd.jupyter.widget-view+json": {
              "model_id": "fc658a1201634600aaa0a2b5f9c2d05a",
              "version_major": 2,
              "version_minor": 0
            },
            "text/plain": [
              "HBox(children=(FloatProgress(value=0.0, description='Downloading', max=1112253233.0, style=ProgressStyle(descr…"
            ]
          },
          "metadata": {
            "tags": []
          }
        },
        {
          "output_type": "stream",
          "text": [
            "\n"
          ],
          "name": "stdout"
        },
        {
          "output_type": "display_data",
          "data": {
            "application/vnd.jupyter.widget-view+json": {
              "model_id": "966fdff91ea84ce691e08c17bd5d02c1",
              "version_major": 2,
              "version_minor": 0
            },
            "text/plain": [
              "HBox(children=(FloatProgress(value=0.0, description='Downloading', max=53.0, style=ProgressStyle(description_w…"
            ]
          },
          "metadata": {
            "tags": []
          }
        },
        {
          "output_type": "stream",
          "text": [
            "\n"
          ],
          "name": "stdout"
        },
        {
          "output_type": "display_data",
          "data": {
            "application/vnd.jupyter.widget-view+json": {
              "model_id": "14a8de2bfb4b4e018131185908b9b311",
              "version_major": 2,
              "version_minor": 0
            },
            "text/plain": [
              "HBox(children=(FloatProgress(value=0.0, description='Downloading', max=5069051.0, style=ProgressStyle(descript…"
            ]
          },
          "metadata": {
            "tags": []
          }
        },
        {
          "output_type": "stream",
          "text": [
            "\n"
          ],
          "name": "stdout"
        },
        {
          "output_type": "display_data",
          "data": {
            "application/vnd.jupyter.widget-view+json": {
              "model_id": "cd29a05283bf41e1b889a58aff47081d",
              "version_major": 2,
              "version_minor": 0
            },
            "text/plain": [
              "HBox(children=(FloatProgress(value=0.0, description='Downloading', max=150.0, style=ProgressStyle(description_…"
            ]
          },
          "metadata": {
            "tags": []
          }
        },
        {
          "output_type": "stream",
          "text": [
            "\n"
          ],
          "name": "stdout"
        },
        {
          "output_type": "display_data",
          "data": {
            "application/vnd.jupyter.widget-view+json": {
              "model_id": "dc69774f7dcf49cb809de0af0f683a0d",
              "version_major": 2,
              "version_minor": 0
            },
            "text/plain": [
              "HBox(children=(FloatProgress(value=0.0, description='Downloading', max=9096735.0, style=ProgressStyle(descript…"
            ]
          },
          "metadata": {
            "tags": []
          }
        },
        {
          "output_type": "stream",
          "text": [
            "\n"
          ],
          "name": "stdout"
        },
        {
          "output_type": "display_data",
          "data": {
            "application/vnd.jupyter.widget-view+json": {
              "model_id": "7fe07f1c903a405aac76a7c9c15a4c0c",
              "version_major": 2,
              "version_minor": 0
            },
            "text/plain": [
              "HBox(children=(FloatProgress(value=0.0, description='Downloading', max=550.0, style=ProgressStyle(description_…"
            ]
          },
          "metadata": {
            "tags": []
          }
        },
        {
          "output_type": "stream",
          "text": [
            "\n"
          ],
          "name": "stdout"
        },
        {
          "output_type": "display_data",
          "data": {
            "application/vnd.jupyter.widget-view+json": {
              "model_id": "3be464de54314a279341f7dafaa5c117",
              "version_major": 2,
              "version_minor": 0
            },
            "text/plain": [
              "HBox(children=(FloatProgress(value=0.0, description='Downloading', max=190.0, style=ProgressStyle(description_…"
            ]
          },
          "metadata": {
            "tags": []
          }
        },
        {
          "output_type": "stream",
          "text": [
            "\n"
          ],
          "name": "stdout"
        },
        {
          "output_type": "display_data",
          "data": {
            "application/vnd.jupyter.widget-view+json": {
              "model_id": "b41a3b3552074c2e885203adf9484715",
              "version_major": 2,
              "version_minor": 0
            },
            "text/plain": [
              "HBox(children=(FloatProgress(value=0.0, description='Batches', max=72.0, style=ProgressStyle(description_width…"
            ]
          },
          "metadata": {
            "tags": []
          }
        },
        {
          "output_type": "stream",
          "text": [
            "\n"
          ],
          "name": "stdout"
        }
      ]
    },
    {
      "cell_type": "code",
      "metadata": {
        "colab": {
          "base_uri": "https://localhost:8080/"
        },
        "id": "FDg7L8t2nP0L",
        "outputId": "d0212253-ef5f-4d0a-be19-6eaae1fb5070"
      },
      "source": [
        "clf = MLPClassifier(verbose=True, hidden_layer_sizes=(512))\n",
        "#res = cross_validate(clf, X_train, y_train, cv=5,  return_train_score=True) \n",
        "#scores = cross_val_score(clf,X_train, y_train, cv=5)\n",
        "#print(\"Accuracy: %0.2f (+/- %0.2f)\" % (scores.mean(), scores.std()))\n",
        "clf.fit(X_train, y_train)\n",
        "pred = clf.predict(X_test)"
      ],
      "execution_count": null,
      "outputs": [
        {
          "output_type": "stream",
          "text": [
            "Iteration 1, loss = 0.38351016\n",
            "Iteration 2, loss = 0.23791094\n",
            "Iteration 3, loss = 0.20047722\n",
            "Iteration 4, loss = 0.17969861\n",
            "Iteration 5, loss = 0.16457223\n",
            "Iteration 6, loss = 0.15954985\n",
            "Iteration 7, loss = 0.13866733\n",
            "Iteration 8, loss = 0.12667798\n",
            "Iteration 9, loss = 0.11740857\n",
            "Iteration 10, loss = 0.11769727\n",
            "Iteration 11, loss = 0.10436007\n",
            "Iteration 12, loss = 0.09607146\n",
            "Iteration 13, loss = 0.09637473\n",
            "Iteration 14, loss = 0.09085631\n",
            "Iteration 15, loss = 0.08252768\n",
            "Iteration 16, loss = 0.08126273\n",
            "Iteration 17, loss = 0.07879888\n",
            "Iteration 18, loss = 0.07597132\n",
            "Iteration 19, loss = 0.07304905\n",
            "Iteration 20, loss = 0.06449984\n",
            "Iteration 21, loss = 0.06548013\n",
            "Iteration 22, loss = 0.05826683\n",
            "Iteration 23, loss = 0.05515319\n",
            "Iteration 24, loss = 0.05484112\n",
            "Iteration 25, loss = 0.05269033\n",
            "Iteration 26, loss = 0.05543377\n",
            "Iteration 27, loss = 0.05296054\n",
            "Iteration 28, loss = 0.04856284\n",
            "Iteration 29, loss = 0.04374950\n",
            "Iteration 30, loss = 0.04123224\n",
            "Iteration 31, loss = 0.03822605\n",
            "Iteration 32, loss = 0.04407936\n",
            "Iteration 33, loss = 0.04151732\n",
            "Iteration 34, loss = 0.03946661\n",
            "Iteration 35, loss = 0.04542546\n",
            "Iteration 36, loss = 0.04603043\n",
            "Iteration 37, loss = 0.03541570\n",
            "Iteration 38, loss = 0.04348737\n",
            "Iteration 39, loss = 0.03453943\n",
            "Iteration 40, loss = 0.04037722\n",
            "Iteration 41, loss = 0.03190376\n",
            "Iteration 42, loss = 0.02992294\n",
            "Iteration 43, loss = 0.03107163\n",
            "Iteration 44, loss = 0.03007398\n",
            "Iteration 45, loss = 0.02844876\n",
            "Iteration 46, loss = 0.02751912\n",
            "Iteration 47, loss = 0.02914044\n",
            "Iteration 48, loss = 0.02566724\n",
            "Iteration 49, loss = 0.02528869\n",
            "Iteration 50, loss = 0.02527018\n",
            "Iteration 51, loss = 0.02493978\n",
            "Iteration 52, loss = 0.02495449\n",
            "Iteration 53, loss = 0.02803462\n",
            "Iteration 54, loss = 0.03694713\n",
            "Iteration 55, loss = 0.03733098\n",
            "Iteration 56, loss = 0.02444535\n",
            "Iteration 57, loss = 0.02277482\n",
            "Iteration 58, loss = 0.02371144\n",
            "Iteration 59, loss = 0.02442665\n",
            "Iteration 60, loss = 0.02366988\n",
            "Iteration 61, loss = 0.02233020\n",
            "Iteration 62, loss = 0.02551359\n",
            "Iteration 63, loss = 0.02537523\n",
            "Iteration 64, loss = 0.02074512\n",
            "Iteration 65, loss = 0.02152907\n",
            "Iteration 66, loss = 0.02653906\n",
            "Iteration 67, loss = 0.02463011\n",
            "Iteration 68, loss = 0.02347842\n",
            "Iteration 69, loss = 0.02063227\n",
            "Iteration 70, loss = 0.02315324\n",
            "Iteration 71, loss = 0.02243175\n",
            "Iteration 72, loss = 0.02325493\n",
            "Iteration 73, loss = 0.02372511\n",
            "Iteration 74, loss = 0.02249865\n",
            "Iteration 75, loss = 0.01966681\n",
            "Iteration 76, loss = 0.01999605\n",
            "Iteration 77, loss = 0.02045438\n",
            "Iteration 78, loss = 0.02055804\n",
            "Iteration 79, loss = 0.02034213\n",
            "Iteration 80, loss = 0.02002497\n",
            "Iteration 81, loss = 0.02181973\n",
            "Iteration 82, loss = 0.02111159\n",
            "Iteration 83, loss = 0.03260093\n",
            "Iteration 84, loss = 0.02150838\n",
            "Iteration 85, loss = 0.02004388\n",
            "Iteration 86, loss = 0.02105691\n",
            "Training loss did not improve more than tol=0.000100 for 10 consecutive epochs. Stopping.\n"
          ],
          "name": "stdout"
        }
      ]
    },
    {
      "cell_type": "code",
      "metadata": {
        "colab": {
          "base_uri": "https://localhost:8080/"
        },
        "id": "XwqejDoMnPwW",
        "outputId": "9c0b2972-cb04-4d22-8efe-5fa5a88bb009"
      },
      "source": [
        "print(classification_report(y_test, pred))"
      ],
      "execution_count": null,
      "outputs": [
        {
          "output_type": "stream",
          "text": [
            "              precision    recall  f1-score   support\n",
            "\n",
            "   Not_troll       0.00      0.00      0.00         0\n",
            "       label       0.00      0.00      0.00         1\n",
            "   not_troll       0.00      0.00      0.00       272\n",
            "       troll       0.62      0.73      0.67       395\n",
            "\n",
            "    accuracy                           0.43       668\n",
            "   macro avg       0.15      0.18      0.17       668\n",
            "weighted avg       0.37      0.43      0.40       668\n",
            "\n"
          ],
          "name": "stdout"
        },
        {
          "output_type": "stream",
          "text": [
            "/usr/local/lib/python3.7/dist-packages/sklearn/metrics/_classification.py:1272: UndefinedMetricWarning: Precision and F-score are ill-defined and being set to 0.0 in labels with no predicted samples. Use `zero_division` parameter to control this behavior.\n",
            "  _warn_prf(average, modifier, msg_start, len(result))\n",
            "/usr/local/lib/python3.7/dist-packages/sklearn/metrics/_classification.py:1272: UndefinedMetricWarning: Recall and F-score are ill-defined and being set to 0.0 in labels with no true samples. Use `zero_division` parameter to control this behavior.\n",
            "  _warn_prf(average, modifier, msg_start, len(result))\n"
          ],
          "name": "stderr"
        }
      ]
    },
    {
      "cell_type": "code",
      "metadata": {
        "id": "BDCTntSEnPsS"
      },
      "source": [
        "clf = KNeighborsClassifier(n_neighbors=3)\n",
        "#res = cross_validate(clf, X_train, y_train, cv=5,  return_train_score=True) \n",
        "#scores = cross_val_score(clf,X_train, y_train, cv=5)\n",
        "#print(\"Accuracy: %0.2f (+/- %0.2f)\" % (scores.mean(), scores.std()))\n",
        "clf.fit(X_train, y_train)\n",
        "pred = clf.predict(X_test)"
      ],
      "execution_count": null,
      "outputs": []
    },
    {
      "cell_type": "code",
      "metadata": {
        "colab": {
          "base_uri": "https://localhost:8080/"
        },
        "id": "3n4QP8-BnPnS",
        "outputId": "4cc41305-5f98-4c53-a7f2-7becb97862b4"
      },
      "source": [
        "print(classification_report(y_test, pred))"
      ],
      "execution_count": null,
      "outputs": [
        {
          "output_type": "stream",
          "text": [
            "              precision    recall  f1-score   support\n",
            "\n",
            "   Not_troll       0.00      0.00      0.00         0\n",
            "       label       0.00      0.00      0.00         1\n",
            "   not_troll       0.00      0.00      0.00       272\n",
            "       troll       0.66      0.43      0.52       395\n",
            "\n",
            "    accuracy                           0.25       668\n",
            "   macro avg       0.17      0.11      0.13       668\n",
            "weighted avg       0.39      0.25      0.31       668\n",
            "\n"
          ],
          "name": "stdout"
        },
        {
          "output_type": "stream",
          "text": [
            "/usr/local/lib/python3.7/dist-packages/sklearn/metrics/_classification.py:1272: UndefinedMetricWarning: Precision and F-score are ill-defined and being set to 0.0 in labels with no predicted samples. Use `zero_division` parameter to control this behavior.\n",
            "  _warn_prf(average, modifier, msg_start, len(result))\n",
            "/usr/local/lib/python3.7/dist-packages/sklearn/metrics/_classification.py:1272: UndefinedMetricWarning: Recall and F-score are ill-defined and being set to 0.0 in labels with no true samples. Use `zero_division` parameter to control this behavior.\n",
            "  _warn_prf(average, modifier, msg_start, len(result))\n"
          ],
          "name": "stderr"
        }
      ]
    },
    {
      "cell_type": "code",
      "metadata": {
        "colab": {
          "base_uri": "https://localhost:8080/"
        },
        "id": "78iNRDLMnPSx",
        "outputId": "94c39100-2c40-4e98-d77a-10b8fc3267f1"
      },
      "source": [
        "clf = RandomForestClassifier(n_estimators=1000,verbose=True, n_jobs=-1)\n",
        "#res = cross_validate(clf, X_train, y_train, cv=5,  return_train_score=True) \n",
        "#scores = cross_val_score(clf,X_train, y_train, cv=5)\n",
        "#print(\"Accuracy: %0.2f (+/- %0.2f)\" % (scores.mean(), scores.std()))\n",
        "clf.fit(X_train, y_train)\n",
        "pred = clf.predict(X_test)"
      ],
      "execution_count": null,
      "outputs": [
        {
          "output_type": "stream",
          "text": [
            "[Parallel(n_jobs=-1)]: Using backend ThreadingBackend with 2 concurrent workers.\n",
            "[Parallel(n_jobs=-1)]: Done  46 tasks      | elapsed:    1.4s\n",
            "[Parallel(n_jobs=-1)]: Done 196 tasks      | elapsed:    6.1s\n",
            "[Parallel(n_jobs=-1)]: Done 446 tasks      | elapsed:   13.8s\n",
            "[Parallel(n_jobs=-1)]: Done 796 tasks      | elapsed:   24.7s\n",
            "[Parallel(n_jobs=-1)]: Done 1000 out of 1000 | elapsed:   31.1s finished\n",
            "[Parallel(n_jobs=2)]: Using backend ThreadingBackend with 2 concurrent workers.\n",
            "[Parallel(n_jobs=2)]: Done  46 tasks      | elapsed:    0.0s\n",
            "[Parallel(n_jobs=2)]: Done 196 tasks      | elapsed:    0.1s\n",
            "[Parallel(n_jobs=2)]: Done 446 tasks      | elapsed:    0.2s\n",
            "[Parallel(n_jobs=2)]: Done 796 tasks      | elapsed:    0.3s\n",
            "[Parallel(n_jobs=2)]: Done 1000 out of 1000 | elapsed:    0.3s finished\n"
          ],
          "name": "stderr"
        }
      ]
    },
    {
      "cell_type": "code",
      "metadata": {
        "colab": {
          "base_uri": "https://localhost:8080/"
        },
        "id": "LoDEsz4AnPPe",
        "outputId": "63efa6dd-c585-49a3-c8d8-8f3c0ad5e1b9"
      },
      "source": [
        "print(classification_report(y_test, pred))"
      ],
      "execution_count": null,
      "outputs": [
        {
          "output_type": "stream",
          "text": [
            "              precision    recall  f1-score   support\n",
            "\n",
            "   Not_troll       0.00      0.00      0.00         0\n",
            "       label       0.00      0.00      0.00         1\n",
            "   not_troll       0.00      0.00      0.00       272\n",
            "       troll       0.61      0.81      0.69       395\n",
            "\n",
            "    accuracy                           0.48       668\n",
            "   macro avg       0.15      0.20      0.17       668\n",
            "weighted avg       0.36      0.48      0.41       668\n",
            "\n"
          ],
          "name": "stdout"
        },
        {
          "output_type": "stream",
          "text": [
            "/usr/local/lib/python3.7/dist-packages/sklearn/metrics/_classification.py:1272: UndefinedMetricWarning: Precision and F-score are ill-defined and being set to 0.0 in labels with no predicted samples. Use `zero_division` parameter to control this behavior.\n",
            "  _warn_prf(average, modifier, msg_start, len(result))\n",
            "/usr/local/lib/python3.7/dist-packages/sklearn/metrics/_classification.py:1272: UndefinedMetricWarning: Recall and F-score are ill-defined and being set to 0.0 in labels with no true samples. Use `zero_division` parameter to control this behavior.\n",
            "  _warn_prf(average, modifier, msg_start, len(result))\n"
          ],
          "name": "stderr"
        }
      ]
    },
    {
      "cell_type": "code",
      "metadata": {
        "colab": {
          "base_uri": "https://localhost:8080/"
        },
        "id": "zX-zDWLSnPMM",
        "outputId": "f054dabd-1ff3-43e9-e7da-1ca5094240be"
      },
      "source": [
        "clf = LogisticRegression(random_state=0)\n",
        "#res = cross_validate(clf, X_train, y_train, cv=5,  return_train_score=True) \n",
        "#scores = cross_val_score(clf,X_train, y_train, cv=5)\n",
        "#print(\"Accuracy: %0.2f (+/- %0.2f)\" % (scores.mean(), scores.std()))\n",
        "clf.fit(X_train, y_train)\n",
        "pred = clf.predict(X_test)"
      ],
      "execution_count": null,
      "outputs": [
        {
          "output_type": "stream",
          "text": [
            "/usr/local/lib/python3.7/dist-packages/sklearn/linear_model/_logistic.py:940: ConvergenceWarning: lbfgs failed to converge (status=1):\n",
            "STOP: TOTAL NO. of ITERATIONS REACHED LIMIT.\n",
            "\n",
            "Increase the number of iterations (max_iter) or scale the data as shown in:\n",
            "    https://scikit-learn.org/stable/modules/preprocessing.html\n",
            "Please also refer to the documentation for alternative solver options:\n",
            "    https://scikit-learn.org/stable/modules/linear_model.html#logistic-regression\n",
            "  extra_warning_msg=_LOGISTIC_SOLVER_CONVERGENCE_MSG)\n"
          ],
          "name": "stderr"
        }
      ]
    },
    {
      "cell_type": "code",
      "metadata": {
        "colab": {
          "base_uri": "https://localhost:8080/"
        },
        "id": "NXluhgdFnPIo",
        "outputId": "04a786a6-d2e8-4426-d1da-3082b7ae35fa"
      },
      "source": [
        "print(classification_report(y_test, pred))"
      ],
      "execution_count": null,
      "outputs": [
        {
          "output_type": "stream",
          "text": [
            "              precision    recall  f1-score   support\n",
            "\n",
            "   Not_troll       0.00      0.00      0.00         0\n",
            "       label       0.00      0.00      0.00         1\n",
            "   not_troll       0.00      0.00      0.00       272\n",
            "       troll       0.62      0.73      0.67       395\n",
            "\n",
            "    accuracy                           0.43       668\n",
            "   macro avg       0.15      0.18      0.17       668\n",
            "weighted avg       0.36      0.43      0.39       668\n",
            "\n"
          ],
          "name": "stdout"
        },
        {
          "output_type": "stream",
          "text": [
            "/usr/local/lib/python3.7/dist-packages/sklearn/metrics/_classification.py:1272: UndefinedMetricWarning: Precision and F-score are ill-defined and being set to 0.0 in labels with no predicted samples. Use `zero_division` parameter to control this behavior.\n",
            "  _warn_prf(average, modifier, msg_start, len(result))\n",
            "/usr/local/lib/python3.7/dist-packages/sklearn/metrics/_classification.py:1272: UndefinedMetricWarning: Recall and F-score are ill-defined and being set to 0.0 in labels with no true samples. Use `zero_division` parameter to control this behavior.\n",
            "  _warn_prf(average, modifier, msg_start, len(result))\n"
          ],
          "name": "stderr"
        }
      ]
    },
    {
      "cell_type": "code",
      "metadata": {
        "id": "8xBkcYSrnPFD"
      },
      "source": [
        "clf=DecisionTreeClassifier(criterion='entropy',random_state=0)\n",
        "#res = cross_validate(clf, X_train, y_train, cv=5,  return_train_score=True) \n",
        "#scores = cross_val_score(clf,X_train, y_train, cv=5)\n",
        "#print(\"Accuracy: %0.2f (+/- %0.2f)\" % (scores.mean(), scores.std()))\n",
        "clf.fit(X_train, y_train)\n",
        "pred = clf.predict(X_test)"
      ],
      "execution_count": null,
      "outputs": []
    },
    {
      "cell_type": "code",
      "metadata": {
        "colab": {
          "base_uri": "https://localhost:8080/"
        },
        "id": "OVMTn1rvnPBQ",
        "outputId": "3b2e6b10-2e3f-4dd7-d716-3ab635b09cef"
      },
      "source": [
        "print(classification_report(y_test, pred))"
      ],
      "execution_count": null,
      "outputs": [
        {
          "output_type": "stream",
          "text": [
            "              precision    recall  f1-score   support\n",
            "\n",
            "   Not_troll       0.00      0.00      0.00         0\n",
            "       label       0.00      0.00      0.00         1\n",
            "   not_troll       0.00      0.00      0.00       272\n",
            "       troll       0.61      0.70      0.65       395\n",
            "\n",
            "    accuracy                           0.41       668\n",
            "   macro avg       0.15      0.17      0.16       668\n",
            "weighted avg       0.36      0.41      0.38       668\n",
            "\n"
          ],
          "name": "stdout"
        },
        {
          "output_type": "stream",
          "text": [
            "/usr/local/lib/python3.7/dist-packages/sklearn/metrics/_classification.py:1272: UndefinedMetricWarning: Precision and F-score are ill-defined and being set to 0.0 in labels with no predicted samples. Use `zero_division` parameter to control this behavior.\n",
            "  _warn_prf(average, modifier, msg_start, len(result))\n",
            "/usr/local/lib/python3.7/dist-packages/sklearn/metrics/_classification.py:1272: UndefinedMetricWarning: Recall and F-score are ill-defined and being set to 0.0 in labels with no true samples. Use `zero_division` parameter to control this behavior.\n",
            "  _warn_prf(average, modifier, msg_start, len(result))\n"
          ],
          "name": "stderr"
        }
      ]
    },
    {
      "cell_type": "code",
      "metadata": {
        "id": "3BU-HQ25nO85"
      },
      "source": [
        "clf=SVC(kernel='linear',random_state=0)\n",
        "#res = cross_validate(clf, X_train, y_train, cv=5,  return_train_score=True) \n",
        "#scores = cross_val_score(clf,X_train, y_train, cv=5)\n",
        "#print(\"Accuracy: %0.2f (+/- %0.2f)\" % (scores.mean(), scores.std()))\n",
        "clf.fit(X_train, y_train)\n",
        "pred = clf.predict(X_test)"
      ],
      "execution_count": null,
      "outputs": []
    },
    {
      "cell_type": "code",
      "metadata": {
        "colab": {
          "base_uri": "https://localhost:8080/"
        },
        "id": "wdOAcqQ2nO4g",
        "outputId": "29f84862-78e1-403d-ec57-b4c5cc628d12"
      },
      "source": [
        "print(classification_report(y_test, pred))"
      ],
      "execution_count": null,
      "outputs": [
        {
          "output_type": "stream",
          "text": [
            "              precision    recall  f1-score   support\n",
            "\n",
            "   Not_troll       0.00      0.00      0.00         0\n",
            "       label       0.00      0.00      0.00         1\n",
            "   not_troll       0.00      0.00      0.00       272\n",
            "       troll       0.62      0.73      0.67       395\n",
            "\n",
            "    accuracy                           0.43       668\n",
            "   macro avg       0.15      0.18      0.17       668\n",
            "weighted avg       0.36      0.43      0.39       668\n",
            "\n"
          ],
          "name": "stdout"
        },
        {
          "output_type": "stream",
          "text": [
            "/usr/local/lib/python3.7/dist-packages/sklearn/metrics/_classification.py:1272: UndefinedMetricWarning: Precision and F-score are ill-defined and being set to 0.0 in labels with no predicted samples. Use `zero_division` parameter to control this behavior.\n",
            "  _warn_prf(average, modifier, msg_start, len(result))\n",
            "/usr/local/lib/python3.7/dist-packages/sklearn/metrics/_classification.py:1272: UndefinedMetricWarning: Recall and F-score are ill-defined and being set to 0.0 in labels with no true samples. Use `zero_division` parameter to control this behavior.\n",
            "  _warn_prf(average, modifier, msg_start, len(result))\n"
          ],
          "name": "stderr"
        }
      ]
    },
    {
      "cell_type": "code",
      "metadata": {
        "id": "AMi3-PJNnzie"
      },
      "source": [
        "clf=XGBClassifier()\n",
        "#res = cross_validate(clf, X_train, y_train, cv=5,  return_train_score=True) \n",
        "#scores = cross_val_score(clf,X_train, y_train, cv=5)\n",
        "#print(\"Accuracy: %0.2f (+/- %0.2f)\" % (scores.mean(), scores.std()))\n",
        "clf.fit(X_train, y_train)\n",
        "pred = clf.predict(X_test)"
      ],
      "execution_count": null,
      "outputs": []
    },
    {
      "cell_type": "code",
      "metadata": {
        "colab": {
          "base_uri": "https://localhost:8080/"
        },
        "id": "kjIPXIPJny4e",
        "outputId": "64d9523c-44d0-4c2a-9bc8-6275f1259dfd"
      },
      "source": [
        "print(classification_report(y_test, pred))"
      ],
      "execution_count": null,
      "outputs": [
        {
          "output_type": "stream",
          "text": [
            "              precision    recall  f1-score   support\n",
            "\n",
            "   Not_troll       0.00      0.00      0.00         0\n",
            "       label       0.00      0.00      0.00         1\n",
            "   not_troll       0.00      0.00      0.00       272\n",
            "       troll       0.62      0.77      0.68       395\n",
            "\n",
            "    accuracy                           0.45       668\n",
            "   macro avg       0.15      0.19      0.17       668\n",
            "weighted avg       0.37      0.45      0.40       668\n",
            "\n"
          ],
          "name": "stdout"
        },
        {
          "output_type": "stream",
          "text": [
            "/usr/local/lib/python3.7/dist-packages/sklearn/metrics/_classification.py:1272: UndefinedMetricWarning: Precision and F-score are ill-defined and being set to 0.0 in labels with no predicted samples. Use `zero_division` parameter to control this behavior.\n",
            "  _warn_prf(average, modifier, msg_start, len(result))\n",
            "/usr/local/lib/python3.7/dist-packages/sklearn/metrics/_classification.py:1272: UndefinedMetricWarning: Recall and F-score are ill-defined and being set to 0.0 in labels with no true samples. Use `zero_division` parameter to control this behavior.\n",
            "  _warn_prf(average, modifier, msg_start, len(result))\n"
          ],
          "name": "stderr"
        }
      ]
    },
    {
      "cell_type": "code",
      "metadata": {
        "colab": {
          "base_uri": "https://localhost:8080/",
          "height": 669,
          "referenced_widgets": [
            "ce1827b0ee9141669c29e9ce7bd063d9",
            "4f6dfdb97b3043d38676c79f3df2637c",
            "855063bf87dd4856a9d3659a84d56c20",
            "dd951d8b73ef42f6b7a64023db9724be",
            "0727b180b2304f9db451961255523259",
            "e22c30be16f5426685d6181bcde31137",
            "1c16e8444fa44c2caf9f17bc73977ef0",
            "ae79fd129b3d4832b11b2c172b4edac2",
            "0485a6ad289848a1960077f22f2998be",
            "cd598e0251ab4d4484c2a77656e793f5",
            "de1047029c39487d98a0ce998c34a755",
            "fa7542fc24424a8eb100045d2546f171",
            "f01c6d4ccab1420795c2841d4d041f9d",
            "1e790d5de22743a6834d154830ba8a25",
            "d0a5ce8a635845278c26cdebae536b55",
            "422ba4a5de5a4741a64565f493150b54",
            "4bc64455b4614f6688aaa6bececcfdcf",
            "722b76a97e6744e48c24f0e3a7d01b1d",
            "dfc0dc3cafde4274ada79103aa46cf01",
            "991611c13b0f4c50b95e3f2bb903f244",
            "26d55f1ccfe343718f2c65ec5860487c",
            "780893b73d8c4ab3955077b9871ff788",
            "38f83826a578443da36b06a11d24058b",
            "bca856f753e84c3882e8babd497f9aad",
            "1bb254686514434cb362af9a62c77111",
            "eccde9c16a1643518a53188c6e1d06a4",
            "bb03ee93fac245faa2fcbe03c28afdd6",
            "e20be8a2d0b24b6f845f613f40a30430",
            "7686b3fd3cb14cc085dbd3026d0fe981",
            "349aa49777a14939870f08eb663a9027",
            "e1bdaadc1fbd44dc974aca3fa0a30a64",
            "3e4269dd4bd14e70978162fbd4b1a780",
            "7d08e7ee272049d4bb6eae2a68b0d86b",
            "b5f5ea5c47454fcbb9c7c737789b8c4f",
            "eb5e0db3af604ca3a2d5302d1c7e61e1",
            "f936412ff7d348a58413929eee24edcd",
            "881b2ed169a6445fa33085a017e76774",
            "830fc64995ba4141b6a6197adff81009",
            "d92c34d1e7644966ac99c1cece58fc47",
            "12f138a42f40454485e9f714a3df853b",
            "e242cc83f36c4616b7112af5fe5c908c",
            "c03e01d40c4943d2900dee3a04a519bc",
            "a1ad5af9d5f8469ebe5d6cb397f7ac9e",
            "9189c16f919144e4b7e3a718c7a8a3e7",
            "7ad1fdb3ffea45bfbf0eabe7957451ab",
            "d4d3c01b676e41aeb084ec7f43e1e6d5",
            "7f04c3f73017411f9a9d6ce856cce58d",
            "19291e3fb22d4e98b90a3be05e4b5208",
            "01b26fa870574daa9615b1a249dda432",
            "41e75e91f77441818f142b41cbba4022",
            "b0047a1c4d744ee0950fd5437f3c5f45",
            "87fc75d778034a05bd4062ede90a6a82",
            "58187248fe5c472aa1cd4f9710563d69",
            "881ee0d89b0f46ac994b77bcdb8ac075",
            "39782e2bdc9441d2b5576e5394cf4698",
            "a6d64b5f48bd41c4806171a6b010b771",
            "eb02ce8facbe4a70b7ddee841cff1c42",
            "354a205f6a794d4d93e0df6218f2a508",
            "4526f058324e445690ad3aaf3e769c45",
            "e222bb5c750947deb8e3cc417991e773",
            "ce99a32885b44e1495d66b89605fbad2",
            "33281397c0f54bde809b625df1149a5e",
            "0d0226dc6f6d48cf9ba5f8d8da8b3ec7",
            "710058e09f7f4757a1da4aa7e19028eb",
            "2a43e09c845b4bec9cac49c9a0500b7f",
            "0d55c09a8f2541a2952771050147b3f8",
            "2f985621aaa542d2b70e8f0a2a38e8db",
            "c374f49ea561438da9476db670a34c1d",
            "58f1584bb96d4641a7d11aacd6394c4f",
            "f82aa0843a504c8a89678503473a7032",
            "cd2cbb9d8723438087f40ed3f78bd6ad",
            "742665a41209488aaca739077676eb80",
            "9dae0780308544d8b8ec272364460c29",
            "7de2644422ac4bd8889ca45bbececf36",
            "32856c57b4004b34a3303c5bfbfc4c70",
            "e5fc243bf69549458584d18d6b304bee",
            "e3ab2620b5444f3ea29f3dc011120346",
            "44bb040fb68d479bb22097b7ecb55243",
            "fd896feec2fc497290763e3b6f9ad1c6",
            "ea8d1aeb3015492fb7415aa320ac6715",
            "1405b35cf6464a228c33425b6f2e052f",
            "451ab8f79183458f8b75c6eb8e63f0cd",
            "06f7f75af4094c78b940068d576e271c",
            "e39c609a99534499be2fb4f689add328",
            "6d1e550a20124d32abf63d7c5f4b1101",
            "1023f8a2ed164a2591c7791563a5376b",
            "d9725a6baf8e417bb7a22fb866530d73",
            "32d81ba0e8bf4aeebf8fa75abb4c1696",
            "300ec88f85884e40bcb19426f3bd27af",
            "e4a32306e58c44f584a5fb314ed705a6",
            "1a69c3d7647d4fd3941e45339463214b",
            "6a66fadbd575467d8f9008d2eb61fe36",
            "0261445e5bda419a8f0c4f01bf4589ef",
            "ae018ea0e69940e1b9da90bf31aa9d0c",
            "63080b22184e4ad1aa7d6da52bd21d7c",
            "21eec60d47c6467999a1f6b409cff5c0",
            "ec7097f9415e40e496b552b61b29677b",
            "8f0a1e0924714de3bba812e88bc62352",
            "8bff251cfbbc48f380868bdb09343f41",
            "24764f4028314c898bc1b0a24b71cd06",
            "5ba483bad8a24cf6a1d6929fc3769999",
            "a0ab3147e7b244f3b7cec720f779372d",
            "b9a9c6374c424d078834a7c692dadb90",
            "cfb03a9fef1c4fa6ab52bdd0c1e650b1"
          ]
        },
        "id": "k7tIOqxMk8Xa",
        "outputId": "aee36eb0-2c98-4f95-cb9e-391fdf6042dc"
      },
      "source": [
        "from sentence_transformers import SentenceTransformer\n",
        "model = SentenceTransformer('stsb-xlm-r-multilingual')\n",
        "X_train = model.encode(captions, batch_size=32,show_progress_bar=True)\n",
        "y_train = label\n",
        "X_test=model.encode(captiontext)"
      ],
      "execution_count": null,
      "outputs": [
        {
          "output_type": "display_data",
          "data": {
            "application/vnd.jupyter.widget-view+json": {
              "model_id": "ce1827b0ee9141669c29e9ce7bd063d9",
              "version_major": 2,
              "version_minor": 0
            },
            "text/plain": [
              "HBox(children=(FloatProgress(value=0.0, description='Downloading', max=574.0, style=ProgressStyle(description_…"
            ]
          },
          "metadata": {
            "tags": []
          }
        },
        {
          "output_type": "stream",
          "text": [
            "\n"
          ],
          "name": "stdout"
        },
        {
          "output_type": "display_data",
          "data": {
            "application/vnd.jupyter.widget-view+json": {
              "model_id": "0485a6ad289848a1960077f22f2998be",
              "version_major": 2,
              "version_minor": 0
            },
            "text/plain": [
              "HBox(children=(FloatProgress(value=0.0, description='Downloading', max=3679.0, style=ProgressStyle(description…"
            ]
          },
          "metadata": {
            "tags": []
          }
        },
        {
          "output_type": "stream",
          "text": [
            "\n"
          ],
          "name": "stdout"
        },
        {
          "output_type": "display_data",
          "data": {
            "application/vnd.jupyter.widget-view+json": {
              "model_id": "4bc64455b4614f6688aaa6bececcfdcf",
              "version_major": 2,
              "version_minor": 0
            },
            "text/plain": [
              "HBox(children=(FloatProgress(value=0.0, description='Downloading', max=709.0, style=ProgressStyle(description_…"
            ]
          },
          "metadata": {
            "tags": []
          }
        },
        {
          "output_type": "stream",
          "text": [
            "\n"
          ],
          "name": "stdout"
        },
        {
          "output_type": "display_data",
          "data": {
            "application/vnd.jupyter.widget-view+json": {
              "model_id": "1bb254686514434cb362af9a62c77111",
              "version_major": 2,
              "version_minor": 0
            },
            "text/plain": [
              "HBox(children=(FloatProgress(value=0.0, description='Downloading', max=122.0, style=ProgressStyle(description_…"
            ]
          },
          "metadata": {
            "tags": []
          }
        },
        {
          "output_type": "stream",
          "text": [
            "\n"
          ],
          "name": "stdout"
        },
        {
          "output_type": "display_data",
          "data": {
            "application/vnd.jupyter.widget-view+json": {
              "model_id": "7d08e7ee272049d4bb6eae2a68b0d86b",
              "version_major": 2,
              "version_minor": 0
            },
            "text/plain": [
              "HBox(children=(FloatProgress(value=0.0, description='Downloading', max=229.0, style=ProgressStyle(description_…"
            ]
          },
          "metadata": {
            "tags": []
          }
        },
        {
          "output_type": "stream",
          "text": [
            "\n"
          ],
          "name": "stdout"
        },
        {
          "output_type": "display_data",
          "data": {
            "application/vnd.jupyter.widget-view+json": {
              "model_id": "e242cc83f36c4616b7112af5fe5c908c",
              "version_major": 2,
              "version_minor": 0
            },
            "text/plain": [
              "HBox(children=(FloatProgress(value=0.0, description='Downloading', max=1112253233.0, style=ProgressStyle(descr…"
            ]
          },
          "metadata": {
            "tags": []
          }
        },
        {
          "output_type": "stream",
          "text": [
            "\n"
          ],
          "name": "stdout"
        },
        {
          "output_type": "display_data",
          "data": {
            "application/vnd.jupyter.widget-view+json": {
              "model_id": "01b26fa870574daa9615b1a249dda432",
              "version_major": 2,
              "version_minor": 0
            },
            "text/plain": [
              "HBox(children=(FloatProgress(value=0.0, description='Downloading', max=53.0, style=ProgressStyle(description_w…"
            ]
          },
          "metadata": {
            "tags": []
          }
        },
        {
          "output_type": "stream",
          "text": [
            "\n"
          ],
          "name": "stdout"
        },
        {
          "output_type": "display_data",
          "data": {
            "application/vnd.jupyter.widget-view+json": {
              "model_id": "eb02ce8facbe4a70b7ddee841cff1c42",
              "version_major": 2,
              "version_minor": 0
            },
            "text/plain": [
              "HBox(children=(FloatProgress(value=0.0, description='Downloading', max=5069051.0, style=ProgressStyle(descript…"
            ]
          },
          "metadata": {
            "tags": []
          }
        },
        {
          "output_type": "stream",
          "text": [
            "\n"
          ],
          "name": "stdout"
        },
        {
          "output_type": "display_data",
          "data": {
            "application/vnd.jupyter.widget-view+json": {
              "model_id": "2a43e09c845b4bec9cac49c9a0500b7f",
              "version_major": 2,
              "version_minor": 0
            },
            "text/plain": [
              "HBox(children=(FloatProgress(value=0.0, description='Downloading', max=150.0, style=ProgressStyle(description_…"
            ]
          },
          "metadata": {
            "tags": []
          }
        },
        {
          "output_type": "stream",
          "text": [
            "\n"
          ],
          "name": "stdout"
        },
        {
          "output_type": "display_data",
          "data": {
            "application/vnd.jupyter.widget-view+json": {
              "model_id": "9dae0780308544d8b8ec272364460c29",
              "version_major": 2,
              "version_minor": 0
            },
            "text/plain": [
              "HBox(children=(FloatProgress(value=0.0, description='Downloading', max=9096735.0, style=ProgressStyle(descript…"
            ]
          },
          "metadata": {
            "tags": []
          }
        },
        {
          "output_type": "stream",
          "text": [
            "\n"
          ],
          "name": "stdout"
        },
        {
          "output_type": "display_data",
          "data": {
            "application/vnd.jupyter.widget-view+json": {
              "model_id": "1405b35cf6464a228c33425b6f2e052f",
              "version_major": 2,
              "version_minor": 0
            },
            "text/plain": [
              "HBox(children=(FloatProgress(value=0.0, description='Downloading', max=505.0, style=ProgressStyle(description_…"
            ]
          },
          "metadata": {
            "tags": []
          }
        },
        {
          "output_type": "stream",
          "text": [
            "\n"
          ],
          "name": "stdout"
        },
        {
          "output_type": "display_data",
          "data": {
            "application/vnd.jupyter.widget-view+json": {
              "model_id": "300ec88f85884e40bcb19426f3bd27af",
              "version_major": 2,
              "version_minor": 0
            },
            "text/plain": [
              "HBox(children=(FloatProgress(value=0.0, description='Downloading', max=190.0, style=ProgressStyle(description_…"
            ]
          },
          "metadata": {
            "tags": []
          }
        },
        {
          "output_type": "stream",
          "text": [
            "\n"
          ],
          "name": "stdout"
        },
        {
          "output_type": "display_data",
          "data": {
            "application/vnd.jupyter.widget-view+json": {
              "model_id": "ec7097f9415e40e496b552b61b29677b",
              "version_major": 2,
              "version_minor": 0
            },
            "text/plain": [
              "HBox(children=(FloatProgress(value=0.0, description='Batches', max=72.0, style=ProgressStyle(description_width…"
            ]
          },
          "metadata": {
            "tags": []
          }
        },
        {
          "output_type": "stream",
          "text": [
            "\n"
          ],
          "name": "stdout"
        }
      ]
    },
    {
      "cell_type": "code",
      "metadata": {
        "colab": {
          "base_uri": "https://localhost:8080/"
        },
        "id": "5U9Bwoty-Ls6",
        "outputId": "b88da470-de97-477c-ab10-282a5276c507"
      },
      "source": [
        "clf = MLPClassifier(verbose=True, hidden_layer_sizes=(512))\n",
        "#res = cross_validate(clf, X_train, y_train, cv=5,  return_train_score=True) \n",
        "#scores = cross_val_score(clf,X_train, y_train, cv=5)\n",
        "#print(\"Accuracy: %0.2f (+/- %0.2f)\" % (scores.mean(), scores.std()))\n",
        "clf.fit(X_train, y_train)\n",
        "pred = clf.predict(X_test)"
      ],
      "execution_count": null,
      "outputs": [
        {
          "output_type": "stream",
          "text": [
            "Iteration 1, loss = 0.50631759\n",
            "Iteration 2, loss = 0.35197373\n",
            "Iteration 3, loss = 0.29791148\n",
            "Iteration 4, loss = 0.26695222\n",
            "Iteration 5, loss = 0.26720962\n",
            "Iteration 6, loss = 0.23158798\n",
            "Iteration 7, loss = 0.21086203\n",
            "Iteration 8, loss = 0.19761112\n",
            "Iteration 9, loss = 0.18690367\n",
            "Iteration 10, loss = 0.18304353\n",
            "Iteration 11, loss = 0.17661395\n",
            "Iteration 12, loss = 0.16364757\n",
            "Iteration 13, loss = 0.15502886\n",
            "Iteration 14, loss = 0.14427234\n",
            "Iteration 15, loss = 0.13368219\n",
            "Iteration 16, loss = 0.13199821\n",
            "Iteration 17, loss = 0.12316541\n",
            "Iteration 18, loss = 0.11468362\n",
            "Iteration 19, loss = 0.11538070\n",
            "Iteration 20, loss = 0.11110375\n",
            "Iteration 21, loss = 0.10179597\n",
            "Iteration 22, loss = 0.09692571\n",
            "Iteration 23, loss = 0.08874919\n",
            "Iteration 24, loss = 0.09656612\n",
            "Iteration 25, loss = 0.08383185\n",
            "Iteration 26, loss = 0.07782990\n",
            "Iteration 27, loss = 0.09768849\n",
            "Iteration 28, loss = 0.07160216\n",
            "Iteration 29, loss = 0.06410773\n",
            "Iteration 30, loss = 0.06657830\n",
            "Iteration 31, loss = 0.06056031\n",
            "Iteration 32, loss = 0.05802016\n",
            "Iteration 33, loss = 0.05535128\n",
            "Iteration 34, loss = 0.05577147\n",
            "Iteration 35, loss = 0.05447910\n",
            "Iteration 36, loss = 0.04798498\n",
            "Iteration 37, loss = 0.04722619\n",
            "Iteration 38, loss = 0.04704084\n",
            "Iteration 39, loss = 0.04583191\n",
            "Iteration 40, loss = 0.04814406\n",
            "Iteration 41, loss = 0.04651178\n",
            "Iteration 42, loss = 0.06515703\n",
            "Iteration 43, loss = 0.04105204\n",
            "Iteration 44, loss = 0.04040013\n",
            "Iteration 45, loss = 0.04159627\n",
            "Iteration 46, loss = 0.03617309\n",
            "Iteration 47, loss = 0.03755084\n",
            "Iteration 48, loss = 0.03553366\n",
            "Iteration 49, loss = 0.03665721\n",
            "Iteration 50, loss = 0.03906249\n",
            "Iteration 51, loss = 0.03714677\n",
            "Iteration 52, loss = 0.03210364\n",
            "Iteration 53, loss = 0.03336150\n",
            "Iteration 54, loss = 0.03168038\n",
            "Iteration 55, loss = 0.03659363\n",
            "Iteration 56, loss = 0.02998136\n",
            "Iteration 57, loss = 0.02774053\n",
            "Iteration 58, loss = 0.02807285\n",
            "Iteration 59, loss = 0.02701221\n",
            "Iteration 60, loss = 0.02909184\n",
            "Iteration 61, loss = 0.03132386\n",
            "Iteration 62, loss = 0.02901476\n",
            "Iteration 63, loss = 0.03445898\n",
            "Iteration 64, loss = 0.03396543\n",
            "Iteration 65, loss = 0.02907440\n",
            "Iteration 66, loss = 0.03727294\n",
            "Iteration 67, loss = 0.03603582\n",
            "Iteration 68, loss = 0.03877437\n",
            "Iteration 69, loss = 0.04094479\n",
            "Iteration 70, loss = 0.03433109\n",
            "Training loss did not improve more than tol=0.000100 for 10 consecutive epochs. Stopping.\n"
          ],
          "name": "stdout"
        }
      ]
    },
    {
      "cell_type": "code",
      "metadata": {
        "colab": {
          "base_uri": "https://localhost:8080/"
        },
        "id": "a9ANprDN-LnC",
        "outputId": "170277e1-592d-4333-87d8-115fe03f8c45"
      },
      "source": [
        "print(classification_report(y_test, pred))"
      ],
      "execution_count": null,
      "outputs": [
        {
          "output_type": "stream",
          "text": [
            "              precision    recall  f1-score   support\n",
            "\n",
            "   Not_troll       0.00      0.00      0.00         0\n",
            "       label       0.00      0.00      0.00         1\n",
            "   not_troll       0.00      0.00      0.00       272\n",
            "       troll       0.61      0.78      0.68       395\n",
            "\n",
            "    accuracy                           0.46       668\n",
            "   macro avg       0.15      0.19      0.17       668\n",
            "weighted avg       0.36      0.46      0.40       668\n",
            "\n"
          ],
          "name": "stdout"
        },
        {
          "output_type": "stream",
          "text": [
            "/usr/local/lib/python3.7/dist-packages/sklearn/metrics/_classification.py:1272: UndefinedMetricWarning: Precision and F-score are ill-defined and being set to 0.0 in labels with no predicted samples. Use `zero_division` parameter to control this behavior.\n",
            "  _warn_prf(average, modifier, msg_start, len(result))\n",
            "/usr/local/lib/python3.7/dist-packages/sklearn/metrics/_classification.py:1272: UndefinedMetricWarning: Recall and F-score are ill-defined and being set to 0.0 in labels with no true samples. Use `zero_division` parameter to control this behavior.\n",
            "  _warn_prf(average, modifier, msg_start, len(result))\n"
          ],
          "name": "stderr"
        }
      ]
    },
    {
      "cell_type": "code",
      "metadata": {
        "id": "rFQtLAan-LhQ"
      },
      "source": [
        "clf = KNeighborsClassifier(n_neighbors=3)\n",
        "#res = cross_validate(clf, X_train, y_train, cv=5,  return_train_score=True) \n",
        "#scores = cross_val_score(clf,X_train, y_train, cv=5)\n",
        "#print(\"Accuracy: %0.2f (+/- %0.2f)\" % (scores.mean(), scores.std()))\n",
        "clf.fit(X_train, y_train)\n",
        "pred = clf.predict(X_test)"
      ],
      "execution_count": null,
      "outputs": []
    },
    {
      "cell_type": "code",
      "metadata": {
        "colab": {
          "base_uri": "https://localhost:8080/"
        },
        "id": "A3vYqE60-LZc",
        "outputId": "5e20f24f-5f54-44b9-fe3b-a7db6a9e7668"
      },
      "source": [
        "print(classification_report(y_test, pred))"
      ],
      "execution_count": null,
      "outputs": [
        {
          "output_type": "stream",
          "text": [
            "              precision    recall  f1-score   support\n",
            "\n",
            "   Not_troll       0.00      0.00      0.00         0\n",
            "       label       0.00      0.00      0.00         1\n",
            "   not_troll       0.00      0.00      0.00       272\n",
            "       troll       0.61      0.53      0.57       395\n",
            "\n",
            "    accuracy                           0.32       668\n",
            "   macro avg       0.15      0.13      0.14       668\n",
            "weighted avg       0.36      0.32      0.34       668\n",
            "\n"
          ],
          "name": "stdout"
        },
        {
          "output_type": "stream",
          "text": [
            "/usr/local/lib/python3.7/dist-packages/sklearn/metrics/_classification.py:1272: UndefinedMetricWarning: Precision and F-score are ill-defined and being set to 0.0 in labels with no predicted samples. Use `zero_division` parameter to control this behavior.\n",
            "  _warn_prf(average, modifier, msg_start, len(result))\n",
            "/usr/local/lib/python3.7/dist-packages/sklearn/metrics/_classification.py:1272: UndefinedMetricWarning: Recall and F-score are ill-defined and being set to 0.0 in labels with no true samples. Use `zero_division` parameter to control this behavior.\n",
            "  _warn_prf(average, modifier, msg_start, len(result))\n"
          ],
          "name": "stderr"
        }
      ]
    },
    {
      "cell_type": "code",
      "metadata": {
        "colab": {
          "base_uri": "https://localhost:8080/"
        },
        "id": "a95l7J0B-LS6",
        "outputId": "0c6a38d5-dcfc-4d48-9a55-a012fe3dadf2"
      },
      "source": [
        "clf = RandomForestClassifier(n_estimators=1000,verbose=True, n_jobs=-1)\n",
        "#res = cross_validate(clf, X_train, y_train, cv=5,  return_train_score=True) \n",
        "#scores = cross_val_score(clf,X_train, y_train, cv=5)\n",
        "#print(\"Accuracy: %0.2f (+/- %0.2f)\" % (scores.mean(), scores.std()))\n",
        "clf.fit(X_train, y_train)\n",
        "pred = clf.predict(X_test)"
      ],
      "execution_count": null,
      "outputs": [
        {
          "output_type": "stream",
          "text": [
            "[Parallel(n_jobs=-1)]: Using backend ThreadingBackend with 2 concurrent workers.\n",
            "[Parallel(n_jobs=-1)]: Done  46 tasks      | elapsed:    1.4s\n",
            "[Parallel(n_jobs=-1)]: Done 196 tasks      | elapsed:    6.0s\n",
            "[Parallel(n_jobs=-1)]: Done 446 tasks      | elapsed:   15.2s\n",
            "[Parallel(n_jobs=-1)]: Done 796 tasks      | elapsed:   27.3s\n",
            "[Parallel(n_jobs=-1)]: Done 1000 out of 1000 | elapsed:   33.4s finished\n",
            "[Parallel(n_jobs=2)]: Using backend ThreadingBackend with 2 concurrent workers.\n",
            "[Parallel(n_jobs=2)]: Done  46 tasks      | elapsed:    0.0s\n",
            "[Parallel(n_jobs=2)]: Done 196 tasks      | elapsed:    0.1s\n",
            "[Parallel(n_jobs=2)]: Done 446 tasks      | elapsed:    0.2s\n",
            "[Parallel(n_jobs=2)]: Done 796 tasks      | elapsed:    0.3s\n",
            "[Parallel(n_jobs=2)]: Done 1000 out of 1000 | elapsed:    0.3s finished\n"
          ],
          "name": "stderr"
        }
      ]
    },
    {
      "cell_type": "code",
      "metadata": {
        "colab": {
          "base_uri": "https://localhost:8080/"
        },
        "id": "B_RjeBWX-LOm",
        "outputId": "3fed6b8f-76d3-42b3-e907-84dd3858837a"
      },
      "source": [
        "print(classification_report(y_test, pred))"
      ],
      "execution_count": null,
      "outputs": [
        {
          "output_type": "stream",
          "text": [
            "              precision    recall  f1-score   support\n",
            "\n",
            "   Not_troll       0.00      0.00      0.00         0\n",
            "       label       0.00      0.00      0.00         1\n",
            "   not_troll       0.00      0.00      0.00       272\n",
            "       troll       0.60      0.88      0.71       395\n",
            "\n",
            "    accuracy                           0.52       668\n",
            "   macro avg       0.15      0.22      0.18       668\n",
            "weighted avg       0.35      0.52      0.42       668\n",
            "\n"
          ],
          "name": "stdout"
        },
        {
          "output_type": "stream",
          "text": [
            "/usr/local/lib/python3.7/dist-packages/sklearn/metrics/_classification.py:1272: UndefinedMetricWarning: Precision and F-score are ill-defined and being set to 0.0 in labels with no predicted samples. Use `zero_division` parameter to control this behavior.\n",
            "  _warn_prf(average, modifier, msg_start, len(result))\n",
            "/usr/local/lib/python3.7/dist-packages/sklearn/metrics/_classification.py:1272: UndefinedMetricWarning: Recall and F-score are ill-defined and being set to 0.0 in labels with no true samples. Use `zero_division` parameter to control this behavior.\n",
            "  _warn_prf(average, modifier, msg_start, len(result))\n"
          ],
          "name": "stderr"
        }
      ]
    },
    {
      "cell_type": "code",
      "metadata": {
        "colab": {
          "base_uri": "https://localhost:8080/"
        },
        "id": "BJjHFcOU-LKE",
        "outputId": "17cd0f6d-c921-4fd4-8754-792a4447bef9"
      },
      "source": [
        "clf = LogisticRegression(random_state=0)\n",
        "#res = cross_validate(clf, X_train, y_train, cv=5,  return_train_score=True) \n",
        "#scores = cross_val_score(clf,X_train, y_train, cv=5)\n",
        "#print(\"Accuracy: %0.2f (+/- %0.2f)\" % (scores.mean(), scores.std()))\n",
        "clf.fit(X_train, y_train)\n",
        "pred = clf.predict(X_test)"
      ],
      "execution_count": null,
      "outputs": [
        {
          "output_type": "stream",
          "text": [
            "/usr/local/lib/python3.7/dist-packages/sklearn/linear_model/_logistic.py:940: ConvergenceWarning: lbfgs failed to converge (status=1):\n",
            "STOP: TOTAL NO. of ITERATIONS REACHED LIMIT.\n",
            "\n",
            "Increase the number of iterations (max_iter) or scale the data as shown in:\n",
            "    https://scikit-learn.org/stable/modules/preprocessing.html\n",
            "Please also refer to the documentation for alternative solver options:\n",
            "    https://scikit-learn.org/stable/modules/linear_model.html#logistic-regression\n",
            "  extra_warning_msg=_LOGISTIC_SOLVER_CONVERGENCE_MSG)\n"
          ],
          "name": "stderr"
        }
      ]
    },
    {
      "cell_type": "code",
      "metadata": {
        "colab": {
          "base_uri": "https://localhost:8080/"
        },
        "id": "wGCfwJgf-LFV",
        "outputId": "80337e42-11d4-47c5-f18b-211e301fa3dc"
      },
      "source": [
        "print(classification_report(y_test, pred))"
      ],
      "execution_count": null,
      "outputs": [
        {
          "output_type": "stream",
          "text": [
            "              precision    recall  f1-score   support\n",
            "\n",
            "   Not_troll       0.00      0.00      0.00         0\n",
            "       label       0.00      0.00      0.00         1\n",
            "   not_troll       0.00      0.00      0.00       272\n",
            "       troll       0.60      0.79      0.68       395\n",
            "\n",
            "    accuracy                           0.47       668\n",
            "   macro avg       0.15      0.20      0.17       668\n",
            "weighted avg       0.35      0.47      0.40       668\n",
            "\n"
          ],
          "name": "stdout"
        },
        {
          "output_type": "stream",
          "text": [
            "/usr/local/lib/python3.7/dist-packages/sklearn/metrics/_classification.py:1272: UndefinedMetricWarning: Precision and F-score are ill-defined and being set to 0.0 in labels with no predicted samples. Use `zero_division` parameter to control this behavior.\n",
            "  _warn_prf(average, modifier, msg_start, len(result))\n",
            "/usr/local/lib/python3.7/dist-packages/sklearn/metrics/_classification.py:1272: UndefinedMetricWarning: Recall and F-score are ill-defined and being set to 0.0 in labels with no true samples. Use `zero_division` parameter to control this behavior.\n",
            "  _warn_prf(average, modifier, msg_start, len(result))\n"
          ],
          "name": "stderr"
        }
      ]
    },
    {
      "cell_type": "code",
      "metadata": {
        "id": "7V3QgnWn-LAR"
      },
      "source": [
        "clf=DecisionTreeClassifier(criterion='entropy',random_state=0)\n",
        "#res = cross_validate(clf, X_train, y_train, cv=5,  return_train_score=True) \n",
        "#scores = cross_val_score(clf,X_train, y_train, cv=5)\n",
        "#print(\"Accuracy: %0.2f (+/- %0.2f)\" % (scores.mean(), scores.std()))\n",
        "clf.fit(X_train, y_train)\n",
        "pred = clf.predict(X_test)"
      ],
      "execution_count": null,
      "outputs": []
    },
    {
      "cell_type": "code",
      "metadata": {
        "colab": {
          "base_uri": "https://localhost:8080/"
        },
        "id": "qu-RM4Pg-K5u",
        "outputId": "30846cf5-7352-4f50-b601-49542c3e925b"
      },
      "source": [
        "print(classification_report(y_test, pred))"
      ],
      "execution_count": null,
      "outputs": [
        {
          "output_type": "stream",
          "text": [
            "              precision    recall  f1-score   support\n",
            "\n",
            "   Not_troll       0.00      0.00      0.00         0\n",
            "       label       0.00      0.00      0.00         1\n",
            "   not_troll       0.00      0.00      0.00       272\n",
            "       troll       0.59      0.71      0.64       395\n",
            "\n",
            "    accuracy                           0.42       668\n",
            "   macro avg       0.15      0.18      0.16       668\n",
            "weighted avg       0.35      0.42      0.38       668\n",
            "\n"
          ],
          "name": "stdout"
        },
        {
          "output_type": "stream",
          "text": [
            "/usr/local/lib/python3.7/dist-packages/sklearn/metrics/_classification.py:1272: UndefinedMetricWarning: Precision and F-score are ill-defined and being set to 0.0 in labels with no predicted samples. Use `zero_division` parameter to control this behavior.\n",
            "  _warn_prf(average, modifier, msg_start, len(result))\n",
            "/usr/local/lib/python3.7/dist-packages/sklearn/metrics/_classification.py:1272: UndefinedMetricWarning: Recall and F-score are ill-defined and being set to 0.0 in labels with no true samples. Use `zero_division` parameter to control this behavior.\n",
            "  _warn_prf(average, modifier, msg_start, len(result))\n"
          ],
          "name": "stderr"
        }
      ]
    },
    {
      "cell_type": "code",
      "metadata": {
        "id": "VJlt9Hfq-K0u"
      },
      "source": [
        "clf=SVC(kernel='linear',random_state=0)\n",
        "#res = cross_validate(clf, X_train, y_train, cv=5,  return_train_score=True) \n",
        "#scores = cross_val_score(clf,X_train, y_train, cv=5)\n",
        "#print(\"Accuracy: %0.2f (+/- %0.2f)\" % (scores.mean(), scores.std()))\n",
        "clf.fit(X_train, y_train)\n",
        "pred = clf.predict(X_test)"
      ],
      "execution_count": null,
      "outputs": []
    },
    {
      "cell_type": "code",
      "metadata": {
        "colab": {
          "base_uri": "https://localhost:8080/"
        },
        "id": "t5qixjv2-KnH",
        "outputId": "f390e198-e9c4-426f-e8ce-7c3b4eaa5361"
      },
      "source": [
        "print(classification_report(y_test, pred))"
      ],
      "execution_count": null,
      "outputs": [
        {
          "output_type": "stream",
          "text": [
            "              precision    recall  f1-score   support\n",
            "\n",
            "   Not_troll       0.00      0.00      0.00         0\n",
            "       label       0.00      0.00      0.00         1\n",
            "   not_troll       0.00      0.00      0.00       272\n",
            "       troll       0.61      0.79      0.69       395\n",
            "\n",
            "    accuracy                           0.47       668\n",
            "   macro avg       0.15      0.20      0.17       668\n",
            "weighted avg       0.36      0.47      0.41       668\n",
            "\n"
          ],
          "name": "stdout"
        },
        {
          "output_type": "stream",
          "text": [
            "/usr/local/lib/python3.7/dist-packages/sklearn/metrics/_classification.py:1272: UndefinedMetricWarning: Precision and F-score are ill-defined and being set to 0.0 in labels with no predicted samples. Use `zero_division` parameter to control this behavior.\n",
            "  _warn_prf(average, modifier, msg_start, len(result))\n",
            "/usr/local/lib/python3.7/dist-packages/sklearn/metrics/_classification.py:1272: UndefinedMetricWarning: Recall and F-score are ill-defined and being set to 0.0 in labels with no true samples. Use `zero_division` parameter to control this behavior.\n",
            "  _warn_prf(average, modifier, msg_start, len(result))\n"
          ],
          "name": "stderr"
        }
      ]
    },
    {
      "cell_type": "code",
      "metadata": {
        "id": "nJCahdWo-Kfk"
      },
      "source": [
        "clf=XGBClassifier()\n",
        "#res = cross_validate(clf, X_train, y_train, cv=5,  return_train_score=True) \n",
        "#scores = cross_val_score(clf,X_train, y_train, cv=5)\n",
        "#print(\"Accuracy: %0.2f (+/- %0.2f)\" % (scores.mean(), scores.std()))\n",
        "clf.fit(X_train, y_train)\n",
        "pred = clf.predict(X_test)"
      ],
      "execution_count": null,
      "outputs": []
    },
    {
      "cell_type": "code",
      "metadata": {
        "colab": {
          "base_uri": "https://localhost:8080/"
        },
        "id": "dLNod65mBL-X",
        "outputId": "e138f9db-5fa9-4981-e7c3-ded59d2edec7"
      },
      "source": [
        "print(classification_report(y_test, pred))"
      ],
      "execution_count": null,
      "outputs": [
        {
          "output_type": "stream",
          "text": [
            "              precision    recall  f1-score   support\n",
            "\n",
            "   Not_troll       0.00      0.00      0.00         0\n",
            "       label       0.00      0.00      0.00         1\n",
            "   not_troll       0.00      0.00      0.00       272\n",
            "       troll       0.60      0.83      0.70       395\n",
            "\n",
            "    accuracy                           0.49       668\n",
            "   macro avg       0.15      0.21      0.17       668\n",
            "weighted avg       0.35      0.49      0.41       668\n",
            "\n"
          ],
          "name": "stdout"
        },
        {
          "output_type": "stream",
          "text": [
            "/usr/local/lib/python3.7/dist-packages/sklearn/metrics/_classification.py:1272: UndefinedMetricWarning: Precision and F-score are ill-defined and being set to 0.0 in labels with no predicted samples. Use `zero_division` parameter to control this behavior.\n",
            "  _warn_prf(average, modifier, msg_start, len(result))\n",
            "/usr/local/lib/python3.7/dist-packages/sklearn/metrics/_classification.py:1272: UndefinedMetricWarning: Recall and F-score are ill-defined and being set to 0.0 in labels with no true samples. Use `zero_division` parameter to control this behavior.\n",
            "  _warn_prf(average, modifier, msg_start, len(result))\n"
          ],
          "name": "stderr"
        }
      ]
    },
    {
      "cell_type": "code",
      "metadata": {
        "colab": {
          "base_uri": "https://localhost:8080/",
          "height": 669,
          "referenced_widgets": [
            "92572c03d40d46f29ec2173b03ea0643",
            "d84603b5e245448d8aa01963be2fda3c",
            "1500d2ac51ca443e9d4f5739b2c008c1",
            "a56db5917a534361b174560de72710b0",
            "1dfd741209d9417fbcca2e9eca850160",
            "97455bcc5a6e4bd4a30fe568f0118133",
            "0264d07a46c0489ba7942c910bdeed37",
            "167ec9d8641344c9882f65d19d9c6b80",
            "60caa07f1ec44bc99b1e151d95d492d5",
            "8da84eff19f646a9bf16f3c5967f643c",
            "1d9e20b2865a4a74bd43d71cc6829e76",
            "3e6ff18c284e46498277da6cc9ad0f8a",
            "26a0b9e8147e4c0da77ed0d04a2189e2",
            "5fda22cae7c34c74bda43f19223332fb",
            "bf17d2eeda8f4a2cb7f28afbe57b4f0a",
            "7f0f47b2cf2f40a5a321394ecd2876e7",
            "e4ad759a1c5549bea2daf20e1e537a3c",
            "68f9e89b6dde42c0a7027a219924e58f",
            "a9c23b748f354f209b78649e43f7180a",
            "59b1ff0cc8e64d1a8950cc5bdf94edc8",
            "cc534d0fc7a94b2c85f7284ef1b45644",
            "533eb017d65d4ec9a748135f0e202f93",
            "9c8e543c9aa747da84fbaf7a8b36861e",
            "84c93737855340efa76f0c17f5a7a4e7",
            "1ef86e4dccc64499915b7fa0c48bc90a",
            "14cb511513c94956ab81c38145e809e0",
            "c4ec15dc3e1c4d39aef4522342469078",
            "22aef880648b4d119f6f14d0e6d8803b",
            "45cf52bdf7194a8890c24a1be5b5ba1c",
            "a936d205de1d4bd781daa33e5b705923",
            "0bf798631aae48eab039afafff6064f1",
            "d91c1fec87d546aba0f6cffa351896e6",
            "9737c153150b44598fbf5b3107ade07b",
            "3e54cb15ee3b4ff6bb8fe996033331fa",
            "2cfd90c8ee05412c9998753e20846f6a",
            "6c2a8b7347e14e608bbcfc60fd5c7249",
            "30116c639d2a4f86a71427cd3f067044",
            "0a0623a337384c249541a5bb9d5a0911",
            "b7d05e313cb24355ae3343d87c094a9d",
            "b341c2ee37aa414a8a54060f25e7689e",
            "72a9d40696204210898ef2e62267e7ef",
            "609796bf552c4b2f8fb65b06a9f4c10e",
            "e6650dafd4044d7c8cbd03bff1b36941",
            "92ff0f8ac65c43d8acee76a9676d5cf1",
            "de2b04fb33e6415b95776e18dff11452",
            "e4b2095e34bb40798ea06fe290230844",
            "03d793e34d8a4b0eb09909ec693cd319",
            "5dbd4bc28c3a46b790161c62eccf3476",
            "5b98efc7d8c9466f858af41568b0a86c",
            "f03c3742f9394ee98f87649757a255a1",
            "907a00c0a3d04cc4916355912f65de51",
            "e1d213de738741c0b6f9b00bd5c0c749",
            "e43c5f56faa04c6cac58607edd0550a4",
            "a7de3bb2419442d9b4198d1c4a818965",
            "a243943152ca419fac11f4fed057029f",
            "bba62eb094a84e4ca30c433ebfbe14af",
            "1805f3f7f5bc4e47b306ed7fb58f71bb",
            "a2385964d6ec475a80352677caff6275",
            "c0b1cbee17b14e4da636fbd5cb82abdc",
            "a9852138b27a4499a3d19847d85f21ed",
            "75e25b0a64fd4bfebf764702ba91eab7",
            "29e0c8cb022f4110bc0117f25dd41852",
            "64e1dd00bbc34cb09244ba134ce514f6",
            "04e22909c7d14d54955814cc010a7c4a",
            "6c043445399d43a79bd9b5277534e23e",
            "499bb770f3994b9ea4d42a95681f6ec8",
            "303cf7cfd9da402698873f1d3d853982",
            "e0d44691011546e5aa12d96181dceacc",
            "90820ad806e34e1d93236bc5e4d16dde",
            "6cd47712e35444849efbeacf8811b80e",
            "d164dbc2f147489282c3a670889a937f",
            "91b6ce851eef4ae3a07f993bf05a603f",
            "5b6932f2e06d44cb9c2f8614356d2c10",
            "6a5b3ed3f2fa4027a4d970b833319fdd",
            "8bae9a49556b4de485b43bd416f09f93",
            "e453ebb1a4b74f03a51959353d138fce",
            "445a2de73e7843dfa6c4134fde80018e",
            "2e7c8c0e88cc464d8ee870a290a123ac",
            "0098b28da1514731bb03089475281361",
            "5de1854e92bc44c3bdc1b4fb9cd3af98",
            "914f3295e23b4cb8aa134a1c17a43aee",
            "b6dd297c37e3416bb4536c3d9f329b3c",
            "1efed77d90fb4c3f96c21f15778f268a",
            "b1d7790838a149c3860f364d59a92f69",
            "eb8b4e620d6b4a04b96442a3576ebd32",
            "1f6bd85a3e624a26bd872c2c987d7cb1",
            "4f9ce9c6a0b34d68ba65d6ce85b758e0",
            "18dae2ea92234fb9923343aa662b4159",
            "ceaf9cb01f014d82b89b5f142367e92f",
            "b3e15c07906943f8ae7a842bfa78bc56",
            "4190d32a499c44e58a90750d980a9cbf",
            "c4c2364b4004473490e91fe272daf4aa",
            "3def2a0958594d5994c483c41cbbdada",
            "0e4a4af4cd7e46ba829ded456c4b5509",
            "d5b58beb530e4d72b7145e1a3ae72351",
            "4b4561982c28440aa73dec43a8815aea",
            "ebe8b09ad5244ebd860dfab686b759ef",
            "bd155e95d970450d90e1b588a9709453",
            "2b911e91d0624adfb1dcbd57cb5d68bc",
            "4c1b970bec1b4899abdeb3418fd1d916",
            "17e1978a4ea14dd4814f4b30ed682e75",
            "d66df42e7a2e48fdb9b0042ce8962822",
            "9d533bfaeb6949fea3673193186d8eb2",
            "a65749b9b45346489506f53ee61975eb"
          ]
        },
        "id": "iPfRanbx-KSl",
        "outputId": "8261d501-e83e-4c15-f2c4-752f5cd8ec8c"
      },
      "source": [
        "from sentence_transformers import SentenceTransformer\n",
        "model = SentenceTransformer('quora-distilbert-multilingual')\n",
        "X_train = model.encode(captions, batch_size=32,show_progress_bar=True)\n",
        "y_train = label\n",
        "X_test=model.encode(captiontext)"
      ],
      "execution_count": null,
      "outputs": [
        {
          "output_type": "display_data",
          "data": {
            "application/vnd.jupyter.widget-view+json": {
              "model_id": "92572c03d40d46f29ec2173b03ea0643",
              "version_major": 2,
              "version_minor": 0
            },
            "text/plain": [
              "HBox(children=(FloatProgress(value=0.0, description='Downloading', max=345.0, style=ProgressStyle(description_…"
            ]
          },
          "metadata": {
            "tags": []
          }
        },
        {
          "output_type": "stream",
          "text": [
            "\n"
          ],
          "name": "stdout"
        },
        {
          "output_type": "display_data",
          "data": {
            "application/vnd.jupyter.widget-view+json": {
              "model_id": "60caa07f1ec44bc99b1e151d95d492d5",
              "version_major": 2,
              "version_minor": 0
            },
            "text/plain": [
              "HBox(children=(FloatProgress(value=0.0, description='Downloading', max=3709.0, style=ProgressStyle(description…"
            ]
          },
          "metadata": {
            "tags": []
          }
        },
        {
          "output_type": "stream",
          "text": [
            "\n"
          ],
          "name": "stdout"
        },
        {
          "output_type": "display_data",
          "data": {
            "application/vnd.jupyter.widget-view+json": {
              "model_id": "e4ad759a1c5549bea2daf20e1e537a3c",
              "version_major": 2,
              "version_minor": 0
            },
            "text/plain": [
              "HBox(children=(FloatProgress(value=0.0, description='Downloading', max=572.0, style=ProgressStyle(description_…"
            ]
          },
          "metadata": {
            "tags": []
          }
        },
        {
          "output_type": "stream",
          "text": [
            "\n"
          ],
          "name": "stdout"
        },
        {
          "output_type": "display_data",
          "data": {
            "application/vnd.jupyter.widget-view+json": {
              "model_id": "1ef86e4dccc64499915b7fa0c48bc90a",
              "version_major": 2,
              "version_minor": 0
            },
            "text/plain": [
              "HBox(children=(FloatProgress(value=0.0, description='Downloading', max=122.0, style=ProgressStyle(description_…"
            ]
          },
          "metadata": {
            "tags": []
          }
        },
        {
          "output_type": "stream",
          "text": [
            "\n"
          ],
          "name": "stdout"
        },
        {
          "output_type": "display_data",
          "data": {
            "application/vnd.jupyter.widget-view+json": {
              "model_id": "9737c153150b44598fbf5b3107ade07b",
              "version_major": 2,
              "version_minor": 0
            },
            "text/plain": [
              "HBox(children=(FloatProgress(value=0.0, description='Downloading', max=229.0, style=ProgressStyle(description_…"
            ]
          },
          "metadata": {
            "tags": []
          }
        },
        {
          "output_type": "stream",
          "text": [
            "\n"
          ],
          "name": "stdout"
        },
        {
          "output_type": "display_data",
          "data": {
            "application/vnd.jupyter.widget-view+json": {
              "model_id": "72a9d40696204210898ef2e62267e7ef",
              "version_major": 2,
              "version_minor": 0
            },
            "text/plain": [
              "HBox(children=(FloatProgress(value=0.0, description='Downloading', max=538971577.0, style=ProgressStyle(descri…"
            ]
          },
          "metadata": {
            "tags": []
          }
        },
        {
          "output_type": "stream",
          "text": [
            "\n"
          ],
          "name": "stdout"
        },
        {
          "output_type": "display_data",
          "data": {
            "application/vnd.jupyter.widget-view+json": {
              "model_id": "5b98efc7d8c9466f858af41568b0a86c",
              "version_major": 2,
              "version_minor": 0
            },
            "text/plain": [
              "HBox(children=(FloatProgress(value=0.0, description='Downloading', max=53.0, style=ProgressStyle(description_w…"
            ]
          },
          "metadata": {
            "tags": []
          }
        },
        {
          "output_type": "stream",
          "text": [
            "\n"
          ],
          "name": "stdout"
        },
        {
          "output_type": "display_data",
          "data": {
            "application/vnd.jupyter.widget-view+json": {
              "model_id": "1805f3f7f5bc4e47b306ed7fb58f71bb",
              "version_major": 2,
              "version_minor": 0
            },
            "text/plain": [
              "HBox(children=(FloatProgress(value=0.0, description='Downloading', max=112.0, style=ProgressStyle(description_…"
            ]
          },
          "metadata": {
            "tags": []
          }
        },
        {
          "output_type": "stream",
          "text": [
            "\n"
          ],
          "name": "stdout"
        },
        {
          "output_type": "display_data",
          "data": {
            "application/vnd.jupyter.widget-view+json": {
              "model_id": "6c043445399d43a79bd9b5277534e23e",
              "version_major": 2,
              "version_minor": 0
            },
            "text/plain": [
              "HBox(children=(FloatProgress(value=0.0, description='Downloading', max=1961847.0, style=ProgressStyle(descript…"
            ]
          },
          "metadata": {
            "tags": []
          }
        },
        {
          "output_type": "stream",
          "text": [
            "\n"
          ],
          "name": "stdout"
        },
        {
          "output_type": "display_data",
          "data": {
            "application/vnd.jupyter.widget-view+json": {
              "model_id": "5b6932f2e06d44cb9c2f8614356d2c10",
              "version_major": 2,
              "version_minor": 0
            },
            "text/plain": [
              "HBox(children=(FloatProgress(value=0.0, description='Downloading', max=447.0, style=ProgressStyle(description_…"
            ]
          },
          "metadata": {
            "tags": []
          }
        },
        {
          "output_type": "stream",
          "text": [
            "\n"
          ],
          "name": "stdout"
        },
        {
          "output_type": "display_data",
          "data": {
            "application/vnd.jupyter.widget-view+json": {
              "model_id": "914f3295e23b4cb8aa134a1c17a43aee",
              "version_major": 2,
              "version_minor": 0
            },
            "text/plain": [
              "HBox(children=(FloatProgress(value=0.0, description='Downloading', max=995526.0, style=ProgressStyle(descripti…"
            ]
          },
          "metadata": {
            "tags": []
          }
        },
        {
          "output_type": "stream",
          "text": [
            "\n"
          ],
          "name": "stdout"
        },
        {
          "output_type": "display_data",
          "data": {
            "application/vnd.jupyter.widget-view+json": {
              "model_id": "ceaf9cb01f014d82b89b5f142367e92f",
              "version_major": 2,
              "version_minor": 0
            },
            "text/plain": [
              "HBox(children=(FloatProgress(value=0.0, description='Downloading', max=190.0, style=ProgressStyle(description_…"
            ]
          },
          "metadata": {
            "tags": []
          }
        },
        {
          "output_type": "stream",
          "text": [
            "\n"
          ],
          "name": "stdout"
        },
        {
          "output_type": "display_data",
          "data": {
            "application/vnd.jupyter.widget-view+json": {
              "model_id": "ebe8b09ad5244ebd860dfab686b759ef",
              "version_major": 2,
              "version_minor": 0
            },
            "text/plain": [
              "HBox(children=(FloatProgress(value=0.0, description='Batches', max=72.0, style=ProgressStyle(description_width…"
            ]
          },
          "metadata": {
            "tags": []
          }
        },
        {
          "output_type": "stream",
          "text": [
            "\n"
          ],
          "name": "stdout"
        }
      ]
    },
    {
      "cell_type": "code",
      "metadata": {
        "colab": {
          "base_uri": "https://localhost:8080/"
        },
        "id": "eEc5sho5_dsb",
        "outputId": "90bca558-cc76-474c-d887-9d7ffc5f9fc6"
      },
      "source": [
        "clf = MLPClassifier(verbose=True, hidden_layer_sizes=(512))\n",
        "#res = cross_validate(clf, X_train, y_train, cv=5,  return_train_score=True) \n",
        "#scores = cross_val_score(clf,X_train, y_train, cv=5)\n",
        "#print(\"Accuracy: %0.2f (+/- %0.2f)\" % (scores.mean(), scores.std()))\n",
        "clf.fit(X_train, y_train)\n",
        "pred = clf.predict(X_test)"
      ],
      "execution_count": null,
      "outputs": [
        {
          "output_type": "stream",
          "text": [
            "Iteration 1, loss = 0.67910183\n",
            "Iteration 2, loss = 0.52327608\n",
            "Iteration 3, loss = 0.43465214\n",
            "Iteration 4, loss = 0.38889226\n",
            "Iteration 5, loss = 0.35871545\n",
            "Iteration 6, loss = 0.35209121\n",
            "Iteration 7, loss = 0.31523618\n",
            "Iteration 8, loss = 0.32006566\n",
            "Iteration 9, loss = 0.30099328\n",
            "Iteration 10, loss = 0.28406467\n",
            "Iteration 11, loss = 0.26950706\n",
            "Iteration 12, loss = 0.25515720\n",
            "Iteration 13, loss = 0.24712524\n",
            "Iteration 14, loss = 0.24387849\n",
            "Iteration 15, loss = 0.24307867\n",
            "Iteration 16, loss = 0.23851849\n",
            "Iteration 17, loss = 0.23792460\n",
            "Iteration 18, loss = 0.22076769\n",
            "Iteration 19, loss = 0.21746092\n",
            "Iteration 20, loss = 0.21994757\n",
            "Iteration 21, loss = 0.21499992\n",
            "Iteration 22, loss = 0.20038224\n",
            "Iteration 23, loss = 0.19903027\n",
            "Iteration 24, loss = 0.20568512\n",
            "Iteration 25, loss = 0.19080441\n",
            "Iteration 26, loss = 0.18260946\n",
            "Iteration 27, loss = 0.18283172\n",
            "Iteration 28, loss = 0.18032372\n",
            "Iteration 29, loss = 0.17951461\n",
            "Iteration 30, loss = 0.17599719\n",
            "Iteration 31, loss = 0.17080058\n",
            "Iteration 32, loss = 0.17229979\n",
            "Iteration 33, loss = 0.15911825\n",
            "Iteration 34, loss = 0.16115759\n",
            "Iteration 35, loss = 0.15313030\n",
            "Iteration 36, loss = 0.15444034\n",
            "Iteration 37, loss = 0.15323180\n",
            "Iteration 38, loss = 0.15087040\n",
            "Iteration 39, loss = 0.14827528\n",
            "Iteration 40, loss = 0.13669731\n",
            "Iteration 41, loss = 0.13363951\n",
            "Iteration 42, loss = 0.13433236\n",
            "Iteration 43, loss = 0.13678373\n",
            "Iteration 44, loss = 0.15124180\n",
            "Iteration 45, loss = 0.14695365\n",
            "Iteration 46, loss = 0.13794951\n",
            "Iteration 47, loss = 0.13655570\n",
            "Iteration 48, loss = 0.12915114\n",
            "Iteration 49, loss = 0.12087729\n",
            "Iteration 50, loss = 0.11706364\n",
            "Iteration 51, loss = 0.11732600\n",
            "Iteration 52, loss = 0.11229678\n",
            "Iteration 53, loss = 0.11506210\n",
            "Iteration 54, loss = 0.11606762\n",
            "Iteration 55, loss = 0.12057375\n",
            "Iteration 56, loss = 0.11695041\n",
            "Iteration 57, loss = 0.11203103\n",
            "Iteration 58, loss = 0.10677022\n",
            "Iteration 59, loss = 0.10406409\n",
            "Iteration 60, loss = 0.10207061\n",
            "Iteration 61, loss = 0.10760342\n",
            "Iteration 62, loss = 0.11093355\n",
            "Iteration 63, loss = 0.10108613\n",
            "Iteration 64, loss = 0.09784264\n",
            "Iteration 65, loss = 0.09748414\n",
            "Iteration 66, loss = 0.09227606\n",
            "Iteration 67, loss = 0.09952757\n",
            "Iteration 68, loss = 0.09547618\n",
            "Iteration 69, loss = 0.09189860\n",
            "Iteration 70, loss = 0.09393127\n",
            "Iteration 71, loss = 0.09321903\n",
            "Iteration 72, loss = 0.08959478\n",
            "Iteration 73, loss = 0.08734930\n",
            "Iteration 74, loss = 0.09865323\n",
            "Iteration 75, loss = 0.08024117\n",
            "Iteration 76, loss = 0.09381701\n",
            "Iteration 77, loss = 0.08336892\n",
            "Iteration 78, loss = 0.08114674\n",
            "Iteration 79, loss = 0.09718615\n",
            "Iteration 80, loss = 0.08855289\n",
            "Iteration 81, loss = 0.08268096\n",
            "Iteration 82, loss = 0.07337644\n",
            "Iteration 83, loss = 0.07119253\n",
            "Iteration 84, loss = 0.07857398\n",
            "Iteration 85, loss = 0.06983992\n",
            "Iteration 86, loss = 0.06794092\n",
            "Iteration 87, loss = 0.06896471\n",
            "Iteration 88, loss = 0.06965609\n",
            "Iteration 89, loss = 0.06738571\n",
            "Iteration 90, loss = 0.06708143\n",
            "Iteration 91, loss = 0.06156782\n",
            "Iteration 92, loss = 0.05975769\n",
            "Iteration 93, loss = 0.06037190\n",
            "Iteration 94, loss = 0.05795826\n",
            "Iteration 95, loss = 0.06100898\n",
            "Iteration 96, loss = 0.05961051\n",
            "Iteration 97, loss = 0.06551578\n",
            "Iteration 98, loss = 0.05837987\n",
            "Iteration 99, loss = 0.05552395\n",
            "Iteration 100, loss = 0.05730589\n",
            "Iteration 101, loss = 0.05406024\n",
            "Iteration 102, loss = 0.05794850\n",
            "Iteration 103, loss = 0.05313148\n",
            "Iteration 104, loss = 0.05541659\n",
            "Iteration 105, loss = 0.05736683\n",
            "Iteration 106, loss = 0.05191677\n",
            "Iteration 107, loss = 0.05293696\n",
            "Iteration 108, loss = 0.05240263\n",
            "Iteration 109, loss = 0.05656247\n",
            "Iteration 110, loss = 0.06118293\n",
            "Iteration 111, loss = 0.05931281\n",
            "Iteration 112, loss = 0.06177113\n",
            "Iteration 113, loss = 0.05357638\n",
            "Iteration 114, loss = 0.05209914\n",
            "Iteration 115, loss = 0.04840582\n",
            "Iteration 116, loss = 0.04703539\n",
            "Iteration 117, loss = 0.04513323\n",
            "Iteration 118, loss = 0.05020315\n",
            "Iteration 119, loss = 0.05305930\n",
            "Iteration 120, loss = 0.05209500\n",
            "Iteration 121, loss = 0.05274145\n",
            "Iteration 122, loss = 0.04575581\n",
            "Iteration 123, loss = 0.04217443\n",
            "Iteration 124, loss = 0.04062025\n",
            "Iteration 125, loss = 0.04651737\n",
            "Iteration 126, loss = 0.04944678\n",
            "Iteration 127, loss = 0.04843722\n",
            "Iteration 128, loss = 0.05191215\n",
            "Iteration 129, loss = 0.04247083\n",
            "Iteration 130, loss = 0.04186800\n",
            "Iteration 131, loss = 0.04074540\n",
            "Iteration 132, loss = 0.04015339\n",
            "Iteration 133, loss = 0.04106744\n",
            "Iteration 134, loss = 0.03705751\n",
            "Iteration 135, loss = 0.04114853\n",
            "Iteration 136, loss = 0.03936353\n",
            "Iteration 137, loss = 0.04254478\n",
            "Iteration 138, loss = 0.04210834\n",
            "Iteration 139, loss = 0.04498721\n",
            "Iteration 140, loss = 0.04446425\n",
            "Iteration 141, loss = 0.04349990\n",
            "Iteration 142, loss = 0.03607940\n",
            "Iteration 143, loss = 0.03668107\n",
            "Iteration 144, loss = 0.03509687\n",
            "Iteration 145, loss = 0.03585449\n",
            "Iteration 146, loss = 0.04031161\n",
            "Iteration 147, loss = 0.03925965\n",
            "Iteration 148, loss = 0.03359748\n",
            "Iteration 149, loss = 0.03545229\n",
            "Iteration 150, loss = 0.04873108\n",
            "Iteration 151, loss = 0.03590715\n",
            "Iteration 152, loss = 0.03563868\n",
            "Iteration 153, loss = 0.03691658\n",
            "Iteration 154, loss = 0.03726025\n",
            "Iteration 155, loss = 0.03584160\n",
            "Iteration 156, loss = 0.03484687\n",
            "Iteration 157, loss = 0.03091058\n",
            "Iteration 158, loss = 0.03761935\n",
            "Iteration 159, loss = 0.03463310\n",
            "Iteration 160, loss = 0.03299727\n",
            "Iteration 161, loss = 0.03187601\n",
            "Iteration 162, loss = 0.03297940\n",
            "Iteration 163, loss = 0.04016129\n",
            "Iteration 164, loss = 0.04015525\n",
            "Iteration 165, loss = 0.04098164\n",
            "Iteration 166, loss = 0.03329950\n",
            "Iteration 167, loss = 0.03630689\n",
            "Iteration 168, loss = 0.03835741\n",
            "Training loss did not improve more than tol=0.000100 for 10 consecutive epochs. Stopping.\n"
          ],
          "name": "stdout"
        }
      ]
    },
    {
      "cell_type": "code",
      "metadata": {
        "colab": {
          "base_uri": "https://localhost:8080/"
        },
        "id": "ZR-wsQOS_dn5",
        "outputId": "100de4aa-9955-475a-e56c-d6eaa5a5f01d"
      },
      "source": [
        "print(classification_report(y_test, pred))"
      ],
      "execution_count": null,
      "outputs": [
        {
          "output_type": "stream",
          "text": [
            "              precision    recall  f1-score   support\n",
            "\n",
            "   Not_troll       0.00      0.00      0.00         0\n",
            "       label       0.00      0.00      0.00         1\n",
            "   not_troll       0.00      0.00      0.00       272\n",
            "       troll       0.61      0.73      0.67       395\n",
            "\n",
            "    accuracy                           0.43       668\n",
            "   macro avg       0.15      0.18      0.17       668\n",
            "weighted avg       0.36      0.43      0.39       668\n",
            "\n"
          ],
          "name": "stdout"
        },
        {
          "output_type": "stream",
          "text": [
            "/usr/local/lib/python3.7/dist-packages/sklearn/metrics/_classification.py:1272: UndefinedMetricWarning: Precision and F-score are ill-defined and being set to 0.0 in labels with no predicted samples. Use `zero_division` parameter to control this behavior.\n",
            "  _warn_prf(average, modifier, msg_start, len(result))\n",
            "/usr/local/lib/python3.7/dist-packages/sklearn/metrics/_classification.py:1272: UndefinedMetricWarning: Recall and F-score are ill-defined and being set to 0.0 in labels with no true samples. Use `zero_division` parameter to control this behavior.\n",
            "  _warn_prf(average, modifier, msg_start, len(result))\n"
          ],
          "name": "stderr"
        }
      ]
    },
    {
      "cell_type": "code",
      "metadata": {
        "id": "1gu6uNUD_di_"
      },
      "source": [
        "clf = KNeighborsClassifier(n_neighbors=3)\n",
        "#res = cross_validate(clf, X_train, y_train, cv=5,  return_train_score=True) \n",
        "#scores = cross_val_score(clf,X_train, y_train, cv=5)\n",
        "#print(\"Accuracy: %0.2f (+/- %0.2f)\" % (scores.mean(), scores.std()))\n",
        "clf.fit(X_train, y_train)\n",
        "pred = clf.predict(X_test)"
      ],
      "execution_count": null,
      "outputs": []
    },
    {
      "cell_type": "code",
      "metadata": {
        "colab": {
          "base_uri": "https://localhost:8080/"
        },
        "id": "bQO3cisu_dbI",
        "outputId": "1c07e623-9268-4ea7-c977-2b3639a70239"
      },
      "source": [
        "print(classification_report(y_test, pred))"
      ],
      "execution_count": null,
      "outputs": [
        {
          "output_type": "stream",
          "text": [
            "              precision    recall  f1-score   support\n",
            "\n",
            "   Not_troll       0.00      0.00      0.00         0\n",
            "       label       0.00      0.00      0.00         1\n",
            "   not_troll       0.00      0.00      0.00       272\n",
            "       troll       0.61      0.59      0.60       395\n",
            "\n",
            "    accuracy                           0.35       668\n",
            "   macro avg       0.15      0.15      0.15       668\n",
            "weighted avg       0.36      0.35      0.36       668\n",
            "\n"
          ],
          "name": "stdout"
        },
        {
          "output_type": "stream",
          "text": [
            "/usr/local/lib/python3.7/dist-packages/sklearn/metrics/_classification.py:1272: UndefinedMetricWarning: Precision and F-score are ill-defined and being set to 0.0 in labels with no predicted samples. Use `zero_division` parameter to control this behavior.\n",
            "  _warn_prf(average, modifier, msg_start, len(result))\n",
            "/usr/local/lib/python3.7/dist-packages/sklearn/metrics/_classification.py:1272: UndefinedMetricWarning: Recall and F-score are ill-defined and being set to 0.0 in labels with no true samples. Use `zero_division` parameter to control this behavior.\n",
            "  _warn_prf(average, modifier, msg_start, len(result))\n"
          ],
          "name": "stderr"
        }
      ]
    },
    {
      "cell_type": "code",
      "metadata": {
        "colab": {
          "base_uri": "https://localhost:8080/"
        },
        "id": "64sAfKZF_dXX",
        "outputId": "a612a7a9-4bed-4e9a-f3ba-87ea53e2a472"
      },
      "source": [
        "clf = RandomForestClassifier(n_estimators=1000,verbose=True, n_jobs=-1)\n",
        "#res = cross_validate(clf, X_train, y_train, cv=5,  return_train_score=True) \n",
        "#scores = cross_val_score(clf,X_train, y_train, cv=5)\n",
        "#print(\"Accuracy: %0.2f (+/- %0.2f)\" % (scores.mean(), scores.std()))\n",
        "clf.fit(X_train, y_train)\n",
        "pred = clf.predict(X_test)"
      ],
      "execution_count": null,
      "outputs": [
        {
          "output_type": "stream",
          "text": [
            "[Parallel(n_jobs=-1)]: Using backend ThreadingBackend with 2 concurrent workers.\n",
            "[Parallel(n_jobs=-1)]: Done  46 tasks      | elapsed:    1.4s\n",
            "[Parallel(n_jobs=-1)]: Done 196 tasks      | elapsed:    5.9s\n",
            "[Parallel(n_jobs=-1)]: Done 446 tasks      | elapsed:   13.3s\n",
            "[Parallel(n_jobs=-1)]: Done 796 tasks      | elapsed:   23.7s\n",
            "[Parallel(n_jobs=-1)]: Done 1000 out of 1000 | elapsed:   29.7s finished\n",
            "[Parallel(n_jobs=2)]: Using backend ThreadingBackend with 2 concurrent workers.\n",
            "[Parallel(n_jobs=2)]: Done  46 tasks      | elapsed:    0.0s\n",
            "[Parallel(n_jobs=2)]: Done 196 tasks      | elapsed:    0.1s\n",
            "[Parallel(n_jobs=2)]: Done 446 tasks      | elapsed:    0.2s\n",
            "[Parallel(n_jobs=2)]: Done 796 tasks      | elapsed:    0.3s\n",
            "[Parallel(n_jobs=2)]: Done 1000 out of 1000 | elapsed:    0.3s finished\n"
          ],
          "name": "stderr"
        }
      ]
    },
    {
      "cell_type": "code",
      "metadata": {
        "colab": {
          "base_uri": "https://localhost:8080/"
        },
        "id": "3LNpsbjg_dKf",
        "outputId": "06db8837-2e30-4cf3-b107-ffa44c686088"
      },
      "source": [
        "print(classification_report(y_test, pred))"
      ],
      "execution_count": null,
      "outputs": [
        {
          "output_type": "stream",
          "text": [
            "              precision    recall  f1-score   support\n",
            "\n",
            "   Not_troll       0.00      0.00      0.00         0\n",
            "       label       0.00      0.00      0.00         1\n",
            "   not_troll       0.00      0.00      0.00       272\n",
            "       troll       0.61      0.82      0.70       395\n",
            "\n",
            "    accuracy                           0.49       668\n",
            "   macro avg       0.15      0.21      0.17       668\n",
            "weighted avg       0.36      0.49      0.41       668\n",
            "\n"
          ],
          "name": "stdout"
        },
        {
          "output_type": "stream",
          "text": [
            "/usr/local/lib/python3.7/dist-packages/sklearn/metrics/_classification.py:1272: UndefinedMetricWarning: Precision and F-score are ill-defined and being set to 0.0 in labels with no predicted samples. Use `zero_division` parameter to control this behavior.\n",
            "  _warn_prf(average, modifier, msg_start, len(result))\n",
            "/usr/local/lib/python3.7/dist-packages/sklearn/metrics/_classification.py:1272: UndefinedMetricWarning: Recall and F-score are ill-defined and being set to 0.0 in labels with no true samples. Use `zero_division` parameter to control this behavior.\n",
            "  _warn_prf(average, modifier, msg_start, len(result))\n"
          ],
          "name": "stderr"
        }
      ]
    },
    {
      "cell_type": "code",
      "metadata": {
        "colab": {
          "base_uri": "https://localhost:8080/"
        },
        "id": "u2tXtE9f_dF7",
        "outputId": "af4798e7-e303-4d4a-99a7-344a7598e21f"
      },
      "source": [
        "clf = LogisticRegression(random_state=0)\n",
        "#res = cross_validate(clf, X_train, y_train, cv=5,  return_train_score=True) \n",
        "#scores = cross_val_score(clf,X_train, y_train, cv=5)\n",
        "#print(\"Accuracy: %0.2f (+/- %0.2f)\" % (scores.mean(), scores.std()))\n",
        "clf.fit(X_train, y_train)\n",
        "pred = clf.predict(X_test)"
      ],
      "execution_count": null,
      "outputs": [
        {
          "output_type": "stream",
          "text": [
            "/usr/local/lib/python3.7/dist-packages/sklearn/linear_model/_logistic.py:940: ConvergenceWarning: lbfgs failed to converge (status=1):\n",
            "STOP: TOTAL NO. of ITERATIONS REACHED LIMIT.\n",
            "\n",
            "Increase the number of iterations (max_iter) or scale the data as shown in:\n",
            "    https://scikit-learn.org/stable/modules/preprocessing.html\n",
            "Please also refer to the documentation for alternative solver options:\n",
            "    https://scikit-learn.org/stable/modules/linear_model.html#logistic-regression\n",
            "  extra_warning_msg=_LOGISTIC_SOLVER_CONVERGENCE_MSG)\n"
          ],
          "name": "stderr"
        }
      ]
    },
    {
      "cell_type": "code",
      "metadata": {
        "colab": {
          "base_uri": "https://localhost:8080/"
        },
        "id": "XBuSGBDM_dBv",
        "outputId": "a7590ebd-34cc-49a4-ad6a-fc3a0890be88"
      },
      "source": [
        "print(classification_report(y_test, pred))"
      ],
      "execution_count": null,
      "outputs": [
        {
          "output_type": "stream",
          "text": [
            "              precision    recall  f1-score   support\n",
            "\n",
            "   Not_troll       0.00      0.00      0.00         0\n",
            "       label       0.00      0.00      0.00         1\n",
            "   not_troll       0.00      0.00      0.00       272\n",
            "       troll       0.62      0.81      0.70       395\n",
            "\n",
            "    accuracy                           0.48       668\n",
            "   macro avg       0.16      0.20      0.18       668\n",
            "weighted avg       0.37      0.48      0.42       668\n",
            "\n"
          ],
          "name": "stdout"
        },
        {
          "output_type": "stream",
          "text": [
            "/usr/local/lib/python3.7/dist-packages/sklearn/metrics/_classification.py:1272: UndefinedMetricWarning: Precision and F-score are ill-defined and being set to 0.0 in labels with no predicted samples. Use `zero_division` parameter to control this behavior.\n",
            "  _warn_prf(average, modifier, msg_start, len(result))\n",
            "/usr/local/lib/python3.7/dist-packages/sklearn/metrics/_classification.py:1272: UndefinedMetricWarning: Recall and F-score are ill-defined and being set to 0.0 in labels with no true samples. Use `zero_division` parameter to control this behavior.\n",
            "  _warn_prf(average, modifier, msg_start, len(result))\n"
          ],
          "name": "stderr"
        }
      ]
    },
    {
      "cell_type": "code",
      "metadata": {
        "id": "NiCzzP4o_czy"
      },
      "source": [
        "clf=DecisionTreeClassifier(criterion='entropy',random_state=0)\n",
        "#res = cross_validate(clf, X_train, y_train, cv=5,  return_train_score=True) \n",
        "#scores = cross_val_score(clf,X_train, y_train, cv=5)\n",
        "#print(\"Accuracy: %0.2f (+/- %0.2f)\" % (scores.mean(), scores.std()))\n",
        "clf.fit(X_train, y_train)\n",
        "pred = clf.predict(X_test)"
      ],
      "execution_count": null,
      "outputs": []
    },
    {
      "cell_type": "code",
      "metadata": {
        "colab": {
          "base_uri": "https://localhost:8080/"
        },
        "id": "2noiQvhoBEH5",
        "outputId": "fc5e6097-5846-4a73-b6fa-f6e362c92e7b"
      },
      "source": [
        "print(classification_report(y_test, pred))"
      ],
      "execution_count": null,
      "outputs": [
        {
          "output_type": "stream",
          "text": [
            "              precision    recall  f1-score   support\n",
            "\n",
            "   Not_troll       0.00      0.00      0.00         0\n",
            "       label       0.00      0.00      0.00         1\n",
            "   not_troll       0.00      0.00      0.00       272\n",
            "       troll       0.61      0.65      0.63       395\n",
            "\n",
            "    accuracy                           0.38       668\n",
            "   macro avg       0.15      0.16      0.16       668\n",
            "weighted avg       0.36      0.38      0.37       668\n",
            "\n"
          ],
          "name": "stdout"
        },
        {
          "output_type": "stream",
          "text": [
            "/usr/local/lib/python3.7/dist-packages/sklearn/metrics/_classification.py:1272: UndefinedMetricWarning: Precision and F-score are ill-defined and being set to 0.0 in labels with no predicted samples. Use `zero_division` parameter to control this behavior.\n",
            "  _warn_prf(average, modifier, msg_start, len(result))\n",
            "/usr/local/lib/python3.7/dist-packages/sklearn/metrics/_classification.py:1272: UndefinedMetricWarning: Recall and F-score are ill-defined and being set to 0.0 in labels with no true samples. Use `zero_division` parameter to control this behavior.\n",
            "  _warn_prf(average, modifier, msg_start, len(result))\n"
          ],
          "name": "stderr"
        }
      ]
    },
    {
      "cell_type": "code",
      "metadata": {
        "id": "yx0fKVaeBD1o"
      },
      "source": [
        "clf=SVC(kernel='linear',random_state=0)\n",
        "#res = cross_validate(clf, X_train, y_train, cv=5,  return_train_score=True) \n",
        "#scores = cross_val_score(clf,X_train, y_train, cv=5)\n",
        "#print(\"Accuracy: %0.2f (+/- %0.2f)\" % (scores.mean(), scores.std()))\n",
        "clf.fit(X_train, y_train)\n",
        "pred = clf.predict(X_test)"
      ],
      "execution_count": null,
      "outputs": []
    },
    {
      "cell_type": "code",
      "metadata": {
        "colab": {
          "base_uri": "https://localhost:8080/"
        },
        "id": "CN4s5OGkBPuD",
        "outputId": "d76278c4-c840-45a1-e5f5-7e95422f4938"
      },
      "source": [
        "print(classification_report(y_test, pred))"
      ],
      "execution_count": null,
      "outputs": [
        {
          "output_type": "stream",
          "text": [
            "              precision    recall  f1-score   support\n",
            "\n",
            "   Not_troll       0.00      0.00      0.00         0\n",
            "       label       0.00      0.00      0.00         1\n",
            "   not_troll       0.00      0.00      0.00       272\n",
            "       troll       0.62      0.79      0.70       395\n",
            "\n",
            "    accuracy                           0.47       668\n",
            "   macro avg       0.16      0.20      0.17       668\n",
            "weighted avg       0.37      0.47      0.41       668\n",
            "\n"
          ],
          "name": "stdout"
        },
        {
          "output_type": "stream",
          "text": [
            "/usr/local/lib/python3.7/dist-packages/sklearn/metrics/_classification.py:1272: UndefinedMetricWarning: Precision and F-score are ill-defined and being set to 0.0 in labels with no predicted samples. Use `zero_division` parameter to control this behavior.\n",
            "  _warn_prf(average, modifier, msg_start, len(result))\n",
            "/usr/local/lib/python3.7/dist-packages/sklearn/metrics/_classification.py:1272: UndefinedMetricWarning: Recall and F-score are ill-defined and being set to 0.0 in labels with no true samples. Use `zero_division` parameter to control this behavior.\n",
            "  _warn_prf(average, modifier, msg_start, len(result))\n"
          ],
          "name": "stderr"
        }
      ]
    },
    {
      "cell_type": "code",
      "metadata": {
        "id": "ThniYsbvBPd0"
      },
      "source": [
        "clf=XGBClassifier()\n",
        "#res = cross_validate(clf, X_train, y_train, cv=5,  return_train_score=True) \n",
        "#scores = cross_val_score(clf,X_train, y_train, cv=5)\n",
        "#print(\"Accuracy: %0.2f (+/- %0.2f)\" % (scores.mean(), scores.std()))\n",
        "clf.fit(X_train, y_train)\n",
        "pred = clf.predict(X_test)"
      ],
      "execution_count": null,
      "outputs": []
    },
    {
      "cell_type": "code",
      "metadata": {
        "colab": {
          "base_uri": "https://localhost:8080/"
        },
        "id": "oGCSfHXZML3G",
        "outputId": "9d27c35d-6685-4ca7-f84e-50666f1c99a0"
      },
      "source": [
        "print(classification_report(y_test, pred))"
      ],
      "execution_count": null,
      "outputs": [
        {
          "output_type": "stream",
          "text": [
            "              precision    recall  f1-score   support\n",
            "\n",
            "   Not_troll       0.00      0.00      0.00         0\n",
            "       label       0.00      0.00      0.00         1\n",
            "   not_troll       0.00      0.00      0.00       272\n",
            "       troll       0.61      0.75      0.67       395\n",
            "\n",
            "    accuracy                           0.44       668\n",
            "   macro avg       0.15      0.19      0.17       668\n",
            "weighted avg       0.36      0.44      0.40       668\n",
            "\n"
          ],
          "name": "stdout"
        },
        {
          "output_type": "stream",
          "text": [
            "/usr/local/lib/python3.7/dist-packages/sklearn/metrics/_classification.py:1272: UndefinedMetricWarning: Precision and F-score are ill-defined and being set to 0.0 in labels with no predicted samples. Use `zero_division` parameter to control this behavior.\n",
            "  _warn_prf(average, modifier, msg_start, len(result))\n",
            "/usr/local/lib/python3.7/dist-packages/sklearn/metrics/_classification.py:1272: UndefinedMetricWarning: Recall and F-score are ill-defined and being set to 0.0 in labels with no true samples. Use `zero_division` parameter to control this behavior.\n",
            "  _warn_prf(average, modifier, msg_start, len(result))\n"
          ],
          "name": "stderr"
        }
      ]
    },
    {
      "cell_type": "code",
      "metadata": {
        "colab": {
          "base_uri": "https://localhost:8080/",
          "height": 67,
          "referenced_widgets": [
            "d7eefeac219945d4afda106e0bd1bf2c",
            "aca44b5e25a447e6a61d7237ebd9dd03",
            "a94a5396f8a54571927d2fbee4cb1a71",
            "c6dcf2d0b4f84e268de5d9b59f8ba529",
            "100616eb76da4e8896b4f14077b06ae6",
            "837286f8c02e44e49d9b1f17e99da28c",
            "032afabd68194c5b9c5e1a86d0bc0d94",
            "613e33230a14492da4b92dd671ac529d"
          ]
        },
        "id": "DjapR1ijLDJ8",
        "outputId": "5a3c6510-18b7-402f-ee38-3b88ed17287f"
      },
      "source": [
        "from sentence_transformers import SentenceTransformer\n",
        "model = SentenceTransformer('paraphrase-multilingual-MiniLM-L12-v2')\n",
        "X_train = model.encode(captions, batch_size=32,show_progress_bar=True)\n",
        "y_train = label\n",
        "X_test=model.encode(captiontext)"
      ],
      "execution_count": null,
      "outputs": [
        {
          "output_type": "display_data",
          "data": {
            "application/vnd.jupyter.widget-view+json": {
              "model_id": "d7eefeac219945d4afda106e0bd1bf2c",
              "version_major": 2,
              "version_minor": 0
            },
            "text/plain": [
              "HBox(children=(FloatProgress(value=0.0, description='Batches', max=72.0, style=ProgressStyle(description_width…"
            ]
          },
          "metadata": {
            "tags": []
          }
        },
        {
          "output_type": "stream",
          "text": [
            "\n"
          ],
          "name": "stdout"
        }
      ]
    },
    {
      "cell_type": "code",
      "metadata": {
        "colab": {
          "base_uri": "https://localhost:8080/"
        },
        "id": "3ru2HmHWLGaw",
        "outputId": "293759a4-6d45-410a-cbfd-7b4133508021"
      },
      "source": [
        "clf = MLPClassifier(verbose=True, hidden_layer_sizes=(512))\n",
        "#res = cross_validate(clf, X_train, y_train, cv=5,  return_train_score=True) \n",
        "#scores = cross_val_score(clf,X_train, y_train, cv=5)\n",
        "#print(\"Accuracy: %0.2f (+/- %0.2f)\" % (scores.mean(), scores.std()))\n",
        "clf.fit(X_train, y_train)\n",
        "pred = clf.predict(X_test)"
      ],
      "execution_count": null,
      "outputs": [
        {
          "output_type": "stream",
          "text": [
            "Iteration 1, loss = 0.56569805\n",
            "Iteration 2, loss = 0.39672639\n",
            "Iteration 3, loss = 0.33982434\n",
            "Iteration 4, loss = 0.31073010\n",
            "Iteration 5, loss = 0.28806567\n",
            "Iteration 6, loss = 0.27229527\n",
            "Iteration 7, loss = 0.25783089\n",
            "Iteration 8, loss = 0.24667901\n",
            "Iteration 9, loss = 0.23766282\n",
            "Iteration 10, loss = 0.22548572\n",
            "Iteration 11, loss = 0.21810549\n",
            "Iteration 12, loss = 0.20766364\n",
            "Iteration 13, loss = 0.19624894\n",
            "Iteration 14, loss = 0.18612219\n",
            "Iteration 15, loss = 0.18109692\n",
            "Iteration 16, loss = 0.17493425\n",
            "Iteration 17, loss = 0.16573018\n",
            "Iteration 18, loss = 0.16353497\n",
            "Iteration 19, loss = 0.15575154\n",
            "Iteration 20, loss = 0.14588019\n",
            "Iteration 21, loss = 0.14279568\n",
            "Iteration 22, loss = 0.13754198\n",
            "Iteration 23, loss = 0.13010808\n",
            "Iteration 24, loss = 0.12620312\n",
            "Iteration 25, loss = 0.12359887\n",
            "Iteration 26, loss = 0.11642196\n",
            "Iteration 27, loss = 0.11404899\n",
            "Iteration 28, loss = 0.11129344\n",
            "Iteration 29, loss = 0.10680487\n",
            "Iteration 30, loss = 0.10278873\n",
            "Iteration 31, loss = 0.09965536\n",
            "Iteration 32, loss = 0.09552863\n",
            "Iteration 33, loss = 0.09266876\n",
            "Iteration 34, loss = 0.09078112\n",
            "Iteration 35, loss = 0.08469044\n",
            "Iteration 36, loss = 0.08503723\n",
            "Iteration 37, loss = 0.08630721\n",
            "Iteration 38, loss = 0.07762572\n",
            "Iteration 39, loss = 0.07641981\n",
            "Iteration 40, loss = 0.07322727\n",
            "Iteration 41, loss = 0.07098624\n",
            "Iteration 42, loss = 0.07154889\n",
            "Iteration 43, loss = 0.07509676\n",
            "Iteration 44, loss = 0.06825072\n",
            "Iteration 45, loss = 0.08329428\n",
            "Iteration 46, loss = 0.06516463\n",
            "Iteration 47, loss = 0.06029119\n",
            "Iteration 48, loss = 0.05933133\n",
            "Iteration 49, loss = 0.05841426\n",
            "Iteration 50, loss = 0.05802116\n",
            "Iteration 51, loss = 0.05391966\n",
            "Iteration 52, loss = 0.05244384\n",
            "Iteration 53, loss = 0.05498312\n",
            "Iteration 54, loss = 0.05212453\n",
            "Iteration 55, loss = 0.04719321\n",
            "Iteration 56, loss = 0.05057831\n",
            "Iteration 57, loss = 0.05087394\n",
            "Iteration 58, loss = 0.05056719\n",
            "Iteration 59, loss = 0.05065949\n",
            "Iteration 60, loss = 0.04793325\n",
            "Iteration 61, loss = 0.04496082\n",
            "Iteration 62, loss = 0.04236540\n",
            "Iteration 63, loss = 0.03986212\n",
            "Iteration 64, loss = 0.04405896\n",
            "Iteration 65, loss = 0.04200846\n",
            "Iteration 66, loss = 0.04037260\n",
            "Iteration 67, loss = 0.03998162\n",
            "Iteration 68, loss = 0.03748356\n",
            "Iteration 69, loss = 0.03722406\n",
            "Iteration 70, loss = 0.03793886\n",
            "Iteration 71, loss = 0.03837324\n",
            "Iteration 72, loss = 0.03531268\n",
            "Iteration 73, loss = 0.03483916\n",
            "Iteration 74, loss = 0.03374649\n",
            "Iteration 75, loss = 0.03329229\n",
            "Iteration 76, loss = 0.03718083\n",
            "Iteration 77, loss = 0.03325308\n",
            "Iteration 78, loss = 0.03140799\n",
            "Iteration 79, loss = 0.03129567\n",
            "Iteration 80, loss = 0.03410445\n",
            "Iteration 81, loss = 0.03059021\n",
            "Iteration 82, loss = 0.03192933\n",
            "Iteration 83, loss = 0.02942806\n",
            "Iteration 84, loss = 0.03084595\n",
            "Iteration 85, loss = 0.03093616\n",
            "Iteration 86, loss = 0.02941967\n",
            "Iteration 87, loss = 0.02667379\n",
            "Iteration 88, loss = 0.03366123\n",
            "Iteration 89, loss = 0.02876354\n",
            "Iteration 90, loss = 0.02731158\n",
            "Iteration 91, loss = 0.02723633\n",
            "Iteration 92, loss = 0.02971229\n",
            "Iteration 93, loss = 0.02942016\n",
            "Iteration 94, loss = 0.02631168\n",
            "Iteration 95, loss = 0.02626336\n",
            "Iteration 96, loss = 0.02676485\n",
            "Iteration 97, loss = 0.03002464\n",
            "Iteration 98, loss = 0.03041037\n",
            "Iteration 99, loss = 0.03384666\n",
            "Iteration 100, loss = 0.02714906\n",
            "Iteration 101, loss = 0.02723080\n",
            "Iteration 102, loss = 0.03007921\n",
            "Iteration 103, loss = 0.03036569\n",
            "Iteration 104, loss = 0.03199930\n",
            "Iteration 105, loss = 0.02665627\n",
            "Training loss did not improve more than tol=0.000100 for 10 consecutive epochs. Stopping.\n"
          ],
          "name": "stdout"
        }
      ]
    },
    {
      "cell_type": "code",
      "metadata": {
        "colab": {
          "base_uri": "https://localhost:8080/"
        },
        "id": "89d2Ba38LF4x",
        "outputId": "c8a78218-8be1-4951-c870-b712855a3627"
      },
      "source": [
        "print(classification_report(y_test, pred))"
      ],
      "execution_count": null,
      "outputs": [
        {
          "output_type": "stream",
          "text": [
            "              precision    recall  f1-score   support\n",
            "\n",
            "   Not_troll       0.00      0.00      0.00         0\n",
            "       label       0.00      0.00      0.00         1\n",
            "   not_troll       0.00      0.00      0.00       272\n",
            "       troll       0.62      0.81      0.70       395\n",
            "\n",
            "    accuracy                           0.48       668\n",
            "   macro avg       0.15      0.20      0.17       668\n",
            "weighted avg       0.36      0.48      0.41       668\n",
            "\n"
          ],
          "name": "stdout"
        },
        {
          "output_type": "stream",
          "text": [
            "/usr/local/lib/python3.7/dist-packages/sklearn/metrics/_classification.py:1272: UndefinedMetricWarning: Precision and F-score are ill-defined and being set to 0.0 in labels with no predicted samples. Use `zero_division` parameter to control this behavior.\n",
            "  _warn_prf(average, modifier, msg_start, len(result))\n",
            "/usr/local/lib/python3.7/dist-packages/sklearn/metrics/_classification.py:1272: UndefinedMetricWarning: Recall and F-score are ill-defined and being set to 0.0 in labels with no true samples. Use `zero_division` parameter to control this behavior.\n",
            "  _warn_prf(average, modifier, msg_start, len(result))\n"
          ],
          "name": "stderr"
        }
      ]
    },
    {
      "cell_type": "code",
      "metadata": {
        "id": "bxwfsJ6qLFjn"
      },
      "source": [
        "clf = KNeighborsClassifier(n_neighbors=3)\n",
        "#res = cross_validate(clf, X_train, y_train, cv=5,  return_train_score=True) \n",
        "#scores = cross_val_score(clf,X_train, y_train, cv=5)\n",
        "#print(\"Accuracy: %0.2f (+/- %0.2f)\" % (scores.mean(), scores.std()))\n",
        "clf.fit(X_train, y_train)\n",
        "pred = clf.predict(X_test)"
      ],
      "execution_count": null,
      "outputs": []
    },
    {
      "cell_type": "code",
      "metadata": {
        "colab": {
          "base_uri": "https://localhost:8080/"
        },
        "id": "5IED9sIjLCtq",
        "outputId": "49866538-6190-4b5d-ffe5-5ebf2db92eb9"
      },
      "source": [
        "print(classification_report(y_test, pred))"
      ],
      "execution_count": null,
      "outputs": [
        {
          "output_type": "stream",
          "text": [
            "              precision    recall  f1-score   support\n",
            "\n",
            "   Not_troll       0.00      0.00      0.00         0\n",
            "       label       0.00      0.00      0.00         1\n",
            "   not_troll       0.00      0.00      0.00       272\n",
            "       troll       0.65      0.47      0.54       395\n",
            "\n",
            "    accuracy                           0.28       668\n",
            "   macro avg       0.16      0.12      0.14       668\n",
            "weighted avg       0.38      0.28      0.32       668\n",
            "\n"
          ],
          "name": "stdout"
        },
        {
          "output_type": "stream",
          "text": [
            "/usr/local/lib/python3.7/dist-packages/sklearn/metrics/_classification.py:1272: UndefinedMetricWarning: Precision and F-score are ill-defined and being set to 0.0 in labels with no predicted samples. Use `zero_division` parameter to control this behavior.\n",
            "  _warn_prf(average, modifier, msg_start, len(result))\n",
            "/usr/local/lib/python3.7/dist-packages/sklearn/metrics/_classification.py:1272: UndefinedMetricWarning: Recall and F-score are ill-defined and being set to 0.0 in labels with no true samples. Use `zero_division` parameter to control this behavior.\n",
            "  _warn_prf(average, modifier, msg_start, len(result))\n"
          ],
          "name": "stderr"
        }
      ]
    },
    {
      "cell_type": "code",
      "metadata": {
        "colab": {
          "base_uri": "https://localhost:8080/"
        },
        "id": "yRIILHe8LCa4",
        "outputId": "aac0a8c6-73b7-4a4f-ae87-d0f05e0ea9c3"
      },
      "source": [
        "clf = RandomForestClassifier(n_estimators=1000,verbose=True, n_jobs=-1)\n",
        "#res = cross_validate(clf, X_train, y_train, cv=5,  return_train_score=True) \n",
        "#scores = cross_val_score(clf,X_train, y_train, cv=5)\n",
        "#print(\"Accuracy: %0.2f (+/- %0.2f)\" % (scores.mean(), scores.std()))\n",
        "clf.fit(X_train, y_train)\n",
        "pred = clf.predict(X_test)"
      ],
      "execution_count": null,
      "outputs": [
        {
          "output_type": "stream",
          "text": [
            "[Parallel(n_jobs=-1)]: Using backend ThreadingBackend with 2 concurrent workers.\n",
            "[Parallel(n_jobs=-1)]: Done  46 tasks      | elapsed:    1.0s\n",
            "[Parallel(n_jobs=-1)]: Done 196 tasks      | elapsed:    4.4s\n",
            "[Parallel(n_jobs=-1)]: Done 446 tasks      | elapsed:    9.8s\n",
            "[Parallel(n_jobs=-1)]: Done 796 tasks      | elapsed:   17.6s\n",
            "[Parallel(n_jobs=-1)]: Done 1000 out of 1000 | elapsed:   22.1s finished\n",
            "[Parallel(n_jobs=2)]: Using backend ThreadingBackend with 2 concurrent workers.\n",
            "[Parallel(n_jobs=2)]: Done  46 tasks      | elapsed:    0.0s\n",
            "[Parallel(n_jobs=2)]: Done 196 tasks      | elapsed:    0.1s\n",
            "[Parallel(n_jobs=2)]: Done 446 tasks      | elapsed:    0.2s\n",
            "[Parallel(n_jobs=2)]: Done 796 tasks      | elapsed:    0.3s\n",
            "[Parallel(n_jobs=2)]: Done 1000 out of 1000 | elapsed:    0.3s finished\n"
          ],
          "name": "stderr"
        }
      ]
    },
    {
      "cell_type": "code",
      "metadata": {
        "colab": {
          "base_uri": "https://localhost:8080/"
        },
        "id": "UyqmrI3kLCCJ",
        "outputId": "30b4df79-e5ff-4af4-d31f-bd8bef39e1f0"
      },
      "source": [
        "print(classification_report(y_test, pred))"
      ],
      "execution_count": null,
      "outputs": [
        {
          "output_type": "stream",
          "text": [
            "              precision    recall  f1-score   support\n",
            "\n",
            "   Not_troll       0.00      0.00      0.00         0\n",
            "       label       0.00      0.00      0.00         1\n",
            "   not_troll       0.00      0.00      0.00       272\n",
            "       troll       0.60      0.85      0.70       395\n",
            "\n",
            "    accuracy                           0.50       668\n",
            "   macro avg       0.15      0.21      0.18       668\n",
            "weighted avg       0.35      0.50      0.41       668\n",
            "\n"
          ],
          "name": "stdout"
        },
        {
          "output_type": "stream",
          "text": [
            "/usr/local/lib/python3.7/dist-packages/sklearn/metrics/_classification.py:1272: UndefinedMetricWarning: Precision and F-score are ill-defined and being set to 0.0 in labels with no predicted samples. Use `zero_division` parameter to control this behavior.\n",
            "  _warn_prf(average, modifier, msg_start, len(result))\n",
            "/usr/local/lib/python3.7/dist-packages/sklearn/metrics/_classification.py:1272: UndefinedMetricWarning: Recall and F-score are ill-defined and being set to 0.0 in labels with no true samples. Use `zero_division` parameter to control this behavior.\n",
            "  _warn_prf(average, modifier, msg_start, len(result))\n"
          ],
          "name": "stderr"
        }
      ]
    },
    {
      "cell_type": "code",
      "metadata": {
        "id": "uwmKqE_kLBuc"
      },
      "source": [
        "clf = LogisticRegression(random_state=0)\n",
        "#res = cross_validate(clf, X_train, y_train, cv=5,  return_train_score=True) \n",
        "#scores = cross_val_score(clf,X_train, y_train, cv=5)\n",
        "#print(\"Accuracy: %0.2f (+/- %0.2f)\" % (scores.mean(), scores.std()))\n",
        "clf.fit(X_train, y_train)\n",
        "pred = clf.predict(X_test)"
      ],
      "execution_count": null,
      "outputs": []
    },
    {
      "cell_type": "code",
      "metadata": {
        "colab": {
          "base_uri": "https://localhost:8080/"
        },
        "id": "5UP0OpLELBbB",
        "outputId": "ac16b752-8271-4f48-d76b-1aace2e5d694"
      },
      "source": [
        "print(classification_report(y_test, pred))"
      ],
      "execution_count": null,
      "outputs": [
        {
          "output_type": "stream",
          "text": [
            "              precision    recall  f1-score   support\n",
            "\n",
            "   Not_troll       0.00      0.00      0.00         0\n",
            "       label       0.00      0.00      0.00         1\n",
            "   not_troll       0.00      0.00      0.00       272\n",
            "       troll       0.61      0.79      0.69       395\n",
            "\n",
            "    accuracy                           0.47       668\n",
            "   macro avg       0.15      0.20      0.17       668\n",
            "weighted avg       0.36      0.47      0.41       668\n",
            "\n"
          ],
          "name": "stdout"
        },
        {
          "output_type": "stream",
          "text": [
            "/usr/local/lib/python3.7/dist-packages/sklearn/metrics/_classification.py:1272: UndefinedMetricWarning: Precision and F-score are ill-defined and being set to 0.0 in labels with no predicted samples. Use `zero_division` parameter to control this behavior.\n",
            "  _warn_prf(average, modifier, msg_start, len(result))\n",
            "/usr/local/lib/python3.7/dist-packages/sklearn/metrics/_classification.py:1272: UndefinedMetricWarning: Recall and F-score are ill-defined and being set to 0.0 in labels with no true samples. Use `zero_division` parameter to control this behavior.\n",
            "  _warn_prf(average, modifier, msg_start, len(result))\n"
          ],
          "name": "stderr"
        }
      ]
    },
    {
      "cell_type": "code",
      "metadata": {
        "id": "cT6O6OjeLBJ-"
      },
      "source": [
        "clf=DecisionTreeClassifier(criterion='entropy',random_state=0)\n",
        "#res = cross_validate(clf, X_train, y_train, cv=5,  return_train_score=True) \n",
        "#scores = cross_val_score(clf,X_train, y_train, cv=5)\n",
        "#print(\"Accuracy: %0.2f (+/- %0.2f)\" % (scores.mean(), scores.std()))\n",
        "clf.fit(X_train, y_train)\n",
        "pred = clf.predict(X_test)"
      ],
      "execution_count": null,
      "outputs": []
    },
    {
      "cell_type": "code",
      "metadata": {
        "colab": {
          "base_uri": "https://localhost:8080/"
        },
        "id": "LxdLgn-DLAyV",
        "outputId": "56f05caf-86f6-4361-9c35-7c9c08dee460"
      },
      "source": [
        "print(classification_report(y_test, pred))"
      ],
      "execution_count": null,
      "outputs": [
        {
          "output_type": "stream",
          "text": [
            "              precision    recall  f1-score   support\n",
            "\n",
            "   Not_troll       0.00      0.00      0.00         0\n",
            "       label       0.00      0.00      0.00         1\n",
            "   not_troll       0.00      0.00      0.00       272\n",
            "       troll       0.62      0.71      0.66       395\n",
            "\n",
            "    accuracy                           0.42       668\n",
            "   macro avg       0.15      0.18      0.17       668\n",
            "weighted avg       0.36      0.42      0.39       668\n",
            "\n"
          ],
          "name": "stdout"
        },
        {
          "output_type": "stream",
          "text": [
            "/usr/local/lib/python3.7/dist-packages/sklearn/metrics/_classification.py:1272: UndefinedMetricWarning: Precision and F-score are ill-defined and being set to 0.0 in labels with no predicted samples. Use `zero_division` parameter to control this behavior.\n",
            "  _warn_prf(average, modifier, msg_start, len(result))\n",
            "/usr/local/lib/python3.7/dist-packages/sklearn/metrics/_classification.py:1272: UndefinedMetricWarning: Recall and F-score are ill-defined and being set to 0.0 in labels with no true samples. Use `zero_division` parameter to control this behavior.\n",
            "  _warn_prf(average, modifier, msg_start, len(result))\n"
          ],
          "name": "stderr"
        }
      ]
    },
    {
      "cell_type": "code",
      "metadata": {
        "id": "9xoGpQQsLAZ-"
      },
      "source": [
        "clf=SVC(kernel='linear',random_state=0)\n",
        "#res = cross_validate(clf, X_train, y_train, cv=5,  return_train_score=True) \n",
        "#scores = cross_val_score(clf,X_train, y_train, cv=5)\n",
        "#print(\"Accuracy: %0.2f (+/- %0.2f)\" % (scores.mean(), scores.std()))\n",
        "clf.fit(X_train, y_train)\n",
        "pred = clf.predict(X_test)"
      ],
      "execution_count": null,
      "outputs": []
    },
    {
      "cell_type": "code",
      "metadata": {
        "colab": {
          "base_uri": "https://localhost:8080/"
        },
        "id": "gKdwpcGVLUSf",
        "outputId": "412c9b45-e810-4dcf-ce4f-15b79d32892b"
      },
      "source": [
        "print(classification_report(y_test, pred))"
      ],
      "execution_count": null,
      "outputs": [
        {
          "output_type": "stream",
          "text": [
            "              precision    recall  f1-score   support\n",
            "\n",
            "   Not_troll       0.00      0.00      0.00         0\n",
            "       label       0.00      0.00      0.00         1\n",
            "   not_troll       0.00      0.00      0.00       272\n",
            "       troll       0.63      0.79      0.70       395\n",
            "\n",
            "    accuracy                           0.47       668\n",
            "   macro avg       0.16      0.20      0.18       668\n",
            "weighted avg       0.37      0.47      0.41       668\n",
            "\n"
          ],
          "name": "stdout"
        },
        {
          "output_type": "stream",
          "text": [
            "/usr/local/lib/python3.7/dist-packages/sklearn/metrics/_classification.py:1272: UndefinedMetricWarning: Precision and F-score are ill-defined and being set to 0.0 in labels with no predicted samples. Use `zero_division` parameter to control this behavior.\n",
            "  _warn_prf(average, modifier, msg_start, len(result))\n",
            "/usr/local/lib/python3.7/dist-packages/sklearn/metrics/_classification.py:1272: UndefinedMetricWarning: Recall and F-score are ill-defined and being set to 0.0 in labels with no true samples. Use `zero_division` parameter to control this behavior.\n",
            "  _warn_prf(average, modifier, msg_start, len(result))\n"
          ],
          "name": "stderr"
        }
      ]
    },
    {
      "cell_type": "code",
      "metadata": {
        "id": "zPMUEaOJLT3j"
      },
      "source": [
        "clf=XGBClassifier()\n",
        "#res = cross_validate(clf, X_train, y_train, cv=5,  return_train_score=True) \n",
        "#scores = cross_val_score(clf,X_train, y_train, cv=5)\n",
        "#print(\"Accuracy: %0.2f (+/- %0.2f)\" % (scores.mean(), scores.std()))\n",
        "clf.fit(X_train, y_train)\n",
        "pred = clf.predict(X_test)"
      ],
      "execution_count": null,
      "outputs": []
    },
    {
      "cell_type": "code",
      "metadata": {
        "colab": {
          "base_uri": "https://localhost:8080/"
        },
        "id": "kCR3GHHPLThq",
        "outputId": "aaedb456-ca25-414f-c18c-b042e68d54e9"
      },
      "source": [
        "print(classification_report(y_test, pred))"
      ],
      "execution_count": null,
      "outputs": [
        {
          "output_type": "stream",
          "text": [
            "              precision    recall  f1-score   support\n",
            "\n",
            "   Not_troll       0.00      0.00      0.00         0\n",
            "       label       0.00      0.00      0.00         1\n",
            "   not_troll       0.00      0.00      0.00       272\n",
            "       troll       0.61      0.81      0.69       395\n",
            "\n",
            "    accuracy                           0.48       668\n",
            "   macro avg       0.15      0.20      0.17       668\n",
            "weighted avg       0.36      0.48      0.41       668\n",
            "\n"
          ],
          "name": "stdout"
        },
        {
          "output_type": "stream",
          "text": [
            "/usr/local/lib/python3.7/dist-packages/sklearn/metrics/_classification.py:1272: UndefinedMetricWarning: Precision and F-score are ill-defined and being set to 0.0 in labels with no predicted samples. Use `zero_division` parameter to control this behavior.\n",
            "  _warn_prf(average, modifier, msg_start, len(result))\n",
            "/usr/local/lib/python3.7/dist-packages/sklearn/metrics/_classification.py:1272: UndefinedMetricWarning: Recall and F-score are ill-defined and being set to 0.0 in labels with no true samples. Use `zero_division` parameter to control this behavior.\n",
            "  _warn_prf(average, modifier, msg_start, len(result))\n"
          ],
          "name": "stderr"
        }
      ]
    },
    {
      "cell_type": "code",
      "metadata": {
        "colab": {
          "base_uri": "https://localhost:8080/",
          "height": 66,
          "referenced_widgets": [
            "975506ec56004cfb95294cc9fa0d22ba",
            "b71ea73363fa4fda9df11e27903ff6d7",
            "964b45b1d3414847825a0c6558b82c38",
            "977c928cbe8444c093e97832f897e890",
            "dc1b6537522f45d08dba421229c479a6",
            "209ded2983024d2a8baf8539b889de2c",
            "46233bcaf3084abe8c5d0bc524e0da4b",
            "5a68be8d91ef46f4b5016e769e29b375"
          ]
        },
        "id": "1Cw8hJXELTNv",
        "outputId": "3c26bb1e-5670-4698-b000-0687c6e3a0c7"
      },
      "source": [
        "from sentence_transformers import SentenceTransformer\n",
        "model = SentenceTransformer('paraphrase-multilingual-mpnet-base-v2')\n",
        "X_train = model.encode(captions, batch_size=32,show_progress_bar=True)\n",
        "y_train = label\n",
        "X_test=model.encode(captiontext)"
      ],
      "execution_count": null,
      "outputs": [
        {
          "output_type": "display_data",
          "data": {
            "application/vnd.jupyter.widget-view+json": {
              "model_id": "975506ec56004cfb95294cc9fa0d22ba",
              "version_major": 2,
              "version_minor": 0
            },
            "text/plain": [
              "HBox(children=(FloatProgress(value=0.0, description='Batches', max=72.0, style=ProgressStyle(description_width…"
            ]
          },
          "metadata": {
            "tags": []
          }
        },
        {
          "output_type": "stream",
          "text": [
            "\n"
          ],
          "name": "stdout"
        }
      ]
    },
    {
      "cell_type": "code",
      "metadata": {
        "colab": {
          "base_uri": "https://localhost:8080/"
        },
        "id": "lNkTxMQAL5tX",
        "outputId": "00f60384-002e-49a4-d972-daec9098652a"
      },
      "source": [
        "clf = MLPClassifier(verbose=True, hidden_layer_sizes=(512))\n",
        "#res = cross_validate(clf, X_train, y_train, cv=5,  return_train_score=True) \n",
        "#scores = cross_val_score(clf,X_train, y_train, cv=5)\n",
        "#print(\"Accuracy: %0.2f (+/- %0.2f)\" % (scores.mean(), scores.std()))\n",
        "clf.fit(X_train, y_train)\n",
        "pred = clf.predict(X_test)"
      ],
      "execution_count": null,
      "outputs": [
        {
          "output_type": "stream",
          "text": [
            "Iteration 1, loss = 0.56788510\n",
            "Iteration 2, loss = 0.40031591\n",
            "Iteration 3, loss = 0.33853922\n",
            "Iteration 4, loss = 0.30005286\n",
            "Iteration 5, loss = 0.27552535\n",
            "Iteration 6, loss = 0.25567133\n",
            "Iteration 7, loss = 0.24405410\n",
            "Iteration 8, loss = 0.23152966\n",
            "Iteration 9, loss = 0.21705344\n",
            "Iteration 10, loss = 0.20840621\n",
            "Iteration 11, loss = 0.19808826\n",
            "Iteration 12, loss = 0.18951315\n",
            "Iteration 13, loss = 0.18624585\n",
            "Iteration 14, loss = 0.17888822\n",
            "Iteration 15, loss = 0.16844045\n",
            "Iteration 16, loss = 0.16110089\n",
            "Iteration 17, loss = 0.15603277\n",
            "Iteration 18, loss = 0.15029166\n",
            "Iteration 19, loss = 0.14419149\n",
            "Iteration 20, loss = 0.13923971\n",
            "Iteration 21, loss = 0.13693258\n",
            "Iteration 22, loss = 0.12963462\n",
            "Iteration 23, loss = 0.12507226\n",
            "Iteration 24, loss = 0.12098069\n",
            "Iteration 25, loss = 0.11809847\n",
            "Iteration 26, loss = 0.11458783\n",
            "Iteration 27, loss = 0.11349339\n",
            "Iteration 28, loss = 0.10629432\n",
            "Iteration 29, loss = 0.11147784\n",
            "Iteration 30, loss = 0.10477441\n",
            "Iteration 31, loss = 0.09906157\n",
            "Iteration 32, loss = 0.09332507\n",
            "Iteration 33, loss = 0.09855702\n",
            "Iteration 34, loss = 0.10507304\n",
            "Iteration 35, loss = 0.09469038\n",
            "Iteration 36, loss = 0.08967687\n",
            "Iteration 37, loss = 0.09104383\n",
            "Iteration 38, loss = 0.08204870\n",
            "Iteration 39, loss = 0.08147011\n",
            "Iteration 40, loss = 0.07979372\n",
            "Iteration 41, loss = 0.07933266\n",
            "Iteration 42, loss = 0.07492395\n",
            "Iteration 43, loss = 0.07224974\n",
            "Iteration 44, loss = 0.07130827\n",
            "Iteration 45, loss = 0.07496318\n",
            "Iteration 46, loss = 0.07879164\n",
            "Iteration 47, loss = 0.06793687\n",
            "Iteration 48, loss = 0.06521165\n",
            "Iteration 49, loss = 0.07042934\n",
            "Iteration 50, loss = 0.07363268\n",
            "Iteration 51, loss = 0.07259013\n",
            "Iteration 52, loss = 0.06776455\n",
            "Iteration 53, loss = 0.05883469\n",
            "Iteration 54, loss = 0.05592821\n",
            "Iteration 55, loss = 0.05605832\n",
            "Iteration 56, loss = 0.06357296\n",
            "Iteration 57, loss = 0.05640892\n",
            "Iteration 58, loss = 0.05472714\n",
            "Iteration 59, loss = 0.05230725\n",
            "Iteration 60, loss = 0.05019112\n",
            "Iteration 61, loss = 0.06030124\n",
            "Iteration 62, loss = 0.05227053\n",
            "Iteration 63, loss = 0.05156663\n",
            "Iteration 64, loss = 0.05051375\n",
            "Iteration 65, loss = 0.05231251\n",
            "Iteration 66, loss = 0.05761234\n",
            "Iteration 67, loss = 0.05475734\n",
            "Iteration 68, loss = 0.04919281\n",
            "Iteration 69, loss = 0.04401057\n",
            "Iteration 70, loss = 0.04644976\n",
            "Iteration 71, loss = 0.04957382\n",
            "Iteration 72, loss = 0.04378029\n",
            "Iteration 73, loss = 0.04008921\n",
            "Iteration 74, loss = 0.04043275\n",
            "Iteration 75, loss = 0.04358482\n",
            "Iteration 76, loss = 0.03906681\n",
            "Iteration 77, loss = 0.03812320\n",
            "Iteration 78, loss = 0.04323443\n",
            "Iteration 79, loss = 0.04625769\n",
            "Iteration 80, loss = 0.04539847\n",
            "Iteration 81, loss = 0.03707981\n",
            "Iteration 82, loss = 0.03423534\n",
            "Iteration 83, loss = 0.03955955\n",
            "Iteration 84, loss = 0.03386125\n",
            "Iteration 85, loss = 0.03794802\n",
            "Iteration 86, loss = 0.03431923\n",
            "Iteration 87, loss = 0.03651938\n",
            "Iteration 88, loss = 0.03512087\n",
            "Iteration 89, loss = 0.03921789\n",
            "Iteration 90, loss = 0.03603355\n",
            "Iteration 91, loss = 0.03220992\n",
            "Iteration 92, loss = 0.03698464\n",
            "Iteration 93, loss = 0.03426061\n",
            "Iteration 94, loss = 0.03550504\n",
            "Iteration 95, loss = 0.03259927\n",
            "Iteration 96, loss = 0.03218490\n",
            "Iteration 97, loss = 0.02986115\n",
            "Iteration 98, loss = 0.03096695\n",
            "Iteration 99, loss = 0.02976900\n",
            "Iteration 100, loss = 0.02882663\n",
            "Iteration 101, loss = 0.02874628\n",
            "Iteration 102, loss = 0.02868014\n",
            "Iteration 103, loss = 0.03026997\n",
            "Iteration 104, loss = 0.02937782\n",
            "Iteration 105, loss = 0.03497889\n",
            "Iteration 106, loss = 0.04376125\n",
            "Iteration 107, loss = 0.03453572\n",
            "Iteration 108, loss = 0.03004614\n",
            "Iteration 109, loss = 0.02852202\n",
            "Iteration 110, loss = 0.02853178\n",
            "Iteration 111, loss = 0.02834316\n",
            "Iteration 112, loss = 0.02701810\n",
            "Iteration 113, loss = 0.02909571\n",
            "Iteration 114, loss = 0.04626612\n",
            "Iteration 115, loss = 0.03364111\n",
            "Iteration 116, loss = 0.02888177\n",
            "Iteration 117, loss = 0.02871864\n",
            "Iteration 118, loss = 0.02672864\n",
            "Iteration 119, loss = 0.02623842\n",
            "Iteration 120, loss = 0.03899301\n",
            "Iteration 121, loss = 0.02881049\n",
            "Iteration 122, loss = 0.02703114\n",
            "Iteration 123, loss = 0.02540944\n",
            "Iteration 124, loss = 0.02560188\n",
            "Iteration 125, loss = 0.02596226\n",
            "Iteration 126, loss = 0.02553376\n",
            "Iteration 127, loss = 0.02455768\n",
            "Iteration 128, loss = 0.02594938\n",
            "Iteration 129, loss = 0.02561231\n",
            "Iteration 130, loss = 0.02388605\n",
            "Iteration 131, loss = 0.02394318\n",
            "Iteration 132, loss = 0.02656287\n",
            "Iteration 133, loss = 0.02370763\n",
            "Iteration 134, loss = 0.02503831\n",
            "Iteration 135, loss = 0.02382121\n",
            "Iteration 136, loss = 0.02439183\n",
            "Iteration 137, loss = 0.02461818\n",
            "Iteration 138, loss = 0.03021705\n",
            "Iteration 139, loss = 0.02559856\n",
            "Iteration 140, loss = 0.02353425\n",
            "Iteration 141, loss = 0.02709625\n",
            "Iteration 142, loss = 0.02341606\n",
            "Iteration 143, loss = 0.02689933\n",
            "Iteration 144, loss = 0.02755404\n",
            "Iteration 145, loss = 0.03993295\n",
            "Iteration 146, loss = 0.02816829\n",
            "Iteration 147, loss = 0.02560622\n",
            "Iteration 148, loss = 0.02484532\n",
            "Iteration 149, loss = 0.02584348\n",
            "Iteration 150, loss = 0.03035513\n",
            "Iteration 151, loss = 0.03195232\n",
            "Iteration 152, loss = 0.02658018\n",
            "Iteration 153, loss = 0.02210748\n",
            "Iteration 154, loss = 0.02216300\n",
            "Iteration 155, loss = 0.02671717\n",
            "Iteration 156, loss = 0.02981585\n",
            "Iteration 157, loss = 0.03688681\n",
            "Iteration 158, loss = 0.03441935\n",
            "Iteration 159, loss = 0.02579092\n",
            "Iteration 160, loss = 0.02195718\n",
            "Iteration 161, loss = 0.02138966\n",
            "Iteration 162, loss = 0.02592936\n",
            "Iteration 163, loss = 0.02167368\n",
            "Iteration 164, loss = 0.02115897\n",
            "Iteration 165, loss = 0.02155258\n",
            "Iteration 166, loss = 0.02583609\n",
            "Iteration 167, loss = 0.02258575\n",
            "Iteration 168, loss = 0.02704878\n",
            "Iteration 169, loss = 0.02356337\n",
            "Iteration 170, loss = 0.02222368\n",
            "Iteration 171, loss = 0.02168198\n",
            "Iteration 172, loss = 0.02194409\n",
            "Iteration 173, loss = 0.02773148\n",
            "Iteration 174, loss = 0.02464076\n",
            "Iteration 175, loss = 0.02160178\n",
            "Training loss did not improve more than tol=0.000100 for 10 consecutive epochs. Stopping.\n"
          ],
          "name": "stdout"
        }
      ]
    },
    {
      "cell_type": "code",
      "metadata": {
        "colab": {
          "base_uri": "https://localhost:8080/"
        },
        "id": "I4LXgIcYObkJ",
        "outputId": "6f8656ed-c69c-44e8-c07c-acf2a73eae1c"
      },
      "source": [
        "print(classification_report(y_test, pred))"
      ],
      "execution_count": null,
      "outputs": [
        {
          "output_type": "stream",
          "text": [
            "              precision    recall  f1-score   support\n",
            "\n",
            "   Not_troll       0.00      0.00      0.00         0\n",
            "       label       0.00      0.00      0.00         1\n",
            "   not_troll       0.00      0.00      0.00       272\n",
            "       troll       0.60      0.82      0.69       395\n",
            "\n",
            "    accuracy                           0.48       668\n",
            "   macro avg       0.15      0.20      0.17       668\n",
            "weighted avg       0.35      0.48      0.41       668\n",
            "\n"
          ],
          "name": "stdout"
        },
        {
          "output_type": "stream",
          "text": [
            "/usr/local/lib/python3.7/dist-packages/sklearn/metrics/_classification.py:1272: UndefinedMetricWarning: Precision and F-score are ill-defined and being set to 0.0 in labels with no predicted samples. Use `zero_division` parameter to control this behavior.\n",
            "  _warn_prf(average, modifier, msg_start, len(result))\n",
            "/usr/local/lib/python3.7/dist-packages/sklearn/metrics/_classification.py:1272: UndefinedMetricWarning: Recall and F-score are ill-defined and being set to 0.0 in labels with no true samples. Use `zero_division` parameter to control this behavior.\n",
            "  _warn_prf(average, modifier, msg_start, len(result))\n"
          ],
          "name": "stderr"
        }
      ]
    },
    {
      "cell_type": "code",
      "metadata": {
        "id": "b2XoTQ2vL5b2"
      },
      "source": [
        "clf = KNeighborsClassifier(n_neighbors=3)\n",
        "#res = cross_validate(clf, X_train, y_train, cv=5,  return_train_score=True) \n",
        "#scores = cross_val_score(clf,X_train, y_train, cv=5)\n",
        "#print(\"Accuracy: %0.2f (+/- %0.2f)\" % (scores.mean(), scores.std()))\n",
        "clf.fit(X_train, y_train)\n",
        "pred = clf.predict(X_test)"
      ],
      "execution_count": null,
      "outputs": []
    },
    {
      "cell_type": "code",
      "metadata": {
        "colab": {
          "base_uri": "https://localhost:8080/"
        },
        "id": "LX1mTv95L5Om",
        "outputId": "fe89891c-8563-423f-9c15-78fc021a1570"
      },
      "source": [
        "print(classification_report(y_test, pred))"
      ],
      "execution_count": null,
      "outputs": [
        {
          "output_type": "stream",
          "text": [
            "              precision    recall  f1-score   support\n",
            "\n",
            "   Not_troll       0.00      0.00      0.00         0\n",
            "       label       0.00      0.00      0.00         1\n",
            "   not_troll       0.00      0.00      0.00       272\n",
            "       troll       0.61      0.57      0.59       395\n",
            "\n",
            "    accuracy                           0.34       668\n",
            "   macro avg       0.15      0.14      0.15       668\n",
            "weighted avg       0.36      0.34      0.35       668\n",
            "\n"
          ],
          "name": "stdout"
        },
        {
          "output_type": "stream",
          "text": [
            "/usr/local/lib/python3.7/dist-packages/sklearn/metrics/_classification.py:1272: UndefinedMetricWarning: Precision and F-score are ill-defined and being set to 0.0 in labels with no predicted samples. Use `zero_division` parameter to control this behavior.\n",
            "  _warn_prf(average, modifier, msg_start, len(result))\n",
            "/usr/local/lib/python3.7/dist-packages/sklearn/metrics/_classification.py:1272: UndefinedMetricWarning: Recall and F-score are ill-defined and being set to 0.0 in labels with no true samples. Use `zero_division` parameter to control this behavior.\n",
            "  _warn_prf(average, modifier, msg_start, len(result))\n"
          ],
          "name": "stderr"
        }
      ]
    },
    {
      "cell_type": "code",
      "metadata": {
        "colab": {
          "base_uri": "https://localhost:8080/"
        },
        "id": "Hpm--vJqL4_G",
        "outputId": "5049dc9f-25f9-4b5e-d24b-5073aa4c058f"
      },
      "source": [
        "clf = RandomForestClassifier(n_estimators=1000,verbose=True, n_jobs=-1)\n",
        "#res = cross_validate(clf, X_train, y_train, cv=5,  return_train_score=True) \n",
        "#scores = cross_val_score(clf,X_train, y_train, cv=5)\n",
        "#print(\"Accuracy: %0.2f (+/- %0.2f)\" % (scores.mean(), scores.std()))\n",
        "clf.fit(X_train, y_train)\n",
        "pred = clf.predict(X_test)"
      ],
      "execution_count": null,
      "outputs": [
        {
          "output_type": "stream",
          "text": [
            "[Parallel(n_jobs=-1)]: Using backend ThreadingBackend with 2 concurrent workers.\n",
            "[Parallel(n_jobs=-1)]: Done  46 tasks      | elapsed:    1.5s\n",
            "[Parallel(n_jobs=-1)]: Done 196 tasks      | elapsed:    6.1s\n",
            "[Parallel(n_jobs=-1)]: Done 446 tasks      | elapsed:   13.8s\n",
            "[Parallel(n_jobs=-1)]: Done 796 tasks      | elapsed:   24.6s\n",
            "[Parallel(n_jobs=-1)]: Done 1000 out of 1000 | elapsed:   30.8s finished\n",
            "[Parallel(n_jobs=2)]: Using backend ThreadingBackend with 2 concurrent workers.\n",
            "[Parallel(n_jobs=2)]: Done  46 tasks      | elapsed:    0.0s\n",
            "[Parallel(n_jobs=2)]: Done 196 tasks      | elapsed:    0.1s\n",
            "[Parallel(n_jobs=2)]: Done 446 tasks      | elapsed:    0.2s\n",
            "[Parallel(n_jobs=2)]: Done 796 tasks      | elapsed:    0.3s\n",
            "[Parallel(n_jobs=2)]: Done 1000 out of 1000 | elapsed:    0.4s finished\n"
          ],
          "name": "stderr"
        }
      ]
    },
    {
      "cell_type": "code",
      "metadata": {
        "colab": {
          "base_uri": "https://localhost:8080/"
        },
        "id": "sEmRV8HbL4sH",
        "outputId": "9e94eb51-4a08-4378-9ae1-0eb64185d50e"
      },
      "source": [
        "print(classification_report(y_test, pred))"
      ],
      "execution_count": null,
      "outputs": [
        {
          "output_type": "stream",
          "text": [
            "              precision    recall  f1-score   support\n",
            "\n",
            "   Not_troll       0.00      0.00      0.00         0\n",
            "       label       0.00      0.00      0.00         1\n",
            "   not_troll       0.00      0.00      0.00       272\n",
            "       troll       0.60      0.86      0.71       395\n",
            "\n",
            "    accuracy                           0.51       668\n",
            "   macro avg       0.15      0.22      0.18       668\n",
            "weighted avg       0.36      0.51      0.42       668\n",
            "\n"
          ],
          "name": "stdout"
        },
        {
          "output_type": "stream",
          "text": [
            "/usr/local/lib/python3.7/dist-packages/sklearn/metrics/_classification.py:1272: UndefinedMetricWarning: Precision and F-score are ill-defined and being set to 0.0 in labels with no predicted samples. Use `zero_division` parameter to control this behavior.\n",
            "  _warn_prf(average, modifier, msg_start, len(result))\n",
            "/usr/local/lib/python3.7/dist-packages/sklearn/metrics/_classification.py:1272: UndefinedMetricWarning: Recall and F-score are ill-defined and being set to 0.0 in labels with no true samples. Use `zero_division` parameter to control this behavior.\n",
            "  _warn_prf(average, modifier, msg_start, len(result))\n"
          ],
          "name": "stderr"
        }
      ]
    },
    {
      "cell_type": "code",
      "metadata": {
        "id": "HbtLRLIkL4X5"
      },
      "source": [
        "clf = LogisticRegression(random_state=0)\n",
        "#res = cross_validate(clf, X_train, y_train, cv=5,  return_train_score=True) \n",
        "#scores = cross_val_score(clf,X_train, y_train, cv=5)\n",
        "#print(\"Accuracy: %0.2f (+/- %0.2f)\" % (scores.mean(), scores.std()))\n",
        "clf.fit(X_train, y_train)\n",
        "pred = clf.predict(X_test)"
      ],
      "execution_count": null,
      "outputs": []
    },
    {
      "cell_type": "code",
      "metadata": {
        "colab": {
          "base_uri": "https://localhost:8080/"
        },
        "id": "vI8DziJ1L318",
        "outputId": "f05ebdc5-f5d6-476d-d3cb-7a435878ab5b"
      },
      "source": [
        "print(classification_report(y_test, pred))"
      ],
      "execution_count": null,
      "outputs": [
        {
          "output_type": "stream",
          "text": [
            "              precision    recall  f1-score   support\n",
            "\n",
            "   Not_troll       0.00      0.00      0.00         0\n",
            "       label       0.00      0.00      0.00         1\n",
            "   not_troll       0.00      0.00      0.00       272\n",
            "       troll       0.61      0.83      0.70       395\n",
            "\n",
            "    accuracy                           0.49       668\n",
            "   macro avg       0.15      0.21      0.18       668\n",
            "weighted avg       0.36      0.49      0.42       668\n",
            "\n"
          ],
          "name": "stdout"
        },
        {
          "output_type": "stream",
          "text": [
            "/usr/local/lib/python3.7/dist-packages/sklearn/metrics/_classification.py:1272: UndefinedMetricWarning: Precision and F-score are ill-defined and being set to 0.0 in labels with no predicted samples. Use `zero_division` parameter to control this behavior.\n",
            "  _warn_prf(average, modifier, msg_start, len(result))\n",
            "/usr/local/lib/python3.7/dist-packages/sklearn/metrics/_classification.py:1272: UndefinedMetricWarning: Recall and F-score are ill-defined and being set to 0.0 in labels with no true samples. Use `zero_division` parameter to control this behavior.\n",
            "  _warn_prf(average, modifier, msg_start, len(result))\n"
          ],
          "name": "stderr"
        }
      ]
    },
    {
      "cell_type": "code",
      "metadata": {
        "id": "gqdKuBVKL3lX"
      },
      "source": [
        "clf=DecisionTreeClassifier(criterion='entropy',random_state=0)\n",
        "#res = cross_validate(clf, X_train, y_train, cv=5,  return_train_score=True) \n",
        "#scores = cross_val_score(clf,X_train, y_train, cv=5)\n",
        "#print(\"Accuracy: %0.2f (+/- %0.2f)\" % (scores.mean(), scores.std()))\n",
        "clf.fit(X_train, y_train)\n",
        "pred = clf.predict(X_test)"
      ],
      "execution_count": null,
      "outputs": []
    },
    {
      "cell_type": "code",
      "metadata": {
        "colab": {
          "base_uri": "https://localhost:8080/"
        },
        "id": "KsDWifRYL3Ta",
        "outputId": "f4ac277a-86ed-4b6d-9461-09e3ce6cc2e6"
      },
      "source": [
        "print(classification_report(y_test, pred))"
      ],
      "execution_count": null,
      "outputs": [
        {
          "output_type": "stream",
          "text": [
            "              precision    recall  f1-score   support\n",
            "\n",
            "   Not_troll       0.00      0.00      0.00         0\n",
            "       label       0.00      0.00      0.00         1\n",
            "   not_troll       0.00      0.00      0.00       272\n",
            "       troll       0.61      0.73      0.66       395\n",
            "\n",
            "    accuracy                           0.43       668\n",
            "   macro avg       0.15      0.18      0.17       668\n",
            "weighted avg       0.36      0.43      0.39       668\n",
            "\n"
          ],
          "name": "stdout"
        },
        {
          "output_type": "stream",
          "text": [
            "/usr/local/lib/python3.7/dist-packages/sklearn/metrics/_classification.py:1272: UndefinedMetricWarning: Precision and F-score are ill-defined and being set to 0.0 in labels with no predicted samples. Use `zero_division` parameter to control this behavior.\n",
            "  _warn_prf(average, modifier, msg_start, len(result))\n",
            "/usr/local/lib/python3.7/dist-packages/sklearn/metrics/_classification.py:1272: UndefinedMetricWarning: Recall and F-score are ill-defined and being set to 0.0 in labels with no true samples. Use `zero_division` parameter to control this behavior.\n",
            "  _warn_prf(average, modifier, msg_start, len(result))\n"
          ],
          "name": "stderr"
        }
      ]
    },
    {
      "cell_type": "code",
      "metadata": {
        "id": "IQVNg8T0QMDs"
      },
      "source": [
        "clf=SVC(kernel='linear',random_state=0)\n",
        "#res = cross_validate(clf, X_train, y_train, cv=5,  return_train_score=True) \n",
        "#scores = cross_val_score(clf,X_train, y_train, cv=5)\n",
        "#print(\"Accuracy: %0.2f (+/- %0.2f)\" % (scores.mean(), scores.std()))\n",
        "clf.fit(X_train, y_train)\n",
        "pred = clf.predict(X_test)"
      ],
      "execution_count": null,
      "outputs": []
    },
    {
      "cell_type": "code",
      "metadata": {
        "colab": {
          "base_uri": "https://localhost:8080/"
        },
        "id": "lllSPpZOQViF",
        "outputId": "5cc1372f-f283-4c87-83cf-b076e16c888a"
      },
      "source": [
        "print(classification_report(y_test, pred))"
      ],
      "execution_count": null,
      "outputs": [
        {
          "output_type": "stream",
          "text": [
            "              precision    recall  f1-score   support\n",
            "\n",
            "   Not_troll       0.00      0.00      0.00         0\n",
            "       label       0.00      0.00      0.00         1\n",
            "   not_troll       0.00      0.00      0.00       272\n",
            "       troll       0.61      0.81      0.70       395\n",
            "\n",
            "    accuracy                           0.48       668\n",
            "   macro avg       0.15      0.20      0.17       668\n",
            "weighted avg       0.36      0.48      0.41       668\n",
            "\n"
          ],
          "name": "stdout"
        },
        {
          "output_type": "stream",
          "text": [
            "/usr/local/lib/python3.7/dist-packages/sklearn/metrics/_classification.py:1272: UndefinedMetricWarning: Precision and F-score are ill-defined and being set to 0.0 in labels with no predicted samples. Use `zero_division` parameter to control this behavior.\n",
            "  _warn_prf(average, modifier, msg_start, len(result))\n",
            "/usr/local/lib/python3.7/dist-packages/sklearn/metrics/_classification.py:1272: UndefinedMetricWarning: Recall and F-score are ill-defined and being set to 0.0 in labels with no true samples. Use `zero_division` parameter to control this behavior.\n",
            "  _warn_prf(average, modifier, msg_start, len(result))\n"
          ],
          "name": "stderr"
        }
      ]
    },
    {
      "cell_type": "code",
      "metadata": {
        "id": "IdV2HuVKQVOd"
      },
      "source": [
        "clf=XGBClassifier()\n",
        "#res = cross_validate(clf, X_train, y_train, cv=5,  return_train_score=True) \n",
        "#scores = cross_val_score(clf,X_train, y_train, cv=5)\n",
        "#print(\"Accuracy: %0.2f (+/- %0.2f)\" % (scores.mean(), scores.std()))\n",
        "clf.fit(X_train, y_train)\n",
        "pred = clf.predict(X_test)"
      ],
      "execution_count": null,
      "outputs": []
    },
    {
      "cell_type": "code",
      "metadata": {
        "colab": {
          "base_uri": "https://localhost:8080/"
        },
        "id": "gHdKmR0zUSuu",
        "outputId": "8d4d6b60-e807-405e-b8b4-760766ff6587"
      },
      "source": [
        "print(classification_report(y_test, pred))"
      ],
      "execution_count": null,
      "outputs": [
        {
          "output_type": "stream",
          "text": [
            "              precision    recall  f1-score   support\n",
            "\n",
            "   Not_troll       0.00      0.00      0.00         0\n",
            "       label       0.00      0.00      0.00         1\n",
            "   not_troll       0.00      0.00      0.00       272\n",
            "       troll       0.59      0.82      0.69       395\n",
            "\n",
            "    accuracy                           0.48       668\n",
            "   macro avg       0.15      0.20      0.17       668\n",
            "weighted avg       0.35      0.48      0.41       668\n",
            "\n"
          ],
          "name": "stdout"
        },
        {
          "output_type": "stream",
          "text": [
            "/usr/local/lib/python3.7/dist-packages/sklearn/metrics/_classification.py:1272: UndefinedMetricWarning: Precision and F-score are ill-defined and being set to 0.0 in labels with no predicted samples. Use `zero_division` parameter to control this behavior.\n",
            "  _warn_prf(average, modifier, msg_start, len(result))\n",
            "/usr/local/lib/python3.7/dist-packages/sklearn/metrics/_classification.py:1272: UndefinedMetricWarning: Recall and F-score are ill-defined and being set to 0.0 in labels with no true samples. Use `zero_division` parameter to control this behavior.\n",
            "  _warn_prf(average, modifier, msg_start, len(result))\n"
          ],
          "name": "stderr"
        }
      ]
    }
  ]
}
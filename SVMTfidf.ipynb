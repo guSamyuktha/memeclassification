{
  "nbformat": 4,
  "nbformat_minor": 0,
  "metadata": {
    "colab": {
      "name": "SVMTfidf.ipynb",
      "provenance": [],
      "collapsed_sections": [],
      "mount_file_id": "1JZPIbasFRteXrjxlr5844AudQqlLVmYp",
      "authorship_tag": "ABX9TyOr438l2aHvF4zYUs4uXsfl",
      "include_colab_link": true
    },
    "kernelspec": {
      "name": "python3",
      "display_name": "Python 3"
    },
    "language_info": {
      "name": "python"
    }
  },
  "cells": [
    {
      "cell_type": "markdown",
      "metadata": {
        "id": "view-in-github",
        "colab_type": "text"
      },
      "source": [
        "<a href=\"https://colab.research.google.com/github/guSamyuktha/memeclassification/blob/main/SVMTfidf.ipynb\" target=\"_parent\"><img src=\"https://colab.research.google.com/assets/colab-badge.svg\" alt=\"Open In Colab\"/></a>"
      ]
    },
    {
      "cell_type": "code",
      "metadata": {
        "id": "s-gYIcfNqI8Q"
      },
      "source": [
        "import pandas as pd\n",
        "from sklearn.feature_extraction.text import TfidfVectorizer\n",
        "from sklearn.svm import SVC"
      ],
      "execution_count": null,
      "outputs": []
    },
    {
      "cell_type": "code",
      "metadata": {
        "id": "WXIIXhccramT"
      },
      "source": [
        "import csv\n",
        "in_file = open(\"/content/drive/MyDrive/classifymemes/train_captions.csv\", \"r\")\n",
        "reader = csv.reader(in_file)\n",
        "out_file = open(\"train_captions_out.csv\", \"w+\")\n",
        "writer = csv.writer(out_file)\n",
        " \n",
        "firstline = True\n",
        " \n",
        "for row in reader:\n",
        "    if firstline:\n",
        "        firstline=False\n",
        "        continue\n",
        "    \n",
        "    if row[1].startswith(\"Not\"):\n",
        "        row[1]=\"Not_troll\"\n",
        "    else:\n",
        "        row[1]=\"troll\"\n",
        "    writer.writerow(row)\n",
        "    #print(row)\n",
        "in_file.close()    \n",
        "out_file.close()"
      ],
      "execution_count": null,
      "outputs": []
    },
    {
      "cell_type": "code",
      "metadata": {
        "id": "5UD35XDUr0W0"
      },
      "source": [
        "train = pd.read_csv('train_captions_out.csv',',', names=['id','label', 'text'])\n",
        "captions = train.text\n",
        "label=train.label"
      ],
      "execution_count": null,
      "outputs": []
    },
    {
      "cell_type": "code",
      "metadata": {
        "colab": {
          "base_uri": "https://localhost:8080/"
        },
        "id": "Eeze5f1BsFA9",
        "outputId": "4ef4df1e-7b9e-46a7-dbd3-09a505a5e2de"
      },
      "source": [
        "vectorizer = TfidfVectorizer(analyzer='char', ngram_range=(1,3))\n",
        "clf=SVC(kernel='linear',random_state=0)\n",
        "X_train = vectorizer.fit_transform(captions)\n",
        "y_train = label\n",
        "clf.fit(X_train, y_train)"
      ],
      "execution_count": null,
      "outputs": [
        {
          "output_type": "execute_result",
          "data": {
            "text/plain": [
              "SVC(C=1.0, break_ties=False, cache_size=200, class_weight=None, coef0=0.0,\n",
              "    decision_function_shape='ovr', degree=3, gamma='scale', kernel='linear',\n",
              "    max_iter=-1, probability=False, random_state=0, shrinking=True, tol=0.001,\n",
              "    verbose=False)"
            ]
          },
          "metadata": {},
          "execution_count": 4
        }
      ]
    },
    {
      "cell_type": "code",
      "metadata": {
        "colab": {
          "base_uri": "https://localhost:8080/"
        },
        "id": "9z-mHH1zss12",
        "outputId": "38158756-4da3-4d23-9f63-dd511dd63c95"
      },
      "source": [
        "test = pd.read_csv('/content/drive/MyDrive/ColabNotebooks/MemeClassification/Book1.csv',',', names=['id','text'])\n",
        "captiontext = test.text\n",
        "print(captiontext)"
      ],
      "execution_count": null,
      "outputs": [
        {
          "output_type": "stream",
          "text": [
            "0                                              caption\n",
            "1                    Etho sambavam nadandhirukkum pola\n",
            "2    VRV MOVIE RELESING ON FEB 1ST!!!! AANDA LA PAA...\n",
            "3                 Yenna ore pattasu sathama kekkudhu..\n",
            "4                      *ME: WHILE READING OLD COMMENTS\n",
            "5    thinamum thalaikku kulikkurappo karuppu mudi m...\n",
            "Name: text, dtype: object\n"
          ],
          "name": "stdout"
        }
      ]
    },
    {
      "cell_type": "code",
      "metadata": {
        "id": "hI2pmNm2tMd8"
      },
      "source": [
        "X_test=vectorizer.transform(captiontext)\n",
        "pred=clf.predict(X_test)"
      ],
      "execution_count": null,
      "outputs": []
    },
    {
      "cell_type": "code",
      "metadata": {
        "colab": {
          "base_uri": "https://localhost:8080/"
        },
        "id": "JOd2bi-ZtmQi",
        "outputId": "583b8220-73b8-430a-f2e5-dcf2315acc0c"
      },
      "source": [
        "pred"
      ],
      "execution_count": null,
      "outputs": [
        {
          "output_type": "execute_result",
          "data": {
            "text/plain": [
              "array(['Not_troll', 'Not_troll', 'troll', 'Not_troll', 'troll',\n",
              "       'Not_troll'], dtype=object)"
            ]
          },
          "metadata": {},
          "execution_count": 9
        }
      ]
    },
    {
      "cell_type": "code",
      "metadata": {
        "id": "GM10HrogvKf0"
      },
      "source": [
        ""
      ],
      "execution_count": null,
      "outputs": []
    }
  ]
}